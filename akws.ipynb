{
 "cells": [
  {
   "cell_type": "markdown",
   "metadata": {
    "deletable": true,
    "editable": true
   },
   "source": [
    "# Atomkraftwerke in Europa \n",
    "- Inspect Element \n",
    "- Debugger \n",
    "- mapFull.jsp\n",
    "- var akws > strg-c, strg-v\n",
    "\n",
    "[http://www5.umweltbundesamt.at/akwmap/mapFull.jsp]\n",
    "\n",
    "0 = stillgelegt\n",
    "\n",
    "4 = in Betrieb "
   ]
  },
  {
   "cell_type": "code",
   "execution_count": 1,
   "metadata": {
    "collapsed": true,
    "deletable": true,
    "editable": true
   },
   "outputs": [],
   "source": [
    "import pandas as pd\n",
    "import numpy as np\n",
    "import matplotlib.pyplot as plt\n",
    "% matplotlib inline\n",
    "\n",
    "pd.options.display.max_rows = 999\n",
    "pd.options.display.max_colwidth = 1000"
   ]
  },
  {
   "cell_type": "code",
   "execution_count": 2,
   "metadata": {
    "collapsed": true,
    "deletable": true,
    "editable": true
   },
   "outputs": [],
   "source": [
    "null = None\n",
    "false = False\n",
    "true = True"
   ]
  },
  {
   "cell_type": "code",
   "execution_count": 3,
   "metadata": {
    "collapsed": true,
    "deletable": true,
    "editable": true
   },
   "outputs": [],
   "source": [
    "akws = [{\"uvps\":[],\"flex\":null,\"country\":\"Armenien\",\"reaktoren\":2,\"id\":125,\"inbau\":0,\"point\":{\"y\":40.18247,\"x\":44.1425},\"inplanung\":0,\"hasUVPs\":false,\"name\":\"Metzamor\",\"stillgelegt\":1,\"wikiUrl\":\"http:\\/\\/de.wikipedia.org\\/wiki\\/Kernkraftwerk_Mezamor\",\"aktiv\":1},{\"uvps\":[],\"flex\":null,\"country\":\"Belgien\",\"reaktoren\":1,\"id\":128,\"inbau\":0,\"point\":{\"y\":51.21528,\"x\":5.09583},\"inplanung\":0,\"hasUVPs\":false,\"name\":\"BR3-PWR\",\"stillgelegt\":1,\"wikiUrl\":\"http:\\/\\/de.wikipedia.org\\/wiki\\/Studienzentrum_f%C3%BCr_Kernenergie\",\"aktiv\":0},{\"uvps\":[],\"flex\":\"http:\\/\\/flexrisk.boku.ac.at\\/en\\/sites\\/doel\\/index.html\",\"country\":\"Belgien\",\"reaktoren\":4,\"id\":126,\"inbau\":0,\"point\":{\"y\":51.32472,\"x\":4.25875},\"inplanung\":0,\"hasUVPs\":false,\"name\":\"Doel\",\"stillgelegt\":0,\"wikiUrl\":\"http:\\/\\/de.wikipedia.org\\/wiki\\/Kernkraftwerk_Doel\",\"aktiv\":4},{\"uvps\":[],\"flex\":\"http:\\/\\/flexrisk.boku.ac.at\\/en\\/sites\\/tiha\\/index.html\",\"country\":\"Belgien\",\"reaktoren\":3,\"id\":127,\"inbau\":0,\"point\":{\"y\":50.53463,\"x\":5.27253},\"inplanung\":0,\"hasUVPs\":false,\"name\":\"Tihange \",\"stillgelegt\":0,\"wikiUrl\":\"http:\\/\\/de.wikipedia.org\\/wiki\\/Kernkraftwerk_Tihange\",\"aktiv\":3},{\"uvps\":[],\"flex\":\"http:\\/\\/flexrisk.boku.ac.at\\/en\\/sites\\/bele\\/index.html\",\"country\":\"Bulgarien\",\"reaktoren\":2,\"id\":130,\"inbau\":0,\"point\":{\"y\":43.63,\"x\":25.19},\"inplanung\":0,\"hasUVPs\":false,\"name\":\"Belene\",\"stillgelegt\":2,\"wikiUrl\":\"http:\\/\\/de.wikipedia.org\\/wiki\\/Kernkraftwerk_Belene\",\"aktiv\":0},{\"uvps\":[{\"fk\":\"129\",\"status\":\"laufend\",\"titel\":\"UVP-Verfahren KKW Kozloduy 7\",\"url\":\"http:\\/\\/www.umweltbundesamt.at\\/umweltsituation\\/uvpsup\\/espooverfahren\\/espoo_bulgarien\\/uvp_kkw_kozloduy_7\\/\"}],\"flex\":\"http:\\/\\/flexrisk.boku.ac.at\\/en\\/sites\\/kozl\\/index.html\",\"country\":\"Bulgarien\",\"reaktoren\":6,\"id\":129,\"inbau\":0,\"point\":{\"y\":43.74614,\"x\":23.77051},\"inplanung\":0,\"hasUVPs\":true,\"name\":\"Kozloduy\",\"stillgelegt\":4,\"wikiUrl\":\"http:\\/\\/de.wikipedia.org\\/wiki\\/Kernkraftwerk_Kosloduj\",\"aktiv\":2},{\"uvps\":[{\"fk\":\"34\",\"status\":\"abgeschlossen\",\"titel\":\"UVP Brennelemente-Zwischenlager Biblis\",\"url\":\"http:\\/\\/www.umweltbundesamt.at\\/umweltschutz\\/uvpsupemas\\/espooverfahren\\/espoo_de\\/zwilag_de\\/\"}],\"flex\":null,\"country\":\"Deutschland\",\"reaktoren\":2,\"id\":34,\"inbau\":0,\"point\":{\"y\":49.71016,\"x\":8.41441},\"inplanung\":0,\"hasUVPs\":true,\"name\":\"Biblis\",\"stillgelegt\":2,\"wikiUrl\":\"http:\\/\\/de.wikipedia.org\\/wiki\\/Kernkraftwerk_Biblis\",\"aktiv\":0},{\"uvps\":[],\"flex\":\"http:\\/\\/flexrisk.boku.ac.at\\/en\\/sites\\/brok\\/index.html\",\"country\":\"Deutschland\",\"reaktoren\":1,\"id\":35,\"inbau\":0,\"point\":{\"y\":53.85083,\"x\":9.34472},\"inplanung\":0,\"hasUVPs\":false,\"name\":\"Brokdorf\",\"stillgelegt\":0,\"wikiUrl\":\"http:\\/\\/de.wikipedia.org\\/wiki\\/Kernkraftwerk_Brokdorf\",\"aktiv\":1},{\"uvps\":[],\"flex\":null,\"country\":\"Deutschland\",\"reaktoren\":1,\"id\":36,\"inbau\":0,\"point\":{\"y\":53.89167,\"x\":9.20167},\"inplanung\":0,\"hasUVPs\":false,\"name\":\"Brunsbüttel\",\"stillgelegt\":1,\"wikiUrl\":\"http:\\/\\/de.wikipedia.org\\/wiki\\/Kernkraftwerk_Brunsb%C3%BCttel\",\"aktiv\":0},{\"uvps\":[],\"flex\":\"http:\\/\\/flexrisk.boku.ac.at\\/en\\/sites\\/emsl\\/index.html\",\"country\":\"Deutschland\",\"reaktoren\":1,\"id\":37,\"inbau\":0,\"point\":{\"y\":52.47174,\"x\":7.3205},\"inplanung\":0,\"hasUVPs\":false,\"name\":\"Emsland KKE\",\"stillgelegt\":0,\"wikiUrl\":\"http:\\/\\/de.wikipedia.org\\/wiki\\/Kernkraftwerk_Emsland\",\"aktiv\":1},{\"uvps\":[{\"fk\":\"38\",\"status\":\"abgeschlossen\",\"titel\":\"UVP Brennelemente-Zwischenlager Grafenrheinfeld\",\"url\":\"http:\\/\\/www.umweltbundesamt.at\\/umweltschutz\\/uvpsupemas\\/espooverfahren\\/espoo_de\\/zwilag_de\\/\"}],\"flex\":\"http:\\/\\/flexrisk.boku.ac.at\\/en\\/sites\\/graf\\/index.html\",\"country\":\"Deutschland\",\"reaktoren\":1,\"id\":38,\"inbau\":0,\"point\":{\"y\":49.98368,\"x\":10.18295},\"inplanung\":0,\"hasUVPs\":true,\"name\":\"Grafenrheinfeld\",\"stillgelegt\":0,\"wikiUrl\":\"http:\\/\\/de.wikipedia.org\\/wiki\\/Kernkraftwerk_Grafenrheinfeld\",\"aktiv\":1},{\"uvps\":[],\"flex\":null,\"country\":\"Deutschland\",\"reaktoren\":8,\"id\":230,\"inbau\":0,\"point\":{\"y\":54.14059,\"x\":13.66442},\"inplanung\":0,\"hasUVPs\":false,\"name\":\"Greifswald\",\"stillgelegt\":8,\"wikiUrl\":\"http:\\/\\/de.wikipedia.org\\/wiki\\/Kernkraftwerk_Greifswald\",\"aktiv\":0},{\"uvps\":[],\"flex\":\"http:\\/\\/flexrisk.boku.ac.at\\/en\\/sites\\/groh\\/index.html\",\"country\":\"Deutschland\",\"reaktoren\":1,\"id\":40,\"inbau\":0,\"point\":{\"y\":52.03539,\"x\":9.41202},\"inplanung\":0,\"hasUVPs\":false,\"name\":\"Grohnde\",\"stillgelegt\":0,\"wikiUrl\":\"http:\\/\\/de.wikipedia.org\\/wiki\\/Kernkraftwerk_Grohnde\",\"aktiv\":1},{\"uvps\":[],\"flex\":null,\"country\":\"Deutschland\",\"reaktoren\":1,\"id\":235,\"inbau\":0,\"point\":{\"y\":50.05912,\"x\":8.98728},\"inplanung\":0,\"hasUVPs\":false,\"name\":\"Großwelzheim\",\"stillgelegt\":1,\"wikiUrl\":\"http:\\/\\/de.wikipedia.org\\/wiki\\/Kernkraftwerk_Gro%C3%9Fwelzheim\",\"aktiv\":0},{\"uvps\":[{\"fk\":\"41\",\"status\":\"abgeschlossen\",\"titel\":\"UVP Brennelemente-Zwischenlager Gundremmingen\",\"url\":\"http:\\/\\/www.umweltbundesamt.at\\/umweltschutz\\/uvpsupemas\\/espooverfahren\\/espoo_de\\/zwilag_gundrem\\/\"}],\"flex\":\"http:\\/\\/flexrisk.boku.ac.at\\/en\\/sites\\/gund\\/index.html\",\"country\":\"Deutschland\",\"reaktoren\":3,\"id\":41,\"inbau\":0,\"point\":{\"y\":48.51467,\"x\":10.40285},\"inplanung\":0,\"hasUVPs\":true,\"name\":\"Gundremmingen\",\"stillgelegt\":1,\"wikiUrl\":\"http:\\/\\/de.wikipedia.org\\/wiki\\/Kernkraftwerk_Gundremmingen\",\"aktiv\":2},{\"uvps\":[],\"flex\":null,\"country\":\"Deutschland\",\"reaktoren\":1,\"id\":229,\"inbau\":0,\"point\":{\"y\":51.6793,\"x\":7.97156},\"inplanung\":0,\"hasUVPs\":false,\"name\":\"Hamm-Uentrop\",\"stillgelegt\":1,\"wikiUrl\":\"http:\\/\\/de.wikipedia.org\\/wiki\\/Kernkraftwerk_THTR-300\",\"aktiv\":0},{\"uvps\":[{\"fk\":\"43\",\"status\":\"abgeschlossen\",\"titel\":\"UVP Brennelement-Behälterlager Isar\\/Niederaichbach\",\"url\":\"http:\\/\\/www.umweltbundesamt.at\\/umweltschutz\\/uvpsupemas\\/espooverfahren\\/espoo_de\\/isar\\/\"}],\"flex\":\"http:\\/\\/flexrisk.boku.ac.at\\/en\\/sites\\/isar\\/index.html\",\"country\":\"Deutschland\",\"reaktoren\":3,\"id\":43,\"inbau\":0,\"point\":{\"y\":48.60471,\"x\":12.29233},\"inplanung\":0,\"hasUVPs\":true,\"name\":\"Isar\",\"stillgelegt\":2,\"wikiUrl\":\"http:\\/\\/de.wikipedia.org\\/wiki\\/Kernkraftwerk_Isar\",\"aktiv\":1},{\"uvps\":[],\"flex\":null,\"country\":\"Deutschland\",\"reaktoren\":1,\"id\":234,\"inbau\":0,\"point\":{\"y\":50.90294,\"x\":6.42121},\"inplanung\":0,\"hasUVPs\":false,\"name\":\"Jülich\",\"stillgelegt\":1,\"wikiUrl\":\"http:\\/\\/de.wikipedia.org\\/wiki\\/AVR_(J%C3%BClich)\",\"aktiv\":0},{\"uvps\":[],\"flex\":null,\"country\":\"Deutschland\",\"reaktoren\":1,\"id\":240,\"inbau\":0,\"point\":{\"y\":50.05912,\"x\":8.98728},\"inplanung\":0,\"hasUVPs\":false,\"name\":\"Kahl \",\"stillgelegt\":1,\"wikiUrl\":\"http:\\/\\/de.wikipedia.org\\/wiki\\/Kernkraftwerk_Kahl\",\"aktiv\":0},{\"uvps\":[],\"flex\":null,\"country\":\"Deutschland\",\"reaktoren\":1,\"id\":236,\"inbau\":0,\"point\":{\"y\":49.09934,\"x\":8.43289},\"inplanung\":0,\"hasUVPs\":false,\"name\":\"Karlsruhe (KNK II)\",\"stillgelegt\":1,\"wikiUrl\":\"http:\\/\\/de.wikipedia.org\\/wiki\\/Kompakte_Natriumgek%C3%BChlte_Kernreaktoranlage_Karlsruhe\",\"aktiv\":0},{\"uvps\":[],\"flex\":null,\"country\":\"Deutschland\",\"reaktoren\":1,\"id\":237,\"inbau\":0,\"point\":{\"y\":49.10425,\"x\":8.43234},\"inplanung\":0,\"hasUVPs\":false,\"name\":\"Karlsruhe (MZFR)\",\"stillgelegt\":1,\"wikiUrl\":\"http:\\/\\/de.wikipedia.org\\/wiki\\/Mehrzweckforschungsreaktor_Karlsruhe\",\"aktiv\":0},{\"uvps\":[],\"flex\":null,\"country\":\"Deutschland\",\"reaktoren\":1,\"id\":45,\"inbau\":0,\"point\":{\"y\":53.41063,\"x\":10.40917},\"inplanung\":0,\"hasUVPs\":false,\"name\":\"Krümmel KKK\",\"stillgelegt\":1,\"wikiUrl\":\"http:\\/\\/de.wikipedia.org\\/wiki\\/Kernkraftwerk_Kr%C3%BCmmel\",\"aktiv\":0},{\"uvps\":[],\"flex\":null,\"country\":\"Deutschland\",\"reaktoren\":1,\"id\":228,\"inbau\":0,\"point\":{\"y\":52.48281,\"x\":7.3069},\"inplanung\":0,\"hasUVPs\":false,\"name\":\"Lingen\",\"stillgelegt\":1,\"wikiUrl\":\"http:\\/\\/de.wikipedia.org\\/wiki\\/Kernkraftwerk_Lingen\",\"aktiv\":0},{\"uvps\":[],\"flex\":null,\"country\":\"Deutschland\",\"reaktoren\":1,\"id\":233,\"inbau\":0,\"point\":{\"y\":50.40778,\"x\":7.48972},\"inplanung\":0,\"hasUVPs\":false,\"name\":\"Mülheim-Kärlich\",\"stillgelegt\":1,\"wikiUrl\":\"http:\\/\\/de.wikipedia.org\\/wiki\\/Kernkraftwerk_M%C3%BClheim-K%C3%A4rlich\",\"aktiv\":0},{\"uvps\":[{\"fk\":\"49\",\"status\":\"abgeschlossen\",\"titel\":\"UVP Brennelemente-Zwischenlager Neckarwestheim\",\"url\":\"http:\\/\\/www.umweltbundesamt.at\\/umweltschutz\\/uvpsupemas\\/espooverfahren\\/espoo_de\\/zwilag_de\\/\"}],\"flex\":\"http:\\/\\/flexrisk.boku.ac.at\\/en\\/sites\\/neck\\/index.html\",\"country\":\"Deutschland\",\"reaktoren\":2,\"id\":49,\"inbau\":0,\"point\":{\"y\":49.04068,\"x\":9.17569},\"inplanung\":0,\"hasUVPs\":true,\"name\":\"Neckarwestheim\",\"stillgelegt\":1,\"wikiUrl\":\"http:\\/\\/de.wikipedia.org\\/wiki\\/Kernkraftwerk_Neckarwestheim\",\"aktiv\":1},{\"uvps\":[],\"flex\":null,\"country\":\"Deutschland\",\"reaktoren\":1,\"id\":51,\"inbau\":0,\"point\":{\"y\":49.3645,\"x\":9.07618},\"inplanung\":0,\"hasUVPs\":false,\"name\":\"Obrigheim\",\"stillgelegt\":1,\"wikiUrl\":\"http:\\/\\/de.wikipedia.org\\/wiki\\/Kernkraftwerk_Obrigheim\",\"aktiv\":0},{\"uvps\":[{\"fk\":\"52\",\"status\":\"abgeschlossen\",\"titel\":\"UVP Brennelemente-Zwischenlager Philippsburg\",\"url\":\"http:\\/\\/www.umweltbundesamt.at\\/umweltschutz\\/uvpsupemas\\/espooverfahren\\/espoo_de\\/zwilag_de\\/\"}],\"flex\":\"http:\\/\\/flexrisk.boku.ac.at\\/en\\/sites\\/phil\\/index.html\",\"country\":\"Deutschland\",\"reaktoren\":2,\"id\":52,\"inbau\":0,\"point\":{\"y\":49.25291,\"x\":8.4369},\"inplanung\":0,\"hasUVPs\":true,\"name\":\"Philippsburg\",\"stillgelegt\":1,\"wikiUrl\":\"http:\\/\\/de.wikipedia.org\\/wiki\\/Kernkraftwerk_Philippsburg\",\"aktiv\":1},{\"uvps\":[],\"flex\":null,\"country\":\"Deutschland\",\"reaktoren\":1,\"id\":238,\"inbau\":0,\"point\":{\"y\":53.14699,\"x\":12.99015},\"inplanung\":0,\"hasUVPs\":false,\"name\":\"Rheinsberg\",\"stillgelegt\":1,\"wikiUrl\":\"http:\\/\\/de.wikipedia.org\\/wiki\\/Kernkraftwerk_Rheinsberg\",\"aktiv\":0},{\"uvps\":[],\"flex\":null,\"country\":\"Deutschland\",\"reaktoren\":1,\"id\":54,\"inbau\":0,\"point\":{\"y\":53.62,\"x\":9.53083},\"inplanung\":0,\"hasUVPs\":false,\"name\":\"Stade\",\"stillgelegt\":1,\"wikiUrl\":\"http:\\/\\/de.wikipedia.org\\/wiki\\/KKW_Stade\",\"aktiv\":0},{\"uvps\":[],\"flex\":null,\"country\":\"Deutschland\",\"reaktoren\":4,\"id\":232,\"inbau\":0,\"point\":{\"y\":52.72413,\"x\":12.01933},\"inplanung\":0,\"hasUVPs\":false,\"name\":\"Stendal\",\"stillgelegt\":4,\"wikiUrl\":\"http:\\/\\/de.wikipedia.org\\/wiki\\/Kernkraftwerk_Stendal\",\"aktiv\":0},{\"uvps\":[],\"flex\":null,\"country\":\"Deutschland\",\"reaktoren\":1,\"id\":239,\"inbau\":0,\"point\":{\"y\":51.6793,\"x\":7.97156},\"inplanung\":0,\"hasUVPs\":false,\"name\":\"THTR-300\",\"stillgelegt\":1,\"wikiUrl\":\"http:\\/\\/de.wikipedia.org\\/wiki\\/Kernkraftwerk_THTR-300\",\"aktiv\":0},{\"uvps\":[],\"flex\":null,\"country\":\"Deutschland\",\"reaktoren\":1,\"id\":56,\"inbau\":0,\"point\":{\"y\":53.42744,\"x\":8.47921},\"inplanung\":0,\"hasUVPs\":false,\"name\":\"Unterweser KKU\",\"stillgelegt\":1,\"wikiUrl\":\"http:\\/\\/de.wikipedia.org\\/wiki\\/Kernkraftwerk_Unterweser\",\"aktiv\":0},{\"uvps\":[],\"flex\":null,\"country\":\"Deutschland\",\"reaktoren\":1,\"id\":58,\"inbau\":0,\"point\":{\"y\":51.63976,\"x\":9.39159},\"inplanung\":0,\"hasUVPs\":false,\"name\":\"Wuergassen\",\"stillgelegt\":1,\"wikiUrl\":\"http:\\/\\/de.wikipedia.org\\/wiki\\/Kernkraftwerk_W%C3%BCrgassen\",\"aktiv\":0},{\"uvps\":[{\"fk\":\"132\",\"status\":\"abgeschlossen\",\"titel\":\"UVP KKW Loviisa 3\",\"url\":\"http:\\/\\/www.umweltbundesamt.at\\/umweltschutz\\/uvpsupemas\\/espooverfahren\\/finnland\\/loviisa\\/\"}],\"flex\":\"http:\\/\\/flexrisk.boku.ac.at\\/en\\/sites\\/lovi\\/index.html\",\"country\":\"Finnland\",\"reaktoren\":2,\"id\":132,\"inbau\":0,\"point\":{\"y\":60.37222,\"x\":26.34722},\"inplanung\":0,\"hasUVPs\":true,\"name\":\"Loviisa\",\"stillgelegt\":0,\"wikiUrl\":\"http:\\/\\/de.wikipedia.org\\/wiki\\/Kernkraftwerk_Loviisa\",\"aktiv\":2},{\"uvps\":[{\"fk\":\"131\",\"status\":\"abgeschlossen\",\"titel\":\"UVP KKW Olkiluoto 4\",\"url\":\"http:\\/\\/www.umweltbundesamt.at\\/umweltschutz\\/uvpsupemas\\/espooverfahren\\/finnland\\/olkiluoto\\/\"}],\"flex\":\"http:\\/\\/flexrisk.boku.ac.at\\/en\\/sites\\/olki\\/index.html\",\"country\":\"Finnland\",\"reaktoren\":4,\"id\":131,\"inbau\":1,\"point\":{\"y\":61.23667,\"x\":21.44222},\"inplanung\":1,\"hasUVPs\":true,\"name\":\"Olkiluoto\",\"stillgelegt\":0,\"wikiUrl\":\"http:\\/\\/de.wikipedia.org\\/wiki\\/Kernkraftwerk_Olkiluoto\",\"aktiv\":2},{\"uvps\":[],\"flex\":\"http:\\/\\/flexrisk.boku.ac.at\\/en\\/sites\\/bell\\/index.html\",\"country\":\"Frankreich\",\"reaktoren\":2,\"id\":134,\"inbau\":0,\"point\":{\"y\":47.51028,\"x\":2.875},\"inplanung\":0,\"hasUVPs\":false,\"name\":\"Belleville\",\"stillgelegt\":0,\"wikiUrl\":\"http:\\/\\/de.wikipedia.org\\/wiki\\/Kernkraftwerk_Belleville\",\"aktiv\":2},{\"uvps\":[],\"flex\":\"http:\\/\\/flexrisk.boku.ac.at\\/en\\/sites\\/buge\\/index.html\",\"country\":\"Frankreich\",\"reaktoren\":5,\"id\":135,\"inbau\":0,\"point\":{\"y\":45.79722,\"x\":5.27},\"inplanung\":0,\"hasUVPs\":false,\"name\":\"Bugey\",\"stillgelegt\":1,\"wikiUrl\":\"http:\\/\\/de.wikipedia.org\\/wiki\\/Kernkraftwerk_Bugey\",\"aktiv\":4},{\"uvps\":[],\"flex\":\"http:\\/\\/flexrisk.boku.ac.at\\/en\\/sites\\/catt\\/index.html\",\"country\":\"Frankreich\",\"reaktoren\":4,\"id\":136,\"inbau\":0,\"point\":{\"y\":49.41556,\"x\":6.21667},\"inplanung\":0,\"hasUVPs\":false,\"name\":\"Cattenom\",\"stillgelegt\":0,\"wikiUrl\":\"http:\\/\\/de.wikipedia.org\\/wiki\\/Kernkraftwerk_Cattenom\",\"aktiv\":4},{\"uvps\":[],\"flex\":\"http:\\/\\/flexrisk.boku.ac.at\\/en\\/sites\\/chin\\/index.html\",\"country\":\"Frankreich\",\"reaktoren\":7,\"id\":137,\"inbau\":0,\"point\":{\"y\":47.23056,\"x\":0.17056},\"inplanung\":0,\"hasUVPs\":false,\"name\":\"Chinon\",\"stillgelegt\":3,\"wikiUrl\":\"http:\\/\\/de.wikipedia.org\\/wiki\\/Kernkraftwerk_Chinon\",\"aktiv\":4},{\"uvps\":[],\"flex\":\"http:\\/\\/flexrisk.boku.ac.at\\/en\\/sites\\/choo\\/index.html\",\"country\":\"Frankreich\",\"reaktoren\":3,\"id\":138,\"inbau\":0,\"point\":{\"y\":50.09,\"x\":4.78944},\"inplanung\":0,\"hasUVPs\":false,\"name\":\"Chooz\",\"stillgelegt\":1,\"wikiUrl\":\"http:\\/\\/de.wikipedia.org\\/wiki\\/Kernkraftwerk_Chooz\",\"aktiv\":2},{\"uvps\":[],\"flex\":\"http:\\/\\/flexrisk.boku.ac.at\\/en\\/sites\\/civa\\/index.html\",\"country\":\"Frankreich\",\"reaktoren\":2,\"id\":139,\"inbau\":0,\"point\":{\"y\":46.45611,\"x\":0.65417},\"inplanung\":0,\"hasUVPs\":false,\"name\":\"Civaux\",\"stillgelegt\":0,\"wikiUrl\":\"http:\\/\\/de.wikipedia.org\\/wiki\\/Kernkraftwerk_Civaux\",\"aktiv\":2},{\"uvps\":[],\"flex\":\"http:\\/\\/flexrisk.boku.ac.at\\/en\\/sites\\/crua\\/index.html\",\"country\":\"Frankreich\",\"reaktoren\":4,\"id\":140,\"inbau\":0,\"point\":{\"y\":44.63389,\"x\":4.75389},\"inplanung\":0,\"hasUVPs\":false,\"name\":\"Cruas Meysse\",\"stillgelegt\":0,\"wikiUrl\":\"http:\\/\\/de.wikipedia.org\\/wiki\\/Kernkraftwerk_Cruas\",\"aktiv\":4},{\"uvps\":[],\"flex\":\"http:\\/\\/flexrisk.boku.ac.at\\/en\\/sites\\/damp\\/index.html\",\"country\":\"Frankreich\",\"reaktoren\":4,\"id\":141,\"inbau\":0,\"point\":{\"y\":47.73361,\"x\":2.5175},\"inplanung\":0,\"hasUVPs\":false,\"name\":\"Dampierre\",\"stillgelegt\":0,\"wikiUrl\":\"http:\\/\\/de.wikipedia.org\\/wiki\\/Kernkraftwerk_Dampierre\",\"aktiv\":4},{\"uvps\":[],\"flex\":\"http:\\/\\/flexrisk.boku.ac.at\\/en\\/sites\\/fess\\/index.html\",\"country\":\"Frankreich\",\"reaktoren\":2,\"id\":142,\"inbau\":0,\"point\":{\"y\":47.90361,\"x\":7.5625},\"inplanung\":0,\"hasUVPs\":false,\"name\":\"Fessenheim\",\"stillgelegt\":0,\"wikiUrl\":\"http:\\/\\/de.wikipedia.org\\/wiki\\/Kernkraftwerk_Fessenheim\",\"aktiv\":2},{\"uvps\":[],\"flex\":\"http:\\/\\/flexrisk.boku.ac.at\\/en\\/sites\\/flam\\/index.html\",\"country\":\"Frankreich\",\"reaktoren\":3,\"id\":143,\"inbau\":0,\"point\":{\"y\":49.53722,\"x\":-1.8825},\"inplanung\":1,\"hasUVPs\":false,\"name\":\"Flamanville\",\"stillgelegt\":0,\"wikiUrl\":\"http:\\/\\/de.wikipedia.org\\/wiki\\/Kernkraftwerk_Flamanville\",\"aktiv\":2},{\"uvps\":[],\"flex\":\"http:\\/\\/flexrisk.boku.ac.at\\/en\\/sites\\/golf\\/index.html\",\"country\":\"Frankreich\",\"reaktoren\":2,\"id\":144,\"inbau\":0,\"point\":{\"y\":44.11111,\"x\":0.84028},\"inplanung\":0,\"hasUVPs\":false,\"name\":\"Golfech\",\"stillgelegt\":0,\"wikiUrl\":\"http:\\/\\/de.wikipedia.org\\/wiki\\/Kernkraftwerk_Golfech\",\"aktiv\":2},{\"uvps\":[],\"flex\":\"http:\\/\\/flexrisk.boku.ac.at\\/en\\/sites\\/grav\\/index.html\",\"country\":\"Frankreich\",\"reaktoren\":6,\"id\":145,\"inbau\":0,\"point\":{\"y\":51.01361,\"x\":2.13611},\"inplanung\":0,\"hasUVPs\":false,\"name\":\"Gravelines\",\"stillgelegt\":0,\"wikiUrl\":\"http:\\/\\/de.wikipedia.org\\/wiki\\/Kernkraftwerk_Gravelines\",\"aktiv\":6},{\"uvps\":[],\"flex\":\"http:\\/\\/flexrisk.boku.ac.at\\/en\\/sites\\/blay\\/index.html\",\"country\":\"Frankreich\",\"reaktoren\":4,\"id\":146,\"inbau\":0,\"point\":{\"y\":45.25611,\"x\":-0.69167},\"inplanung\":0,\"hasUVPs\":false,\"name\":\"Le Blayais\",\"stillgelegt\":0,\"wikiUrl\":\"http:\\/\\/de.wikipedia.org\\/wiki\\/Kernkraftwerk_Blayais\",\"aktiv\":4},{\"uvps\":[],\"flex\":null,\"country\":\"Frankreich\",\"reaktoren\":3,\"id\":154,\"inbau\":0,\"point\":{\"y\":44.15,\"x\":4.71581},\"inplanung\":0,\"hasUVPs\":false,\"name\":\"Marcoule\",\"stillgelegt\":3,\"wikiUrl\":\"http:\\/\\/de.wikipedia.org\\/wiki\\/Kernkraftwerk_Marcoule\",\"aktiv\":0},{\"uvps\":[],\"flex\":null,\"country\":\"Frankreich\",\"reaktoren\":2,\"id\":155,\"inbau\":0,\"point\":{\"y\":48.35333,\"x\":-3.87222},\"inplanung\":0,\"hasUVPs\":false,\"name\":\"Monts d'Arree (Brennilis)\",\"stillgelegt\":2,\"wikiUrl\":\"http:\\/\\/de.wikipedia.org\\/wiki\\/Kernkraftwerk_Brennilis\",\"aktiv\":0},{\"uvps\":[],\"flex\":\"http:\\/\\/flexrisk.boku.ac.at\\/en\\/sites\\/noge\\/index.html\",\"country\":\"Frankreich\",\"reaktoren\":2,\"id\":147,\"inbau\":0,\"point\":{\"y\":48.51611,\"x\":3.51778},\"inplanung\":0,\"hasUVPs\":false,\"name\":\"Nogent\",\"stillgelegt\":0,\"wikiUrl\":\"http:\\/\\/de.wikipedia.org\\/wiki\\/Kernkraftwerk_Nogent\",\"aktiv\":2},{\"uvps\":[],\"flex\":\"http:\\/\\/flexrisk.boku.ac.at\\/en\\/sites\\/palu\\/index.html\",\"country\":\"Frankreich\",\"reaktoren\":4,\"id\":148,\"inbau\":0,\"point\":{\"y\":49.85806,\"x\":0.63556},\"inplanung\":0,\"hasUVPs\":false,\"name\":\"Paluel\",\"stillgelegt\":0,\"wikiUrl\":\"http:\\/\\/de.wikipedia.org\\/wiki\\/Kernkraftwerk_Paluel\",\"aktiv\":4},{\"uvps\":[],\"flex\":\"http:\\/\\/flexrisk.boku.ac.at\\/en\\/sites\\/penl\\/index.html\",\"country\":\"Frankreich\",\"reaktoren\":3,\"id\":149,\"inbau\":0,\"point\":{\"y\":49.97667,\"x\":1.21194},\"inplanung\":1,\"hasUVPs\":false,\"name\":\"Penly\",\"stillgelegt\":0,\"wikiUrl\":\"http:\\/\\/de.wikipedia.org\\/wiki\\/Kernkraftwerk_Penly\",\"aktiv\":2},{\"uvps\":[],\"flex\":null,\"country\":\"Frankreich\",\"reaktoren\":1,\"id\":133,\"inbau\":0,\"point\":{\"y\":44.14333,\"x\":4.71167},\"inplanung\":0,\"hasUVPs\":false,\"name\":\"Phenix\",\"stillgelegt\":1,\"wikiUrl\":\"http:\\/\\/de.wikipedia.org\\/wiki\\/Kernkraftwerk_Ph%C3%A9nix\",\"aktiv\":0},{\"uvps\":[],\"flex\":\"http:\\/\\/flexrisk.boku.ac.at\\/en\\/sites\\/stal\\/index.html\",\"country\":\"Frankreich\",\"reaktoren\":2,\"id\":150,\"inbau\":0,\"point\":{\"y\":45.40472,\"x\":4.75583},\"inplanung\":0,\"hasUVPs\":false,\"name\":\"Saint Alban\",\"stillgelegt\":0,\"wikiUrl\":\"http:\\/\\/de.wikipedia.org\\/wiki\\/Kernkraftwerk_Saint-Alban\",\"aktiv\":2},{\"uvps\":[],\"flex\":\"http:\\/\\/flexrisk.boku.ac.at\\/en\\/sites\\/stla\\/index.html\",\"country\":\"Frankreich\",\"reaktoren\":4,\"id\":151,\"inbau\":0,\"point\":{\"y\":47.72056,\"x\":1.57861},\"inplanung\":0,\"hasUVPs\":false,\"name\":\"St Laurent\",\"stillgelegt\":2,\"wikiUrl\":\"http:\\/\\/de.wikipedia.org\\/wiki\\/Kernkraftwerk_Saint-Laurent\",\"aktiv\":2},{\"uvps\":[],\"flex\":null,\"country\":\"Frankreich\",\"reaktoren\":1,\"id\":153,\"inbau\":0,\"point\":{\"y\":45.75833,\"x\":5.47222},\"inplanung\":0,\"hasUVPs\":false,\"name\":\"Super-Phenix 1\",\"stillgelegt\":1,\"wikiUrl\":\"http:\\/\\/de.wikipedia.org\\/wiki\\/Kernkraftwerk_Ph%C3%A9nix\",\"aktiv\":0},{\"uvps\":[],\"flex\":\"http:\\/\\/flexrisk.boku.ac.at\\/en\\/sites\\/tric\\/index.html\",\"country\":\"Frankreich\",\"reaktoren\":4,\"id\":152,\"inbau\":0,\"point\":{\"y\":44.32972,\"x\":4.73222},\"inplanung\":0,\"hasUVPs\":false,\"name\":\"Tricastin\",\"stillgelegt\":0,\"wikiUrl\":\"http:\\/\\/de.wikipedia.org\\/wiki\\/Kernkraftwerk_Tricastin\",\"aktiv\":4},{\"uvps\":[],\"flex\":null,\"country\":\"Italien\",\"reaktoren\":2,\"id\":160,\"inbau\":0,\"point\":{\"y\":42.3588,\"x\":11.5314},\"inplanung\":0,\"hasUVPs\":false,\"name\":\"Alto Lazio\",\"stillgelegt\":2,\"wikiUrl\":\"http:\\/\\/de.wikipedia.org\\/wiki\\/Kernkraftwerk_Garigliano\",\"aktiv\":0},{\"uvps\":[],\"flex\":null,\"country\":\"Italien\",\"reaktoren\":1,\"id\":156,\"inbau\":0,\"point\":{\"y\":45.07222,\"x\":9.87222},\"inplanung\":0,\"hasUVPs\":false,\"name\":\"Caorso\",\"stillgelegt\":1,\"wikiUrl\":\"http:\\/\\/de.wikipedia.org\\/wiki\\/Kernkraftwerk_Caorso\",\"aktiv\":0},{\"uvps\":[],\"flex\":null,\"country\":\"Italien\",\"reaktoren\":1,\"id\":157,\"inbau\":0,\"point\":{\"y\":41.25833,\"x\":13.83472},\"inplanung\":0,\"hasUVPs\":false,\"name\":\"Garigliano\",\"stillgelegt\":1,\"wikiUrl\":\"http:\\/\\/de.wikipedia.org\\/wiki\\/Kernkraftwerk_Garigliano\",\"aktiv\":0},{\"uvps\":[],\"flex\":null,\"country\":\"Italien\",\"reaktoren\":1,\"id\":158,\"inbau\":0,\"point\":{\"y\":41.42722,\"x\":12.80806},\"inplanung\":0,\"hasUVPs\":false,\"name\":\"Latina\",\"stillgelegt\":1,\"wikiUrl\":\"http:\\/\\/de.wikipedia.org\\/wiki\\/Kernkraftwerk_Latina\",\"aktiv\":0},{\"uvps\":[],\"flex\":null,\"country\":\"Italien\",\"reaktoren\":1,\"id\":159,\"inbau\":0,\"point\":{\"y\":45.18409,\"x\":8.27756},\"inplanung\":0,\"hasUVPs\":false,\"name\":\"Trino Vercellese\",\"stillgelegt\":1,\"wikiUrl\":\"http:\\/\\/de.wikipedia.org\\/wiki\\/Kernkraftwerk_Enrico_Fermi_(Trino)\",\"aktiv\":0},{\"uvps\":[{\"fk\":\"161\",\"status\":\"abgeschlossen\",\"titel\":\"UVP KKW Litauen\",\"url\":\"http:\\/\\/www.umweltbundesamt.at\\/umweltschutz\\/uvpsupemas\\/espooverfahren\\/uvpkkwlitauen\\/\"}],\"flex\":null,\"country\":\"Litauen\",\"reaktoren\":3,\"id\":161,\"inbau\":0,\"point\":{\"y\":55.60472,\"x\":26.56},\"inplanung\":1,\"hasUVPs\":true,\"name\":\"Ignalina\",\"stillgelegt\":2,\"wikiUrl\":\"http:\\/\\/de.wikipedia.org\\/wiki\\/Kernkraftwerk_Ignalina\",\"aktiv\":0},{\"uvps\":[],\"flex\":\"http:\\/\\/flexrisk.boku.ac.at\\/en\\/sites\\/bors\\/index.html\",\"country\":\"Niederlande\",\"reaktoren\":1,\"id\":162,\"inbau\":0,\"point\":{\"y\":51.43083,\"x\":3.71833},\"inplanung\":0,\"hasUVPs\":false,\"name\":\"Borssele\",\"stillgelegt\":0,\"wikiUrl\":\"http:\\/\\/de.wikipedia.org\\/wiki\\/Kernkraftwerk_Borssele\",\"aktiv\":1},{\"uvps\":[],\"flex\":null,\"country\":\"Niederlande\",\"reaktoren\":1,\"id\":163,\"inbau\":0,\"point\":{\"y\":51.89957,\"x\":5.68633},\"inplanung\":0,\"hasUVPs\":false,\"name\":\"Dodewaard\",\"stillgelegt\":1,\"wikiUrl\":\"http:\\/\\/de.wikipedia.org\\/wiki\\/Kernkraftwerk_Dodewaard\",\"aktiv\":0},{\"uvps\":[],\"flex\":null,\"country\":\"Österreich\",\"reaktoren\":1,\"id\":226,\"inbau\":0,\"point\":{\"y\":48.34951,\"x\":15.89971},\"inplanung\":0,\"hasUVPs\":false,\"name\":\"Zwentendorf\",\"stillgelegt\":1,\"wikiUrl\":\"http:\\/\\/de.wikipedia.org\\/wiki\\/Kernkraftwerk_Zwentendorf\",\"aktiv\":0},{\"uvps\":[],\"flex\":null,\"country\":\"Polen\",\"reaktoren\":4,\"id\":231,\"inbau\":0,\"point\":{\"y\":54.73333,\"x\":18.1},\"inplanung\":0,\"hasUVPs\":false,\"name\":\"Zarnowiec\",\"stillgelegt\":4,\"wikiUrl\":\"http:\\/\\/de.wikipedia.org\\/wiki\\/Kernkraftwerk_%C5%BBarnowiec\",\"aktiv\":0},{\"uvps\":[{\"fk\":\"164\",\"status\":\"abgeschlossen\",\"titel\":\"UVP KKW Cernavoda 3 & 4\",\"url\":\"http:\\/\\/www.umweltbundesamt.at\\/umweltschutz\\/uvpsupemas\\/espooverfahren\\/rumaenien\\/uvpcernavoda\\/\"}],\"flex\":\"http:\\/\\/flexrisk.boku.ac.at\\/en\\/sites\\/cern\\/index.html\",\"country\":\"Rumänien\",\"reaktoren\":5,\"id\":164,\"inbau\":2,\"point\":{\"y\":44.32235,\"x\":28.05728},\"inplanung\":0,\"hasUVPs\":true,\"name\":\"Cernavoda\",\"stillgelegt\":1,\"wikiUrl\":\"http:\\/\\/de.wikipedia.org\\/wiki\\/Kernkraftwerk_Cernavod%C4%83\",\"aktiv\":2},{\"uvps\":[],\"flex\":\"http:\\/\\/flexrisk.boku.ac.at\\/en\\/sites\\/bala\\/index.html\",\"country\":\"Russland\",\"reaktoren\":6,\"id\":171,\"inbau\":2,\"point\":{\"y\":52.09444,\"x\":47.95833},\"inplanung\":0,\"hasUVPs\":false,\"name\":\"Balakovo\",\"stillgelegt\":0,\"wikiUrl\":\"http:\\/\\/de.wikipedia.org\\/wiki\\/Kernkraftwerk_Balakowo\",\"aktiv\":4},{\"uvps\":[],\"flex\":null,\"country\":\"Russland\",\"reaktoren\":2,\"id\":188,\"inbau\":2,\"point\":{\"y\":55.8836,\"x\":53.9943},\"inplanung\":0,\"hasUVPs\":false,\"name\":\"Bashkir\",\"stillgelegt\":0,\"wikiUrl\":\"http:\\/\\/de.wikipedia.org\\/wiki\\/Kernkraftwerk_Baschkirien\",\"aktiv\":0},{\"uvps\":[],\"flex\":null,\"country\":\"Russland\",\"reaktoren\":4,\"id\":165,\"inbau\":0,\"point\":{\"y\":56.85,\"x\":61.31667},\"inplanung\":1,\"hasUVPs\":false,\"name\":\"Beloyarsk\",\"stillgelegt\":2,\"wikiUrl\":\"http:\\/\\/de.wikipedia.org\\/wiki\\/Kernkraftwerk_Belojarsk\",\"aktiv\":1},{\"uvps\":[],\"flex\":null,\"country\":\"Russland\",\"reaktoren\":6,\"id\":184,\"inbau\":0,\"point\":{\"y\":54.06746,\"x\":61.57335},\"inplanung\":0,\"hasUVPs\":false,\"name\":\"Chelyabinsk\",\"stillgelegt\":6,\"wikiUrl\":\"http:\\/\\/de.wikipedia.org\\/wiki\\/Kerntechnische_Anlage_Majak\",\"aktiv\":0},{\"uvps\":[],\"flex\":null,\"country\":\"Russland\",\"reaktoren\":2,\"id\":187,\"inbau\":2,\"point\":{\"y\":56.2177,\"x\":44.06258},\"inplanung\":0,\"hasUVPs\":false,\"name\":\"Gorky\",\"stillgelegt\":0,\"wikiUrl\":\"http:\\/\\/de.wikipedia.org\\/wiki\\/Kernheizwerk_Gorki\",\"aktiv\":0},{\"uvps\":[],\"flex\":null,\"country\":\"Russland\",\"reaktoren\":3,\"id\":185,\"inbau\":0,\"point\":{\"y\":56.3545,\"x\":93.64386},\"inplanung\":0,\"hasUVPs\":false,\"name\":\"Gornochimicheski Combinat\",\"stillgelegt\":3,\"wikiUrl\":\"http:\\/\\/de.wikipedia.org\\/wiki\\/Liste_der_kerntechnischen_Anlagen_in_Russland\",\"aktiv\":0},{\"uvps\":[],\"flex\":\"http:\\/\\/flexrisk.boku.ac.at\\/en\\/sites\\/kali\\/index.html\",\"country\":\"Russland\",\"reaktoren\":4,\"id\":172,\"inbau\":0,\"point\":{\"y\":57.90683,\"x\":35.06417},\"inplanung\":0,\"hasUVPs\":false,\"name\":\"Kalinin\",\"stillgelegt\":0,\"wikiUrl\":\"http:\\/\\/de.wikipedia.org\\/wiki\\/Kernkraftwerk_Kalinin\",\"aktiv\":4},{\"uvps\":[],\"flex\":\"http:\\/\\/flexrisk.boku.ac.at\\/en\\/sites\\/kagr\\/index.html\",\"country\":\"Russland\",\"reaktoren\":2,\"id\":243,\"inbau\":1,\"point\":{\"y\":54.93932,\"x\":22.16236},\"inplanung\":1,\"hasUVPs\":false,\"name\":\"Kaliningrad\",\"stillgelegt\":0,\"wikiUrl\":\"http:\\/\\/de.wikipedia.org\\/wiki\\/Kernkraftwerk_Kaliningrad\",\"aktiv\":0},{\"uvps\":[],\"flex\":\"http:\\/\\/flexrisk.boku.ac.at\\/en\\/sites\\/kola\\/index.html\",\"country\":\"Russland\",\"reaktoren\":4,\"id\":173,\"inbau\":0,\"point\":{\"y\":67.46667,\"x\":32.46667},\"inplanung\":0,\"hasUVPs\":false,\"name\":\"Kola\",\"stillgelegt\":0,\"wikiUrl\":\"http:\\/\\/de.wikipedia.org\\/wiki\\/Kernkraftwerk_Kola\",\"aktiv\":4},{\"uvps\":[],\"flex\":null,\"country\":\"Russland\",\"reaktoren\":4,\"id\":182,\"inbau\":2,\"point\":{\"y\":58.3747,\"x\":41.5922},\"inplanung\":2,\"hasUVPs\":false,\"name\":\"Kostroma\",\"stillgelegt\":0,\"wikiUrl\":\"http:\\/\\/de.wikipedia.org\\/wiki\\/Kernkraftwerk_Kostroma\",\"aktiv\":0},{\"uvps\":[],\"flex\":\"http:\\/\\/flexrisk.boku.ac.at\\/en\\/sites\\/kurs\\/index.html\",\"country\":\"Russland\",\"reaktoren\":6,\"id\":168,\"inbau\":2,\"point\":{\"y\":51.675,\"x\":35.60556},\"inplanung\":0,\"hasUVPs\":false,\"name\":\"Kursk\",\"stillgelegt\":1,\"wikiUrl\":\"http:\\/\\/de.wikipedia.org\\/wiki\\/Kernkraftwerk_Kursk\",\"aktiv\":3},{\"uvps\":[],\"flex\":\"http:\\/\\/flexrisk.boku.ac.at\\/en\\/sites\\/leni\\/index.html\",\"country\":\"Russland\",\"reaktoren\":6,\"id\":169,\"inbau\":2,\"point\":{\"y\":59.8521,\"x\":29.0512},\"inplanung\":0,\"hasUVPs\":false,\"name\":\"Leningrad\",\"stillgelegt\":0,\"wikiUrl\":\"http:\\/\\/de.wikipedia.org\\/wiki\\/Kernkraftwerk_Leningrad\",\"aktiv\":4},{\"uvps\":[],\"flex\":\"http:\\/\\/flexrisk.boku.ac.at\\/en\\/sites\\/novo\\/index.html\",\"country\":\"Russland\",\"reaktoren\":7,\"id\":174,\"inbau\":2,\"point\":{\"y\":51.275,\"x\":39.2},\"inplanung\":0,\"hasUVPs\":false,\"name\":\"Novovoronezh\",\"stillgelegt\":2,\"wikiUrl\":\"http:\\/\\/de.wikipedia.org\\/wiki\\/Kernkraftwerk_Nowoworonesch\",\"aktiv\":3},{\"uvps\":[],\"flex\":null,\"country\":\"Russland\",\"reaktoren\":1,\"id\":183,\"inbau\":0,\"point\":{\"y\":55.08532,\"x\":36.57404},\"inplanung\":0,\"hasUVPs\":false,\"name\":\"Obninsk APS\",\"stillgelegt\":1,\"wikiUrl\":\"http:\\/\\/de.wikipedia.org\\/wiki\\/Kernkraftwerk_Obninsk\",\"aktiv\":0},{\"uvps\":[],\"flex\":\"http:\\/\\/flexrisk.boku.ac.at\\/en\\/sites\\/volg\\/index.html\",\"country\":\"Russland\",\"reaktoren\":4,\"id\":175,\"inbau\":2,\"point\":{\"y\":47.59944,\"x\":42.37033},\"inplanung\":0,\"hasUVPs\":false,\"name\":\"Rostov (Volgodonsk)\",\"stillgelegt\":0,\"wikiUrl\":\"http:\\/\\/de.wikipedia.org\\/wiki\\/Kernkraftwerk_Wolgodonsk\",\"aktiv\":2},{\"uvps\":[],\"flex\":null,\"country\":\"Russland\",\"reaktoren\":5,\"id\":186,\"inbau\":0,\"point\":{\"y\":56.59944,\"x\":84.89583},\"inplanung\":0,\"hasUVPs\":false,\"name\":\"Sibchim Combinat NPP\",\"stillgelegt\":5,\"wikiUrl\":\"http:\\/\\/en.wikipedia.org\\/wiki\\/Seversk\",\"aktiv\":0},{\"uvps\":[],\"flex\":\"http:\\/\\/flexrisk.boku.ac.at\\/en\\/sites\\/smol\\/index.html\",\"country\":\"Russland\",\"reaktoren\":3,\"id\":170,\"inbau\":0,\"point\":{\"y\":54.16667,\"x\":33.23333},\"inplanung\":0,\"hasUVPs\":false,\"name\":\"Smolensk\",\"stillgelegt\":0,\"wikiUrl\":\"http:\\/\\/de.wikipedia.org\\/wiki\\/Kernkraftwerk_Smolensk\",\"aktiv\":3},{\"uvps\":[],\"flex\":null,\"country\":\"Russland\",\"reaktoren\":3,\"id\":177,\"inbau\":0,\"point\":{\"y\":55.7461,\"x\":60.8938},\"inplanung\":3,\"hasUVPs\":false,\"name\":\"South Urals\",\"stillgelegt\":0,\"wikiUrl\":\"http:\\/\\/de.wikipedia.org\\/wiki\\/Kernkraftwerk_S%C3%BCd-Ural\",\"aktiv\":0},{\"uvps\":[],\"flex\":null,\"country\":\"Russland\",\"reaktoren\":2,\"id\":181,\"inbau\":0,\"point\":{\"y\":56.59944,\"x\":84.89583},\"inplanung\":2,\"hasUVPs\":false,\"name\":\"Tomsk\",\"stillgelegt\":0,\"wikiUrl\":\"http:\\/\\/de.wikipedia.org\\/wiki\\/Liste_der_kerntechnischen_Anlagen_in_Russland\",\"aktiv\":0},{\"uvps\":[],\"flex\":null,\"country\":\"Russland\",\"reaktoren\":2,\"id\":178,\"inbau\":0,\"point\":{\"y\":51.5617,\"x\":39.1487},\"inplanung\":0,\"hasUVPs\":false,\"name\":\"Voronezh\",\"stillgelegt\":0,\"wikiUrl\":\"http:\\/\\/de.wikipedia.org\\/wiki\\/Kernheizwerk_Woronesch\",\"aktiv\":2},{\"uvps\":[],\"flex\":null,\"country\":\"Schweden\",\"reaktoren\":1,\"id\":241,\"inbau\":0,\"point\":{\"y\":59.20611,\"x\":18.0825},\"inplanung\":0,\"hasUVPs\":false,\"name\":\"Agesta\",\"stillgelegt\":1,\"wikiUrl\":\"http:\\/\\/de.wikipedia.org\\/wiki\\/Kernkraftwerk_%C3%85gesta\",\"aktiv\":0},{\"uvps\":[],\"flex\":null,\"country\":\"Schweden\",\"reaktoren\":2,\"id\":203,\"inbau\":0,\"point\":{\"y\":55.74444,\"x\":12.92083},\"inplanung\":0,\"hasUVPs\":false,\"name\":\"Barsebäck\",\"stillgelegt\":2,\"wikiUrl\":\"http:\\/\\/de.wikipedia.org\\/wiki\\/Kernkraftwerk_Barseb%C3%A4ck\",\"aktiv\":0},{\"uvps\":[],\"flex\":\"http:\\/\\/flexrisk.boku.ac.at\\/en\\/sites\\/fors\\/index.html\",\"country\":\"Schweden\",\"reaktoren\":3,\"id\":200,\"inbau\":0,\"point\":{\"y\":60.40333,\"x\":18.16667},\"inplanung\":0,\"hasUVPs\":false,\"name\":\"Forsmark\",\"stillgelegt\":0,\"wikiUrl\":\"http:\\/\\/de.wikipedia.org\\/wiki\\/Kernkraftwerk_Forsmark\",\"aktiv\":3},{\"uvps\":[],\"flex\":\"http:\\/\\/flexrisk.boku.ac.at\\/en\\/sites\\/oska\\/index.html\",\"country\":\"Schweden\",\"reaktoren\":3,\"id\":201,\"inbau\":0,\"point\":{\"y\":57.41556,\"x\":16.67111},\"inplanung\":0,\"hasUVPs\":false,\"name\":\"Oskarshamn\",\"stillgelegt\":0,\"wikiUrl\":\"http:\\/\\/de.wikipedia.org\\/wiki\\/Kernkraftwerk_Oskarshamn\",\"aktiv\":3},{\"uvps\":[],\"flex\":\"http:\\/\\/flexrisk.boku.ac.at\\/en\\/sites\\/ring\\/index.html\",\"country\":\"Schweden\",\"reaktoren\":4,\"id\":202,\"inbau\":0,\"point\":{\"y\":57.26111,\"x\":12.10833},\"inplanung\":0,\"hasUVPs\":false,\"name\":\"Ringhals\",\"stillgelegt\":0,\"wikiUrl\":\"http:\\/\\/de.wikipedia.org\\/wiki\\/Kernkraftwerk_Ringhals\",\"aktiv\":4},{\"uvps\":[{\"fk\":\"96\",\"status\":\"abgeschlossen\",\"titel\":\"KKW Beznau II Betriebsbewilligung\",\"url\":\"http:\\/\\/www.umweltbundesamt.at\\/umweltschutz\\/kernenergie\\/akw\\/beznau\\/\"}],\"flex\":\"http:\\/\\/flexrisk.boku.ac.at\\/en\\/sites\\/bezn\\/index.html\",\"country\":\"Schweiz\",\"reaktoren\":2,\"id\":96,\"inbau\":0,\"point\":{\"y\":47.55191,\"x\":8.2279},\"inplanung\":0,\"hasUVPs\":true,\"name\":\"Beznau\",\"stillgelegt\":0,\"wikiUrl\":\"http:\\/\\/de.wikipedia.org\\/wiki\\/Kernkraftwerk_Beznau\",\"aktiv\":2},{\"uvps\":[],\"flex\":\"http:\\/\\/flexrisk.boku.ac.at\\/en\\/sites\\/goes\\/index.html\",\"country\":\"Schweiz\",\"reaktoren\":1,\"id\":97,\"inbau\":0,\"point\":{\"y\":47.36534,\"x\":7.96766},\"inplanung\":0,\"hasUVPs\":false,\"name\":\"Gösgen\",\"stillgelegt\":0,\"wikiUrl\":\"http:\\/\\/de.wikipedia.org\\/wiki\\/Kernkraftwerk_G%C3%B6sgen\",\"aktiv\":1},{\"uvps\":[],\"flex\":\"http:\\/\\/flexrisk.boku.ac.at\\/en\\/sites\\/leib\\/index.html\",\"country\":\"Schweiz\",\"reaktoren\":1,\"id\":98,\"inbau\":0,\"point\":{\"y\":47.60148,\"x\":8.18344},\"inplanung\":0,\"hasUVPs\":false,\"name\":\"Leibstadt\",\"stillgelegt\":0,\"wikiUrl\":\"http:\\/\\/de.wikipedia.org\\/wiki\\/Kernkraftwerk_Leibstadt\",\"aktiv\":1},{\"uvps\":[],\"flex\":null,\"country\":\"Schweiz\",\"reaktoren\":1,\"id\":122,\"inbau\":0,\"point\":{\"y\":46.69167,\"x\":6.82778},\"inplanung\":0,\"hasUVPs\":false,\"name\":\"Lucens\",\"stillgelegt\":1,\"wikiUrl\":\"http:\\/\\/de.wikipedia.org\\/wiki\\/Reaktor_Lucens\",\"aktiv\":0},{\"uvps\":[{\"fk\":\"99\",\"status\":\"abgeschlossen\",\"titel\":\"KKW Mühleberg Aufhebung der Befristung der Betriebsbewilligung\",\"url\":\"http:\\/\\/www.umweltbundesamt.at\\/umweltschutz\\/kernenergie\\/akw\\/kkwmuehleberg\\/\"},{\"fk\":\"99\",\"status\":\"laufend\",\"titel\":\"Ergänzung der Fachstellungnahme betreffend das KKW Mühleberg 2013\",\"url\":\"http:\\/\\/www.umweltbundesamt.at\\/umweltsituation\\/kernenergie\\/akw\\/kkwmuehleberg\\/\"}],\"flex\":\"http:\\/\\/flexrisk.boku.ac.at\\/en\\/sites\\/mueh\\/index.html\",\"country\":\"Schweiz\",\"reaktoren\":1,\"id\":99,\"inbau\":0,\"point\":{\"y\":46.96904,\"x\":7.26831},\"inplanung\":0,\"hasUVPs\":true,\"name\":\"Mühleberg\",\"stillgelegt\":0,\"wikiUrl\":\"http:\\/\\/de.wikipedia.org\\/wiki\\/Kernkraftwerk_M%C3%BChleberg\",\"aktiv\":1},{\"uvps\":[{\"fk\":\"81\",\"status\":\"abgeschlossen\",\"titel\":\"UVP Integrallager Bohunice\",\"url\":\"http:\\/\\/www.umweltbundesamt.at\\/umweltsituation\\/uvpsup\\/espooverfahren\\/espoo_slowakei\\/uvpinterimlager_ebo\\/\"}],\"flex\":\"http:\\/\\/flexrisk.boku.ac.at\\/en\\/sites\\/bohu\\/index.html\",\"country\":\"Slowakei\",\"reaktoren\":5,\"id\":81,\"inbau\":0,\"point\":{\"y\":48.4984,\"x\":17.6835},\"inplanung\":0,\"hasUVPs\":true,\"name\":\"Bohunice\",\"stillgelegt\":3,\"wikiUrl\":\"http:\\/\\/de.wikipedia.org\\/wiki\\/Kernkraftwerk_Bohunice\",\"aktiv\":2},{\"uvps\":[{\"fk\":\"82\",\"status\":\"abgeschlossen\",\"titel\":\"UVP KKW Mochovce 1 und 2 Leistungserhöhung\",\"url\":\"http:\\/\\/www.umweltbundesamt.at\\/umweltschutz\\/uvpsupemas\\/espooverfahren\\/espoo_slowakei\\/kkwmochovce12\\/\"},{\"fk\":\"82\",\"status\":\"abgeschlossen\",\"titel\":\"UVP KKW Mochovce 3\\/4\",\"url\":\"http:\\/\\/www.umweltbundesamt.at\\/umweltschutz\\/uvpsupemas\\/espooverfahren\\/espoo_slowakei\\/uvpmochovce34\\/\"},{\"fk\":\"82\",\"status\":\"abgeschlossen\",\"titel\":\"UVP Endlager Standort Mochovce\",\"url\":\"http:\\/\\/www.umweltbundesamt.at\\/umweltsituation\\/uvpsup\\/espooverfahren\\/espoo_slowakei\\/uvpendlager_emo\\/\"}],\"flex\":\"http:\\/\\/flexrisk.boku.ac.at\\/en\\/sites\\/moch\\/index.html\",\"country\":\"Slowakei\",\"reaktoren\":4,\"id\":82,\"inbau\":2,\"point\":{\"y\":48.25988,\"x\":18.45703},\"inplanung\":0,\"hasUVPs\":true,\"name\":\"Mochovce\",\"stillgelegt\":0,\"wikiUrl\":\"http:\\/\\/de.wikipedia.org\\/wiki\\/Kernkraftwerk_Mochovce\",\"aktiv\":2},{\"uvps\":[],\"flex\":\"http:\\/\\/flexrisk.boku.ac.at\\/en\\/sites\\/krsk\\/index.html\",\"country\":\"Slowenien\",\"reaktoren\":1,\"id\":83,\"inbau\":0,\"point\":{\"y\":45.9379,\"x\":15.51613},\"inplanung\":0,\"hasUVPs\":false,\"name\":\"Krsko\",\"stillgelegt\":0,\"wikiUrl\":\"http:\\/\\/de.wikipedia.org\\/wiki\\/Kernkraftwerk_Kr%C5%A1ko\",\"aktiv\":1},{\"uvps\":[],\"flex\":\"http:\\/\\/flexrisk.boku.ac.at\\/en\\/sites\\/alma\\/index.html\",\"country\":\"Spanien\",\"reaktoren\":2,\"id\":193,\"inbau\":0,\"point\":{\"y\":39.80806,\"x\":-5.69694},\"inplanung\":0,\"hasUVPs\":false,\"name\":\"Almaraz\",\"stillgelegt\":0,\"wikiUrl\":\"http:\\/\\/de.wikipedia.org\\/wiki\\/Kernkraftwerk_Almaraz\",\"aktiv\":2},{\"uvps\":[],\"flex\":\"http:\\/\\/flexrisk.boku.ac.at\\/en\\/sites\\/asco\\/index.html\",\"country\":\"Spanien\",\"reaktoren\":2,\"id\":194,\"inbau\":0,\"point\":{\"y\":41.2,\"x\":0.56944},\"inplanung\":0,\"hasUVPs\":false,\"name\":\"Ascó\",\"stillgelegt\":0,\"wikiUrl\":\"http:\\/\\/de.wikipedia.org\\/wiki\\/Kernkraftwerk_Asc%C3%B3\",\"aktiv\":2},{\"uvps\":[],\"flex\":\"http:\\/\\/flexrisk.boku.ac.at\\/en\\/sites\\/cofr\\/index.html\",\"country\":\"Spanien\",\"reaktoren\":1,\"id\":191,\"inbau\":0,\"point\":{\"y\":39.21667,\"x\":-1.05},\"inplanung\":0,\"hasUVPs\":false,\"name\":\"Cofrentes\",\"stillgelegt\":0,\"wikiUrl\":\"http:\\/\\/de.wikipedia.org\\/wiki\\/Kernkraftwerk_Cofrentes\",\"aktiv\":1},{\"uvps\":[],\"flex\":null,\"country\":\"Spanien\",\"reaktoren\":1,\"id\":195,\"inbau\":0,\"point\":{\"y\":40.36389,\"x\":-2.82917},\"inplanung\":0,\"hasUVPs\":false,\"name\":\"Jose Cabrera, Zorita\",\"stillgelegt\":1,\"wikiUrl\":\"http:\\/\\/de.wikipedia.org\\/wiki\\/Kernkraftwerk_Jos%C3%A9_Cabrera\",\"aktiv\":0},{\"uvps\":[],\"flex\":null,\"country\":\"Spanien\",\"reaktoren\":2,\"id\":199,\"inbau\":0,\"point\":{\"y\":43.4332,\"x\":-2.8725},\"inplanung\":0,\"hasUVPs\":false,\"name\":\"Lemoniz \",\"stillgelegt\":2,\"wikiUrl\":\"http:\\/\\/de.wikipedia.org\\/wiki\\/Kernkraftwerk_Lem%C3%B3niz\",\"aktiv\":0},{\"uvps\":[],\"flex\":\"http:\\/\\/flexrisk.boku.ac.at\\/en\\/sites\\/smar\\/index.html\",\"country\":\"Spanien\",\"reaktoren\":1,\"id\":192,\"inbau\":0,\"point\":{\"y\":42.775,\"x\":-3.20833},\"inplanung\":0,\"hasUVPs\":false,\"name\":\"Santa Maria de Garoña\",\"stillgelegt\":0,\"wikiUrl\":\"http:\\/\\/de.wikipedia.org\\/wiki\\/Kernkraftwerk_Santa_Mar%C3%ADa_de_Garo%C3%B1a\",\"aktiv\":1},{\"uvps\":[],\"flex\":\"http:\\/\\/flexrisk.boku.ac.at\\/en\\/sites\\/tril\\/index.html\",\"country\":\"Spanien\",\"reaktoren\":1,\"id\":196,\"inbau\":0,\"point\":{\"y\":40.70139,\"x\":-2.62222},\"inplanung\":0,\"hasUVPs\":false,\"name\":\"Trillo\",\"stillgelegt\":0,\"wikiUrl\":\"http:\\/\\/de.wikipedia.org\\/wiki\\/Kernkraftwerk_Trillo\",\"aktiv\":1},{\"uvps\":[],\"flex\":null,\"country\":\"Spanien\",\"reaktoren\":2,\"id\":198,\"inbau\":0,\"point\":{\"y\":39.2907,\"x\":-5.18055},\"inplanung\":0,\"hasUVPs\":false,\"name\":\"Valdecaballeros\",\"stillgelegt\":2,\"wikiUrl\":\"http:\\/\\/de.wikipedia.org\\/wiki\\/Kernkraftwerk_Valdecaballeros\",\"aktiv\":0},{\"uvps\":[],\"flex\":\"http:\\/\\/flexrisk.boku.ac.at\\/en\\/sites\\/vand\\/index.html\",\"country\":\"Spanien\",\"reaktoren\":2,\"id\":197,\"inbau\":0,\"point\":{\"y\":40.95139,\"x\":0.86667},\"inplanung\":0,\"hasUVPs\":false,\"name\":\"Vandellós\",\"stillgelegt\":1,\"wikiUrl\":\"http:\\/\\/de.wikipedia.org\\/wiki\\/Kernkraftwerk_Vandell%C3%B2s\",\"aktiv\":1},{\"uvps\":[],\"flex\":\"http:\\/\\/flexrisk.boku.ac.at\\/en\\/sites\\/duko\\/index.html\",\"country\":\"Tschechien\",\"reaktoren\":4,\"id\":5,\"inbau\":0,\"point\":{\"y\":49.08399,\"x\":16.15179},\"inplanung\":0,\"hasUVPs\":false,\"name\":\"Dukovany\",\"stillgelegt\":0,\"wikiUrl\":\"http:\\/\\/de.wikipedia.org\\/wiki\\/Kernkraftwerk_Dukovany\",\"aktiv\":4},{\"uvps\":[{\"fk\":\"6\",\"status\":\"abgeschlossen\",\"titel\":\"UVP KKW Temelin Blöcke 3 und 4\",\"url\":\"http:\\/\\/www.umweltbundesamt.at\\/umweltschutz\\/uvpsupemas\\/espooverfahren\\/espoo_cz\\/uvptemelin34\\/\"},{\"fk\":\"6\",\"status\":\"abgeschlossen\",\"titel\":\"UVP Brennelemente-Zwischenlager Temelin\",\"url\":\"http:\\/\\/www.umweltbundesamt.at\\/umweltschutz\\/uvpsupemas\\/espooverfahren\\/espoo_cz\\/zwilagtemelin1\\/\"},{\"fk\":\"6\",\"status\":\"abgeschlossen\",\"titel\":\"KKW Temelin 1 & 2\",\"url\":\"http:\\/\\/www.umweltbundesamt.at\\/umweltschutz\\/kernenergie\\/akw\\/temelin\\/\"}],\"flex\":\"http:\\/\\/flexrisk.boku.ac.at\\/en\\/sites\\/teme\\/index.html\",\"country\":\"Tschechien\",\"reaktoren\":4,\"id\":6,\"inbau\":2,\"point\":{\"y\":49.1789,\"x\":14.37784},\"inplanung\":0,\"hasUVPs\":true,\"name\":\"Temelin\",\"stillgelegt\":0,\"wikiUrl\":\"http:\\/\\/de.wikipedia.org\\/wiki\\/Kernkraftwerk_Temel%C3%ADn\",\"aktiv\":2},{\"uvps\":[],\"flex\":null,\"country\":\"UK\",\"reaktoren\":2,\"id\":216,\"inbau\":0,\"point\":{\"y\":51.6925,\"x\":-2.49361},\"inplanung\":0,\"hasUVPs\":false,\"name\":\"Berkeley\",\"stillgelegt\":2,\"wikiUrl\":\"http:\\/\\/de.wikipedia.org\\/wiki\\/Kernkraftwerk_Berkeley\",\"aktiv\":0},{\"uvps\":[],\"flex\":null,\"country\":\"UK\",\"reaktoren\":2,\"id\":217,\"inbau\":0,\"point\":{\"y\":51.74194,\"x\":0.8975},\"inplanung\":0,\"hasUVPs\":false,\"name\":\"Bradwell\",\"stillgelegt\":2,\"wikiUrl\":\"http:\\/\\/de.wikipedia.org\\/wiki\\/Kernkraftwerk_Bradwell\",\"aktiv\":0},{\"uvps\":[],\"flex\":null,\"country\":\"UK\",\"reaktoren\":4,\"id\":218,\"inbau\":0,\"point\":{\"y\":54.41982,\"x\":-3.49203},\"inplanung\":0,\"hasUVPs\":false,\"name\":\"Calder Hall\",\"stillgelegt\":4,\"wikiUrl\":\"http:\\/\\/de.wikipedia.org\\/wiki\\/Kernkraftwerk_Calder_Hall\",\"aktiv\":0},{\"uvps\":[],\"flex\":null,\"country\":\"UK\",\"reaktoren\":4,\"id\":219,\"inbau\":0,\"point\":{\"y\":55.01667,\"x\":-3.225},\"inplanung\":0,\"hasUVPs\":false,\"name\":\"Chapelcross\",\"stillgelegt\":4,\"wikiUrl\":\"http:\\/\\/de.wikipedia.org\\/wiki\\/Kernkraftwerk_Chapelcross\",\"aktiv\":0},{\"uvps\":[],\"flex\":null,\"country\":\"UK\",\"reaktoren\":2,\"id\":214,\"inbau\":0,\"point\":{\"y\":58.57899,\"x\":-3.75002},\"inplanung\":0,\"hasUVPs\":false,\"name\":\"Dounreay\",\"stillgelegt\":2,\"wikiUrl\":\"http:\\/\\/de.wikipedia.org\\/wiki\\/Kernkraftwerk_Dounreay\",\"aktiv\":0},{\"uvps\":[],\"flex\":\"http:\\/\\/flexrisk.boku.ac.at\\/en\\/sites\\/dung\\/index.html\",\"country\":\"UK\",\"reaktoren\":4,\"id\":204,\"inbau\":0,\"point\":{\"y\":50.91389,\"x\":0.96389},\"inplanung\":0,\"hasUVPs\":false,\"name\":\"Dungeness\",\"stillgelegt\":2,\"wikiUrl\":\"http:\\/\\/de.wikipedia.org\\/wiki\\/Kernkraftwerk_Dungeness\",\"aktiv\":2},{\"uvps\":[],\"flex\":\"http:\\/\\/flexrisk.boku.ac.at\\/en\\/sites\\/hart\\/index.html\",\"country\":\"UK\",\"reaktoren\":2,\"id\":205,\"inbau\":0,\"point\":{\"y\":54.63472,\"x\":-1.18056},\"inplanung\":0,\"hasUVPs\":false,\"name\":\"Hartlepool\",\"stillgelegt\":0,\"wikiUrl\":\"http:\\/\\/de.wikipedia.org\\/wiki\\/Kernkraftwerk_Hartlepool\",\"aktiv\":2},{\"uvps\":[],\"flex\":\"http:\\/\\/flexrisk.boku.ac.at\\/en\\/sites\\/heys\\/index.html\",\"country\":\"UK\",\"reaktoren\":4,\"id\":206,\"inbau\":0,\"point\":{\"y\":54.03333,\"x\":-2.9},\"inplanung\":0,\"hasUVPs\":false,\"name\":\"Heyshamm\",\"stillgelegt\":0,\"wikiUrl\":\"http:\\/\\/de.wikipedia.org\\/wiki\\/Kernkraftwerk_Heysham\",\"aktiv\":4},{\"uvps\":[{\"fk\":\"207\",\"status\":\"abgeschlossen\",\"titel\":\"UVP KKW Hinkley Point\",\"url\":\"http:\\/\\/www.umweltbundesamt.at\\/umweltsituation\\/uvpsup\\/espooverfahren\\/espoo_uk\\/uvpkkwhinkleypoint\\/\"}],\"flex\":\"http:\\/\\/flexrisk.boku.ac.at\\/en\\/sites\\/hink\\/index.html\",\"country\":\"UK\",\"reaktoren\":6,\"id\":207,\"inbau\":0,\"point\":{\"y\":51.20796,\"x\":-3.12999},\"inplanung\":2,\"hasUVPs\":true,\"name\":\"Hinkley Point\",\"stillgelegt\":2,\"wikiUrl\":\"http:\\/\\/de.wikipedia.org\\/wiki\\/Kernkraftwerk_Hinkley_Point\",\"aktiv\":2},{\"uvps\":[],\"flex\":\"http:\\/\\/flexrisk.boku.ac.at\\/en\\/sites\\/hunt\\/index.html\",\"country\":\"UK\",\"reaktoren\":4,\"id\":208,\"inbau\":0,\"point\":{\"y\":55.72222,\"x\":-4.89306},\"inplanung\":0,\"hasUVPs\":false,\"name\":\"Hunterston\",\"stillgelegt\":2,\"wikiUrl\":\"http:\\/\\/de.wikipedia.org\\/wiki\\/Kernkraftwerk_Hunterston\",\"aktiv\":2},{\"uvps\":[],\"flex\":null,\"country\":\"UK\",\"reaktoren\":2,\"id\":210,\"inbau\":0,\"point\":{\"y\":51.64861,\"x\":-2.57083},\"inplanung\":0,\"hasUVPs\":false,\"name\":\"Oldbury\",\"stillgelegt\":2,\"wikiUrl\":\"http:\\/\\/de.wikipedia.org\\/wiki\\/Kernkraftwerk_Oldbury\",\"aktiv\":0},{\"uvps\":[],\"flex\":\"http:\\/\\/flexrisk.boku.ac.at\\/en\\/sites\\/size\\/index.html\",\"country\":\"UK\",\"reaktoren\":3,\"id\":211,\"inbau\":0,\"point\":{\"y\":52.21667,\"x\":1.61944},\"inplanung\":0,\"hasUVPs\":false,\"name\":\"Sizewell\",\"stillgelegt\":2,\"wikiUrl\":\"http:\\/\\/de.wikipedia.org\\/wiki\\/Kernkraftwerk_Sizewell\",\"aktiv\":1},{\"uvps\":[],\"flex\":\"http:\\/\\/flexrisk.boku.ac.at\\/en\\/sites\\/torn\\/index.html\",\"country\":\"UK\",\"reaktoren\":2,\"id\":209,\"inbau\":0,\"point\":{\"y\":55.96667,\"x\":-2.4},\"inplanung\":0,\"hasUVPs\":false,\"name\":\"Torness\",\"stillgelegt\":0,\"wikiUrl\":\"http:\\/\\/de.wikipedia.org\\/wiki\\/Kernkraftwerk_Torness\",\"aktiv\":2},{\"uvps\":[],\"flex\":null,\"country\":\"UK\",\"reaktoren\":2,\"id\":220,\"inbau\":0,\"point\":{\"y\":52.925,\"x\":-3.95},\"inplanung\":0,\"hasUVPs\":false,\"name\":\"Trawsfynydd\",\"stillgelegt\":2,\"wikiUrl\":\"http:\\/\\/de.wikipedia.org\\/wiki\\/Kernkraftwerk_Trawsfynydd\",\"aktiv\":0},{\"uvps\":[],\"flex\":null,\"country\":\"UK\",\"reaktoren\":1,\"id\":213,\"inbau\":0,\"point\":{\"y\":54.41861,\"x\":-3.4975},\"inplanung\":0,\"hasUVPs\":false,\"name\":\"Windscale\",\"stillgelegt\":1,\"wikiUrl\":\"http:\\/\\/de.wikipedia.org\\/wiki\\/Sellafield\",\"aktiv\":0},{\"uvps\":[],\"flex\":null,\"country\":\"UK\",\"reaktoren\":2,\"id\":215,\"inbau\":0,\"point\":{\"y\":50.68406,\"x\":-2.26954},\"inplanung\":0,\"hasUVPs\":false,\"name\":\"Winfrith\",\"stillgelegt\":2,\"wikiUrl\":\"http:\\/\\/de.wikipedia.org\\/wiki\\/Kernkraftwerk_Winfrith\",\"aktiv\":0},{\"uvps\":[],\"flex\":\"http:\\/\\/flexrisk.boku.ac.at\\/en\\/sites\\/wylf\\/index.html\",\"country\":\"UK\",\"reaktoren\":2,\"id\":212,\"inbau\":0,\"point\":{\"y\":53.41667,\"x\":-4.48333},\"inplanung\":0,\"hasUVPs\":false,\"name\":\"Wylfa\",\"stillgelegt\":1,\"wikiUrl\":\"http:\\/\\/de.wikipedia.org\\/wiki\\/Kernkraftwerk_Wylfa\",\"aktiv\":1},{\"uvps\":[],\"flex\":null,\"country\":\"Ukraine\",\"reaktoren\":6,\"id\":225,\"inbau\":0,\"point\":{\"y\":51.38978,\"x\":30.09971},\"inplanung\":0,\"hasUVPs\":false,\"name\":\"Chernobyl\",\"stillgelegt\":6,\"wikiUrl\":\"http:\\/\\/de.wikipedia.org\\/wiki\\/Kernkraftwerk_Tschernobyl\",\"aktiv\":0},{\"uvps\":[{\"fk\":\"221\",\"status\":\"abgeschlossen\",\"titel\":\"AKW Khmelnitzky2 & AKW Rowno4\",\"url\":\"http:\\/\\/www.umweltbundesamt.at\\/umweltschutz\\/kernenergie\\/akw\\/k2r4\\/\"},{\"fk\":\"221\",\"status\":\"laufend\",\"titel\":\"UVP KKW Khmelnitsky 3&4\",\"url\":\"http:\\/\\/www.umweltbundesamt.at\\/umweltsituation\\/uvpsup\\/espooverfahren\\/espoo_ukraine\\/kkwkhmelnitsky34\"}],\"flex\":\"http:\\/\\/flexrisk.boku.ac.at\\/en\\/sites\\/khme\\/index.html\",\"country\":\"Ukraine\",\"reaktoren\":4,\"id\":221,\"inbau\":2,\"point\":{\"y\":50.305,\"x\":26.645},\"inplanung\":0,\"hasUVPs\":true,\"name\":\"Khmelnitski\",\"stillgelegt\":0,\"wikiUrl\":\"http:\\/\\/de.wikipedia.org\\/wiki\\/Kernkraftwerk_Chmelnyzkyj\",\"aktiv\":2},{\"uvps\":[{\"fk\":\"222\",\"status\":\"abgeschlossen\",\"titel\":\"AKW Khmelnitzky2 & AKW Rowno4\",\"url\":\"http:\\/\\/www.umweltbundesamt.at\\/umweltschutz\\/kernenergie\\/akw\\/k2r4\\/\"}],\"flex\":\"http:\\/\\/flexrisk.boku.ac.at\\/en\\/sites\\/rown\\/index.html\",\"country\":\"Ukraine\",\"reaktoren\":4,\"id\":222,\"inbau\":0,\"point\":{\"y\":51.32778,\"x\":25.89167},\"inplanung\":0,\"hasUVPs\":true,\"name\":\"Rovno\",\"stillgelegt\":0,\"wikiUrl\":\"http:\\/\\/de.wikipedia.org\\/wiki\\/Kernkraftwerk_Riwne\",\"aktiv\":4},{\"uvps\":[],\"flex\":\"http:\\/\\/flexrisk.boku.ac.at\\/en\\/sites\\/sout\\/index.html\",\"country\":\"Ukraine\",\"reaktoren\":4,\"id\":223,\"inbau\":1,\"point\":{\"y\":47.81667,\"x\":31.21667},\"inplanung\":0,\"hasUVPs\":false,\"name\":\"South Ukraine\",\"stillgelegt\":1,\"wikiUrl\":\"http:\\/\\/de.wikipedia.org\\/wiki\\/Kernkraftwerk_S%C3%BCd-Ukraine\",\"aktiv\":2},{\"uvps\":[],\"flex\":\"http:\\/\\/flexrisk.boku.ac.at\\/en\\/sites\\/zapo\\/index.html\",\"country\":\"Ukraine\",\"reaktoren\":6,\"id\":224,\"inbau\":0,\"point\":{\"y\":47.51222,\"x\":34.58583},\"inplanung\":0,\"hasUVPs\":false,\"name\":\"Zaporozhe\",\"stillgelegt\":0,\"wikiUrl\":\"http:\\/\\/de.wikipedia.org\\/wiki\\/Kernkraftwerk_Saporischschja\",\"aktiv\":6},{\"uvps\":[{\"fk\":\"59\",\"status\":\"abgeschlossen\",\"titel\":\"UVP KKW Paks Betriebsverlängerung\",\"url\":\"http:\\/\\/www.umweltbundesamt.at\\/umweltschutz\\/uvpsupemas\\/espooverfahren\\/espoo_ungarn\\/uvpkkwpaks\\/\"},{\"fk\":\"59\",\"status\":\"laufend\",\"titel\":\"UVP KKW Paks II\",\"url\":\"http:\\/\\/www.umweltbundesamt.at\\/umweltsituation\\/uvpsup\\/espooverfahren\\/espoo_ungarn\\/uvpkkwpaksii\\/\"}],\"flex\":\"http:\\/\\/flexrisk.boku.ac.at\\/en\\/sites\\/paks\\/index.html\",\"country\":\"Ungarn\",\"reaktoren\":6,\"id\":59,\"inbau\":0,\"point\":{\"y\":46.57391,\"x\":18.85314},\"inplanung\":2,\"hasUVPs\":true,\"name\":\"Paks\",\"stillgelegt\":0,\"wikiUrl\":\"http:\\/\\/de.wikipedia.org\\/wiki\\/Kernkraftwerk_Paks\",\"aktiv\":4},{\"uvps\":[{\"fk\":\"242\",\"status\":\"abgeschlossen\",\"titel\":\"UVP KKW Belarus\",\"url\":\"http:\\/\\/www.umweltbundesamt.at\\/umweltsituation\\/uvpsup\\/espooverfahren\\/espoo_belarus\\/uvpkkwbelarus\\/\"}],\"flex\":\"http:\\/\\/flexrisk.boku.ac.at\\/en\\/sites\\/ostr\\/index.html\",\"country\":\"Weißrussland\",\"reaktoren\":1,\"id\":242,\"inbau\":0,\"point\":{\"y\":54.76189,\"x\":26.11986},\"inplanung\":1,\"hasUVPs\":true,\"name\":\"Ostrovets\",\"stillgelegt\":0,\"wikiUrl\":\"http:\\/\\/en.wikipedia.org\\/wiki\\/Belarusian_nuclear_power_plant_project\",\"aktiv\":0}];"
   ]
  },
  {
   "cell_type": "code",
   "execution_count": 4,
   "metadata": {
    "collapsed": true,
    "deletable": true,
    "editable": true
   },
   "outputs": [],
   "source": [
    "df = pd.DataFrame(akws)"
   ]
  },
  {
   "cell_type": "code",
   "execution_count": 5,
   "metadata": {
    "collapsed": true,
    "deletable": true,
    "editable": true
   },
   "outputs": [],
   "source": [
    "df = df[df.aktiv > 0]"
   ]
  },
  {
   "cell_type": "code",
   "execution_count": 6,
   "metadata": {
    "collapsed": false,
    "deletable": true,
    "editable": true
   },
   "outputs": [
    {
     "data": {
      "text/html": [
       "<div>\n",
       "<table border=\"1\" class=\"dataframe\">\n",
       "  <thead>\n",
       "    <tr style=\"text-align: right;\">\n",
       "      <th></th>\n",
       "      <th>aktiv</th>\n",
       "      <th>country</th>\n",
       "      <th>flex</th>\n",
       "      <th>hasUVPs</th>\n",
       "      <th>id</th>\n",
       "      <th>inbau</th>\n",
       "      <th>inplanung</th>\n",
       "      <th>name</th>\n",
       "      <th>point</th>\n",
       "      <th>reaktoren</th>\n",
       "      <th>stillgelegt</th>\n",
       "      <th>uvps</th>\n",
       "      <th>wikiUrl</th>\n",
       "    </tr>\n",
       "  </thead>\n",
       "  <tbody>\n",
       "    <tr>\n",
       "      <th>0</th>\n",
       "      <td>1</td>\n",
       "      <td>Armenien</td>\n",
       "      <td>None</td>\n",
       "      <td>False</td>\n",
       "      <td>125</td>\n",
       "      <td>0</td>\n",
       "      <td>0</td>\n",
       "      <td>Metzamor</td>\n",
       "      <td>{'y': 40.18247, 'x': 44.1425}</td>\n",
       "      <td>2</td>\n",
       "      <td>1</td>\n",
       "      <td>[]</td>\n",
       "      <td>http:\\/\\/de.wikipedia.org\\/wiki\\/Kernkraftwerk_Mezamor</td>\n",
       "    </tr>\n",
       "    <tr>\n",
       "      <th>2</th>\n",
       "      <td>4</td>\n",
       "      <td>Belgien</td>\n",
       "      <td>http:\\/\\/flexrisk.boku.ac.at\\/en\\/sites\\/doel\\/index.html</td>\n",
       "      <td>False</td>\n",
       "      <td>126</td>\n",
       "      <td>0</td>\n",
       "      <td>0</td>\n",
       "      <td>Doel</td>\n",
       "      <td>{'y': 51.32472, 'x': 4.25875}</td>\n",
       "      <td>4</td>\n",
       "      <td>0</td>\n",
       "      <td>[]</td>\n",
       "      <td>http:\\/\\/de.wikipedia.org\\/wiki\\/Kernkraftwerk_Doel</td>\n",
       "    </tr>\n",
       "    <tr>\n",
       "      <th>3</th>\n",
       "      <td>3</td>\n",
       "      <td>Belgien</td>\n",
       "      <td>http:\\/\\/flexrisk.boku.ac.at\\/en\\/sites\\/tiha\\/index.html</td>\n",
       "      <td>False</td>\n",
       "      <td>127</td>\n",
       "      <td>0</td>\n",
       "      <td>0</td>\n",
       "      <td>Tihange</td>\n",
       "      <td>{'y': 50.53463, 'x': 5.27253}</td>\n",
       "      <td>3</td>\n",
       "      <td>0</td>\n",
       "      <td>[]</td>\n",
       "      <td>http:\\/\\/de.wikipedia.org\\/wiki\\/Kernkraftwerk_Tihange</td>\n",
       "    </tr>\n",
       "    <tr>\n",
       "      <th>5</th>\n",
       "      <td>2</td>\n",
       "      <td>Bulgarien</td>\n",
       "      <td>http:\\/\\/flexrisk.boku.ac.at\\/en\\/sites\\/kozl\\/index.html</td>\n",
       "      <td>True</td>\n",
       "      <td>129</td>\n",
       "      <td>0</td>\n",
       "      <td>0</td>\n",
       "      <td>Kozloduy</td>\n",
       "      <td>{'y': 43.74614, 'x': 23.77051}</td>\n",
       "      <td>6</td>\n",
       "      <td>4</td>\n",
       "      <td>[{'url': 'http:\\/\\/www.umweltbundesamt.at\\/umweltsituation\\/uvpsup\\/espooverfahren\\/espoo_bulgarien\\/uvp_kkw_kozloduy_7\\/', 'status': 'laufend', 'titel': 'UVP-Verfahren KKW Kozloduy 7', 'fk': '129'}]</td>\n",
       "      <td>http:\\/\\/de.wikipedia.org\\/wiki\\/Kernkraftwerk_Kosloduj</td>\n",
       "    </tr>\n",
       "    <tr>\n",
       "      <th>7</th>\n",
       "      <td>1</td>\n",
       "      <td>Deutschland</td>\n",
       "      <td>http:\\/\\/flexrisk.boku.ac.at\\/en\\/sites\\/brok\\/index.html</td>\n",
       "      <td>False</td>\n",
       "      <td>35</td>\n",
       "      <td>0</td>\n",
       "      <td>0</td>\n",
       "      <td>Brokdorf</td>\n",
       "      <td>{'y': 53.85083, 'x': 9.34472}</td>\n",
       "      <td>1</td>\n",
       "      <td>0</td>\n",
       "      <td>[]</td>\n",
       "      <td>http:\\/\\/de.wikipedia.org\\/wiki\\/Kernkraftwerk_Brokdorf</td>\n",
       "    </tr>\n",
       "  </tbody>\n",
       "</table>\n",
       "</div>"
      ],
      "text/plain": [
       "   aktiv      country  \\\n",
       "0      1     Armenien   \n",
       "2      4      Belgien   \n",
       "3      3      Belgien   \n",
       "5      2    Bulgarien   \n",
       "7      1  Deutschland   \n",
       "\n",
       "                                                        flex hasUVPs   id  \\\n",
       "0                                                       None   False  125   \n",
       "2  http:\\/\\/flexrisk.boku.ac.at\\/en\\/sites\\/doel\\/index.html   False  126   \n",
       "3  http:\\/\\/flexrisk.boku.ac.at\\/en\\/sites\\/tiha\\/index.html   False  127   \n",
       "5  http:\\/\\/flexrisk.boku.ac.at\\/en\\/sites\\/kozl\\/index.html    True  129   \n",
       "7  http:\\/\\/flexrisk.boku.ac.at\\/en\\/sites\\/brok\\/index.html   False   35   \n",
       "\n",
       "   inbau  inplanung      name                           point  reaktoren  \\\n",
       "0      0          0  Metzamor   {'y': 40.18247, 'x': 44.1425}          2   \n",
       "2      0          0      Doel   {'y': 51.32472, 'x': 4.25875}          4   \n",
       "3      0          0  Tihange    {'y': 50.53463, 'x': 5.27253}          3   \n",
       "5      0          0  Kozloduy  {'y': 43.74614, 'x': 23.77051}          6   \n",
       "7      0          0  Brokdorf   {'y': 53.85083, 'x': 9.34472}          1   \n",
       "\n",
       "   stillgelegt  \\\n",
       "0            1   \n",
       "2            0   \n",
       "3            0   \n",
       "5            4   \n",
       "7            0   \n",
       "\n",
       "                                                                                                                                                                                                      uvps  \\\n",
       "0                                                                                                                                                                                                       []   \n",
       "2                                                                                                                                                                                                       []   \n",
       "3                                                                                                                                                                                                       []   \n",
       "5  [{'url': 'http:\\/\\/www.umweltbundesamt.at\\/umweltsituation\\/uvpsup\\/espooverfahren\\/espoo_bulgarien\\/uvp_kkw_kozloduy_7\\/', 'status': 'laufend', 'titel': 'UVP-Verfahren KKW Kozloduy 7', 'fk': '129'}]   \n",
       "7                                                                                                                                                                                                       []   \n",
       "\n",
       "                                                   wikiUrl  \n",
       "0   http:\\/\\/de.wikipedia.org\\/wiki\\/Kernkraftwerk_Mezamor  \n",
       "2      http:\\/\\/de.wikipedia.org\\/wiki\\/Kernkraftwerk_Doel  \n",
       "3   http:\\/\\/de.wikipedia.org\\/wiki\\/Kernkraftwerk_Tihange  \n",
       "5  http:\\/\\/de.wikipedia.org\\/wiki\\/Kernkraftwerk_Kosloduj  \n",
       "7  http:\\/\\/de.wikipedia.org\\/wiki\\/Kernkraftwerk_Brokdorf  "
      ]
     },
     "execution_count": 6,
     "metadata": {},
     "output_type": "execute_result"
    }
   ],
   "source": [
    "df.head()"
   ]
  },
  {
   "cell_type": "code",
   "execution_count": 7,
   "metadata": {
    "collapsed": true,
    "deletable": true,
    "editable": true
   },
   "outputs": [],
   "source": [
    "df = df[['aktiv', 'name', 'point', 'wikiUrl']]"
   ]
  },
  {
   "cell_type": "code",
   "execution_count": 8,
   "metadata": {
    "collapsed": false,
    "deletable": true,
    "editable": true
   },
   "outputs": [
    {
     "data": {
      "text/html": [
       "<div>\n",
       "<table border=\"1\" class=\"dataframe\">\n",
       "  <thead>\n",
       "    <tr style=\"text-align: right;\">\n",
       "      <th></th>\n",
       "      <th>aktiv</th>\n",
       "      <th>name</th>\n",
       "      <th>point</th>\n",
       "      <th>wikiUrl</th>\n",
       "    </tr>\n",
       "  </thead>\n",
       "  <tbody>\n",
       "    <tr>\n",
       "      <th>0</th>\n",
       "      <td>1</td>\n",
       "      <td>Metzamor</td>\n",
       "      <td>{'y': 40.18247, 'x': 44.1425}</td>\n",
       "      <td>http:\\/\\/de.wikipedia.org\\/wiki\\/Kernkraftwerk_Mezamor</td>\n",
       "    </tr>\n",
       "    <tr>\n",
       "      <th>2</th>\n",
       "      <td>4</td>\n",
       "      <td>Doel</td>\n",
       "      <td>{'y': 51.32472, 'x': 4.25875}</td>\n",
       "      <td>http:\\/\\/de.wikipedia.org\\/wiki\\/Kernkraftwerk_Doel</td>\n",
       "    </tr>\n",
       "    <tr>\n",
       "      <th>3</th>\n",
       "      <td>3</td>\n",
       "      <td>Tihange</td>\n",
       "      <td>{'y': 50.53463, 'x': 5.27253}</td>\n",
       "      <td>http:\\/\\/de.wikipedia.org\\/wiki\\/Kernkraftwerk_Tihange</td>\n",
       "    </tr>\n",
       "    <tr>\n",
       "      <th>5</th>\n",
       "      <td>2</td>\n",
       "      <td>Kozloduy</td>\n",
       "      <td>{'y': 43.74614, 'x': 23.77051}</td>\n",
       "      <td>http:\\/\\/de.wikipedia.org\\/wiki\\/Kernkraftwerk_Kosloduj</td>\n",
       "    </tr>\n",
       "    <tr>\n",
       "      <th>7</th>\n",
       "      <td>1</td>\n",
       "      <td>Brokdorf</td>\n",
       "      <td>{'y': 53.85083, 'x': 9.34472}</td>\n",
       "      <td>http:\\/\\/de.wikipedia.org\\/wiki\\/Kernkraftwerk_Brokdorf</td>\n",
       "    </tr>\n",
       "  </tbody>\n",
       "</table>\n",
       "</div>"
      ],
      "text/plain": [
       "   aktiv      name                           point  \\\n",
       "0      1  Metzamor   {'y': 40.18247, 'x': 44.1425}   \n",
       "2      4      Doel   {'y': 51.32472, 'x': 4.25875}   \n",
       "3      3  Tihange    {'y': 50.53463, 'x': 5.27253}   \n",
       "5      2  Kozloduy  {'y': 43.74614, 'x': 23.77051}   \n",
       "7      1  Brokdorf   {'y': 53.85083, 'x': 9.34472}   \n",
       "\n",
       "                                                   wikiUrl  \n",
       "0   http:\\/\\/de.wikipedia.org\\/wiki\\/Kernkraftwerk_Mezamor  \n",
       "2      http:\\/\\/de.wikipedia.org\\/wiki\\/Kernkraftwerk_Doel  \n",
       "3   http:\\/\\/de.wikipedia.org\\/wiki\\/Kernkraftwerk_Tihange  \n",
       "5  http:\\/\\/de.wikipedia.org\\/wiki\\/Kernkraftwerk_Kosloduj  \n",
       "7  http:\\/\\/de.wikipedia.org\\/wiki\\/Kernkraftwerk_Brokdorf  "
      ]
     },
     "execution_count": 8,
     "metadata": {},
     "output_type": "execute_result"
    }
   ],
   "source": [
    "df.head()"
   ]
  },
  {
   "cell_type": "code",
   "execution_count": 9,
   "metadata": {
    "collapsed": true,
    "deletable": true,
    "editable": true
   },
   "outputs": [],
   "source": [
    "df.point = df.point.astype(str)"
   ]
  },
  {
   "cell_type": "code",
   "execution_count": 10,
   "metadata": {
    "collapsed": true,
    "deletable": true,
    "editable": true
   },
   "outputs": [],
   "source": [
    "df['x'] = df.point.str.split(',').str.get(0)\n",
    "df['y'] = df.point.str.split(',').str.get(1)"
   ]
  },
  {
   "cell_type": "code",
   "execution_count": 11,
   "metadata": {
    "collapsed": false,
    "deletable": true,
    "editable": true
   },
   "outputs": [
    {
     "data": {
      "text/plain": [
       "0    {'y': 40.18247\n",
       "2    {'y': 51.32472\n",
       "3    {'y': 50.53463\n",
       "5    {'y': 43.74614\n",
       "7    {'y': 53.85083\n",
       "Name: x, dtype: object"
      ]
     },
     "execution_count": 11,
     "metadata": {},
     "output_type": "execute_result"
    }
   ],
   "source": [
    "df.x.head()"
   ]
  },
  {
   "cell_type": "code",
   "execution_count": 12,
   "metadata": {
    "collapsed": true,
    "deletable": true,
    "editable": true
   },
   "outputs": [],
   "source": [
    "df.x = df.x.str.replace('{', '')"
   ]
  },
  {
   "cell_type": "code",
   "execution_count": 13,
   "metadata": {
    "collapsed": true,
    "deletable": true,
    "editable": true
   },
   "outputs": [],
   "source": [
    "df.x = df.x.str.replace('\\'x\\': ', '')"
   ]
  },
  {
   "cell_type": "code",
   "execution_count": 14,
   "metadata": {
    "collapsed": false,
    "deletable": true,
    "editable": true
   },
   "outputs": [
    {
     "data": {
      "text/html": [
       "<div>\n",
       "<table border=\"1\" class=\"dataframe\">\n",
       "  <thead>\n",
       "    <tr style=\"text-align: right;\">\n",
       "      <th></th>\n",
       "      <th>aktiv</th>\n",
       "      <th>name</th>\n",
       "      <th>point</th>\n",
       "      <th>wikiUrl</th>\n",
       "      <th>x</th>\n",
       "      <th>y</th>\n",
       "    </tr>\n",
       "  </thead>\n",
       "  <tbody>\n",
       "    <tr>\n",
       "      <th>0</th>\n",
       "      <td>1</td>\n",
       "      <td>Metzamor</td>\n",
       "      <td>{'y': 40.18247, 'x': 44.1425}</td>\n",
       "      <td>http:\\/\\/de.wikipedia.org\\/wiki\\/Kernkraftwerk_Mezamor</td>\n",
       "      <td>'y': 40.18247</td>\n",
       "      <td>'x': 44.1425}</td>\n",
       "    </tr>\n",
       "    <tr>\n",
       "      <th>2</th>\n",
       "      <td>4</td>\n",
       "      <td>Doel</td>\n",
       "      <td>{'y': 51.32472, 'x': 4.25875}</td>\n",
       "      <td>http:\\/\\/de.wikipedia.org\\/wiki\\/Kernkraftwerk_Doel</td>\n",
       "      <td>'y': 51.32472</td>\n",
       "      <td>'x': 4.25875}</td>\n",
       "    </tr>\n",
       "    <tr>\n",
       "      <th>3</th>\n",
       "      <td>3</td>\n",
       "      <td>Tihange</td>\n",
       "      <td>{'y': 50.53463, 'x': 5.27253}</td>\n",
       "      <td>http:\\/\\/de.wikipedia.org\\/wiki\\/Kernkraftwerk_Tihange</td>\n",
       "      <td>'y': 50.53463</td>\n",
       "      <td>'x': 5.27253}</td>\n",
       "    </tr>\n",
       "    <tr>\n",
       "      <th>5</th>\n",
       "      <td>2</td>\n",
       "      <td>Kozloduy</td>\n",
       "      <td>{'y': 43.74614, 'x': 23.77051}</td>\n",
       "      <td>http:\\/\\/de.wikipedia.org\\/wiki\\/Kernkraftwerk_Kosloduj</td>\n",
       "      <td>'y': 43.74614</td>\n",
       "      <td>'x': 23.77051}</td>\n",
       "    </tr>\n",
       "    <tr>\n",
       "      <th>7</th>\n",
       "      <td>1</td>\n",
       "      <td>Brokdorf</td>\n",
       "      <td>{'y': 53.85083, 'x': 9.34472}</td>\n",
       "      <td>http:\\/\\/de.wikipedia.org\\/wiki\\/Kernkraftwerk_Brokdorf</td>\n",
       "      <td>'y': 53.85083</td>\n",
       "      <td>'x': 9.34472}</td>\n",
       "    </tr>\n",
       "  </tbody>\n",
       "</table>\n",
       "</div>"
      ],
      "text/plain": [
       "   aktiv      name                           point  \\\n",
       "0      1  Metzamor   {'y': 40.18247, 'x': 44.1425}   \n",
       "2      4      Doel   {'y': 51.32472, 'x': 4.25875}   \n",
       "3      3  Tihange    {'y': 50.53463, 'x': 5.27253}   \n",
       "5      2  Kozloduy  {'y': 43.74614, 'x': 23.77051}   \n",
       "7      1  Brokdorf   {'y': 53.85083, 'x': 9.34472}   \n",
       "\n",
       "                                                   wikiUrl              x  \\\n",
       "0   http:\\/\\/de.wikipedia.org\\/wiki\\/Kernkraftwerk_Mezamor  'y': 40.18247   \n",
       "2      http:\\/\\/de.wikipedia.org\\/wiki\\/Kernkraftwerk_Doel  'y': 51.32472   \n",
       "3   http:\\/\\/de.wikipedia.org\\/wiki\\/Kernkraftwerk_Tihange  'y': 50.53463   \n",
       "5  http:\\/\\/de.wikipedia.org\\/wiki\\/Kernkraftwerk_Kosloduj  'y': 43.74614   \n",
       "7  http:\\/\\/de.wikipedia.org\\/wiki\\/Kernkraftwerk_Brokdorf  'y': 53.85083   \n",
       "\n",
       "                 y  \n",
       "0    'x': 44.1425}  \n",
       "2    'x': 4.25875}  \n",
       "3    'x': 5.27253}  \n",
       "5   'x': 23.77051}  \n",
       "7    'x': 9.34472}  "
      ]
     },
     "execution_count": 14,
     "metadata": {},
     "output_type": "execute_result"
    }
   ],
   "source": [
    "df.head()"
   ]
  },
  {
   "cell_type": "code",
   "execution_count": 15,
   "metadata": {
    "collapsed": true,
    "deletable": true,
    "editable": true
   },
   "outputs": [],
   "source": [
    "df.y = df.y.str.replace('\\'x\\': ', '')\n",
    "df.x = df.x.str.replace('\\'y\\': ', '')"
   ]
  },
  {
   "cell_type": "code",
   "execution_count": 16,
   "metadata": {
    "collapsed": true,
    "deletable": true,
    "editable": true
   },
   "outputs": [],
   "source": [
    "df.y = df.y.str.replace('}', '')"
   ]
  },
  {
   "cell_type": "code",
   "execution_count": 17,
   "metadata": {
    "collapsed": false
   },
   "outputs": [
    {
     "data": {
      "text/html": [
       "<div>\n",
       "<table border=\"1\" class=\"dataframe\">\n",
       "  <thead>\n",
       "    <tr style=\"text-align: right;\">\n",
       "      <th></th>\n",
       "      <th>aktiv</th>\n",
       "      <th>name</th>\n",
       "      <th>point</th>\n",
       "      <th>wikiUrl</th>\n",
       "      <th>x</th>\n",
       "      <th>y</th>\n",
       "    </tr>\n",
       "  </thead>\n",
       "  <tbody>\n",
       "    <tr>\n",
       "      <th>0</th>\n",
       "      <td>1</td>\n",
       "      <td>Metzamor</td>\n",
       "      <td>{'y': 40.18247, 'x': 44.1425}</td>\n",
       "      <td>http:\\/\\/de.wikipedia.org\\/wiki\\/Kernkraftwerk_Mezamor</td>\n",
       "      <td>40.18247</td>\n",
       "      <td>44.1425</td>\n",
       "    </tr>\n",
       "    <tr>\n",
       "      <th>2</th>\n",
       "      <td>4</td>\n",
       "      <td>Doel</td>\n",
       "      <td>{'y': 51.32472, 'x': 4.25875}</td>\n",
       "      <td>http:\\/\\/de.wikipedia.org\\/wiki\\/Kernkraftwerk_Doel</td>\n",
       "      <td>51.32472</td>\n",
       "      <td>4.25875</td>\n",
       "    </tr>\n",
       "    <tr>\n",
       "      <th>3</th>\n",
       "      <td>3</td>\n",
       "      <td>Tihange</td>\n",
       "      <td>{'y': 50.53463, 'x': 5.27253}</td>\n",
       "      <td>http:\\/\\/de.wikipedia.org\\/wiki\\/Kernkraftwerk_Tihange</td>\n",
       "      <td>50.53463</td>\n",
       "      <td>5.27253</td>\n",
       "    </tr>\n",
       "    <tr>\n",
       "      <th>5</th>\n",
       "      <td>2</td>\n",
       "      <td>Kozloduy</td>\n",
       "      <td>{'y': 43.74614, 'x': 23.77051}</td>\n",
       "      <td>http:\\/\\/de.wikipedia.org\\/wiki\\/Kernkraftwerk_Kosloduj</td>\n",
       "      <td>43.74614</td>\n",
       "      <td>23.77051</td>\n",
       "    </tr>\n",
       "    <tr>\n",
       "      <th>7</th>\n",
       "      <td>1</td>\n",
       "      <td>Brokdorf</td>\n",
       "      <td>{'y': 53.85083, 'x': 9.34472}</td>\n",
       "      <td>http:\\/\\/de.wikipedia.org\\/wiki\\/Kernkraftwerk_Brokdorf</td>\n",
       "      <td>53.85083</td>\n",
       "      <td>9.34472</td>\n",
       "    </tr>\n",
       "  </tbody>\n",
       "</table>\n",
       "</div>"
      ],
      "text/plain": [
       "   aktiv      name                           point  \\\n",
       "0      1  Metzamor   {'y': 40.18247, 'x': 44.1425}   \n",
       "2      4      Doel   {'y': 51.32472, 'x': 4.25875}   \n",
       "3      3  Tihange    {'y': 50.53463, 'x': 5.27253}   \n",
       "5      2  Kozloduy  {'y': 43.74614, 'x': 23.77051}   \n",
       "7      1  Brokdorf   {'y': 53.85083, 'x': 9.34472}   \n",
       "\n",
       "                                                   wikiUrl         x  \\\n",
       "0   http:\\/\\/de.wikipedia.org\\/wiki\\/Kernkraftwerk_Mezamor  40.18247   \n",
       "2      http:\\/\\/de.wikipedia.org\\/wiki\\/Kernkraftwerk_Doel  51.32472   \n",
       "3   http:\\/\\/de.wikipedia.org\\/wiki\\/Kernkraftwerk_Tihange  50.53463   \n",
       "5  http:\\/\\/de.wikipedia.org\\/wiki\\/Kernkraftwerk_Kosloduj  43.74614   \n",
       "7  http:\\/\\/de.wikipedia.org\\/wiki\\/Kernkraftwerk_Brokdorf  53.85083   \n",
       "\n",
       "           y  \n",
       "0    44.1425  \n",
       "2    4.25875  \n",
       "3    5.27253  \n",
       "5   23.77051  \n",
       "7    9.34472  "
      ]
     },
     "execution_count": 17,
     "metadata": {},
     "output_type": "execute_result"
    }
   ],
   "source": [
    "df.head()"
   ]
  },
  {
   "cell_type": "code",
   "execution_count": 18,
   "metadata": {
    "collapsed": false,
    "deletable": true,
    "editable": true
   },
   "outputs": [],
   "source": [
    "df.x = df.x.astype(float)\n",
    "df.y = df.y.astype(float)"
   ]
  },
  {
   "cell_type": "code",
   "execution_count": 19,
   "metadata": {
    "collapsed": false,
    "deletable": true,
    "editable": true
   },
   "outputs": [
    {
     "data": {
      "text/plain": [
       "aktiv        int64\n",
       "name        object\n",
       "point       object\n",
       "wikiUrl     object\n",
       "x          float64\n",
       "y          float64\n",
       "dtype: object"
      ]
     },
     "execution_count": 19,
     "metadata": {},
     "output_type": "execute_result"
    }
   ],
   "source": [
    "df.dtypes"
   ]
  },
  {
   "cell_type": "code",
   "execution_count": 20,
   "metadata": {
    "collapsed": true,
    "deletable": true,
    "editable": true
   },
   "outputs": [],
   "source": [
    "df['ort'] = df.apply(lambda x: [x.x, x.y], axis=1)"
   ]
  },
  {
   "cell_type": "code",
   "execution_count": 21,
   "metadata": {
    "collapsed": false,
    "deletable": true,
    "editable": true
   },
   "outputs": [
    {
     "data": {
      "text/plain": [
       "[40.18247, 44.1425]"
      ]
     },
     "execution_count": 21,
     "metadata": {},
     "output_type": "execute_result"
    }
   ],
   "source": [
    "df.ort[0]"
   ]
  },
  {
   "cell_type": "code",
   "execution_count": 22,
   "metadata": {
    "collapsed": true,
    "deletable": true,
    "editable": true
   },
   "outputs": [],
   "source": [
    "import folium "
   ]
  },
  {
   "cell_type": "code",
   "execution_count": 23,
   "metadata": {
    "collapsed": false,
    "deletable": true,
    "editable": true
   },
   "outputs": [
    {
     "data": {
      "text/plain": [
       "76"
      ]
     },
     "execution_count": 23,
     "metadata": {},
     "output_type": "execute_result"
    }
   ],
   "source": [
    "locations = df.ort\n",
    "len(locations)"
   ]
  },
  {
   "cell_type": "code",
   "execution_count": 24,
   "metadata": {
    "collapsed": true
   },
   "outputs": [],
   "source": [
    "names = list(df.name)"
   ]
  },
  {
   "cell_type": "code",
   "execution_count": 25,
   "metadata": {
    "collapsed": false,
    "deletable": true,
    "editable": true
   },
   "outputs": [],
   "source": [
    "locations = locations.values.tolist()"
   ]
  },
  {
   "cell_type": "code",
   "execution_count": 27,
   "metadata": {
    "collapsed": false,
    "deletable": true,
    "editable": true
   },
   "outputs": [
    {
     "data": {
      "text/html": [
       "<div style=\"width:100%;\"><div style=\"position:relative;width:100%;height:0;padding-bottom:60%;\"><iframe src=\"data:text/html;charset=utf-8;base64,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\" style=\"position:absolute;width:100%;height:100%;left:0;top:0;border:none !important;\" allowfullscreen webkitallowfullscreen mozallowfullscreen></iframe></div></div>"
      ],
      "text/plain": [
       "<folium.folium.Map at 0x7f9bbbff01d0>"
      ]
     },
     "execution_count": 27,
     "metadata": {},
     "output_type": "execute_result"
    }
   ],
   "source": [
    "cm = folium.Map([50.962857, 7.0], zoom_start=4)\n",
    "for location, popup, in zip(locations, names):\n",
    "    folium.Marker(location=location, popup=popup).add_to(cm)\n",
    "cm"
   ]
  },
  {
   "cell_type": "code",
   "execution_count": null,
   "metadata": {
    "collapsed": true
   },
   "outputs": [],
   "source": []
  }
 ],
 "metadata": {
  "kernelspec": {
   "display_name": "Python 3",
   "language": "python",
   "name": "python3"
  },
  "language_info": {
   "codemirror_mode": {
    "name": "ipython",
    "version": 3
   },
   "file_extension": ".py",
   "mimetype": "text/x-python",
   "name": "python",
   "nbconvert_exporter": "python",
   "pygments_lexer": "ipython3",
   "version": "3.5.2"
  }
 },
 "nbformat": 4,
 "nbformat_minor": 2
}
