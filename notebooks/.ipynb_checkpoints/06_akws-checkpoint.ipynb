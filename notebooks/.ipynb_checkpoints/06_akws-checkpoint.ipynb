{
 "cells": [
  {
   "cell_type": "markdown",
   "metadata": {},
   "source": [
    "# Atomkraftwerke in Europa \n",
    "- Inspect Element \n",
    "- Debugger \n",
    "- mapFull.jsp\n",
    "- var akws > strg-c, strg-v\n",
    "\n",
    "[http://www5.umweltbundesamt.at/akwmap/mapFull.jsp]\n",
    "\n",
    "0 = stillgelegt\n",
    "\n",
    "4 = in Betrieb "
   ]
  },
  {
   "cell_type": "code",
   "execution_count": 1,
   "metadata": {
    "collapsed": true
   },
   "outputs": [],
   "source": [
    "import pandas as pd\n",
    "import numpy as np\n",
    "import matplotlib.pyplot as plt\n",
    "% matplotlib inline\n",
    "\n",
    "pd.options.display.max_rows = 999\n",
    "pd.options.display.max_colwidth = 1000"
   ]
  },
  {
   "cell_type": "code",
   "execution_count": 2,
   "metadata": {
    "collapsed": true
   },
   "outputs": [],
   "source": [
    "null = None\n",
    "false = False\n",
    "true = True"
   ]
  },
  {
   "cell_type": "code",
   "execution_count": 3,
   "metadata": {
    "collapsed": true
   },
   "outputs": [],
   "source": [
    "akws = [{\"uvps\":[],\"flex\":null,\"country\":\"Armenien\",\"reaktoren\":2,\"id\":125,\"inbau\":0,\"point\":{\"y\":40.18247,\"x\":44.1425},\"inplanung\":0,\"hasUVPs\":false,\"name\":\"Metzamor\",\"stillgelegt\":1,\"wikiUrl\":\"http:\\/\\/de.wikipedia.org\\/wiki\\/Kernkraftwerk_Mezamor\",\"aktiv\":1},{\"uvps\":[],\"flex\":null,\"country\":\"Belgien\",\"reaktoren\":1,\"id\":128,\"inbau\":0,\"point\":{\"y\":51.21528,\"x\":5.09583},\"inplanung\":0,\"hasUVPs\":false,\"name\":\"BR3-PWR\",\"stillgelegt\":1,\"wikiUrl\":\"http:\\/\\/de.wikipedia.org\\/wiki\\/Studienzentrum_f%C3%BCr_Kernenergie\",\"aktiv\":0},{\"uvps\":[],\"flex\":\"http:\\/\\/flexrisk.boku.ac.at\\/en\\/sites\\/doel\\/index.html\",\"country\":\"Belgien\",\"reaktoren\":4,\"id\":126,\"inbau\":0,\"point\":{\"y\":51.32472,\"x\":4.25875},\"inplanung\":0,\"hasUVPs\":false,\"name\":\"Doel\",\"stillgelegt\":0,\"wikiUrl\":\"http:\\/\\/de.wikipedia.org\\/wiki\\/Kernkraftwerk_Doel\",\"aktiv\":4},{\"uvps\":[],\"flex\":\"http:\\/\\/flexrisk.boku.ac.at\\/en\\/sites\\/tiha\\/index.html\",\"country\":\"Belgien\",\"reaktoren\":3,\"id\":127,\"inbau\":0,\"point\":{\"y\":50.53463,\"x\":5.27253},\"inplanung\":0,\"hasUVPs\":false,\"name\":\"Tihange \",\"stillgelegt\":0,\"wikiUrl\":\"http:\\/\\/de.wikipedia.org\\/wiki\\/Kernkraftwerk_Tihange\",\"aktiv\":3},{\"uvps\":[],\"flex\":\"http:\\/\\/flexrisk.boku.ac.at\\/en\\/sites\\/bele\\/index.html\",\"country\":\"Bulgarien\",\"reaktoren\":2,\"id\":130,\"inbau\":0,\"point\":{\"y\":43.63,\"x\":25.19},\"inplanung\":0,\"hasUVPs\":false,\"name\":\"Belene\",\"stillgelegt\":2,\"wikiUrl\":\"http:\\/\\/de.wikipedia.org\\/wiki\\/Kernkraftwerk_Belene\",\"aktiv\":0},{\"uvps\":[{\"fk\":\"129\",\"status\":\"laufend\",\"titel\":\"UVP-Verfahren KKW Kozloduy 7\",\"url\":\"http:\\/\\/www.umweltbundesamt.at\\/umweltsituation\\/uvpsup\\/espooverfahren\\/espoo_bulgarien\\/uvp_kkw_kozloduy_7\\/\"}],\"flex\":\"http:\\/\\/flexrisk.boku.ac.at\\/en\\/sites\\/kozl\\/index.html\",\"country\":\"Bulgarien\",\"reaktoren\":6,\"id\":129,\"inbau\":0,\"point\":{\"y\":43.74614,\"x\":23.77051},\"inplanung\":0,\"hasUVPs\":true,\"name\":\"Kozloduy\",\"stillgelegt\":4,\"wikiUrl\":\"http:\\/\\/de.wikipedia.org\\/wiki\\/Kernkraftwerk_Kosloduj\",\"aktiv\":2},{\"uvps\":[{\"fk\":\"34\",\"status\":\"abgeschlossen\",\"titel\":\"UVP Brennelemente-Zwischenlager Biblis\",\"url\":\"http:\\/\\/www.umweltbundesamt.at\\/umweltschutz\\/uvpsupemas\\/espooverfahren\\/espoo_de\\/zwilag_de\\/\"}],\"flex\":null,\"country\":\"Deutschland\",\"reaktoren\":2,\"id\":34,\"inbau\":0,\"point\":{\"y\":49.71016,\"x\":8.41441},\"inplanung\":0,\"hasUVPs\":true,\"name\":\"Biblis\",\"stillgelegt\":2,\"wikiUrl\":\"http:\\/\\/de.wikipedia.org\\/wiki\\/Kernkraftwerk_Biblis\",\"aktiv\":0},{\"uvps\":[],\"flex\":\"http:\\/\\/flexrisk.boku.ac.at\\/en\\/sites\\/brok\\/index.html\",\"country\":\"Deutschland\",\"reaktoren\":1,\"id\":35,\"inbau\":0,\"point\":{\"y\":53.85083,\"x\":9.34472},\"inplanung\":0,\"hasUVPs\":false,\"name\":\"Brokdorf\",\"stillgelegt\":0,\"wikiUrl\":\"http:\\/\\/de.wikipedia.org\\/wiki\\/Kernkraftwerk_Brokdorf\",\"aktiv\":1},{\"uvps\":[],\"flex\":null,\"country\":\"Deutschland\",\"reaktoren\":1,\"id\":36,\"inbau\":0,\"point\":{\"y\":53.89167,\"x\":9.20167},\"inplanung\":0,\"hasUVPs\":false,\"name\":\"Brunsbüttel\",\"stillgelegt\":1,\"wikiUrl\":\"http:\\/\\/de.wikipedia.org\\/wiki\\/Kernkraftwerk_Brunsb%C3%BCttel\",\"aktiv\":0},{\"uvps\":[],\"flex\":\"http:\\/\\/flexrisk.boku.ac.at\\/en\\/sites\\/emsl\\/index.html\",\"country\":\"Deutschland\",\"reaktoren\":1,\"id\":37,\"inbau\":0,\"point\":{\"y\":52.47174,\"x\":7.3205},\"inplanung\":0,\"hasUVPs\":false,\"name\":\"Emsland KKE\",\"stillgelegt\":0,\"wikiUrl\":\"http:\\/\\/de.wikipedia.org\\/wiki\\/Kernkraftwerk_Emsland\",\"aktiv\":1},{\"uvps\":[{\"fk\":\"38\",\"status\":\"abgeschlossen\",\"titel\":\"UVP Brennelemente-Zwischenlager Grafenrheinfeld\",\"url\":\"http:\\/\\/www.umweltbundesamt.at\\/umweltschutz\\/uvpsupemas\\/espooverfahren\\/espoo_de\\/zwilag_de\\/\"}],\"flex\":\"http:\\/\\/flexrisk.boku.ac.at\\/en\\/sites\\/graf\\/index.html\",\"country\":\"Deutschland\",\"reaktoren\":1,\"id\":38,\"inbau\":0,\"point\":{\"y\":49.98368,\"x\":10.18295},\"inplanung\":0,\"hasUVPs\":true,\"name\":\"Grafenrheinfeld\",\"stillgelegt\":0,\"wikiUrl\":\"http:\\/\\/de.wikipedia.org\\/wiki\\/Kernkraftwerk_Grafenrheinfeld\",\"aktiv\":1},{\"uvps\":[],\"flex\":null,\"country\":\"Deutschland\",\"reaktoren\":8,\"id\":230,\"inbau\":0,\"point\":{\"y\":54.14059,\"x\":13.66442},\"inplanung\":0,\"hasUVPs\":false,\"name\":\"Greifswald\",\"stillgelegt\":8,\"wikiUrl\":\"http:\\/\\/de.wikipedia.org\\/wiki\\/Kernkraftwerk_Greifswald\",\"aktiv\":0},{\"uvps\":[],\"flex\":\"http:\\/\\/flexrisk.boku.ac.at\\/en\\/sites\\/groh\\/index.html\",\"country\":\"Deutschland\",\"reaktoren\":1,\"id\":40,\"inbau\":0,\"point\":{\"y\":52.03539,\"x\":9.41202},\"inplanung\":0,\"hasUVPs\":false,\"name\":\"Grohnde\",\"stillgelegt\":0,\"wikiUrl\":\"http:\\/\\/de.wikipedia.org\\/wiki\\/Kernkraftwerk_Grohnde\",\"aktiv\":1},{\"uvps\":[],\"flex\":null,\"country\":\"Deutschland\",\"reaktoren\":1,\"id\":235,\"inbau\":0,\"point\":{\"y\":50.05912,\"x\":8.98728},\"inplanung\":0,\"hasUVPs\":false,\"name\":\"Großwelzheim\",\"stillgelegt\":1,\"wikiUrl\":\"http:\\/\\/de.wikipedia.org\\/wiki\\/Kernkraftwerk_Gro%C3%9Fwelzheim\",\"aktiv\":0},{\"uvps\":[{\"fk\":\"41\",\"status\":\"abgeschlossen\",\"titel\":\"UVP Brennelemente-Zwischenlager Gundremmingen\",\"url\":\"http:\\/\\/www.umweltbundesamt.at\\/umweltschutz\\/uvpsupemas\\/espooverfahren\\/espoo_de\\/zwilag_gundrem\\/\"}],\"flex\":\"http:\\/\\/flexrisk.boku.ac.at\\/en\\/sites\\/gund\\/index.html\",\"country\":\"Deutschland\",\"reaktoren\":3,\"id\":41,\"inbau\":0,\"point\":{\"y\":48.51467,\"x\":10.40285},\"inplanung\":0,\"hasUVPs\":true,\"name\":\"Gundremmingen\",\"stillgelegt\":1,\"wikiUrl\":\"http:\\/\\/de.wikipedia.org\\/wiki\\/Kernkraftwerk_Gundremmingen\",\"aktiv\":2},{\"uvps\":[],\"flex\":null,\"country\":\"Deutschland\",\"reaktoren\":1,\"id\":229,\"inbau\":0,\"point\":{\"y\":51.6793,\"x\":7.97156},\"inplanung\":0,\"hasUVPs\":false,\"name\":\"Hamm-Uentrop\",\"stillgelegt\":1,\"wikiUrl\":\"http:\\/\\/de.wikipedia.org\\/wiki\\/Kernkraftwerk_THTR-300\",\"aktiv\":0},{\"uvps\":[{\"fk\":\"43\",\"status\":\"abgeschlossen\",\"titel\":\"UVP Brennelement-Behälterlager Isar\\/Niederaichbach\",\"url\":\"http:\\/\\/www.umweltbundesamt.at\\/umweltschutz\\/uvpsupemas\\/espooverfahren\\/espoo_de\\/isar\\/\"}],\"flex\":\"http:\\/\\/flexrisk.boku.ac.at\\/en\\/sites\\/isar\\/index.html\",\"country\":\"Deutschland\",\"reaktoren\":3,\"id\":43,\"inbau\":0,\"point\":{\"y\":48.60471,\"x\":12.29233},\"inplanung\":0,\"hasUVPs\":true,\"name\":\"Isar\",\"stillgelegt\":2,\"wikiUrl\":\"http:\\/\\/de.wikipedia.org\\/wiki\\/Kernkraftwerk_Isar\",\"aktiv\":1},{\"uvps\":[],\"flex\":null,\"country\":\"Deutschland\",\"reaktoren\":1,\"id\":234,\"inbau\":0,\"point\":{\"y\":50.90294,\"x\":6.42121},\"inplanung\":0,\"hasUVPs\":false,\"name\":\"Jülich\",\"stillgelegt\":1,\"wikiUrl\":\"http:\\/\\/de.wikipedia.org\\/wiki\\/AVR_(J%C3%BClich)\",\"aktiv\":0},{\"uvps\":[],\"flex\":null,\"country\":\"Deutschland\",\"reaktoren\":1,\"id\":240,\"inbau\":0,\"point\":{\"y\":50.05912,\"x\":8.98728},\"inplanung\":0,\"hasUVPs\":false,\"name\":\"Kahl \",\"stillgelegt\":1,\"wikiUrl\":\"http:\\/\\/de.wikipedia.org\\/wiki\\/Kernkraftwerk_Kahl\",\"aktiv\":0},{\"uvps\":[],\"flex\":null,\"country\":\"Deutschland\",\"reaktoren\":1,\"id\":236,\"inbau\":0,\"point\":{\"y\":49.09934,\"x\":8.43289},\"inplanung\":0,\"hasUVPs\":false,\"name\":\"Karlsruhe (KNK II)\",\"stillgelegt\":1,\"wikiUrl\":\"http:\\/\\/de.wikipedia.org\\/wiki\\/Kompakte_Natriumgek%C3%BChlte_Kernreaktoranlage_Karlsruhe\",\"aktiv\":0},{\"uvps\":[],\"flex\":null,\"country\":\"Deutschland\",\"reaktoren\":1,\"id\":237,\"inbau\":0,\"point\":{\"y\":49.10425,\"x\":8.43234},\"inplanung\":0,\"hasUVPs\":false,\"name\":\"Karlsruhe (MZFR)\",\"stillgelegt\":1,\"wikiUrl\":\"http:\\/\\/de.wikipedia.org\\/wiki\\/Mehrzweckforschungsreaktor_Karlsruhe\",\"aktiv\":0},{\"uvps\":[],\"flex\":null,\"country\":\"Deutschland\",\"reaktoren\":1,\"id\":45,\"inbau\":0,\"point\":{\"y\":53.41063,\"x\":10.40917},\"inplanung\":0,\"hasUVPs\":false,\"name\":\"Krümmel KKK\",\"stillgelegt\":1,\"wikiUrl\":\"http:\\/\\/de.wikipedia.org\\/wiki\\/Kernkraftwerk_Kr%C3%BCmmel\",\"aktiv\":0},{\"uvps\":[],\"flex\":null,\"country\":\"Deutschland\",\"reaktoren\":1,\"id\":228,\"inbau\":0,\"point\":{\"y\":52.48281,\"x\":7.3069},\"inplanung\":0,\"hasUVPs\":false,\"name\":\"Lingen\",\"stillgelegt\":1,\"wikiUrl\":\"http:\\/\\/de.wikipedia.org\\/wiki\\/Kernkraftwerk_Lingen\",\"aktiv\":0},{\"uvps\":[],\"flex\":null,\"country\":\"Deutschland\",\"reaktoren\":1,\"id\":233,\"inbau\":0,\"point\":{\"y\":50.40778,\"x\":7.48972},\"inplanung\":0,\"hasUVPs\":false,\"name\":\"Mülheim-Kärlich\",\"stillgelegt\":1,\"wikiUrl\":\"http:\\/\\/de.wikipedia.org\\/wiki\\/Kernkraftwerk_M%C3%BClheim-K%C3%A4rlich\",\"aktiv\":0},{\"uvps\":[{\"fk\":\"49\",\"status\":\"abgeschlossen\",\"titel\":\"UVP Brennelemente-Zwischenlager Neckarwestheim\",\"url\":\"http:\\/\\/www.umweltbundesamt.at\\/umweltschutz\\/uvpsupemas\\/espooverfahren\\/espoo_de\\/zwilag_de\\/\"}],\"flex\":\"http:\\/\\/flexrisk.boku.ac.at\\/en\\/sites\\/neck\\/index.html\",\"country\":\"Deutschland\",\"reaktoren\":2,\"id\":49,\"inbau\":0,\"point\":{\"y\":49.04068,\"x\":9.17569},\"inplanung\":0,\"hasUVPs\":true,\"name\":\"Neckarwestheim\",\"stillgelegt\":1,\"wikiUrl\":\"http:\\/\\/de.wikipedia.org\\/wiki\\/Kernkraftwerk_Neckarwestheim\",\"aktiv\":1},{\"uvps\":[],\"flex\":null,\"country\":\"Deutschland\",\"reaktoren\":1,\"id\":51,\"inbau\":0,\"point\":{\"y\":49.3645,\"x\":9.07618},\"inplanung\":0,\"hasUVPs\":false,\"name\":\"Obrigheim\",\"stillgelegt\":1,\"wikiUrl\":\"http:\\/\\/de.wikipedia.org\\/wiki\\/Kernkraftwerk_Obrigheim\",\"aktiv\":0},{\"uvps\":[{\"fk\":\"52\",\"status\":\"abgeschlossen\",\"titel\":\"UVP Brennelemente-Zwischenlager Philippsburg\",\"url\":\"http:\\/\\/www.umweltbundesamt.at\\/umweltschutz\\/uvpsupemas\\/espooverfahren\\/espoo_de\\/zwilag_de\\/\"}],\"flex\":\"http:\\/\\/flexrisk.boku.ac.at\\/en\\/sites\\/phil\\/index.html\",\"country\":\"Deutschland\",\"reaktoren\":2,\"id\":52,\"inbau\":0,\"point\":{\"y\":49.25291,\"x\":8.4369},\"inplanung\":0,\"hasUVPs\":true,\"name\":\"Philippsburg\",\"stillgelegt\":1,\"wikiUrl\":\"http:\\/\\/de.wikipedia.org\\/wiki\\/Kernkraftwerk_Philippsburg\",\"aktiv\":1},{\"uvps\":[],\"flex\":null,\"country\":\"Deutschland\",\"reaktoren\":1,\"id\":238,\"inbau\":0,\"point\":{\"y\":53.14699,\"x\":12.99015},\"inplanung\":0,\"hasUVPs\":false,\"name\":\"Rheinsberg\",\"stillgelegt\":1,\"wikiUrl\":\"http:\\/\\/de.wikipedia.org\\/wiki\\/Kernkraftwerk_Rheinsberg\",\"aktiv\":0},{\"uvps\":[],\"flex\":null,\"country\":\"Deutschland\",\"reaktoren\":1,\"id\":54,\"inbau\":0,\"point\":{\"y\":53.62,\"x\":9.53083},\"inplanung\":0,\"hasUVPs\":false,\"name\":\"Stade\",\"stillgelegt\":1,\"wikiUrl\":\"http:\\/\\/de.wikipedia.org\\/wiki\\/KKW_Stade\",\"aktiv\":0},{\"uvps\":[],\"flex\":null,\"country\":\"Deutschland\",\"reaktoren\":4,\"id\":232,\"inbau\":0,\"point\":{\"y\":52.72413,\"x\":12.01933},\"inplanung\":0,\"hasUVPs\":false,\"name\":\"Stendal\",\"stillgelegt\":4,\"wikiUrl\":\"http:\\/\\/de.wikipedia.org\\/wiki\\/Kernkraftwerk_Stendal\",\"aktiv\":0},{\"uvps\":[],\"flex\":null,\"country\":\"Deutschland\",\"reaktoren\":1,\"id\":239,\"inbau\":0,\"point\":{\"y\":51.6793,\"x\":7.97156},\"inplanung\":0,\"hasUVPs\":false,\"name\":\"THTR-300\",\"stillgelegt\":1,\"wikiUrl\":\"http:\\/\\/de.wikipedia.org\\/wiki\\/Kernkraftwerk_THTR-300\",\"aktiv\":0},{\"uvps\":[],\"flex\":null,\"country\":\"Deutschland\",\"reaktoren\":1,\"id\":56,\"inbau\":0,\"point\":{\"y\":53.42744,\"x\":8.47921},\"inplanung\":0,\"hasUVPs\":false,\"name\":\"Unterweser KKU\",\"stillgelegt\":1,\"wikiUrl\":\"http:\\/\\/de.wikipedia.org\\/wiki\\/Kernkraftwerk_Unterweser\",\"aktiv\":0},{\"uvps\":[],\"flex\":null,\"country\":\"Deutschland\",\"reaktoren\":1,\"id\":58,\"inbau\":0,\"point\":{\"y\":51.63976,\"x\":9.39159},\"inplanung\":0,\"hasUVPs\":false,\"name\":\"Wuergassen\",\"stillgelegt\":1,\"wikiUrl\":\"http:\\/\\/de.wikipedia.org\\/wiki\\/Kernkraftwerk_W%C3%BCrgassen\",\"aktiv\":0},{\"uvps\":[{\"fk\":\"132\",\"status\":\"abgeschlossen\",\"titel\":\"UVP KKW Loviisa 3\",\"url\":\"http:\\/\\/www.umweltbundesamt.at\\/umweltschutz\\/uvpsupemas\\/espooverfahren\\/finnland\\/loviisa\\/\"}],\"flex\":\"http:\\/\\/flexrisk.boku.ac.at\\/en\\/sites\\/lovi\\/index.html\",\"country\":\"Finnland\",\"reaktoren\":2,\"id\":132,\"inbau\":0,\"point\":{\"y\":60.37222,\"x\":26.34722},\"inplanung\":0,\"hasUVPs\":true,\"name\":\"Loviisa\",\"stillgelegt\":0,\"wikiUrl\":\"http:\\/\\/de.wikipedia.org\\/wiki\\/Kernkraftwerk_Loviisa\",\"aktiv\":2},{\"uvps\":[{\"fk\":\"131\",\"status\":\"abgeschlossen\",\"titel\":\"UVP KKW Olkiluoto 4\",\"url\":\"http:\\/\\/www.umweltbundesamt.at\\/umweltschutz\\/uvpsupemas\\/espooverfahren\\/finnland\\/olkiluoto\\/\"}],\"flex\":\"http:\\/\\/flexrisk.boku.ac.at\\/en\\/sites\\/olki\\/index.html\",\"country\":\"Finnland\",\"reaktoren\":4,\"id\":131,\"inbau\":1,\"point\":{\"y\":61.23667,\"x\":21.44222},\"inplanung\":1,\"hasUVPs\":true,\"name\":\"Olkiluoto\",\"stillgelegt\":0,\"wikiUrl\":\"http:\\/\\/de.wikipedia.org\\/wiki\\/Kernkraftwerk_Olkiluoto\",\"aktiv\":2},{\"uvps\":[],\"flex\":\"http:\\/\\/flexrisk.boku.ac.at\\/en\\/sites\\/bell\\/index.html\",\"country\":\"Frankreich\",\"reaktoren\":2,\"id\":134,\"inbau\":0,\"point\":{\"y\":47.51028,\"x\":2.875},\"inplanung\":0,\"hasUVPs\":false,\"name\":\"Belleville\",\"stillgelegt\":0,\"wikiUrl\":\"http:\\/\\/de.wikipedia.org\\/wiki\\/Kernkraftwerk_Belleville\",\"aktiv\":2},{\"uvps\":[],\"flex\":\"http:\\/\\/flexrisk.boku.ac.at\\/en\\/sites\\/buge\\/index.html\",\"country\":\"Frankreich\",\"reaktoren\":5,\"id\":135,\"inbau\":0,\"point\":{\"y\":45.79722,\"x\":5.27},\"inplanung\":0,\"hasUVPs\":false,\"name\":\"Bugey\",\"stillgelegt\":1,\"wikiUrl\":\"http:\\/\\/de.wikipedia.org\\/wiki\\/Kernkraftwerk_Bugey\",\"aktiv\":4},{\"uvps\":[],\"flex\":\"http:\\/\\/flexrisk.boku.ac.at\\/en\\/sites\\/catt\\/index.html\",\"country\":\"Frankreich\",\"reaktoren\":4,\"id\":136,\"inbau\":0,\"point\":{\"y\":49.41556,\"x\":6.21667},\"inplanung\":0,\"hasUVPs\":false,\"name\":\"Cattenom\",\"stillgelegt\":0,\"wikiUrl\":\"http:\\/\\/de.wikipedia.org\\/wiki\\/Kernkraftwerk_Cattenom\",\"aktiv\":4},{\"uvps\":[],\"flex\":\"http:\\/\\/flexrisk.boku.ac.at\\/en\\/sites\\/chin\\/index.html\",\"country\":\"Frankreich\",\"reaktoren\":7,\"id\":137,\"inbau\":0,\"point\":{\"y\":47.23056,\"x\":0.17056},\"inplanung\":0,\"hasUVPs\":false,\"name\":\"Chinon\",\"stillgelegt\":3,\"wikiUrl\":\"http:\\/\\/de.wikipedia.org\\/wiki\\/Kernkraftwerk_Chinon\",\"aktiv\":4},{\"uvps\":[],\"flex\":\"http:\\/\\/flexrisk.boku.ac.at\\/en\\/sites\\/choo\\/index.html\",\"country\":\"Frankreich\",\"reaktoren\":3,\"id\":138,\"inbau\":0,\"point\":{\"y\":50.09,\"x\":4.78944},\"inplanung\":0,\"hasUVPs\":false,\"name\":\"Chooz\",\"stillgelegt\":1,\"wikiUrl\":\"http:\\/\\/de.wikipedia.org\\/wiki\\/Kernkraftwerk_Chooz\",\"aktiv\":2},{\"uvps\":[],\"flex\":\"http:\\/\\/flexrisk.boku.ac.at\\/en\\/sites\\/civa\\/index.html\",\"country\":\"Frankreich\",\"reaktoren\":2,\"id\":139,\"inbau\":0,\"point\":{\"y\":46.45611,\"x\":0.65417},\"inplanung\":0,\"hasUVPs\":false,\"name\":\"Civaux\",\"stillgelegt\":0,\"wikiUrl\":\"http:\\/\\/de.wikipedia.org\\/wiki\\/Kernkraftwerk_Civaux\",\"aktiv\":2},{\"uvps\":[],\"flex\":\"http:\\/\\/flexrisk.boku.ac.at\\/en\\/sites\\/crua\\/index.html\",\"country\":\"Frankreich\",\"reaktoren\":4,\"id\":140,\"inbau\":0,\"point\":{\"y\":44.63389,\"x\":4.75389},\"inplanung\":0,\"hasUVPs\":false,\"name\":\"Cruas Meysse\",\"stillgelegt\":0,\"wikiUrl\":\"http:\\/\\/de.wikipedia.org\\/wiki\\/Kernkraftwerk_Cruas\",\"aktiv\":4},{\"uvps\":[],\"flex\":\"http:\\/\\/flexrisk.boku.ac.at\\/en\\/sites\\/damp\\/index.html\",\"country\":\"Frankreich\",\"reaktoren\":4,\"id\":141,\"inbau\":0,\"point\":{\"y\":47.73361,\"x\":2.5175},\"inplanung\":0,\"hasUVPs\":false,\"name\":\"Dampierre\",\"stillgelegt\":0,\"wikiUrl\":\"http:\\/\\/de.wikipedia.org\\/wiki\\/Kernkraftwerk_Dampierre\",\"aktiv\":4},{\"uvps\":[],\"flex\":\"http:\\/\\/flexrisk.boku.ac.at\\/en\\/sites\\/fess\\/index.html\",\"country\":\"Frankreich\",\"reaktoren\":2,\"id\":142,\"inbau\":0,\"point\":{\"y\":47.90361,\"x\":7.5625},\"inplanung\":0,\"hasUVPs\":false,\"name\":\"Fessenheim\",\"stillgelegt\":0,\"wikiUrl\":\"http:\\/\\/de.wikipedia.org\\/wiki\\/Kernkraftwerk_Fessenheim\",\"aktiv\":2},{\"uvps\":[],\"flex\":\"http:\\/\\/flexrisk.boku.ac.at\\/en\\/sites\\/flam\\/index.html\",\"country\":\"Frankreich\",\"reaktoren\":3,\"id\":143,\"inbau\":0,\"point\":{\"y\":49.53722,\"x\":-1.8825},\"inplanung\":1,\"hasUVPs\":false,\"name\":\"Flamanville\",\"stillgelegt\":0,\"wikiUrl\":\"http:\\/\\/de.wikipedia.org\\/wiki\\/Kernkraftwerk_Flamanville\",\"aktiv\":2},{\"uvps\":[],\"flex\":\"http:\\/\\/flexrisk.boku.ac.at\\/en\\/sites\\/golf\\/index.html\",\"country\":\"Frankreich\",\"reaktoren\":2,\"id\":144,\"inbau\":0,\"point\":{\"y\":44.11111,\"x\":0.84028},\"inplanung\":0,\"hasUVPs\":false,\"name\":\"Golfech\",\"stillgelegt\":0,\"wikiUrl\":\"http:\\/\\/de.wikipedia.org\\/wiki\\/Kernkraftwerk_Golfech\",\"aktiv\":2},{\"uvps\":[],\"flex\":\"http:\\/\\/flexrisk.boku.ac.at\\/en\\/sites\\/grav\\/index.html\",\"country\":\"Frankreich\",\"reaktoren\":6,\"id\":145,\"inbau\":0,\"point\":{\"y\":51.01361,\"x\":2.13611},\"inplanung\":0,\"hasUVPs\":false,\"name\":\"Gravelines\",\"stillgelegt\":0,\"wikiUrl\":\"http:\\/\\/de.wikipedia.org\\/wiki\\/Kernkraftwerk_Gravelines\",\"aktiv\":6},{\"uvps\":[],\"flex\":\"http:\\/\\/flexrisk.boku.ac.at\\/en\\/sites\\/blay\\/index.html\",\"country\":\"Frankreich\",\"reaktoren\":4,\"id\":146,\"inbau\":0,\"point\":{\"y\":45.25611,\"x\":-0.69167},\"inplanung\":0,\"hasUVPs\":false,\"name\":\"Le Blayais\",\"stillgelegt\":0,\"wikiUrl\":\"http:\\/\\/de.wikipedia.org\\/wiki\\/Kernkraftwerk_Blayais\",\"aktiv\":4},{\"uvps\":[],\"flex\":null,\"country\":\"Frankreich\",\"reaktoren\":3,\"id\":154,\"inbau\":0,\"point\":{\"y\":44.15,\"x\":4.71581},\"inplanung\":0,\"hasUVPs\":false,\"name\":\"Marcoule\",\"stillgelegt\":3,\"wikiUrl\":\"http:\\/\\/de.wikipedia.org\\/wiki\\/Kernkraftwerk_Marcoule\",\"aktiv\":0},{\"uvps\":[],\"flex\":null,\"country\":\"Frankreich\",\"reaktoren\":2,\"id\":155,\"inbau\":0,\"point\":{\"y\":48.35333,\"x\":-3.87222},\"inplanung\":0,\"hasUVPs\":false,\"name\":\"Monts d'Arree (Brennilis)\",\"stillgelegt\":2,\"wikiUrl\":\"http:\\/\\/de.wikipedia.org\\/wiki\\/Kernkraftwerk_Brennilis\",\"aktiv\":0},{\"uvps\":[],\"flex\":\"http:\\/\\/flexrisk.boku.ac.at\\/en\\/sites\\/noge\\/index.html\",\"country\":\"Frankreich\",\"reaktoren\":2,\"id\":147,\"inbau\":0,\"point\":{\"y\":48.51611,\"x\":3.51778},\"inplanung\":0,\"hasUVPs\":false,\"name\":\"Nogent\",\"stillgelegt\":0,\"wikiUrl\":\"http:\\/\\/de.wikipedia.org\\/wiki\\/Kernkraftwerk_Nogent\",\"aktiv\":2},{\"uvps\":[],\"flex\":\"http:\\/\\/flexrisk.boku.ac.at\\/en\\/sites\\/palu\\/index.html\",\"country\":\"Frankreich\",\"reaktoren\":4,\"id\":148,\"inbau\":0,\"point\":{\"y\":49.85806,\"x\":0.63556},\"inplanung\":0,\"hasUVPs\":false,\"name\":\"Paluel\",\"stillgelegt\":0,\"wikiUrl\":\"http:\\/\\/de.wikipedia.org\\/wiki\\/Kernkraftwerk_Paluel\",\"aktiv\":4},{\"uvps\":[],\"flex\":\"http:\\/\\/flexrisk.boku.ac.at\\/en\\/sites\\/penl\\/index.html\",\"country\":\"Frankreich\",\"reaktoren\":3,\"id\":149,\"inbau\":0,\"point\":{\"y\":49.97667,\"x\":1.21194},\"inplanung\":1,\"hasUVPs\":false,\"name\":\"Penly\",\"stillgelegt\":0,\"wikiUrl\":\"http:\\/\\/de.wikipedia.org\\/wiki\\/Kernkraftwerk_Penly\",\"aktiv\":2},{\"uvps\":[],\"flex\":null,\"country\":\"Frankreich\",\"reaktoren\":1,\"id\":133,\"inbau\":0,\"point\":{\"y\":44.14333,\"x\":4.71167},\"inplanung\":0,\"hasUVPs\":false,\"name\":\"Phenix\",\"stillgelegt\":1,\"wikiUrl\":\"http:\\/\\/de.wikipedia.org\\/wiki\\/Kernkraftwerk_Ph%C3%A9nix\",\"aktiv\":0},{\"uvps\":[],\"flex\":\"http:\\/\\/flexrisk.boku.ac.at\\/en\\/sites\\/stal\\/index.html\",\"country\":\"Frankreich\",\"reaktoren\":2,\"id\":150,\"inbau\":0,\"point\":{\"y\":45.40472,\"x\":4.75583},\"inplanung\":0,\"hasUVPs\":false,\"name\":\"Saint Alban\",\"stillgelegt\":0,\"wikiUrl\":\"http:\\/\\/de.wikipedia.org\\/wiki\\/Kernkraftwerk_Saint-Alban\",\"aktiv\":2},{\"uvps\":[],\"flex\":\"http:\\/\\/flexrisk.boku.ac.at\\/en\\/sites\\/stla\\/index.html\",\"country\":\"Frankreich\",\"reaktoren\":4,\"id\":151,\"inbau\":0,\"point\":{\"y\":47.72056,\"x\":1.57861},\"inplanung\":0,\"hasUVPs\":false,\"name\":\"St Laurent\",\"stillgelegt\":2,\"wikiUrl\":\"http:\\/\\/de.wikipedia.org\\/wiki\\/Kernkraftwerk_Saint-Laurent\",\"aktiv\":2},{\"uvps\":[],\"flex\":null,\"country\":\"Frankreich\",\"reaktoren\":1,\"id\":153,\"inbau\":0,\"point\":{\"y\":45.75833,\"x\":5.47222},\"inplanung\":0,\"hasUVPs\":false,\"name\":\"Super-Phenix 1\",\"stillgelegt\":1,\"wikiUrl\":\"http:\\/\\/de.wikipedia.org\\/wiki\\/Kernkraftwerk_Ph%C3%A9nix\",\"aktiv\":0},{\"uvps\":[],\"flex\":\"http:\\/\\/flexrisk.boku.ac.at\\/en\\/sites\\/tric\\/index.html\",\"country\":\"Frankreich\",\"reaktoren\":4,\"id\":152,\"inbau\":0,\"point\":{\"y\":44.32972,\"x\":4.73222},\"inplanung\":0,\"hasUVPs\":false,\"name\":\"Tricastin\",\"stillgelegt\":0,\"wikiUrl\":\"http:\\/\\/de.wikipedia.org\\/wiki\\/Kernkraftwerk_Tricastin\",\"aktiv\":4},{\"uvps\":[],\"flex\":null,\"country\":\"Italien\",\"reaktoren\":2,\"id\":160,\"inbau\":0,\"point\":{\"y\":42.3588,\"x\":11.5314},\"inplanung\":0,\"hasUVPs\":false,\"name\":\"Alto Lazio\",\"stillgelegt\":2,\"wikiUrl\":\"http:\\/\\/de.wikipedia.org\\/wiki\\/Kernkraftwerk_Garigliano\",\"aktiv\":0},{\"uvps\":[],\"flex\":null,\"country\":\"Italien\",\"reaktoren\":1,\"id\":156,\"inbau\":0,\"point\":{\"y\":45.07222,\"x\":9.87222},\"inplanung\":0,\"hasUVPs\":false,\"name\":\"Caorso\",\"stillgelegt\":1,\"wikiUrl\":\"http:\\/\\/de.wikipedia.org\\/wiki\\/Kernkraftwerk_Caorso\",\"aktiv\":0},{\"uvps\":[],\"flex\":null,\"country\":\"Italien\",\"reaktoren\":1,\"id\":157,\"inbau\":0,\"point\":{\"y\":41.25833,\"x\":13.83472},\"inplanung\":0,\"hasUVPs\":false,\"name\":\"Garigliano\",\"stillgelegt\":1,\"wikiUrl\":\"http:\\/\\/de.wikipedia.org\\/wiki\\/Kernkraftwerk_Garigliano\",\"aktiv\":0},{\"uvps\":[],\"flex\":null,\"country\":\"Italien\",\"reaktoren\":1,\"id\":158,\"inbau\":0,\"point\":{\"y\":41.42722,\"x\":12.80806},\"inplanung\":0,\"hasUVPs\":false,\"name\":\"Latina\",\"stillgelegt\":1,\"wikiUrl\":\"http:\\/\\/de.wikipedia.org\\/wiki\\/Kernkraftwerk_Latina\",\"aktiv\":0},{\"uvps\":[],\"flex\":null,\"country\":\"Italien\",\"reaktoren\":1,\"id\":159,\"inbau\":0,\"point\":{\"y\":45.18409,\"x\":8.27756},\"inplanung\":0,\"hasUVPs\":false,\"name\":\"Trino Vercellese\",\"stillgelegt\":1,\"wikiUrl\":\"http:\\/\\/de.wikipedia.org\\/wiki\\/Kernkraftwerk_Enrico_Fermi_(Trino)\",\"aktiv\":0},{\"uvps\":[{\"fk\":\"161\",\"status\":\"abgeschlossen\",\"titel\":\"UVP KKW Litauen\",\"url\":\"http:\\/\\/www.umweltbundesamt.at\\/umweltschutz\\/uvpsupemas\\/espooverfahren\\/uvpkkwlitauen\\/\"}],\"flex\":null,\"country\":\"Litauen\",\"reaktoren\":3,\"id\":161,\"inbau\":0,\"point\":{\"y\":55.60472,\"x\":26.56},\"inplanung\":1,\"hasUVPs\":true,\"name\":\"Ignalina\",\"stillgelegt\":2,\"wikiUrl\":\"http:\\/\\/de.wikipedia.org\\/wiki\\/Kernkraftwerk_Ignalina\",\"aktiv\":0},{\"uvps\":[],\"flex\":\"http:\\/\\/flexrisk.boku.ac.at\\/en\\/sites\\/bors\\/index.html\",\"country\":\"Niederlande\",\"reaktoren\":1,\"id\":162,\"inbau\":0,\"point\":{\"y\":51.43083,\"x\":3.71833},\"inplanung\":0,\"hasUVPs\":false,\"name\":\"Borssele\",\"stillgelegt\":0,\"wikiUrl\":\"http:\\/\\/de.wikipedia.org\\/wiki\\/Kernkraftwerk_Borssele\",\"aktiv\":1},{\"uvps\":[],\"flex\":null,\"country\":\"Niederlande\",\"reaktoren\":1,\"id\":163,\"inbau\":0,\"point\":{\"y\":51.89957,\"x\":5.68633},\"inplanung\":0,\"hasUVPs\":false,\"name\":\"Dodewaard\",\"stillgelegt\":1,\"wikiUrl\":\"http:\\/\\/de.wikipedia.org\\/wiki\\/Kernkraftwerk_Dodewaard\",\"aktiv\":0},{\"uvps\":[],\"flex\":null,\"country\":\"Österreich\",\"reaktoren\":1,\"id\":226,\"inbau\":0,\"point\":{\"y\":48.34951,\"x\":15.89971},\"inplanung\":0,\"hasUVPs\":false,\"name\":\"Zwentendorf\",\"stillgelegt\":1,\"wikiUrl\":\"http:\\/\\/de.wikipedia.org\\/wiki\\/Kernkraftwerk_Zwentendorf\",\"aktiv\":0},{\"uvps\":[],\"flex\":null,\"country\":\"Polen\",\"reaktoren\":4,\"id\":231,\"inbau\":0,\"point\":{\"y\":54.73333,\"x\":18.1},\"inplanung\":0,\"hasUVPs\":false,\"name\":\"Zarnowiec\",\"stillgelegt\":4,\"wikiUrl\":\"http:\\/\\/de.wikipedia.org\\/wiki\\/Kernkraftwerk_%C5%BBarnowiec\",\"aktiv\":0},{\"uvps\":[{\"fk\":\"164\",\"status\":\"abgeschlossen\",\"titel\":\"UVP KKW Cernavoda 3 & 4\",\"url\":\"http:\\/\\/www.umweltbundesamt.at\\/umweltschutz\\/uvpsupemas\\/espooverfahren\\/rumaenien\\/uvpcernavoda\\/\"}],\"flex\":\"http:\\/\\/flexrisk.boku.ac.at\\/en\\/sites\\/cern\\/index.html\",\"country\":\"Rumänien\",\"reaktoren\":5,\"id\":164,\"inbau\":2,\"point\":{\"y\":44.32235,\"x\":28.05728},\"inplanung\":0,\"hasUVPs\":true,\"name\":\"Cernavoda\",\"stillgelegt\":1,\"wikiUrl\":\"http:\\/\\/de.wikipedia.org\\/wiki\\/Kernkraftwerk_Cernavod%C4%83\",\"aktiv\":2},{\"uvps\":[],\"flex\":\"http:\\/\\/flexrisk.boku.ac.at\\/en\\/sites\\/bala\\/index.html\",\"country\":\"Russland\",\"reaktoren\":6,\"id\":171,\"inbau\":2,\"point\":{\"y\":52.09444,\"x\":47.95833},\"inplanung\":0,\"hasUVPs\":false,\"name\":\"Balakovo\",\"stillgelegt\":0,\"wikiUrl\":\"http:\\/\\/de.wikipedia.org\\/wiki\\/Kernkraftwerk_Balakowo\",\"aktiv\":4},{\"uvps\":[],\"flex\":null,\"country\":\"Russland\",\"reaktoren\":2,\"id\":188,\"inbau\":2,\"point\":{\"y\":55.8836,\"x\":53.9943},\"inplanung\":0,\"hasUVPs\":false,\"name\":\"Bashkir\",\"stillgelegt\":0,\"wikiUrl\":\"http:\\/\\/de.wikipedia.org\\/wiki\\/Kernkraftwerk_Baschkirien\",\"aktiv\":0},{\"uvps\":[],\"flex\":null,\"country\":\"Russland\",\"reaktoren\":4,\"id\":165,\"inbau\":0,\"point\":{\"y\":56.85,\"x\":61.31667},\"inplanung\":1,\"hasUVPs\":false,\"name\":\"Beloyarsk\",\"stillgelegt\":2,\"wikiUrl\":\"http:\\/\\/de.wikipedia.org\\/wiki\\/Kernkraftwerk_Belojarsk\",\"aktiv\":1},{\"uvps\":[],\"flex\":null,\"country\":\"Russland\",\"reaktoren\":6,\"id\":184,\"inbau\":0,\"point\":{\"y\":54.06746,\"x\":61.57335},\"inplanung\":0,\"hasUVPs\":false,\"name\":\"Chelyabinsk\",\"stillgelegt\":6,\"wikiUrl\":\"http:\\/\\/de.wikipedia.org\\/wiki\\/Kerntechnische_Anlage_Majak\",\"aktiv\":0},{\"uvps\":[],\"flex\":null,\"country\":\"Russland\",\"reaktoren\":2,\"id\":187,\"inbau\":2,\"point\":{\"y\":56.2177,\"x\":44.06258},\"inplanung\":0,\"hasUVPs\":false,\"name\":\"Gorky\",\"stillgelegt\":0,\"wikiUrl\":\"http:\\/\\/de.wikipedia.org\\/wiki\\/Kernheizwerk_Gorki\",\"aktiv\":0},{\"uvps\":[],\"flex\":null,\"country\":\"Russland\",\"reaktoren\":3,\"id\":185,\"inbau\":0,\"point\":{\"y\":56.3545,\"x\":93.64386},\"inplanung\":0,\"hasUVPs\":false,\"name\":\"Gornochimicheski Combinat\",\"stillgelegt\":3,\"wikiUrl\":\"http:\\/\\/de.wikipedia.org\\/wiki\\/Liste_der_kerntechnischen_Anlagen_in_Russland\",\"aktiv\":0},{\"uvps\":[],\"flex\":\"http:\\/\\/flexrisk.boku.ac.at\\/en\\/sites\\/kali\\/index.html\",\"country\":\"Russland\",\"reaktoren\":4,\"id\":172,\"inbau\":0,\"point\":{\"y\":57.90683,\"x\":35.06417},\"inplanung\":0,\"hasUVPs\":false,\"name\":\"Kalinin\",\"stillgelegt\":0,\"wikiUrl\":\"http:\\/\\/de.wikipedia.org\\/wiki\\/Kernkraftwerk_Kalinin\",\"aktiv\":4},{\"uvps\":[],\"flex\":\"http:\\/\\/flexrisk.boku.ac.at\\/en\\/sites\\/kagr\\/index.html\",\"country\":\"Russland\",\"reaktoren\":2,\"id\":243,\"inbau\":1,\"point\":{\"y\":54.93932,\"x\":22.16236},\"inplanung\":1,\"hasUVPs\":false,\"name\":\"Kaliningrad\",\"stillgelegt\":0,\"wikiUrl\":\"http:\\/\\/de.wikipedia.org\\/wiki\\/Kernkraftwerk_Kaliningrad\",\"aktiv\":0},{\"uvps\":[],\"flex\":\"http:\\/\\/flexrisk.boku.ac.at\\/en\\/sites\\/kola\\/index.html\",\"country\":\"Russland\",\"reaktoren\":4,\"id\":173,\"inbau\":0,\"point\":{\"y\":67.46667,\"x\":32.46667},\"inplanung\":0,\"hasUVPs\":false,\"name\":\"Kola\",\"stillgelegt\":0,\"wikiUrl\":\"http:\\/\\/de.wikipedia.org\\/wiki\\/Kernkraftwerk_Kola\",\"aktiv\":4},{\"uvps\":[],\"flex\":null,\"country\":\"Russland\",\"reaktoren\":4,\"id\":182,\"inbau\":2,\"point\":{\"y\":58.3747,\"x\":41.5922},\"inplanung\":2,\"hasUVPs\":false,\"name\":\"Kostroma\",\"stillgelegt\":0,\"wikiUrl\":\"http:\\/\\/de.wikipedia.org\\/wiki\\/Kernkraftwerk_Kostroma\",\"aktiv\":0},{\"uvps\":[],\"flex\":\"http:\\/\\/flexrisk.boku.ac.at\\/en\\/sites\\/kurs\\/index.html\",\"country\":\"Russland\",\"reaktoren\":6,\"id\":168,\"inbau\":2,\"point\":{\"y\":51.675,\"x\":35.60556},\"inplanung\":0,\"hasUVPs\":false,\"name\":\"Kursk\",\"stillgelegt\":1,\"wikiUrl\":\"http:\\/\\/de.wikipedia.org\\/wiki\\/Kernkraftwerk_Kursk\",\"aktiv\":3},{\"uvps\":[],\"flex\":\"http:\\/\\/flexrisk.boku.ac.at\\/en\\/sites\\/leni\\/index.html\",\"country\":\"Russland\",\"reaktoren\":6,\"id\":169,\"inbau\":2,\"point\":{\"y\":59.8521,\"x\":29.0512},\"inplanung\":0,\"hasUVPs\":false,\"name\":\"Leningrad\",\"stillgelegt\":0,\"wikiUrl\":\"http:\\/\\/de.wikipedia.org\\/wiki\\/Kernkraftwerk_Leningrad\",\"aktiv\":4},{\"uvps\":[],\"flex\":\"http:\\/\\/flexrisk.boku.ac.at\\/en\\/sites\\/novo\\/index.html\",\"country\":\"Russland\",\"reaktoren\":7,\"id\":174,\"inbau\":2,\"point\":{\"y\":51.275,\"x\":39.2},\"inplanung\":0,\"hasUVPs\":false,\"name\":\"Novovoronezh\",\"stillgelegt\":2,\"wikiUrl\":\"http:\\/\\/de.wikipedia.org\\/wiki\\/Kernkraftwerk_Nowoworonesch\",\"aktiv\":3},{\"uvps\":[],\"flex\":null,\"country\":\"Russland\",\"reaktoren\":1,\"id\":183,\"inbau\":0,\"point\":{\"y\":55.08532,\"x\":36.57404},\"inplanung\":0,\"hasUVPs\":false,\"name\":\"Obninsk APS\",\"stillgelegt\":1,\"wikiUrl\":\"http:\\/\\/de.wikipedia.org\\/wiki\\/Kernkraftwerk_Obninsk\",\"aktiv\":0},{\"uvps\":[],\"flex\":\"http:\\/\\/flexrisk.boku.ac.at\\/en\\/sites\\/volg\\/index.html\",\"country\":\"Russland\",\"reaktoren\":4,\"id\":175,\"inbau\":2,\"point\":{\"y\":47.59944,\"x\":42.37033},\"inplanung\":0,\"hasUVPs\":false,\"name\":\"Rostov (Volgodonsk)\",\"stillgelegt\":0,\"wikiUrl\":\"http:\\/\\/de.wikipedia.org\\/wiki\\/Kernkraftwerk_Wolgodonsk\",\"aktiv\":2},{\"uvps\":[],\"flex\":null,\"country\":\"Russland\",\"reaktoren\":5,\"id\":186,\"inbau\":0,\"point\":{\"y\":56.59944,\"x\":84.89583},\"inplanung\":0,\"hasUVPs\":false,\"name\":\"Sibchim Combinat NPP\",\"stillgelegt\":5,\"wikiUrl\":\"http:\\/\\/en.wikipedia.org\\/wiki\\/Seversk\",\"aktiv\":0},{\"uvps\":[],\"flex\":\"http:\\/\\/flexrisk.boku.ac.at\\/en\\/sites\\/smol\\/index.html\",\"country\":\"Russland\",\"reaktoren\":3,\"id\":170,\"inbau\":0,\"point\":{\"y\":54.16667,\"x\":33.23333},\"inplanung\":0,\"hasUVPs\":false,\"name\":\"Smolensk\",\"stillgelegt\":0,\"wikiUrl\":\"http:\\/\\/de.wikipedia.org\\/wiki\\/Kernkraftwerk_Smolensk\",\"aktiv\":3},{\"uvps\":[],\"flex\":null,\"country\":\"Russland\",\"reaktoren\":3,\"id\":177,\"inbau\":0,\"point\":{\"y\":55.7461,\"x\":60.8938},\"inplanung\":3,\"hasUVPs\":false,\"name\":\"South Urals\",\"stillgelegt\":0,\"wikiUrl\":\"http:\\/\\/de.wikipedia.org\\/wiki\\/Kernkraftwerk_S%C3%BCd-Ural\",\"aktiv\":0},{\"uvps\":[],\"flex\":null,\"country\":\"Russland\",\"reaktoren\":2,\"id\":181,\"inbau\":0,\"point\":{\"y\":56.59944,\"x\":84.89583},\"inplanung\":2,\"hasUVPs\":false,\"name\":\"Tomsk\",\"stillgelegt\":0,\"wikiUrl\":\"http:\\/\\/de.wikipedia.org\\/wiki\\/Liste_der_kerntechnischen_Anlagen_in_Russland\",\"aktiv\":0},{\"uvps\":[],\"flex\":null,\"country\":\"Russland\",\"reaktoren\":2,\"id\":178,\"inbau\":0,\"point\":{\"y\":51.5617,\"x\":39.1487},\"inplanung\":0,\"hasUVPs\":false,\"name\":\"Voronezh\",\"stillgelegt\":0,\"wikiUrl\":\"http:\\/\\/de.wikipedia.org\\/wiki\\/Kernheizwerk_Woronesch\",\"aktiv\":2},{\"uvps\":[],\"flex\":null,\"country\":\"Schweden\",\"reaktoren\":1,\"id\":241,\"inbau\":0,\"point\":{\"y\":59.20611,\"x\":18.0825},\"inplanung\":0,\"hasUVPs\":false,\"name\":\"Agesta\",\"stillgelegt\":1,\"wikiUrl\":\"http:\\/\\/de.wikipedia.org\\/wiki\\/Kernkraftwerk_%C3%85gesta\",\"aktiv\":0},{\"uvps\":[],\"flex\":null,\"country\":\"Schweden\",\"reaktoren\":2,\"id\":203,\"inbau\":0,\"point\":{\"y\":55.74444,\"x\":12.92083},\"inplanung\":0,\"hasUVPs\":false,\"name\":\"Barsebäck\",\"stillgelegt\":2,\"wikiUrl\":\"http:\\/\\/de.wikipedia.org\\/wiki\\/Kernkraftwerk_Barseb%C3%A4ck\",\"aktiv\":0},{\"uvps\":[],\"flex\":\"http:\\/\\/flexrisk.boku.ac.at\\/en\\/sites\\/fors\\/index.html\",\"country\":\"Schweden\",\"reaktoren\":3,\"id\":200,\"inbau\":0,\"point\":{\"y\":60.40333,\"x\":18.16667},\"inplanung\":0,\"hasUVPs\":false,\"name\":\"Forsmark\",\"stillgelegt\":0,\"wikiUrl\":\"http:\\/\\/de.wikipedia.org\\/wiki\\/Kernkraftwerk_Forsmark\",\"aktiv\":3},{\"uvps\":[],\"flex\":\"http:\\/\\/flexrisk.boku.ac.at\\/en\\/sites\\/oska\\/index.html\",\"country\":\"Schweden\",\"reaktoren\":3,\"id\":201,\"inbau\":0,\"point\":{\"y\":57.41556,\"x\":16.67111},\"inplanung\":0,\"hasUVPs\":false,\"name\":\"Oskarshamn\",\"stillgelegt\":0,\"wikiUrl\":\"http:\\/\\/de.wikipedia.org\\/wiki\\/Kernkraftwerk_Oskarshamn\",\"aktiv\":3},{\"uvps\":[],\"flex\":\"http:\\/\\/flexrisk.boku.ac.at\\/en\\/sites\\/ring\\/index.html\",\"country\":\"Schweden\",\"reaktoren\":4,\"id\":202,\"inbau\":0,\"point\":{\"y\":57.26111,\"x\":12.10833},\"inplanung\":0,\"hasUVPs\":false,\"name\":\"Ringhals\",\"stillgelegt\":0,\"wikiUrl\":\"http:\\/\\/de.wikipedia.org\\/wiki\\/Kernkraftwerk_Ringhals\",\"aktiv\":4},{\"uvps\":[{\"fk\":\"96\",\"status\":\"abgeschlossen\",\"titel\":\"KKW Beznau II Betriebsbewilligung\",\"url\":\"http:\\/\\/www.umweltbundesamt.at\\/umweltschutz\\/kernenergie\\/akw\\/beznau\\/\"}],\"flex\":\"http:\\/\\/flexrisk.boku.ac.at\\/en\\/sites\\/bezn\\/index.html\",\"country\":\"Schweiz\",\"reaktoren\":2,\"id\":96,\"inbau\":0,\"point\":{\"y\":47.55191,\"x\":8.2279},\"inplanung\":0,\"hasUVPs\":true,\"name\":\"Beznau\",\"stillgelegt\":0,\"wikiUrl\":\"http:\\/\\/de.wikipedia.org\\/wiki\\/Kernkraftwerk_Beznau\",\"aktiv\":2},{\"uvps\":[],\"flex\":\"http:\\/\\/flexrisk.boku.ac.at\\/en\\/sites\\/goes\\/index.html\",\"country\":\"Schweiz\",\"reaktoren\":1,\"id\":97,\"inbau\":0,\"point\":{\"y\":47.36534,\"x\":7.96766},\"inplanung\":0,\"hasUVPs\":false,\"name\":\"Gösgen\",\"stillgelegt\":0,\"wikiUrl\":\"http:\\/\\/de.wikipedia.org\\/wiki\\/Kernkraftwerk_G%C3%B6sgen\",\"aktiv\":1},{\"uvps\":[],\"flex\":\"http:\\/\\/flexrisk.boku.ac.at\\/en\\/sites\\/leib\\/index.html\",\"country\":\"Schweiz\",\"reaktoren\":1,\"id\":98,\"inbau\":0,\"point\":{\"y\":47.60148,\"x\":8.18344},\"inplanung\":0,\"hasUVPs\":false,\"name\":\"Leibstadt\",\"stillgelegt\":0,\"wikiUrl\":\"http:\\/\\/de.wikipedia.org\\/wiki\\/Kernkraftwerk_Leibstadt\",\"aktiv\":1},{\"uvps\":[],\"flex\":null,\"country\":\"Schweiz\",\"reaktoren\":1,\"id\":122,\"inbau\":0,\"point\":{\"y\":46.69167,\"x\":6.82778},\"inplanung\":0,\"hasUVPs\":false,\"name\":\"Lucens\",\"stillgelegt\":1,\"wikiUrl\":\"http:\\/\\/de.wikipedia.org\\/wiki\\/Reaktor_Lucens\",\"aktiv\":0},{\"uvps\":[{\"fk\":\"99\",\"status\":\"abgeschlossen\",\"titel\":\"KKW Mühleberg Aufhebung der Befristung der Betriebsbewilligung\",\"url\":\"http:\\/\\/www.umweltbundesamt.at\\/umweltschutz\\/kernenergie\\/akw\\/kkwmuehleberg\\/\"},{\"fk\":\"99\",\"status\":\"laufend\",\"titel\":\"Ergänzung der Fachstellungnahme betreffend das KKW Mühleberg 2013\",\"url\":\"http:\\/\\/www.umweltbundesamt.at\\/umweltsituation\\/kernenergie\\/akw\\/kkwmuehleberg\\/\"}],\"flex\":\"http:\\/\\/flexrisk.boku.ac.at\\/en\\/sites\\/mueh\\/index.html\",\"country\":\"Schweiz\",\"reaktoren\":1,\"id\":99,\"inbau\":0,\"point\":{\"y\":46.96904,\"x\":7.26831},\"inplanung\":0,\"hasUVPs\":true,\"name\":\"Mühleberg\",\"stillgelegt\":0,\"wikiUrl\":\"http:\\/\\/de.wikipedia.org\\/wiki\\/Kernkraftwerk_M%C3%BChleberg\",\"aktiv\":1},{\"uvps\":[{\"fk\":\"81\",\"status\":\"abgeschlossen\",\"titel\":\"UVP Integrallager Bohunice\",\"url\":\"http:\\/\\/www.umweltbundesamt.at\\/umweltsituation\\/uvpsup\\/espooverfahren\\/espoo_slowakei\\/uvpinterimlager_ebo\\/\"}],\"flex\":\"http:\\/\\/flexrisk.boku.ac.at\\/en\\/sites\\/bohu\\/index.html\",\"country\":\"Slowakei\",\"reaktoren\":5,\"id\":81,\"inbau\":0,\"point\":{\"y\":48.4984,\"x\":17.6835},\"inplanung\":0,\"hasUVPs\":true,\"name\":\"Bohunice\",\"stillgelegt\":3,\"wikiUrl\":\"http:\\/\\/de.wikipedia.org\\/wiki\\/Kernkraftwerk_Bohunice\",\"aktiv\":2},{\"uvps\":[{\"fk\":\"82\",\"status\":\"abgeschlossen\",\"titel\":\"UVP KKW Mochovce 1 und 2 Leistungserhöhung\",\"url\":\"http:\\/\\/www.umweltbundesamt.at\\/umweltschutz\\/uvpsupemas\\/espooverfahren\\/espoo_slowakei\\/kkwmochovce12\\/\"},{\"fk\":\"82\",\"status\":\"abgeschlossen\",\"titel\":\"UVP KKW Mochovce 3\\/4\",\"url\":\"http:\\/\\/www.umweltbundesamt.at\\/umweltschutz\\/uvpsupemas\\/espooverfahren\\/espoo_slowakei\\/uvpmochovce34\\/\"},{\"fk\":\"82\",\"status\":\"abgeschlossen\",\"titel\":\"UVP Endlager Standort Mochovce\",\"url\":\"http:\\/\\/www.umweltbundesamt.at\\/umweltsituation\\/uvpsup\\/espooverfahren\\/espoo_slowakei\\/uvpendlager_emo\\/\"}],\"flex\":\"http:\\/\\/flexrisk.boku.ac.at\\/en\\/sites\\/moch\\/index.html\",\"country\":\"Slowakei\",\"reaktoren\":4,\"id\":82,\"inbau\":2,\"point\":{\"y\":48.25988,\"x\":18.45703},\"inplanung\":0,\"hasUVPs\":true,\"name\":\"Mochovce\",\"stillgelegt\":0,\"wikiUrl\":\"http:\\/\\/de.wikipedia.org\\/wiki\\/Kernkraftwerk_Mochovce\",\"aktiv\":2},{\"uvps\":[],\"flex\":\"http:\\/\\/flexrisk.boku.ac.at\\/en\\/sites\\/krsk\\/index.html\",\"country\":\"Slowenien\",\"reaktoren\":1,\"id\":83,\"inbau\":0,\"point\":{\"y\":45.9379,\"x\":15.51613},\"inplanung\":0,\"hasUVPs\":false,\"name\":\"Krsko\",\"stillgelegt\":0,\"wikiUrl\":\"http:\\/\\/de.wikipedia.org\\/wiki\\/Kernkraftwerk_Kr%C5%A1ko\",\"aktiv\":1},{\"uvps\":[],\"flex\":\"http:\\/\\/flexrisk.boku.ac.at\\/en\\/sites\\/alma\\/index.html\",\"country\":\"Spanien\",\"reaktoren\":2,\"id\":193,\"inbau\":0,\"point\":{\"y\":39.80806,\"x\":-5.69694},\"inplanung\":0,\"hasUVPs\":false,\"name\":\"Almaraz\",\"stillgelegt\":0,\"wikiUrl\":\"http:\\/\\/de.wikipedia.org\\/wiki\\/Kernkraftwerk_Almaraz\",\"aktiv\":2},{\"uvps\":[],\"flex\":\"http:\\/\\/flexrisk.boku.ac.at\\/en\\/sites\\/asco\\/index.html\",\"country\":\"Spanien\",\"reaktoren\":2,\"id\":194,\"inbau\":0,\"point\":{\"y\":41.2,\"x\":0.56944},\"inplanung\":0,\"hasUVPs\":false,\"name\":\"Ascó\",\"stillgelegt\":0,\"wikiUrl\":\"http:\\/\\/de.wikipedia.org\\/wiki\\/Kernkraftwerk_Asc%C3%B3\",\"aktiv\":2},{\"uvps\":[],\"flex\":\"http:\\/\\/flexrisk.boku.ac.at\\/en\\/sites\\/cofr\\/index.html\",\"country\":\"Spanien\",\"reaktoren\":1,\"id\":191,\"inbau\":0,\"point\":{\"y\":39.21667,\"x\":-1.05},\"inplanung\":0,\"hasUVPs\":false,\"name\":\"Cofrentes\",\"stillgelegt\":0,\"wikiUrl\":\"http:\\/\\/de.wikipedia.org\\/wiki\\/Kernkraftwerk_Cofrentes\",\"aktiv\":1},{\"uvps\":[],\"flex\":null,\"country\":\"Spanien\",\"reaktoren\":1,\"id\":195,\"inbau\":0,\"point\":{\"y\":40.36389,\"x\":-2.82917},\"inplanung\":0,\"hasUVPs\":false,\"name\":\"Jose Cabrera, Zorita\",\"stillgelegt\":1,\"wikiUrl\":\"http:\\/\\/de.wikipedia.org\\/wiki\\/Kernkraftwerk_Jos%C3%A9_Cabrera\",\"aktiv\":0},{\"uvps\":[],\"flex\":null,\"country\":\"Spanien\",\"reaktoren\":2,\"id\":199,\"inbau\":0,\"point\":{\"y\":43.4332,\"x\":-2.8725},\"inplanung\":0,\"hasUVPs\":false,\"name\":\"Lemoniz \",\"stillgelegt\":2,\"wikiUrl\":\"http:\\/\\/de.wikipedia.org\\/wiki\\/Kernkraftwerk_Lem%C3%B3niz\",\"aktiv\":0},{\"uvps\":[],\"flex\":\"http:\\/\\/flexrisk.boku.ac.at\\/en\\/sites\\/smar\\/index.html\",\"country\":\"Spanien\",\"reaktoren\":1,\"id\":192,\"inbau\":0,\"point\":{\"y\":42.775,\"x\":-3.20833},\"inplanung\":0,\"hasUVPs\":false,\"name\":\"Santa Maria de Garoña\",\"stillgelegt\":0,\"wikiUrl\":\"http:\\/\\/de.wikipedia.org\\/wiki\\/Kernkraftwerk_Santa_Mar%C3%ADa_de_Garo%C3%B1a\",\"aktiv\":1},{\"uvps\":[],\"flex\":\"http:\\/\\/flexrisk.boku.ac.at\\/en\\/sites\\/tril\\/index.html\",\"country\":\"Spanien\",\"reaktoren\":1,\"id\":196,\"inbau\":0,\"point\":{\"y\":40.70139,\"x\":-2.62222},\"inplanung\":0,\"hasUVPs\":false,\"name\":\"Trillo\",\"stillgelegt\":0,\"wikiUrl\":\"http:\\/\\/de.wikipedia.org\\/wiki\\/Kernkraftwerk_Trillo\",\"aktiv\":1},{\"uvps\":[],\"flex\":null,\"country\":\"Spanien\",\"reaktoren\":2,\"id\":198,\"inbau\":0,\"point\":{\"y\":39.2907,\"x\":-5.18055},\"inplanung\":0,\"hasUVPs\":false,\"name\":\"Valdecaballeros\",\"stillgelegt\":2,\"wikiUrl\":\"http:\\/\\/de.wikipedia.org\\/wiki\\/Kernkraftwerk_Valdecaballeros\",\"aktiv\":0},{\"uvps\":[],\"flex\":\"http:\\/\\/flexrisk.boku.ac.at\\/en\\/sites\\/vand\\/index.html\",\"country\":\"Spanien\",\"reaktoren\":2,\"id\":197,\"inbau\":0,\"point\":{\"y\":40.95139,\"x\":0.86667},\"inplanung\":0,\"hasUVPs\":false,\"name\":\"Vandellós\",\"stillgelegt\":1,\"wikiUrl\":\"http:\\/\\/de.wikipedia.org\\/wiki\\/Kernkraftwerk_Vandell%C3%B2s\",\"aktiv\":1},{\"uvps\":[],\"flex\":\"http:\\/\\/flexrisk.boku.ac.at\\/en\\/sites\\/duko\\/index.html\",\"country\":\"Tschechien\",\"reaktoren\":4,\"id\":5,\"inbau\":0,\"point\":{\"y\":49.08399,\"x\":16.15179},\"inplanung\":0,\"hasUVPs\":false,\"name\":\"Dukovany\",\"stillgelegt\":0,\"wikiUrl\":\"http:\\/\\/de.wikipedia.org\\/wiki\\/Kernkraftwerk_Dukovany\",\"aktiv\":4},{\"uvps\":[{\"fk\":\"6\",\"status\":\"abgeschlossen\",\"titel\":\"UVP KKW Temelin Blöcke 3 und 4\",\"url\":\"http:\\/\\/www.umweltbundesamt.at\\/umweltschutz\\/uvpsupemas\\/espooverfahren\\/espoo_cz\\/uvptemelin34\\/\"},{\"fk\":\"6\",\"status\":\"abgeschlossen\",\"titel\":\"UVP Brennelemente-Zwischenlager Temelin\",\"url\":\"http:\\/\\/www.umweltbundesamt.at\\/umweltschutz\\/uvpsupemas\\/espooverfahren\\/espoo_cz\\/zwilagtemelin1\\/\"},{\"fk\":\"6\",\"status\":\"abgeschlossen\",\"titel\":\"KKW Temelin 1 & 2\",\"url\":\"http:\\/\\/www.umweltbundesamt.at\\/umweltschutz\\/kernenergie\\/akw\\/temelin\\/\"}],\"flex\":\"http:\\/\\/flexrisk.boku.ac.at\\/en\\/sites\\/teme\\/index.html\",\"country\":\"Tschechien\",\"reaktoren\":4,\"id\":6,\"inbau\":2,\"point\":{\"y\":49.1789,\"x\":14.37784},\"inplanung\":0,\"hasUVPs\":true,\"name\":\"Temelin\",\"stillgelegt\":0,\"wikiUrl\":\"http:\\/\\/de.wikipedia.org\\/wiki\\/Kernkraftwerk_Temel%C3%ADn\",\"aktiv\":2},{\"uvps\":[],\"flex\":null,\"country\":\"UK\",\"reaktoren\":2,\"id\":216,\"inbau\":0,\"point\":{\"y\":51.6925,\"x\":-2.49361},\"inplanung\":0,\"hasUVPs\":false,\"name\":\"Berkeley\",\"stillgelegt\":2,\"wikiUrl\":\"http:\\/\\/de.wikipedia.org\\/wiki\\/Kernkraftwerk_Berkeley\",\"aktiv\":0},{\"uvps\":[],\"flex\":null,\"country\":\"UK\",\"reaktoren\":2,\"id\":217,\"inbau\":0,\"point\":{\"y\":51.74194,\"x\":0.8975},\"inplanung\":0,\"hasUVPs\":false,\"name\":\"Bradwell\",\"stillgelegt\":2,\"wikiUrl\":\"http:\\/\\/de.wikipedia.org\\/wiki\\/Kernkraftwerk_Bradwell\",\"aktiv\":0},{\"uvps\":[],\"flex\":null,\"country\":\"UK\",\"reaktoren\":4,\"id\":218,\"inbau\":0,\"point\":{\"y\":54.41982,\"x\":-3.49203},\"inplanung\":0,\"hasUVPs\":false,\"name\":\"Calder Hall\",\"stillgelegt\":4,\"wikiUrl\":\"http:\\/\\/de.wikipedia.org\\/wiki\\/Kernkraftwerk_Calder_Hall\",\"aktiv\":0},{\"uvps\":[],\"flex\":null,\"country\":\"UK\",\"reaktoren\":4,\"id\":219,\"inbau\":0,\"point\":{\"y\":55.01667,\"x\":-3.225},\"inplanung\":0,\"hasUVPs\":false,\"name\":\"Chapelcross\",\"stillgelegt\":4,\"wikiUrl\":\"http:\\/\\/de.wikipedia.org\\/wiki\\/Kernkraftwerk_Chapelcross\",\"aktiv\":0},{\"uvps\":[],\"flex\":null,\"country\":\"UK\",\"reaktoren\":2,\"id\":214,\"inbau\":0,\"point\":{\"y\":58.57899,\"x\":-3.75002},\"inplanung\":0,\"hasUVPs\":false,\"name\":\"Dounreay\",\"stillgelegt\":2,\"wikiUrl\":\"http:\\/\\/de.wikipedia.org\\/wiki\\/Kernkraftwerk_Dounreay\",\"aktiv\":0},{\"uvps\":[],\"flex\":\"http:\\/\\/flexrisk.boku.ac.at\\/en\\/sites\\/dung\\/index.html\",\"country\":\"UK\",\"reaktoren\":4,\"id\":204,\"inbau\":0,\"point\":{\"y\":50.91389,\"x\":0.96389},\"inplanung\":0,\"hasUVPs\":false,\"name\":\"Dungeness\",\"stillgelegt\":2,\"wikiUrl\":\"http:\\/\\/de.wikipedia.org\\/wiki\\/Kernkraftwerk_Dungeness\",\"aktiv\":2},{\"uvps\":[],\"flex\":\"http:\\/\\/flexrisk.boku.ac.at\\/en\\/sites\\/hart\\/index.html\",\"country\":\"UK\",\"reaktoren\":2,\"id\":205,\"inbau\":0,\"point\":{\"y\":54.63472,\"x\":-1.18056},\"inplanung\":0,\"hasUVPs\":false,\"name\":\"Hartlepool\",\"stillgelegt\":0,\"wikiUrl\":\"http:\\/\\/de.wikipedia.org\\/wiki\\/Kernkraftwerk_Hartlepool\",\"aktiv\":2},{\"uvps\":[],\"flex\":\"http:\\/\\/flexrisk.boku.ac.at\\/en\\/sites\\/heys\\/index.html\",\"country\":\"UK\",\"reaktoren\":4,\"id\":206,\"inbau\":0,\"point\":{\"y\":54.03333,\"x\":-2.9},\"inplanung\":0,\"hasUVPs\":false,\"name\":\"Heyshamm\",\"stillgelegt\":0,\"wikiUrl\":\"http:\\/\\/de.wikipedia.org\\/wiki\\/Kernkraftwerk_Heysham\",\"aktiv\":4},{\"uvps\":[{\"fk\":\"207\",\"status\":\"abgeschlossen\",\"titel\":\"UVP KKW Hinkley Point\",\"url\":\"http:\\/\\/www.umweltbundesamt.at\\/umweltsituation\\/uvpsup\\/espooverfahren\\/espoo_uk\\/uvpkkwhinkleypoint\\/\"}],\"flex\":\"http:\\/\\/flexrisk.boku.ac.at\\/en\\/sites\\/hink\\/index.html\",\"country\":\"UK\",\"reaktoren\":6,\"id\":207,\"inbau\":0,\"point\":{\"y\":51.20796,\"x\":-3.12999},\"inplanung\":2,\"hasUVPs\":true,\"name\":\"Hinkley Point\",\"stillgelegt\":2,\"wikiUrl\":\"http:\\/\\/de.wikipedia.org\\/wiki\\/Kernkraftwerk_Hinkley_Point\",\"aktiv\":2},{\"uvps\":[],\"flex\":\"http:\\/\\/flexrisk.boku.ac.at\\/en\\/sites\\/hunt\\/index.html\",\"country\":\"UK\",\"reaktoren\":4,\"id\":208,\"inbau\":0,\"point\":{\"y\":55.72222,\"x\":-4.89306},\"inplanung\":0,\"hasUVPs\":false,\"name\":\"Hunterston\",\"stillgelegt\":2,\"wikiUrl\":\"http:\\/\\/de.wikipedia.org\\/wiki\\/Kernkraftwerk_Hunterston\",\"aktiv\":2},{\"uvps\":[],\"flex\":null,\"country\":\"UK\",\"reaktoren\":2,\"id\":210,\"inbau\":0,\"point\":{\"y\":51.64861,\"x\":-2.57083},\"inplanung\":0,\"hasUVPs\":false,\"name\":\"Oldbury\",\"stillgelegt\":2,\"wikiUrl\":\"http:\\/\\/de.wikipedia.org\\/wiki\\/Kernkraftwerk_Oldbury\",\"aktiv\":0},{\"uvps\":[],\"flex\":\"http:\\/\\/flexrisk.boku.ac.at\\/en\\/sites\\/size\\/index.html\",\"country\":\"UK\",\"reaktoren\":3,\"id\":211,\"inbau\":0,\"point\":{\"y\":52.21667,\"x\":1.61944},\"inplanung\":0,\"hasUVPs\":false,\"name\":\"Sizewell\",\"stillgelegt\":2,\"wikiUrl\":\"http:\\/\\/de.wikipedia.org\\/wiki\\/Kernkraftwerk_Sizewell\",\"aktiv\":1},{\"uvps\":[],\"flex\":\"http:\\/\\/flexrisk.boku.ac.at\\/en\\/sites\\/torn\\/index.html\",\"country\":\"UK\",\"reaktoren\":2,\"id\":209,\"inbau\":0,\"point\":{\"y\":55.96667,\"x\":-2.4},\"inplanung\":0,\"hasUVPs\":false,\"name\":\"Torness\",\"stillgelegt\":0,\"wikiUrl\":\"http:\\/\\/de.wikipedia.org\\/wiki\\/Kernkraftwerk_Torness\",\"aktiv\":2},{\"uvps\":[],\"flex\":null,\"country\":\"UK\",\"reaktoren\":2,\"id\":220,\"inbau\":0,\"point\":{\"y\":52.925,\"x\":-3.95},\"inplanung\":0,\"hasUVPs\":false,\"name\":\"Trawsfynydd\",\"stillgelegt\":2,\"wikiUrl\":\"http:\\/\\/de.wikipedia.org\\/wiki\\/Kernkraftwerk_Trawsfynydd\",\"aktiv\":0},{\"uvps\":[],\"flex\":null,\"country\":\"UK\",\"reaktoren\":1,\"id\":213,\"inbau\":0,\"point\":{\"y\":54.41861,\"x\":-3.4975},\"inplanung\":0,\"hasUVPs\":false,\"name\":\"Windscale\",\"stillgelegt\":1,\"wikiUrl\":\"http:\\/\\/de.wikipedia.org\\/wiki\\/Sellafield\",\"aktiv\":0},{\"uvps\":[],\"flex\":null,\"country\":\"UK\",\"reaktoren\":2,\"id\":215,\"inbau\":0,\"point\":{\"y\":50.68406,\"x\":-2.26954},\"inplanung\":0,\"hasUVPs\":false,\"name\":\"Winfrith\",\"stillgelegt\":2,\"wikiUrl\":\"http:\\/\\/de.wikipedia.org\\/wiki\\/Kernkraftwerk_Winfrith\",\"aktiv\":0},{\"uvps\":[],\"flex\":\"http:\\/\\/flexrisk.boku.ac.at\\/en\\/sites\\/wylf\\/index.html\",\"country\":\"UK\",\"reaktoren\":2,\"id\":212,\"inbau\":0,\"point\":{\"y\":53.41667,\"x\":-4.48333},\"inplanung\":0,\"hasUVPs\":false,\"name\":\"Wylfa\",\"stillgelegt\":1,\"wikiUrl\":\"http:\\/\\/de.wikipedia.org\\/wiki\\/Kernkraftwerk_Wylfa\",\"aktiv\":1},{\"uvps\":[],\"flex\":null,\"country\":\"Ukraine\",\"reaktoren\":6,\"id\":225,\"inbau\":0,\"point\":{\"y\":51.38978,\"x\":30.09971},\"inplanung\":0,\"hasUVPs\":false,\"name\":\"Chernobyl\",\"stillgelegt\":6,\"wikiUrl\":\"http:\\/\\/de.wikipedia.org\\/wiki\\/Kernkraftwerk_Tschernobyl\",\"aktiv\":0},{\"uvps\":[{\"fk\":\"221\",\"status\":\"abgeschlossen\",\"titel\":\"AKW Khmelnitzky2 & AKW Rowno4\",\"url\":\"http:\\/\\/www.umweltbundesamt.at\\/umweltschutz\\/kernenergie\\/akw\\/k2r4\\/\"},{\"fk\":\"221\",\"status\":\"laufend\",\"titel\":\"UVP KKW Khmelnitsky 3&4\",\"url\":\"http:\\/\\/www.umweltbundesamt.at\\/umweltsituation\\/uvpsup\\/espooverfahren\\/espoo_ukraine\\/kkwkhmelnitsky34\"}],\"flex\":\"http:\\/\\/flexrisk.boku.ac.at\\/en\\/sites\\/khme\\/index.html\",\"country\":\"Ukraine\",\"reaktoren\":4,\"id\":221,\"inbau\":2,\"point\":{\"y\":50.305,\"x\":26.645},\"inplanung\":0,\"hasUVPs\":true,\"name\":\"Khmelnitski\",\"stillgelegt\":0,\"wikiUrl\":\"http:\\/\\/de.wikipedia.org\\/wiki\\/Kernkraftwerk_Chmelnyzkyj\",\"aktiv\":2},{\"uvps\":[{\"fk\":\"222\",\"status\":\"abgeschlossen\",\"titel\":\"AKW Khmelnitzky2 & AKW Rowno4\",\"url\":\"http:\\/\\/www.umweltbundesamt.at\\/umweltschutz\\/kernenergie\\/akw\\/k2r4\\/\"}],\"flex\":\"http:\\/\\/flexrisk.boku.ac.at\\/en\\/sites\\/rown\\/index.html\",\"country\":\"Ukraine\",\"reaktoren\":4,\"id\":222,\"inbau\":0,\"point\":{\"y\":51.32778,\"x\":25.89167},\"inplanung\":0,\"hasUVPs\":true,\"name\":\"Rovno\",\"stillgelegt\":0,\"wikiUrl\":\"http:\\/\\/de.wikipedia.org\\/wiki\\/Kernkraftwerk_Riwne\",\"aktiv\":4},{\"uvps\":[],\"flex\":\"http:\\/\\/flexrisk.boku.ac.at\\/en\\/sites\\/sout\\/index.html\",\"country\":\"Ukraine\",\"reaktoren\":4,\"id\":223,\"inbau\":1,\"point\":{\"y\":47.81667,\"x\":31.21667},\"inplanung\":0,\"hasUVPs\":false,\"name\":\"South Ukraine\",\"stillgelegt\":1,\"wikiUrl\":\"http:\\/\\/de.wikipedia.org\\/wiki\\/Kernkraftwerk_S%C3%BCd-Ukraine\",\"aktiv\":2},{\"uvps\":[],\"flex\":\"http:\\/\\/flexrisk.boku.ac.at\\/en\\/sites\\/zapo\\/index.html\",\"country\":\"Ukraine\",\"reaktoren\":6,\"id\":224,\"inbau\":0,\"point\":{\"y\":47.51222,\"x\":34.58583},\"inplanung\":0,\"hasUVPs\":false,\"name\":\"Zaporozhe\",\"stillgelegt\":0,\"wikiUrl\":\"http:\\/\\/de.wikipedia.org\\/wiki\\/Kernkraftwerk_Saporischschja\",\"aktiv\":6},{\"uvps\":[{\"fk\":\"59\",\"status\":\"abgeschlossen\",\"titel\":\"UVP KKW Paks Betriebsverlängerung\",\"url\":\"http:\\/\\/www.umweltbundesamt.at\\/umweltschutz\\/uvpsupemas\\/espooverfahren\\/espoo_ungarn\\/uvpkkwpaks\\/\"},{\"fk\":\"59\",\"status\":\"laufend\",\"titel\":\"UVP KKW Paks II\",\"url\":\"http:\\/\\/www.umweltbundesamt.at\\/umweltsituation\\/uvpsup\\/espooverfahren\\/espoo_ungarn\\/uvpkkwpaksii\\/\"}],\"flex\":\"http:\\/\\/flexrisk.boku.ac.at\\/en\\/sites\\/paks\\/index.html\",\"country\":\"Ungarn\",\"reaktoren\":6,\"id\":59,\"inbau\":0,\"point\":{\"y\":46.57391,\"x\":18.85314},\"inplanung\":2,\"hasUVPs\":true,\"name\":\"Paks\",\"stillgelegt\":0,\"wikiUrl\":\"http:\\/\\/de.wikipedia.org\\/wiki\\/Kernkraftwerk_Paks\",\"aktiv\":4},{\"uvps\":[{\"fk\":\"242\",\"status\":\"abgeschlossen\",\"titel\":\"UVP KKW Belarus\",\"url\":\"http:\\/\\/www.umweltbundesamt.at\\/umweltsituation\\/uvpsup\\/espooverfahren\\/espoo_belarus\\/uvpkkwbelarus\\/\"}],\"flex\":\"http:\\/\\/flexrisk.boku.ac.at\\/en\\/sites\\/ostr\\/index.html\",\"country\":\"Weißrussland\",\"reaktoren\":1,\"id\":242,\"inbau\":0,\"point\":{\"y\":54.76189,\"x\":26.11986},\"inplanung\":1,\"hasUVPs\":true,\"name\":\"Ostrovets\",\"stillgelegt\":0,\"wikiUrl\":\"http:\\/\\/en.wikipedia.org\\/wiki\\/Belarusian_nuclear_power_plant_project\",\"aktiv\":0}];"
   ]
  },
  {
   "cell_type": "code",
   "execution_count": 4,
   "metadata": {
    "collapsed": true
   },
   "outputs": [],
   "source": [
    "df = pd.DataFrame(akws)"
   ]
  },
  {
   "cell_type": "code",
   "execution_count": 5,
   "metadata": {},
   "outputs": [
    {
     "data": {
      "text/html": [
       "<div>\n",
       "<style>\n",
       "    .dataframe thead tr:only-child th {\n",
       "        text-align: right;\n",
       "    }\n",
       "\n",
       "    .dataframe thead th {\n",
       "        text-align: left;\n",
       "    }\n",
       "\n",
       "    .dataframe tbody tr th {\n",
       "        vertical-align: top;\n",
       "    }\n",
       "</style>\n",
       "<table border=\"1\" class=\"dataframe\">\n",
       "  <thead>\n",
       "    <tr style=\"text-align: right;\">\n",
       "      <th></th>\n",
       "      <th>aktiv</th>\n",
       "      <th>country</th>\n",
       "      <th>flex</th>\n",
       "      <th>hasUVPs</th>\n",
       "      <th>id</th>\n",
       "      <th>inbau</th>\n",
       "      <th>inplanung</th>\n",
       "      <th>name</th>\n",
       "      <th>point</th>\n",
       "      <th>reaktoren</th>\n",
       "      <th>stillgelegt</th>\n",
       "      <th>uvps</th>\n",
       "      <th>wikiUrl</th>\n",
       "    </tr>\n",
       "  </thead>\n",
       "  <tbody>\n",
       "    <tr>\n",
       "      <th>0</th>\n",
       "      <td>1</td>\n",
       "      <td>Armenien</td>\n",
       "      <td>None</td>\n",
       "      <td>False</td>\n",
       "      <td>125</td>\n",
       "      <td>0</td>\n",
       "      <td>0</td>\n",
       "      <td>Metzamor</td>\n",
       "      <td>{'y': 40.18247, 'x': 44.1425}</td>\n",
       "      <td>2</td>\n",
       "      <td>1</td>\n",
       "      <td>[]</td>\n",
       "      <td>http:\\/\\/de.wikipedia.org\\/wiki\\/Kernkraftwerk_Mezamor</td>\n",
       "    </tr>\n",
       "    <tr>\n",
       "      <th>1</th>\n",
       "      <td>0</td>\n",
       "      <td>Belgien</td>\n",
       "      <td>None</td>\n",
       "      <td>False</td>\n",
       "      <td>128</td>\n",
       "      <td>0</td>\n",
       "      <td>0</td>\n",
       "      <td>BR3-PWR</td>\n",
       "      <td>{'y': 51.21528, 'x': 5.09583}</td>\n",
       "      <td>1</td>\n",
       "      <td>1</td>\n",
       "      <td>[]</td>\n",
       "      <td>http:\\/\\/de.wikipedia.org\\/wiki\\/Studienzentrum_f%C3%BCr_Kernenergie</td>\n",
       "    </tr>\n",
       "    <tr>\n",
       "      <th>2</th>\n",
       "      <td>4</td>\n",
       "      <td>Belgien</td>\n",
       "      <td>http:\\/\\/flexrisk.boku.ac.at\\/en\\/sites\\/doel\\/index.html</td>\n",
       "      <td>False</td>\n",
       "      <td>126</td>\n",
       "      <td>0</td>\n",
       "      <td>0</td>\n",
       "      <td>Doel</td>\n",
       "      <td>{'y': 51.32472, 'x': 4.25875}</td>\n",
       "      <td>4</td>\n",
       "      <td>0</td>\n",
       "      <td>[]</td>\n",
       "      <td>http:\\/\\/de.wikipedia.org\\/wiki\\/Kernkraftwerk_Doel</td>\n",
       "    </tr>\n",
       "    <tr>\n",
       "      <th>3</th>\n",
       "      <td>3</td>\n",
       "      <td>Belgien</td>\n",
       "      <td>http:\\/\\/flexrisk.boku.ac.at\\/en\\/sites\\/tiha\\/index.html</td>\n",
       "      <td>False</td>\n",
       "      <td>127</td>\n",
       "      <td>0</td>\n",
       "      <td>0</td>\n",
       "      <td>Tihange</td>\n",
       "      <td>{'y': 50.53463, 'x': 5.27253}</td>\n",
       "      <td>3</td>\n",
       "      <td>0</td>\n",
       "      <td>[]</td>\n",
       "      <td>http:\\/\\/de.wikipedia.org\\/wiki\\/Kernkraftwerk_Tihange</td>\n",
       "    </tr>\n",
       "    <tr>\n",
       "      <th>4</th>\n",
       "      <td>0</td>\n",
       "      <td>Bulgarien</td>\n",
       "      <td>http:\\/\\/flexrisk.boku.ac.at\\/en\\/sites\\/bele\\/index.html</td>\n",
       "      <td>False</td>\n",
       "      <td>130</td>\n",
       "      <td>0</td>\n",
       "      <td>0</td>\n",
       "      <td>Belene</td>\n",
       "      <td>{'y': 43.63, 'x': 25.19}</td>\n",
       "      <td>2</td>\n",
       "      <td>2</td>\n",
       "      <td>[]</td>\n",
       "      <td>http:\\/\\/de.wikipedia.org\\/wiki\\/Kernkraftwerk_Belene</td>\n",
       "    </tr>\n",
       "  </tbody>\n",
       "</table>\n",
       "</div>"
      ],
      "text/plain": [
       "   aktiv    country  \\\n",
       "0      1   Armenien   \n",
       "1      0    Belgien   \n",
       "2      4    Belgien   \n",
       "3      3    Belgien   \n",
       "4      0  Bulgarien   \n",
       "\n",
       "                                                        flex  hasUVPs   id  \\\n",
       "0                                                       None    False  125   \n",
       "1                                                       None    False  128   \n",
       "2  http:\\/\\/flexrisk.boku.ac.at\\/en\\/sites\\/doel\\/index.html    False  126   \n",
       "3  http:\\/\\/flexrisk.boku.ac.at\\/en\\/sites\\/tiha\\/index.html    False  127   \n",
       "4  http:\\/\\/flexrisk.boku.ac.at\\/en\\/sites\\/bele\\/index.html    False  130   \n",
       "\n",
       "   inbau  inplanung      name                          point  reaktoren  \\\n",
       "0      0          0  Metzamor  {'y': 40.18247, 'x': 44.1425}          2   \n",
       "1      0          0   BR3-PWR  {'y': 51.21528, 'x': 5.09583}          1   \n",
       "2      0          0      Doel  {'y': 51.32472, 'x': 4.25875}          4   \n",
       "3      0          0  Tihange   {'y': 50.53463, 'x': 5.27253}          3   \n",
       "4      0          0    Belene       {'y': 43.63, 'x': 25.19}          2   \n",
       "\n",
       "   stillgelegt uvps  \\\n",
       "0            1   []   \n",
       "1            1   []   \n",
       "2            0   []   \n",
       "3            0   []   \n",
       "4            2   []   \n",
       "\n",
       "                                                                wikiUrl  \n",
       "0                http:\\/\\/de.wikipedia.org\\/wiki\\/Kernkraftwerk_Mezamor  \n",
       "1  http:\\/\\/de.wikipedia.org\\/wiki\\/Studienzentrum_f%C3%BCr_Kernenergie  \n",
       "2                   http:\\/\\/de.wikipedia.org\\/wiki\\/Kernkraftwerk_Doel  \n",
       "3                http:\\/\\/de.wikipedia.org\\/wiki\\/Kernkraftwerk_Tihange  \n",
       "4                 http:\\/\\/de.wikipedia.org\\/wiki\\/Kernkraftwerk_Belene  "
      ]
     },
     "execution_count": 5,
     "metadata": {},
     "output_type": "execute_result"
    }
   ],
   "source": [
    "df.head()"
   ]
  },
  {
   "cell_type": "code",
   "execution_count": 6,
   "metadata": {
    "collapsed": true
   },
   "outputs": [],
   "source": [
    "df = df[['aktiv', 'name', 'point', 'wikiUrl']]"
   ]
  },
  {
   "cell_type": "code",
   "execution_count": 7,
   "metadata": {},
   "outputs": [
    {
     "data": {
      "text/html": [
       "<div>\n",
       "<style>\n",
       "    .dataframe thead tr:only-child th {\n",
       "        text-align: right;\n",
       "    }\n",
       "\n",
       "    .dataframe thead th {\n",
       "        text-align: left;\n",
       "    }\n",
       "\n",
       "    .dataframe tbody tr th {\n",
       "        vertical-align: top;\n",
       "    }\n",
       "</style>\n",
       "<table border=\"1\" class=\"dataframe\">\n",
       "  <thead>\n",
       "    <tr style=\"text-align: right;\">\n",
       "      <th></th>\n",
       "      <th>aktiv</th>\n",
       "      <th>name</th>\n",
       "      <th>point</th>\n",
       "      <th>wikiUrl</th>\n",
       "    </tr>\n",
       "  </thead>\n",
       "  <tbody>\n",
       "    <tr>\n",
       "      <th>0</th>\n",
       "      <td>1</td>\n",
       "      <td>Metzamor</td>\n",
       "      <td>{'y': 40.18247, 'x': 44.1425}</td>\n",
       "      <td>http:\\/\\/de.wikipedia.org\\/wiki\\/Kernkraftwerk_Mezamor</td>\n",
       "    </tr>\n",
       "    <tr>\n",
       "      <th>1</th>\n",
       "      <td>0</td>\n",
       "      <td>BR3-PWR</td>\n",
       "      <td>{'y': 51.21528, 'x': 5.09583}</td>\n",
       "      <td>http:\\/\\/de.wikipedia.org\\/wiki\\/Studienzentrum_f%C3%BCr_Kernenergie</td>\n",
       "    </tr>\n",
       "    <tr>\n",
       "      <th>2</th>\n",
       "      <td>4</td>\n",
       "      <td>Doel</td>\n",
       "      <td>{'y': 51.32472, 'x': 4.25875}</td>\n",
       "      <td>http:\\/\\/de.wikipedia.org\\/wiki\\/Kernkraftwerk_Doel</td>\n",
       "    </tr>\n",
       "    <tr>\n",
       "      <th>3</th>\n",
       "      <td>3</td>\n",
       "      <td>Tihange</td>\n",
       "      <td>{'y': 50.53463, 'x': 5.27253}</td>\n",
       "      <td>http:\\/\\/de.wikipedia.org\\/wiki\\/Kernkraftwerk_Tihange</td>\n",
       "    </tr>\n",
       "    <tr>\n",
       "      <th>4</th>\n",
       "      <td>0</td>\n",
       "      <td>Belene</td>\n",
       "      <td>{'y': 43.63, 'x': 25.19}</td>\n",
       "      <td>http:\\/\\/de.wikipedia.org\\/wiki\\/Kernkraftwerk_Belene</td>\n",
       "    </tr>\n",
       "  </tbody>\n",
       "</table>\n",
       "</div>"
      ],
      "text/plain": [
       "   aktiv      name                          point  \\\n",
       "0      1  Metzamor  {'y': 40.18247, 'x': 44.1425}   \n",
       "1      0   BR3-PWR  {'y': 51.21528, 'x': 5.09583}   \n",
       "2      4      Doel  {'y': 51.32472, 'x': 4.25875}   \n",
       "3      3  Tihange   {'y': 50.53463, 'x': 5.27253}   \n",
       "4      0    Belene       {'y': 43.63, 'x': 25.19}   \n",
       "\n",
       "                                                                wikiUrl  \n",
       "0                http:\\/\\/de.wikipedia.org\\/wiki\\/Kernkraftwerk_Mezamor  \n",
       "1  http:\\/\\/de.wikipedia.org\\/wiki\\/Studienzentrum_f%C3%BCr_Kernenergie  \n",
       "2                   http:\\/\\/de.wikipedia.org\\/wiki\\/Kernkraftwerk_Doel  \n",
       "3                http:\\/\\/de.wikipedia.org\\/wiki\\/Kernkraftwerk_Tihange  \n",
       "4                 http:\\/\\/de.wikipedia.org\\/wiki\\/Kernkraftwerk_Belene  "
      ]
     },
     "execution_count": 7,
     "metadata": {},
     "output_type": "execute_result"
    }
   ],
   "source": [
    "df.head()"
   ]
  },
  {
   "cell_type": "code",
   "execution_count": 8,
   "metadata": {
    "collapsed": true
   },
   "outputs": [],
   "source": [
    "df.point = df.point.astype(str)"
   ]
  },
  {
   "cell_type": "code",
   "execution_count": 9,
   "metadata": {},
   "outputs": [
    {
     "data": {
      "text/html": [
       "<div>\n",
       "<style>\n",
       "    .dataframe thead tr:only-child th {\n",
       "        text-align: right;\n",
       "    }\n",
       "\n",
       "    .dataframe thead th {\n",
       "        text-align: left;\n",
       "    }\n",
       "\n",
       "    .dataframe tbody tr th {\n",
       "        vertical-align: top;\n",
       "    }\n",
       "</style>\n",
       "<table border=\"1\" class=\"dataframe\">\n",
       "  <thead>\n",
       "    <tr style=\"text-align: right;\">\n",
       "      <th></th>\n",
       "      <th>aktiv</th>\n",
       "      <th>name</th>\n",
       "      <th>point</th>\n",
       "      <th>wikiUrl</th>\n",
       "    </tr>\n",
       "  </thead>\n",
       "  <tbody>\n",
       "    <tr>\n",
       "      <th>0</th>\n",
       "      <td>1</td>\n",
       "      <td>Metzamor</td>\n",
       "      <td>{'y': 40.18247, 'x': 44.1425}</td>\n",
       "      <td>http:\\/\\/de.wikipedia.org\\/wiki\\/Kernkraftwerk_Mezamor</td>\n",
       "    </tr>\n",
       "    <tr>\n",
       "      <th>1</th>\n",
       "      <td>0</td>\n",
       "      <td>BR3-PWR</td>\n",
       "      <td>{'y': 51.21528, 'x': 5.09583}</td>\n",
       "      <td>http:\\/\\/de.wikipedia.org\\/wiki\\/Studienzentrum_f%C3%BCr_Kernenergie</td>\n",
       "    </tr>\n",
       "    <tr>\n",
       "      <th>2</th>\n",
       "      <td>4</td>\n",
       "      <td>Doel</td>\n",
       "      <td>{'y': 51.32472, 'x': 4.25875}</td>\n",
       "      <td>http:\\/\\/de.wikipedia.org\\/wiki\\/Kernkraftwerk_Doel</td>\n",
       "    </tr>\n",
       "    <tr>\n",
       "      <th>3</th>\n",
       "      <td>3</td>\n",
       "      <td>Tihange</td>\n",
       "      <td>{'y': 50.53463, 'x': 5.27253}</td>\n",
       "      <td>http:\\/\\/de.wikipedia.org\\/wiki\\/Kernkraftwerk_Tihange</td>\n",
       "    </tr>\n",
       "    <tr>\n",
       "      <th>4</th>\n",
       "      <td>0</td>\n",
       "      <td>Belene</td>\n",
       "      <td>{'y': 43.63, 'x': 25.19}</td>\n",
       "      <td>http:\\/\\/de.wikipedia.org\\/wiki\\/Kernkraftwerk_Belene</td>\n",
       "    </tr>\n",
       "  </tbody>\n",
       "</table>\n",
       "</div>"
      ],
      "text/plain": [
       "   aktiv      name                          point  \\\n",
       "0      1  Metzamor  {'y': 40.18247, 'x': 44.1425}   \n",
       "1      0   BR3-PWR  {'y': 51.21528, 'x': 5.09583}   \n",
       "2      4      Doel  {'y': 51.32472, 'x': 4.25875}   \n",
       "3      3  Tihange   {'y': 50.53463, 'x': 5.27253}   \n",
       "4      0    Belene       {'y': 43.63, 'x': 25.19}   \n",
       "\n",
       "                                                                wikiUrl  \n",
       "0                http:\\/\\/de.wikipedia.org\\/wiki\\/Kernkraftwerk_Mezamor  \n",
       "1  http:\\/\\/de.wikipedia.org\\/wiki\\/Studienzentrum_f%C3%BCr_Kernenergie  \n",
       "2                   http:\\/\\/de.wikipedia.org\\/wiki\\/Kernkraftwerk_Doel  \n",
       "3                http:\\/\\/de.wikipedia.org\\/wiki\\/Kernkraftwerk_Tihange  \n",
       "4                 http:\\/\\/de.wikipedia.org\\/wiki\\/Kernkraftwerk_Belene  "
      ]
     },
     "execution_count": 9,
     "metadata": {},
     "output_type": "execute_result"
    }
   ],
   "source": [
    "df.head()"
   ]
  },
  {
   "cell_type": "code",
   "execution_count": 10,
   "metadata": {
    "collapsed": true
   },
   "outputs": [],
   "source": [
    "df['x'] = df.point.str.split(',').str.get(0)\n",
    "df['y'] = df.point.str.split(',').str.get(1)"
   ]
  },
  {
   "cell_type": "code",
   "execution_count": 11,
   "metadata": {},
   "outputs": [
    {
     "data": {
      "text/plain": [
       "0    {'y': 40.18247\n",
       "1    {'y': 51.21528\n",
       "2    {'y': 51.32472\n",
       "3    {'y': 50.53463\n",
       "4       {'y': 43.63\n",
       "Name: x, dtype: object"
      ]
     },
     "execution_count": 11,
     "metadata": {},
     "output_type": "execute_result"
    }
   ],
   "source": [
    "df.x.head()"
   ]
  },
  {
   "cell_type": "code",
   "execution_count": 12,
   "metadata": {
    "collapsed": true
   },
   "outputs": [],
   "source": [
    "df.x = df.x.str.replace('}|{', '')"
   ]
  },
  {
   "cell_type": "code",
   "execution_count": 13,
   "metadata": {
    "collapsed": true
   },
   "outputs": [],
   "source": [
    "df.x = df.x.str.replace('\\'x\\': ', '')\n",
    "df.y = df.y.str.replace('\\'x\\': ', '')"
   ]
  },
  {
   "cell_type": "code",
   "execution_count": 14,
   "metadata": {},
   "outputs": [
    {
     "data": {
      "text/html": [
       "<div>\n",
       "<style>\n",
       "    .dataframe thead tr:only-child th {\n",
       "        text-align: right;\n",
       "    }\n",
       "\n",
       "    .dataframe thead th {\n",
       "        text-align: left;\n",
       "    }\n",
       "\n",
       "    .dataframe tbody tr th {\n",
       "        vertical-align: top;\n",
       "    }\n",
       "</style>\n",
       "<table border=\"1\" class=\"dataframe\">\n",
       "  <thead>\n",
       "    <tr style=\"text-align: right;\">\n",
       "      <th></th>\n",
       "      <th>aktiv</th>\n",
       "      <th>name</th>\n",
       "      <th>point</th>\n",
       "      <th>wikiUrl</th>\n",
       "      <th>x</th>\n",
       "      <th>y</th>\n",
       "    </tr>\n",
       "  </thead>\n",
       "  <tbody>\n",
       "    <tr>\n",
       "      <th>0</th>\n",
       "      <td>1</td>\n",
       "      <td>Metzamor</td>\n",
       "      <td>{'y': 40.18247, 'x': 44.1425}</td>\n",
       "      <td>http:\\/\\/de.wikipedia.org\\/wiki\\/Kernkraftwerk_Mezamor</td>\n",
       "      <td>'y': 40.18247</td>\n",
       "      <td>44.1425}</td>\n",
       "    </tr>\n",
       "    <tr>\n",
       "      <th>1</th>\n",
       "      <td>0</td>\n",
       "      <td>BR3-PWR</td>\n",
       "      <td>{'y': 51.21528, 'x': 5.09583}</td>\n",
       "      <td>http:\\/\\/de.wikipedia.org\\/wiki\\/Studienzentrum_f%C3%BCr_Kernenergie</td>\n",
       "      <td>'y': 51.21528</td>\n",
       "      <td>5.09583}</td>\n",
       "    </tr>\n",
       "    <tr>\n",
       "      <th>2</th>\n",
       "      <td>4</td>\n",
       "      <td>Doel</td>\n",
       "      <td>{'y': 51.32472, 'x': 4.25875}</td>\n",
       "      <td>http:\\/\\/de.wikipedia.org\\/wiki\\/Kernkraftwerk_Doel</td>\n",
       "      <td>'y': 51.32472</td>\n",
       "      <td>4.25875}</td>\n",
       "    </tr>\n",
       "    <tr>\n",
       "      <th>3</th>\n",
       "      <td>3</td>\n",
       "      <td>Tihange</td>\n",
       "      <td>{'y': 50.53463, 'x': 5.27253}</td>\n",
       "      <td>http:\\/\\/de.wikipedia.org\\/wiki\\/Kernkraftwerk_Tihange</td>\n",
       "      <td>'y': 50.53463</td>\n",
       "      <td>5.27253}</td>\n",
       "    </tr>\n",
       "    <tr>\n",
       "      <th>4</th>\n",
       "      <td>0</td>\n",
       "      <td>Belene</td>\n",
       "      <td>{'y': 43.63, 'x': 25.19}</td>\n",
       "      <td>http:\\/\\/de.wikipedia.org\\/wiki\\/Kernkraftwerk_Belene</td>\n",
       "      <td>'y': 43.63</td>\n",
       "      <td>25.19}</td>\n",
       "    </tr>\n",
       "  </tbody>\n",
       "</table>\n",
       "</div>"
      ],
      "text/plain": [
       "   aktiv      name                          point  \\\n",
       "0      1  Metzamor  {'y': 40.18247, 'x': 44.1425}   \n",
       "1      0   BR3-PWR  {'y': 51.21528, 'x': 5.09583}   \n",
       "2      4      Doel  {'y': 51.32472, 'x': 4.25875}   \n",
       "3      3  Tihange   {'y': 50.53463, 'x': 5.27253}   \n",
       "4      0    Belene       {'y': 43.63, 'x': 25.19}   \n",
       "\n",
       "                                                                wikiUrl  \\\n",
       "0                http:\\/\\/de.wikipedia.org\\/wiki\\/Kernkraftwerk_Mezamor   \n",
       "1  http:\\/\\/de.wikipedia.org\\/wiki\\/Studienzentrum_f%C3%BCr_Kernenergie   \n",
       "2                   http:\\/\\/de.wikipedia.org\\/wiki\\/Kernkraftwerk_Doel   \n",
       "3                http:\\/\\/de.wikipedia.org\\/wiki\\/Kernkraftwerk_Tihange   \n",
       "4                 http:\\/\\/de.wikipedia.org\\/wiki\\/Kernkraftwerk_Belene   \n",
       "\n",
       "               x          y  \n",
       "0  'y': 40.18247   44.1425}  \n",
       "1  'y': 51.21528   5.09583}  \n",
       "2  'y': 51.32472   4.25875}  \n",
       "3  'y': 50.53463   5.27253}  \n",
       "4     'y': 43.63     25.19}  "
      ]
     },
     "execution_count": 14,
     "metadata": {},
     "output_type": "execute_result"
    }
   ],
   "source": [
    "df.head()"
   ]
  },
  {
   "cell_type": "code",
   "execution_count": 15,
   "metadata": {
    "collapsed": true
   },
   "outputs": [],
   "source": [
    "df.y = df.y.str.replace('\\'y\\': ', '')\n",
    "df.x = df.x.str.replace('\\'y\\': ', '')"
   ]
  },
  {
   "cell_type": "code",
   "execution_count": 16,
   "metadata": {
    "collapsed": true
   },
   "outputs": [],
   "source": [
    "df.y = df.y.str.replace('}|{', '')"
   ]
  },
  {
   "cell_type": "code",
   "execution_count": 17,
   "metadata": {},
   "outputs": [
    {
     "data": {
      "text/html": [
       "<div>\n",
       "<style>\n",
       "    .dataframe thead tr:only-child th {\n",
       "        text-align: right;\n",
       "    }\n",
       "\n",
       "    .dataframe thead th {\n",
       "        text-align: left;\n",
       "    }\n",
       "\n",
       "    .dataframe tbody tr th {\n",
       "        vertical-align: top;\n",
       "    }\n",
       "</style>\n",
       "<table border=\"1\" class=\"dataframe\">\n",
       "  <thead>\n",
       "    <tr style=\"text-align: right;\">\n",
       "      <th></th>\n",
       "      <th>aktiv</th>\n",
       "      <th>name</th>\n",
       "      <th>point</th>\n",
       "      <th>wikiUrl</th>\n",
       "      <th>x</th>\n",
       "      <th>y</th>\n",
       "    </tr>\n",
       "  </thead>\n",
       "  <tbody>\n",
       "    <tr>\n",
       "      <th>0</th>\n",
       "      <td>1</td>\n",
       "      <td>Metzamor</td>\n",
       "      <td>{'y': 40.18247, 'x': 44.1425}</td>\n",
       "      <td>http:\\/\\/de.wikipedia.org\\/wiki\\/Kernkraftwerk_Mezamor</td>\n",
       "      <td>40.18247</td>\n",
       "      <td>44.1425</td>\n",
       "    </tr>\n",
       "    <tr>\n",
       "      <th>1</th>\n",
       "      <td>0</td>\n",
       "      <td>BR3-PWR</td>\n",
       "      <td>{'y': 51.21528, 'x': 5.09583}</td>\n",
       "      <td>http:\\/\\/de.wikipedia.org\\/wiki\\/Studienzentrum_f%C3%BCr_Kernenergie</td>\n",
       "      <td>51.21528</td>\n",
       "      <td>5.09583</td>\n",
       "    </tr>\n",
       "    <tr>\n",
       "      <th>2</th>\n",
       "      <td>4</td>\n",
       "      <td>Doel</td>\n",
       "      <td>{'y': 51.32472, 'x': 4.25875}</td>\n",
       "      <td>http:\\/\\/de.wikipedia.org\\/wiki\\/Kernkraftwerk_Doel</td>\n",
       "      <td>51.32472</td>\n",
       "      <td>4.25875</td>\n",
       "    </tr>\n",
       "    <tr>\n",
       "      <th>3</th>\n",
       "      <td>3</td>\n",
       "      <td>Tihange</td>\n",
       "      <td>{'y': 50.53463, 'x': 5.27253}</td>\n",
       "      <td>http:\\/\\/de.wikipedia.org\\/wiki\\/Kernkraftwerk_Tihange</td>\n",
       "      <td>50.53463</td>\n",
       "      <td>5.27253</td>\n",
       "    </tr>\n",
       "    <tr>\n",
       "      <th>4</th>\n",
       "      <td>0</td>\n",
       "      <td>Belene</td>\n",
       "      <td>{'y': 43.63, 'x': 25.19}</td>\n",
       "      <td>http:\\/\\/de.wikipedia.org\\/wiki\\/Kernkraftwerk_Belene</td>\n",
       "      <td>43.63</td>\n",
       "      <td>25.19</td>\n",
       "    </tr>\n",
       "  </tbody>\n",
       "</table>\n",
       "</div>"
      ],
      "text/plain": [
       "   aktiv      name                          point  \\\n",
       "0      1  Metzamor  {'y': 40.18247, 'x': 44.1425}   \n",
       "1      0   BR3-PWR  {'y': 51.21528, 'x': 5.09583}   \n",
       "2      4      Doel  {'y': 51.32472, 'x': 4.25875}   \n",
       "3      3  Tihange   {'y': 50.53463, 'x': 5.27253}   \n",
       "4      0    Belene       {'y': 43.63, 'x': 25.19}   \n",
       "\n",
       "                                                                wikiUrl  \\\n",
       "0                http:\\/\\/de.wikipedia.org\\/wiki\\/Kernkraftwerk_Mezamor   \n",
       "1  http:\\/\\/de.wikipedia.org\\/wiki\\/Studienzentrum_f%C3%BCr_Kernenergie   \n",
       "2                   http:\\/\\/de.wikipedia.org\\/wiki\\/Kernkraftwerk_Doel   \n",
       "3                http:\\/\\/de.wikipedia.org\\/wiki\\/Kernkraftwerk_Tihange   \n",
       "4                 http:\\/\\/de.wikipedia.org\\/wiki\\/Kernkraftwerk_Belene   \n",
       "\n",
       "          x         y  \n",
       "0  40.18247   44.1425  \n",
       "1  51.21528   5.09583  \n",
       "2  51.32472   4.25875  \n",
       "3  50.53463   5.27253  \n",
       "4     43.63     25.19  "
      ]
     },
     "execution_count": 17,
     "metadata": {},
     "output_type": "execute_result"
    }
   ],
   "source": [
    "df.head()"
   ]
  },
  {
   "cell_type": "code",
   "execution_count": 18,
   "metadata": {},
   "outputs": [],
   "source": [
    "df.x = df.x.astype(float)\n",
    "df.y = df.y.astype(float)"
   ]
  },
  {
   "cell_type": "code",
   "execution_count": 19,
   "metadata": {},
   "outputs": [
    {
     "data": {
      "text/plain": [
       "aktiv        int64\n",
       "name        object\n",
       "point       object\n",
       "wikiUrl     object\n",
       "x          float64\n",
       "y          float64\n",
       "dtype: object"
      ]
     },
     "execution_count": 19,
     "metadata": {},
     "output_type": "execute_result"
    }
   ],
   "source": [
    "df.dtypes"
   ]
  },
  {
   "cell_type": "code",
   "execution_count": 35,
   "metadata": {
    "collapsed": true
   },
   "outputs": [],
   "source": [
    "df['ort'] = df.apply(lambda x: [x.x, x.y], axis=1)"
   ]
  },
  {
   "cell_type": "code",
   "execution_count": 36,
   "metadata": {},
   "outputs": [
    {
     "data": {
      "text/plain": [
       "[40.18247, 44.1425]"
      ]
     },
     "execution_count": 36,
     "metadata": {},
     "output_type": "execute_result"
    }
   ],
   "source": [
    "df.ort[0]"
   ]
  },
  {
   "cell_type": "markdown",
   "metadata": {},
   "source": [
    "## Make a map "
   ]
  },
  {
   "cell_type": "code",
   "execution_count": 37,
   "metadata": {
    "collapsed": true
   },
   "outputs": [],
   "source": [
    "import folium "
   ]
  },
  {
   "cell_type": "code",
   "execution_count": 38,
   "metadata": {
    "collapsed": true
   },
   "outputs": [],
   "source": [
    "# Sort for active power plants \n",
    "df1 = df[df.aktiv > 0]"
   ]
  },
  {
   "cell_type": "code",
   "execution_count": 39,
   "metadata": {},
   "outputs": [
    {
     "data": {
      "text/plain": [
       "76"
      ]
     },
     "execution_count": 39,
     "metadata": {},
     "output_type": "execute_result"
    }
   ],
   "source": [
    "locations = df1.ort\n",
    "len(locations)"
   ]
  },
  {
   "cell_type": "code",
   "execution_count": 40,
   "metadata": {
    "collapsed": true
   },
   "outputs": [],
   "source": [
    "names = list(df1.name)"
   ]
  },
  {
   "cell_type": "code",
   "execution_count": 41,
   "metadata": {
    "collapsed": true
   },
   "outputs": [],
   "source": [
    "locations = locations.values.tolist()"
   ]
  },
  {
   "cell_type": "code",
   "execution_count": 42,
   "metadata": {},
   "outputs": [
    {
     "data": {
      "text/html": [
       "<div style=\"width:100%;\"><div style=\"position:relative;width:100%;height:0;padding-bottom:60%;\"><iframe src=\"data:text/html;charset=utf-8;base64,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\" style=\"position:absolute;width:100%;height:100%;left:0;top:0;border:none !important;\" allowfullscreen webkitallowfullscreen mozallowfullscreen></iframe></div></div>"
      ],
      "text/plain": [
       "<folium.folium.Map at 0x743f00def0>"
      ]
     },
     "execution_count": 42,
     "metadata": {},
     "output_type": "execute_result"
    }
   ],
   "source": [
    "cm = folium.Map([50.962857, 7.0], zoom_start=4)\n",
    "for location, popup, in zip(locations, names):\n",
    "    folium.Marker(location=location, popup=popup).add_to(cm)\n",
    "cm"
   ]
  },
  {
   "cell_type": "code",
   "execution_count": 43,
   "metadata": {},
   "outputs": [
    {
     "data": {
      "text/html": [
       "<div>\n",
       "<style>\n",
       "    .dataframe thead tr:only-child th {\n",
       "        text-align: right;\n",
       "    }\n",
       "\n",
       "    .dataframe thead th {\n",
       "        text-align: left;\n",
       "    }\n",
       "\n",
       "    .dataframe tbody tr th {\n",
       "        vertical-align: top;\n",
       "    }\n",
       "</style>\n",
       "<table border=\"1\" class=\"dataframe\">\n",
       "  <thead>\n",
       "    <tr style=\"text-align: right;\">\n",
       "      <th></th>\n",
       "      <th>aktiv</th>\n",
       "      <th>name</th>\n",
       "      <th>point</th>\n",
       "      <th>wikiUrl</th>\n",
       "      <th>x</th>\n",
       "      <th>y</th>\n",
       "      <th>ort</th>\n",
       "    </tr>\n",
       "  </thead>\n",
       "  <tbody>\n",
       "    <tr>\n",
       "      <th>0</th>\n",
       "      <td>1</td>\n",
       "      <td>Metzamor</td>\n",
       "      <td>{'y': 40.18247, 'x': 44.1425}</td>\n",
       "      <td>http:\\/\\/de.wikipedia.org\\/wiki\\/Kernkraftwerk_Mezamor</td>\n",
       "      <td>40.18247</td>\n",
       "      <td>44.14250</td>\n",
       "      <td>[40.18247, 44.1425]</td>\n",
       "    </tr>\n",
       "    <tr>\n",
       "      <th>1</th>\n",
       "      <td>0</td>\n",
       "      <td>BR3-PWR</td>\n",
       "      <td>{'y': 51.21528, 'x': 5.09583}</td>\n",
       "      <td>http:\\/\\/de.wikipedia.org\\/wiki\\/Studienzentrum_f%C3%BCr_Kernenergie</td>\n",
       "      <td>51.21528</td>\n",
       "      <td>5.09583</td>\n",
       "      <td>[51.21528, 5.09583]</td>\n",
       "    </tr>\n",
       "    <tr>\n",
       "      <th>2</th>\n",
       "      <td>4</td>\n",
       "      <td>Doel</td>\n",
       "      <td>{'y': 51.32472, 'x': 4.25875}</td>\n",
       "      <td>http:\\/\\/de.wikipedia.org\\/wiki\\/Kernkraftwerk_Doel</td>\n",
       "      <td>51.32472</td>\n",
       "      <td>4.25875</td>\n",
       "      <td>[51.32472, 4.25875]</td>\n",
       "    </tr>\n",
       "    <tr>\n",
       "      <th>3</th>\n",
       "      <td>3</td>\n",
       "      <td>Tihange</td>\n",
       "      <td>{'y': 50.53463, 'x': 5.27253}</td>\n",
       "      <td>http:\\/\\/de.wikipedia.org\\/wiki\\/Kernkraftwerk_Tihange</td>\n",
       "      <td>50.53463</td>\n",
       "      <td>5.27253</td>\n",
       "      <td>[50.53463, 5.27253]</td>\n",
       "    </tr>\n",
       "    <tr>\n",
       "      <th>4</th>\n",
       "      <td>0</td>\n",
       "      <td>Belene</td>\n",
       "      <td>{'y': 43.63, 'x': 25.19}</td>\n",
       "      <td>http:\\/\\/de.wikipedia.org\\/wiki\\/Kernkraftwerk_Belene</td>\n",
       "      <td>43.63000</td>\n",
       "      <td>25.19000</td>\n",
       "      <td>[43.63, 25.19]</td>\n",
       "    </tr>\n",
       "  </tbody>\n",
       "</table>\n",
       "</div>"
      ],
      "text/plain": [
       "   aktiv      name                          point  \\\n",
       "0      1  Metzamor  {'y': 40.18247, 'x': 44.1425}   \n",
       "1      0   BR3-PWR  {'y': 51.21528, 'x': 5.09583}   \n",
       "2      4      Doel  {'y': 51.32472, 'x': 4.25875}   \n",
       "3      3  Tihange   {'y': 50.53463, 'x': 5.27253}   \n",
       "4      0    Belene       {'y': 43.63, 'x': 25.19}   \n",
       "\n",
       "                                                                wikiUrl  \\\n",
       "0                http:\\/\\/de.wikipedia.org\\/wiki\\/Kernkraftwerk_Mezamor   \n",
       "1  http:\\/\\/de.wikipedia.org\\/wiki\\/Studienzentrum_f%C3%BCr_Kernenergie   \n",
       "2                   http:\\/\\/de.wikipedia.org\\/wiki\\/Kernkraftwerk_Doel   \n",
       "3                http:\\/\\/de.wikipedia.org\\/wiki\\/Kernkraftwerk_Tihange   \n",
       "4                 http:\\/\\/de.wikipedia.org\\/wiki\\/Kernkraftwerk_Belene   \n",
       "\n",
       "          x         y                  ort  \n",
       "0  40.18247  44.14250  [40.18247, 44.1425]  \n",
       "1  51.21528   5.09583  [51.21528, 5.09583]  \n",
       "2  51.32472   4.25875  [51.32472, 4.25875]  \n",
       "3  50.53463   5.27253  [50.53463, 5.27253]  \n",
       "4  43.63000  25.19000       [43.63, 25.19]  "
      ]
     },
     "execution_count": 43,
     "metadata": {},
     "output_type": "execute_result"
    }
   ],
   "source": [
    "df.head()"
   ]
  },
  {
   "cell_type": "markdown",
   "metadata": {
    "collapsed": true
   },
   "source": [
    "### YOU DO IT \n",
    "Make a map of all the power plants that are shut down"
   ]
  },
  {
   "cell_type": "code",
   "execution_count": 50,
   "metadata": {},
   "outputs": [],
   "source": [
    "# Filter for shut down power plants \n",
    "df0 = df[df.aktiv == 0]"
   ]
  },
  {
   "cell_type": "code",
   "execution_count": 57,
   "metadata": {},
   "outputs": [
    {
     "data": {
      "text/plain": [
       "61"
      ]
     },
     "execution_count": 57,
     "metadata": {},
     "output_type": "execute_result"
    }
   ],
   "source": [
    "locations0 = df0.ort\n",
    "len(locations)"
   ]
  },
  {
   "cell_type": "code",
   "execution_count": 58,
   "metadata": {
    "collapsed": true
   },
   "outputs": [],
   "source": [
    "names0 = list(df0.name)"
   ]
  },
  {
   "cell_type": "code",
   "execution_count": 59,
   "metadata": {},
   "outputs": [
    {
     "data": {
      "text/plain": [
       "'BR3-PWR'"
      ]
     },
     "execution_count": 59,
     "metadata": {},
     "output_type": "execute_result"
    }
   ],
   "source": [
    "names0[0]"
   ]
  },
  {
   "cell_type": "code",
   "execution_count": 60,
   "metadata": {
    "collapsed": true
   },
   "outputs": [],
   "source": [
    "locations0 = locations0.values.tolist()"
   ]
  },
  {
   "cell_type": "code",
   "execution_count": 61,
   "metadata": {},
   "outputs": [
    {
     "data": {
      "text/plain": [
       "[51.21528, 5.09583]"
      ]
     },
     "execution_count": 61,
     "metadata": {},
     "output_type": "execute_result"
    }
   ],
   "source": [
    "locations0[0]"
   ]
  },
  {
   "cell_type": "code",
   "execution_count": 62,
   "metadata": {},
   "outputs": [
    {
     "data": {
      "text/html": [
       "<div style=\"width:100%;\"><div style=\"position:relative;width:100%;height:0;padding-bottom:60%;\"><iframe src=\"data:text/html;charset=utf-8;base64,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\" style=\"position:absolute;width:100%;height:100%;left:0;top:0;border:none !important;\" allowfullscreen webkitallowfullscreen mozallowfullscreen></iframe></div></div>"
      ],
      "text/plain": [
       "<folium.folium.Map at 0x743ec46c88>"
      ]
     },
     "execution_count": 62,
     "metadata": {},
     "output_type": "execute_result"
    }
   ],
   "source": [
    "cm = folium.Map([50.962857, 7.0], zoom_start=4)\n",
    "for location, popup, in zip(locations0, names0):\n",
    "    folium.Marker(location=location, popup=popup).add_to(cm)\n",
    "cm"
   ]
  }
 ],
 "metadata": {
  "kernelspec": {
   "display_name": "Python 3",
   "language": "python",
   "name": "python3"
  },
  "language_info": {
   "codemirror_mode": {
    "name": "ipython",
    "version": 3
   },
   "file_extension": ".py",
   "mimetype": "text/x-python",
   "name": "python",
   "nbconvert_exporter": "python",
   "pygments_lexer": "ipython3",
   "version": "3.5.2"
  }
 },
 "nbformat": 4,
 "nbformat_minor": 2
}
