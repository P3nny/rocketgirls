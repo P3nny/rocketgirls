{
 "cells": [
  {
   "cell_type": "markdown",
   "metadata": {
    "deletable": true,
    "editable": true
   },
   "source": [
    "# Atomkraftwerke in Europa \n",
    "- Inspect Element \n",
    "- Debugger \n",
    "- mapFull.jsp\n",
    "- var akws > strg-c, strg-v\n",
    "\n",
    "[http://www5.umweltbundesamt.at/akwmap/mapFull.jsp]\n",
    "\n",
    "0 = stillgelegt\n",
    "\n",
    "4 = in Betrieb "
   ]
  },
  {
   "cell_type": "code",
   "execution_count": 1,
   "metadata": {
    "collapsed": true,
    "deletable": true,
    "editable": true
   },
   "outputs": [],
   "source": [
    "import pandas as pd\n",
    "import numpy as np\n",
    "import matplotlib.pyplot as plt\n",
    "% matplotlib inline\n",
    "\n",
    "pd.options.display.max_rows = 999\n",
    "pd.options.display.max_colwidth = 1000"
   ]
  },
  {
   "cell_type": "code",
   "execution_count": 2,
   "metadata": {
    "collapsed": true,
    "deletable": true,
    "editable": true
   },
   "outputs": [],
   "source": [
    "null = None\n",
    "false = False\n",
    "true = True"
   ]
  },
  {
   "cell_type": "code",
   "execution_count": 3,
   "metadata": {
    "collapsed": true,
    "deletable": true,
    "editable": true
   },
   "outputs": [],
   "source": [
    "akws = [{\"uvps\":[],\"flex\":null,\"country\":\"Armenien\",\"reaktoren\":2,\"id\":125,\"inbau\":0,\"point\":{\"y\":40.18247,\"x\":44.1425},\"inplanung\":0,\"hasUVPs\":false,\"name\":\"Metzamor\",\"stillgelegt\":1,\"wikiUrl\":\"http:\\/\\/de.wikipedia.org\\/wiki\\/Kernkraftwerk_Mezamor\",\"aktiv\":1},{\"uvps\":[],\"flex\":null,\"country\":\"Belgien\",\"reaktoren\":1,\"id\":128,\"inbau\":0,\"point\":{\"y\":51.21528,\"x\":5.09583},\"inplanung\":0,\"hasUVPs\":false,\"name\":\"BR3-PWR\",\"stillgelegt\":1,\"wikiUrl\":\"http:\\/\\/de.wikipedia.org\\/wiki\\/Studienzentrum_f%C3%BCr_Kernenergie\",\"aktiv\":0},{\"uvps\":[],\"flex\":\"http:\\/\\/flexrisk.boku.ac.at\\/en\\/sites\\/doel\\/index.html\",\"country\":\"Belgien\",\"reaktoren\":4,\"id\":126,\"inbau\":0,\"point\":{\"y\":51.32472,\"x\":4.25875},\"inplanung\":0,\"hasUVPs\":false,\"name\":\"Doel\",\"stillgelegt\":0,\"wikiUrl\":\"http:\\/\\/de.wikipedia.org\\/wiki\\/Kernkraftwerk_Doel\",\"aktiv\":4},{\"uvps\":[],\"flex\":\"http:\\/\\/flexrisk.boku.ac.at\\/en\\/sites\\/tiha\\/index.html\",\"country\":\"Belgien\",\"reaktoren\":3,\"id\":127,\"inbau\":0,\"point\":{\"y\":50.53463,\"x\":5.27253},\"inplanung\":0,\"hasUVPs\":false,\"name\":\"Tihange \",\"stillgelegt\":0,\"wikiUrl\":\"http:\\/\\/de.wikipedia.org\\/wiki\\/Kernkraftwerk_Tihange\",\"aktiv\":3},{\"uvps\":[],\"flex\":\"http:\\/\\/flexrisk.boku.ac.at\\/en\\/sites\\/bele\\/index.html\",\"country\":\"Bulgarien\",\"reaktoren\":2,\"id\":130,\"inbau\":0,\"point\":{\"y\":43.63,\"x\":25.19},\"inplanung\":0,\"hasUVPs\":false,\"name\":\"Belene\",\"stillgelegt\":2,\"wikiUrl\":\"http:\\/\\/de.wikipedia.org\\/wiki\\/Kernkraftwerk_Belene\",\"aktiv\":0},{\"uvps\":[{\"fk\":\"129\",\"status\":\"laufend\",\"titel\":\"UVP-Verfahren KKW Kozloduy 7\",\"url\":\"http:\\/\\/www.umweltbundesamt.at\\/umweltsituation\\/uvpsup\\/espooverfahren\\/espoo_bulgarien\\/uvp_kkw_kozloduy_7\\/\"}],\"flex\":\"http:\\/\\/flexrisk.boku.ac.at\\/en\\/sites\\/kozl\\/index.html\",\"country\":\"Bulgarien\",\"reaktoren\":6,\"id\":129,\"inbau\":0,\"point\":{\"y\":43.74614,\"x\":23.77051},\"inplanung\":0,\"hasUVPs\":true,\"name\":\"Kozloduy\",\"stillgelegt\":4,\"wikiUrl\":\"http:\\/\\/de.wikipedia.org\\/wiki\\/Kernkraftwerk_Kosloduj\",\"aktiv\":2},{\"uvps\":[{\"fk\":\"34\",\"status\":\"abgeschlossen\",\"titel\":\"UVP Brennelemente-Zwischenlager Biblis\",\"url\":\"http:\\/\\/www.umweltbundesamt.at\\/umweltschutz\\/uvpsupemas\\/espooverfahren\\/espoo_de\\/zwilag_de\\/\"}],\"flex\":null,\"country\":\"Deutschland\",\"reaktoren\":2,\"id\":34,\"inbau\":0,\"point\":{\"y\":49.71016,\"x\":8.41441},\"inplanung\":0,\"hasUVPs\":true,\"name\":\"Biblis\",\"stillgelegt\":2,\"wikiUrl\":\"http:\\/\\/de.wikipedia.org\\/wiki\\/Kernkraftwerk_Biblis\",\"aktiv\":0},{\"uvps\":[],\"flex\":\"http:\\/\\/flexrisk.boku.ac.at\\/en\\/sites\\/brok\\/index.html\",\"country\":\"Deutschland\",\"reaktoren\":1,\"id\":35,\"inbau\":0,\"point\":{\"y\":53.85083,\"x\":9.34472},\"inplanung\":0,\"hasUVPs\":false,\"name\":\"Brokdorf\",\"stillgelegt\":0,\"wikiUrl\":\"http:\\/\\/de.wikipedia.org\\/wiki\\/Kernkraftwerk_Brokdorf\",\"aktiv\":1},{\"uvps\":[],\"flex\":null,\"country\":\"Deutschland\",\"reaktoren\":1,\"id\":36,\"inbau\":0,\"point\":{\"y\":53.89167,\"x\":9.20167},\"inplanung\":0,\"hasUVPs\":false,\"name\":\"Brunsbüttel\",\"stillgelegt\":1,\"wikiUrl\":\"http:\\/\\/de.wikipedia.org\\/wiki\\/Kernkraftwerk_Brunsb%C3%BCttel\",\"aktiv\":0},{\"uvps\":[],\"flex\":\"http:\\/\\/flexrisk.boku.ac.at\\/en\\/sites\\/emsl\\/index.html\",\"country\":\"Deutschland\",\"reaktoren\":1,\"id\":37,\"inbau\":0,\"point\":{\"y\":52.47174,\"x\":7.3205},\"inplanung\":0,\"hasUVPs\":false,\"name\":\"Emsland KKE\",\"stillgelegt\":0,\"wikiUrl\":\"http:\\/\\/de.wikipedia.org\\/wiki\\/Kernkraftwerk_Emsland\",\"aktiv\":1},{\"uvps\":[{\"fk\":\"38\",\"status\":\"abgeschlossen\",\"titel\":\"UVP Brennelemente-Zwischenlager Grafenrheinfeld\",\"url\":\"http:\\/\\/www.umweltbundesamt.at\\/umweltschutz\\/uvpsupemas\\/espooverfahren\\/espoo_de\\/zwilag_de\\/\"}],\"flex\":\"http:\\/\\/flexrisk.boku.ac.at\\/en\\/sites\\/graf\\/index.html\",\"country\":\"Deutschland\",\"reaktoren\":1,\"id\":38,\"inbau\":0,\"point\":{\"y\":49.98368,\"x\":10.18295},\"inplanung\":0,\"hasUVPs\":true,\"name\":\"Grafenrheinfeld\",\"stillgelegt\":0,\"wikiUrl\":\"http:\\/\\/de.wikipedia.org\\/wiki\\/Kernkraftwerk_Grafenrheinfeld\",\"aktiv\":1},{\"uvps\":[],\"flex\":null,\"country\":\"Deutschland\",\"reaktoren\":8,\"id\":230,\"inbau\":0,\"point\":{\"y\":54.14059,\"x\":13.66442},\"inplanung\":0,\"hasUVPs\":false,\"name\":\"Greifswald\",\"stillgelegt\":8,\"wikiUrl\":\"http:\\/\\/de.wikipedia.org\\/wiki\\/Kernkraftwerk_Greifswald\",\"aktiv\":0},{\"uvps\":[],\"flex\":\"http:\\/\\/flexrisk.boku.ac.at\\/en\\/sites\\/groh\\/index.html\",\"country\":\"Deutschland\",\"reaktoren\":1,\"id\":40,\"inbau\":0,\"point\":{\"y\":52.03539,\"x\":9.41202},\"inplanung\":0,\"hasUVPs\":false,\"name\":\"Grohnde\",\"stillgelegt\":0,\"wikiUrl\":\"http:\\/\\/de.wikipedia.org\\/wiki\\/Kernkraftwerk_Grohnde\",\"aktiv\":1},{\"uvps\":[],\"flex\":null,\"country\":\"Deutschland\",\"reaktoren\":1,\"id\":235,\"inbau\":0,\"point\":{\"y\":50.05912,\"x\":8.98728},\"inplanung\":0,\"hasUVPs\":false,\"name\":\"Großwelzheim\",\"stillgelegt\":1,\"wikiUrl\":\"http:\\/\\/de.wikipedia.org\\/wiki\\/Kernkraftwerk_Gro%C3%9Fwelzheim\",\"aktiv\":0},{\"uvps\":[{\"fk\":\"41\",\"status\":\"abgeschlossen\",\"titel\":\"UVP Brennelemente-Zwischenlager Gundremmingen\",\"url\":\"http:\\/\\/www.umweltbundesamt.at\\/umweltschutz\\/uvpsupemas\\/espooverfahren\\/espoo_de\\/zwilag_gundrem\\/\"}],\"flex\":\"http:\\/\\/flexrisk.boku.ac.at\\/en\\/sites\\/gund\\/index.html\",\"country\":\"Deutschland\",\"reaktoren\":3,\"id\":41,\"inbau\":0,\"point\":{\"y\":48.51467,\"x\":10.40285},\"inplanung\":0,\"hasUVPs\":true,\"name\":\"Gundremmingen\",\"stillgelegt\":1,\"wikiUrl\":\"http:\\/\\/de.wikipedia.org\\/wiki\\/Kernkraftwerk_Gundremmingen\",\"aktiv\":2},{\"uvps\":[],\"flex\":null,\"country\":\"Deutschland\",\"reaktoren\":1,\"id\":229,\"inbau\":0,\"point\":{\"y\":51.6793,\"x\":7.97156},\"inplanung\":0,\"hasUVPs\":false,\"name\":\"Hamm-Uentrop\",\"stillgelegt\":1,\"wikiUrl\":\"http:\\/\\/de.wikipedia.org\\/wiki\\/Kernkraftwerk_THTR-300\",\"aktiv\":0},{\"uvps\":[{\"fk\":\"43\",\"status\":\"abgeschlossen\",\"titel\":\"UVP Brennelement-Behälterlager Isar\\/Niederaichbach\",\"url\":\"http:\\/\\/www.umweltbundesamt.at\\/umweltschutz\\/uvpsupemas\\/espooverfahren\\/espoo_de\\/isar\\/\"}],\"flex\":\"http:\\/\\/flexrisk.boku.ac.at\\/en\\/sites\\/isar\\/index.html\",\"country\":\"Deutschland\",\"reaktoren\":3,\"id\":43,\"inbau\":0,\"point\":{\"y\":48.60471,\"x\":12.29233},\"inplanung\":0,\"hasUVPs\":true,\"name\":\"Isar\",\"stillgelegt\":2,\"wikiUrl\":\"http:\\/\\/de.wikipedia.org\\/wiki\\/Kernkraftwerk_Isar\",\"aktiv\":1},{\"uvps\":[],\"flex\":null,\"country\":\"Deutschland\",\"reaktoren\":1,\"id\":234,\"inbau\":0,\"point\":{\"y\":50.90294,\"x\":6.42121},\"inplanung\":0,\"hasUVPs\":false,\"name\":\"Jülich\",\"stillgelegt\":1,\"wikiUrl\":\"http:\\/\\/de.wikipedia.org\\/wiki\\/AVR_(J%C3%BClich)\",\"aktiv\":0},{\"uvps\":[],\"flex\":null,\"country\":\"Deutschland\",\"reaktoren\":1,\"id\":240,\"inbau\":0,\"point\":{\"y\":50.05912,\"x\":8.98728},\"inplanung\":0,\"hasUVPs\":false,\"name\":\"Kahl \",\"stillgelegt\":1,\"wikiUrl\":\"http:\\/\\/de.wikipedia.org\\/wiki\\/Kernkraftwerk_Kahl\",\"aktiv\":0},{\"uvps\":[],\"flex\":null,\"country\":\"Deutschland\",\"reaktoren\":1,\"id\":236,\"inbau\":0,\"point\":{\"y\":49.09934,\"x\":8.43289},\"inplanung\":0,\"hasUVPs\":false,\"name\":\"Karlsruhe (KNK II)\",\"stillgelegt\":1,\"wikiUrl\":\"http:\\/\\/de.wikipedia.org\\/wiki\\/Kompakte_Natriumgek%C3%BChlte_Kernreaktoranlage_Karlsruhe\",\"aktiv\":0},{\"uvps\":[],\"flex\":null,\"country\":\"Deutschland\",\"reaktoren\":1,\"id\":237,\"inbau\":0,\"point\":{\"y\":49.10425,\"x\":8.43234},\"inplanung\":0,\"hasUVPs\":false,\"name\":\"Karlsruhe (MZFR)\",\"stillgelegt\":1,\"wikiUrl\":\"http:\\/\\/de.wikipedia.org\\/wiki\\/Mehrzweckforschungsreaktor_Karlsruhe\",\"aktiv\":0},{\"uvps\":[],\"flex\":null,\"country\":\"Deutschland\",\"reaktoren\":1,\"id\":45,\"inbau\":0,\"point\":{\"y\":53.41063,\"x\":10.40917},\"inplanung\":0,\"hasUVPs\":false,\"name\":\"Krümmel KKK\",\"stillgelegt\":1,\"wikiUrl\":\"http:\\/\\/de.wikipedia.org\\/wiki\\/Kernkraftwerk_Kr%C3%BCmmel\",\"aktiv\":0},{\"uvps\":[],\"flex\":null,\"country\":\"Deutschland\",\"reaktoren\":1,\"id\":228,\"inbau\":0,\"point\":{\"y\":52.48281,\"x\":7.3069},\"inplanung\":0,\"hasUVPs\":false,\"name\":\"Lingen\",\"stillgelegt\":1,\"wikiUrl\":\"http:\\/\\/de.wikipedia.org\\/wiki\\/Kernkraftwerk_Lingen\",\"aktiv\":0},{\"uvps\":[],\"flex\":null,\"country\":\"Deutschland\",\"reaktoren\":1,\"id\":233,\"inbau\":0,\"point\":{\"y\":50.40778,\"x\":7.48972},\"inplanung\":0,\"hasUVPs\":false,\"name\":\"Mülheim-Kärlich\",\"stillgelegt\":1,\"wikiUrl\":\"http:\\/\\/de.wikipedia.org\\/wiki\\/Kernkraftwerk_M%C3%BClheim-K%C3%A4rlich\",\"aktiv\":0},{\"uvps\":[{\"fk\":\"49\",\"status\":\"abgeschlossen\",\"titel\":\"UVP Brennelemente-Zwischenlager Neckarwestheim\",\"url\":\"http:\\/\\/www.umweltbundesamt.at\\/umweltschutz\\/uvpsupemas\\/espooverfahren\\/espoo_de\\/zwilag_de\\/\"}],\"flex\":\"http:\\/\\/flexrisk.boku.ac.at\\/en\\/sites\\/neck\\/index.html\",\"country\":\"Deutschland\",\"reaktoren\":2,\"id\":49,\"inbau\":0,\"point\":{\"y\":49.04068,\"x\":9.17569},\"inplanung\":0,\"hasUVPs\":true,\"name\":\"Neckarwestheim\",\"stillgelegt\":1,\"wikiUrl\":\"http:\\/\\/de.wikipedia.org\\/wiki\\/Kernkraftwerk_Neckarwestheim\",\"aktiv\":1},{\"uvps\":[],\"flex\":null,\"country\":\"Deutschland\",\"reaktoren\":1,\"id\":51,\"inbau\":0,\"point\":{\"y\":49.3645,\"x\":9.07618},\"inplanung\":0,\"hasUVPs\":false,\"name\":\"Obrigheim\",\"stillgelegt\":1,\"wikiUrl\":\"http:\\/\\/de.wikipedia.org\\/wiki\\/Kernkraftwerk_Obrigheim\",\"aktiv\":0},{\"uvps\":[{\"fk\":\"52\",\"status\":\"abgeschlossen\",\"titel\":\"UVP Brennelemente-Zwischenlager Philippsburg\",\"url\":\"http:\\/\\/www.umweltbundesamt.at\\/umweltschutz\\/uvpsupemas\\/espooverfahren\\/espoo_de\\/zwilag_de\\/\"}],\"flex\":\"http:\\/\\/flexrisk.boku.ac.at\\/en\\/sites\\/phil\\/index.html\",\"country\":\"Deutschland\",\"reaktoren\":2,\"id\":52,\"inbau\":0,\"point\":{\"y\":49.25291,\"x\":8.4369},\"inplanung\":0,\"hasUVPs\":true,\"name\":\"Philippsburg\",\"stillgelegt\":1,\"wikiUrl\":\"http:\\/\\/de.wikipedia.org\\/wiki\\/Kernkraftwerk_Philippsburg\",\"aktiv\":1},{\"uvps\":[],\"flex\":null,\"country\":\"Deutschland\",\"reaktoren\":1,\"id\":238,\"inbau\":0,\"point\":{\"y\":53.14699,\"x\":12.99015},\"inplanung\":0,\"hasUVPs\":false,\"name\":\"Rheinsberg\",\"stillgelegt\":1,\"wikiUrl\":\"http:\\/\\/de.wikipedia.org\\/wiki\\/Kernkraftwerk_Rheinsberg\",\"aktiv\":0},{\"uvps\":[],\"flex\":null,\"country\":\"Deutschland\",\"reaktoren\":1,\"id\":54,\"inbau\":0,\"point\":{\"y\":53.62,\"x\":9.53083},\"inplanung\":0,\"hasUVPs\":false,\"name\":\"Stade\",\"stillgelegt\":1,\"wikiUrl\":\"http:\\/\\/de.wikipedia.org\\/wiki\\/KKW_Stade\",\"aktiv\":0},{\"uvps\":[],\"flex\":null,\"country\":\"Deutschland\",\"reaktoren\":4,\"id\":232,\"inbau\":0,\"point\":{\"y\":52.72413,\"x\":12.01933},\"inplanung\":0,\"hasUVPs\":false,\"name\":\"Stendal\",\"stillgelegt\":4,\"wikiUrl\":\"http:\\/\\/de.wikipedia.org\\/wiki\\/Kernkraftwerk_Stendal\",\"aktiv\":0},{\"uvps\":[],\"flex\":null,\"country\":\"Deutschland\",\"reaktoren\":1,\"id\":239,\"inbau\":0,\"point\":{\"y\":51.6793,\"x\":7.97156},\"inplanung\":0,\"hasUVPs\":false,\"name\":\"THTR-300\",\"stillgelegt\":1,\"wikiUrl\":\"http:\\/\\/de.wikipedia.org\\/wiki\\/Kernkraftwerk_THTR-300\",\"aktiv\":0},{\"uvps\":[],\"flex\":null,\"country\":\"Deutschland\",\"reaktoren\":1,\"id\":56,\"inbau\":0,\"point\":{\"y\":53.42744,\"x\":8.47921},\"inplanung\":0,\"hasUVPs\":false,\"name\":\"Unterweser KKU\",\"stillgelegt\":1,\"wikiUrl\":\"http:\\/\\/de.wikipedia.org\\/wiki\\/Kernkraftwerk_Unterweser\",\"aktiv\":0},{\"uvps\":[],\"flex\":null,\"country\":\"Deutschland\",\"reaktoren\":1,\"id\":58,\"inbau\":0,\"point\":{\"y\":51.63976,\"x\":9.39159},\"inplanung\":0,\"hasUVPs\":false,\"name\":\"Wuergassen\",\"stillgelegt\":1,\"wikiUrl\":\"http:\\/\\/de.wikipedia.org\\/wiki\\/Kernkraftwerk_W%C3%BCrgassen\",\"aktiv\":0},{\"uvps\":[{\"fk\":\"132\",\"status\":\"abgeschlossen\",\"titel\":\"UVP KKW Loviisa 3\",\"url\":\"http:\\/\\/www.umweltbundesamt.at\\/umweltschutz\\/uvpsupemas\\/espooverfahren\\/finnland\\/loviisa\\/\"}],\"flex\":\"http:\\/\\/flexrisk.boku.ac.at\\/en\\/sites\\/lovi\\/index.html\",\"country\":\"Finnland\",\"reaktoren\":2,\"id\":132,\"inbau\":0,\"point\":{\"y\":60.37222,\"x\":26.34722},\"inplanung\":0,\"hasUVPs\":true,\"name\":\"Loviisa\",\"stillgelegt\":0,\"wikiUrl\":\"http:\\/\\/de.wikipedia.org\\/wiki\\/Kernkraftwerk_Loviisa\",\"aktiv\":2},{\"uvps\":[{\"fk\":\"131\",\"status\":\"abgeschlossen\",\"titel\":\"UVP KKW Olkiluoto 4\",\"url\":\"http:\\/\\/www.umweltbundesamt.at\\/umweltschutz\\/uvpsupemas\\/espooverfahren\\/finnland\\/olkiluoto\\/\"}],\"flex\":\"http:\\/\\/flexrisk.boku.ac.at\\/en\\/sites\\/olki\\/index.html\",\"country\":\"Finnland\",\"reaktoren\":4,\"id\":131,\"inbau\":1,\"point\":{\"y\":61.23667,\"x\":21.44222},\"inplanung\":1,\"hasUVPs\":true,\"name\":\"Olkiluoto\",\"stillgelegt\":0,\"wikiUrl\":\"http:\\/\\/de.wikipedia.org\\/wiki\\/Kernkraftwerk_Olkiluoto\",\"aktiv\":2},{\"uvps\":[],\"flex\":\"http:\\/\\/flexrisk.boku.ac.at\\/en\\/sites\\/bell\\/index.html\",\"country\":\"Frankreich\",\"reaktoren\":2,\"id\":134,\"inbau\":0,\"point\":{\"y\":47.51028,\"x\":2.875},\"inplanung\":0,\"hasUVPs\":false,\"name\":\"Belleville\",\"stillgelegt\":0,\"wikiUrl\":\"http:\\/\\/de.wikipedia.org\\/wiki\\/Kernkraftwerk_Belleville\",\"aktiv\":2},{\"uvps\":[],\"flex\":\"http:\\/\\/flexrisk.boku.ac.at\\/en\\/sites\\/buge\\/index.html\",\"country\":\"Frankreich\",\"reaktoren\":5,\"id\":135,\"inbau\":0,\"point\":{\"y\":45.79722,\"x\":5.27},\"inplanung\":0,\"hasUVPs\":false,\"name\":\"Bugey\",\"stillgelegt\":1,\"wikiUrl\":\"http:\\/\\/de.wikipedia.org\\/wiki\\/Kernkraftwerk_Bugey\",\"aktiv\":4},{\"uvps\":[],\"flex\":\"http:\\/\\/flexrisk.boku.ac.at\\/en\\/sites\\/catt\\/index.html\",\"country\":\"Frankreich\",\"reaktoren\":4,\"id\":136,\"inbau\":0,\"point\":{\"y\":49.41556,\"x\":6.21667},\"inplanung\":0,\"hasUVPs\":false,\"name\":\"Cattenom\",\"stillgelegt\":0,\"wikiUrl\":\"http:\\/\\/de.wikipedia.org\\/wiki\\/Kernkraftwerk_Cattenom\",\"aktiv\":4},{\"uvps\":[],\"flex\":\"http:\\/\\/flexrisk.boku.ac.at\\/en\\/sites\\/chin\\/index.html\",\"country\":\"Frankreich\",\"reaktoren\":7,\"id\":137,\"inbau\":0,\"point\":{\"y\":47.23056,\"x\":0.17056},\"inplanung\":0,\"hasUVPs\":false,\"name\":\"Chinon\",\"stillgelegt\":3,\"wikiUrl\":\"http:\\/\\/de.wikipedia.org\\/wiki\\/Kernkraftwerk_Chinon\",\"aktiv\":4},{\"uvps\":[],\"flex\":\"http:\\/\\/flexrisk.boku.ac.at\\/en\\/sites\\/choo\\/index.html\",\"country\":\"Frankreich\",\"reaktoren\":3,\"id\":138,\"inbau\":0,\"point\":{\"y\":50.09,\"x\":4.78944},\"inplanung\":0,\"hasUVPs\":false,\"name\":\"Chooz\",\"stillgelegt\":1,\"wikiUrl\":\"http:\\/\\/de.wikipedia.org\\/wiki\\/Kernkraftwerk_Chooz\",\"aktiv\":2},{\"uvps\":[],\"flex\":\"http:\\/\\/flexrisk.boku.ac.at\\/en\\/sites\\/civa\\/index.html\",\"country\":\"Frankreich\",\"reaktoren\":2,\"id\":139,\"inbau\":0,\"point\":{\"y\":46.45611,\"x\":0.65417},\"inplanung\":0,\"hasUVPs\":false,\"name\":\"Civaux\",\"stillgelegt\":0,\"wikiUrl\":\"http:\\/\\/de.wikipedia.org\\/wiki\\/Kernkraftwerk_Civaux\",\"aktiv\":2},{\"uvps\":[],\"flex\":\"http:\\/\\/flexrisk.boku.ac.at\\/en\\/sites\\/crua\\/index.html\",\"country\":\"Frankreich\",\"reaktoren\":4,\"id\":140,\"inbau\":0,\"point\":{\"y\":44.63389,\"x\":4.75389},\"inplanung\":0,\"hasUVPs\":false,\"name\":\"Cruas Meysse\",\"stillgelegt\":0,\"wikiUrl\":\"http:\\/\\/de.wikipedia.org\\/wiki\\/Kernkraftwerk_Cruas\",\"aktiv\":4},{\"uvps\":[],\"flex\":\"http:\\/\\/flexrisk.boku.ac.at\\/en\\/sites\\/damp\\/index.html\",\"country\":\"Frankreich\",\"reaktoren\":4,\"id\":141,\"inbau\":0,\"point\":{\"y\":47.73361,\"x\":2.5175},\"inplanung\":0,\"hasUVPs\":false,\"name\":\"Dampierre\",\"stillgelegt\":0,\"wikiUrl\":\"http:\\/\\/de.wikipedia.org\\/wiki\\/Kernkraftwerk_Dampierre\",\"aktiv\":4},{\"uvps\":[],\"flex\":\"http:\\/\\/flexrisk.boku.ac.at\\/en\\/sites\\/fess\\/index.html\",\"country\":\"Frankreich\",\"reaktoren\":2,\"id\":142,\"inbau\":0,\"point\":{\"y\":47.90361,\"x\":7.5625},\"inplanung\":0,\"hasUVPs\":false,\"name\":\"Fessenheim\",\"stillgelegt\":0,\"wikiUrl\":\"http:\\/\\/de.wikipedia.org\\/wiki\\/Kernkraftwerk_Fessenheim\",\"aktiv\":2},{\"uvps\":[],\"flex\":\"http:\\/\\/flexrisk.boku.ac.at\\/en\\/sites\\/flam\\/index.html\",\"country\":\"Frankreich\",\"reaktoren\":3,\"id\":143,\"inbau\":0,\"point\":{\"y\":49.53722,\"x\":-1.8825},\"inplanung\":1,\"hasUVPs\":false,\"name\":\"Flamanville\",\"stillgelegt\":0,\"wikiUrl\":\"http:\\/\\/de.wikipedia.org\\/wiki\\/Kernkraftwerk_Flamanville\",\"aktiv\":2},{\"uvps\":[],\"flex\":\"http:\\/\\/flexrisk.boku.ac.at\\/en\\/sites\\/golf\\/index.html\",\"country\":\"Frankreich\",\"reaktoren\":2,\"id\":144,\"inbau\":0,\"point\":{\"y\":44.11111,\"x\":0.84028},\"inplanung\":0,\"hasUVPs\":false,\"name\":\"Golfech\",\"stillgelegt\":0,\"wikiUrl\":\"http:\\/\\/de.wikipedia.org\\/wiki\\/Kernkraftwerk_Golfech\",\"aktiv\":2},{\"uvps\":[],\"flex\":\"http:\\/\\/flexrisk.boku.ac.at\\/en\\/sites\\/grav\\/index.html\",\"country\":\"Frankreich\",\"reaktoren\":6,\"id\":145,\"inbau\":0,\"point\":{\"y\":51.01361,\"x\":2.13611},\"inplanung\":0,\"hasUVPs\":false,\"name\":\"Gravelines\",\"stillgelegt\":0,\"wikiUrl\":\"http:\\/\\/de.wikipedia.org\\/wiki\\/Kernkraftwerk_Gravelines\",\"aktiv\":6},{\"uvps\":[],\"flex\":\"http:\\/\\/flexrisk.boku.ac.at\\/en\\/sites\\/blay\\/index.html\",\"country\":\"Frankreich\",\"reaktoren\":4,\"id\":146,\"inbau\":0,\"point\":{\"y\":45.25611,\"x\":-0.69167},\"inplanung\":0,\"hasUVPs\":false,\"name\":\"Le Blayais\",\"stillgelegt\":0,\"wikiUrl\":\"http:\\/\\/de.wikipedia.org\\/wiki\\/Kernkraftwerk_Blayais\",\"aktiv\":4},{\"uvps\":[],\"flex\":null,\"country\":\"Frankreich\",\"reaktoren\":3,\"id\":154,\"inbau\":0,\"point\":{\"y\":44.15,\"x\":4.71581},\"inplanung\":0,\"hasUVPs\":false,\"name\":\"Marcoule\",\"stillgelegt\":3,\"wikiUrl\":\"http:\\/\\/de.wikipedia.org\\/wiki\\/Kernkraftwerk_Marcoule\",\"aktiv\":0},{\"uvps\":[],\"flex\":null,\"country\":\"Frankreich\",\"reaktoren\":2,\"id\":155,\"inbau\":0,\"point\":{\"y\":48.35333,\"x\":-3.87222},\"inplanung\":0,\"hasUVPs\":false,\"name\":\"Monts d'Arree (Brennilis)\",\"stillgelegt\":2,\"wikiUrl\":\"http:\\/\\/de.wikipedia.org\\/wiki\\/Kernkraftwerk_Brennilis\",\"aktiv\":0},{\"uvps\":[],\"flex\":\"http:\\/\\/flexrisk.boku.ac.at\\/en\\/sites\\/noge\\/index.html\",\"country\":\"Frankreich\",\"reaktoren\":2,\"id\":147,\"inbau\":0,\"point\":{\"y\":48.51611,\"x\":3.51778},\"inplanung\":0,\"hasUVPs\":false,\"name\":\"Nogent\",\"stillgelegt\":0,\"wikiUrl\":\"http:\\/\\/de.wikipedia.org\\/wiki\\/Kernkraftwerk_Nogent\",\"aktiv\":2},{\"uvps\":[],\"flex\":\"http:\\/\\/flexrisk.boku.ac.at\\/en\\/sites\\/palu\\/index.html\",\"country\":\"Frankreich\",\"reaktoren\":4,\"id\":148,\"inbau\":0,\"point\":{\"y\":49.85806,\"x\":0.63556},\"inplanung\":0,\"hasUVPs\":false,\"name\":\"Paluel\",\"stillgelegt\":0,\"wikiUrl\":\"http:\\/\\/de.wikipedia.org\\/wiki\\/Kernkraftwerk_Paluel\",\"aktiv\":4},{\"uvps\":[],\"flex\":\"http:\\/\\/flexrisk.boku.ac.at\\/en\\/sites\\/penl\\/index.html\",\"country\":\"Frankreich\",\"reaktoren\":3,\"id\":149,\"inbau\":0,\"point\":{\"y\":49.97667,\"x\":1.21194},\"inplanung\":1,\"hasUVPs\":false,\"name\":\"Penly\",\"stillgelegt\":0,\"wikiUrl\":\"http:\\/\\/de.wikipedia.org\\/wiki\\/Kernkraftwerk_Penly\",\"aktiv\":2},{\"uvps\":[],\"flex\":null,\"country\":\"Frankreich\",\"reaktoren\":1,\"id\":133,\"inbau\":0,\"point\":{\"y\":44.14333,\"x\":4.71167},\"inplanung\":0,\"hasUVPs\":false,\"name\":\"Phenix\",\"stillgelegt\":1,\"wikiUrl\":\"http:\\/\\/de.wikipedia.org\\/wiki\\/Kernkraftwerk_Ph%C3%A9nix\",\"aktiv\":0},{\"uvps\":[],\"flex\":\"http:\\/\\/flexrisk.boku.ac.at\\/en\\/sites\\/stal\\/index.html\",\"country\":\"Frankreich\",\"reaktoren\":2,\"id\":150,\"inbau\":0,\"point\":{\"y\":45.40472,\"x\":4.75583},\"inplanung\":0,\"hasUVPs\":false,\"name\":\"Saint Alban\",\"stillgelegt\":0,\"wikiUrl\":\"http:\\/\\/de.wikipedia.org\\/wiki\\/Kernkraftwerk_Saint-Alban\",\"aktiv\":2},{\"uvps\":[],\"flex\":\"http:\\/\\/flexrisk.boku.ac.at\\/en\\/sites\\/stla\\/index.html\",\"country\":\"Frankreich\",\"reaktoren\":4,\"id\":151,\"inbau\":0,\"point\":{\"y\":47.72056,\"x\":1.57861},\"inplanung\":0,\"hasUVPs\":false,\"name\":\"St Laurent\",\"stillgelegt\":2,\"wikiUrl\":\"http:\\/\\/de.wikipedia.org\\/wiki\\/Kernkraftwerk_Saint-Laurent\",\"aktiv\":2},{\"uvps\":[],\"flex\":null,\"country\":\"Frankreich\",\"reaktoren\":1,\"id\":153,\"inbau\":0,\"point\":{\"y\":45.75833,\"x\":5.47222},\"inplanung\":0,\"hasUVPs\":false,\"name\":\"Super-Phenix 1\",\"stillgelegt\":1,\"wikiUrl\":\"http:\\/\\/de.wikipedia.org\\/wiki\\/Kernkraftwerk_Ph%C3%A9nix\",\"aktiv\":0},{\"uvps\":[],\"flex\":\"http:\\/\\/flexrisk.boku.ac.at\\/en\\/sites\\/tric\\/index.html\",\"country\":\"Frankreich\",\"reaktoren\":4,\"id\":152,\"inbau\":0,\"point\":{\"y\":44.32972,\"x\":4.73222},\"inplanung\":0,\"hasUVPs\":false,\"name\":\"Tricastin\",\"stillgelegt\":0,\"wikiUrl\":\"http:\\/\\/de.wikipedia.org\\/wiki\\/Kernkraftwerk_Tricastin\",\"aktiv\":4},{\"uvps\":[],\"flex\":null,\"country\":\"Italien\",\"reaktoren\":2,\"id\":160,\"inbau\":0,\"point\":{\"y\":42.3588,\"x\":11.5314},\"inplanung\":0,\"hasUVPs\":false,\"name\":\"Alto Lazio\",\"stillgelegt\":2,\"wikiUrl\":\"http:\\/\\/de.wikipedia.org\\/wiki\\/Kernkraftwerk_Garigliano\",\"aktiv\":0},{\"uvps\":[],\"flex\":null,\"country\":\"Italien\",\"reaktoren\":1,\"id\":156,\"inbau\":0,\"point\":{\"y\":45.07222,\"x\":9.87222},\"inplanung\":0,\"hasUVPs\":false,\"name\":\"Caorso\",\"stillgelegt\":1,\"wikiUrl\":\"http:\\/\\/de.wikipedia.org\\/wiki\\/Kernkraftwerk_Caorso\",\"aktiv\":0},{\"uvps\":[],\"flex\":null,\"country\":\"Italien\",\"reaktoren\":1,\"id\":157,\"inbau\":0,\"point\":{\"y\":41.25833,\"x\":13.83472},\"inplanung\":0,\"hasUVPs\":false,\"name\":\"Garigliano\",\"stillgelegt\":1,\"wikiUrl\":\"http:\\/\\/de.wikipedia.org\\/wiki\\/Kernkraftwerk_Garigliano\",\"aktiv\":0},{\"uvps\":[],\"flex\":null,\"country\":\"Italien\",\"reaktoren\":1,\"id\":158,\"inbau\":0,\"point\":{\"y\":41.42722,\"x\":12.80806},\"inplanung\":0,\"hasUVPs\":false,\"name\":\"Latina\",\"stillgelegt\":1,\"wikiUrl\":\"http:\\/\\/de.wikipedia.org\\/wiki\\/Kernkraftwerk_Latina\",\"aktiv\":0},{\"uvps\":[],\"flex\":null,\"country\":\"Italien\",\"reaktoren\":1,\"id\":159,\"inbau\":0,\"point\":{\"y\":45.18409,\"x\":8.27756},\"inplanung\":0,\"hasUVPs\":false,\"name\":\"Trino Vercellese\",\"stillgelegt\":1,\"wikiUrl\":\"http:\\/\\/de.wikipedia.org\\/wiki\\/Kernkraftwerk_Enrico_Fermi_(Trino)\",\"aktiv\":0},{\"uvps\":[{\"fk\":\"161\",\"status\":\"abgeschlossen\",\"titel\":\"UVP KKW Litauen\",\"url\":\"http:\\/\\/www.umweltbundesamt.at\\/umweltschutz\\/uvpsupemas\\/espooverfahren\\/uvpkkwlitauen\\/\"}],\"flex\":null,\"country\":\"Litauen\",\"reaktoren\":3,\"id\":161,\"inbau\":0,\"point\":{\"y\":55.60472,\"x\":26.56},\"inplanung\":1,\"hasUVPs\":true,\"name\":\"Ignalina\",\"stillgelegt\":2,\"wikiUrl\":\"http:\\/\\/de.wikipedia.org\\/wiki\\/Kernkraftwerk_Ignalina\",\"aktiv\":0},{\"uvps\":[],\"flex\":\"http:\\/\\/flexrisk.boku.ac.at\\/en\\/sites\\/bors\\/index.html\",\"country\":\"Niederlande\",\"reaktoren\":1,\"id\":162,\"inbau\":0,\"point\":{\"y\":51.43083,\"x\":3.71833},\"inplanung\":0,\"hasUVPs\":false,\"name\":\"Borssele\",\"stillgelegt\":0,\"wikiUrl\":\"http:\\/\\/de.wikipedia.org\\/wiki\\/Kernkraftwerk_Borssele\",\"aktiv\":1},{\"uvps\":[],\"flex\":null,\"country\":\"Niederlande\",\"reaktoren\":1,\"id\":163,\"inbau\":0,\"point\":{\"y\":51.89957,\"x\":5.68633},\"inplanung\":0,\"hasUVPs\":false,\"name\":\"Dodewaard\",\"stillgelegt\":1,\"wikiUrl\":\"http:\\/\\/de.wikipedia.org\\/wiki\\/Kernkraftwerk_Dodewaard\",\"aktiv\":0},{\"uvps\":[],\"flex\":null,\"country\":\"Österreich\",\"reaktoren\":1,\"id\":226,\"inbau\":0,\"point\":{\"y\":48.34951,\"x\":15.89971},\"inplanung\":0,\"hasUVPs\":false,\"name\":\"Zwentendorf\",\"stillgelegt\":1,\"wikiUrl\":\"http:\\/\\/de.wikipedia.org\\/wiki\\/Kernkraftwerk_Zwentendorf\",\"aktiv\":0},{\"uvps\":[],\"flex\":null,\"country\":\"Polen\",\"reaktoren\":4,\"id\":231,\"inbau\":0,\"point\":{\"y\":54.73333,\"x\":18.1},\"inplanung\":0,\"hasUVPs\":false,\"name\":\"Zarnowiec\",\"stillgelegt\":4,\"wikiUrl\":\"http:\\/\\/de.wikipedia.org\\/wiki\\/Kernkraftwerk_%C5%BBarnowiec\",\"aktiv\":0},{\"uvps\":[{\"fk\":\"164\",\"status\":\"abgeschlossen\",\"titel\":\"UVP KKW Cernavoda 3 & 4\",\"url\":\"http:\\/\\/www.umweltbundesamt.at\\/umweltschutz\\/uvpsupemas\\/espooverfahren\\/rumaenien\\/uvpcernavoda\\/\"}],\"flex\":\"http:\\/\\/flexrisk.boku.ac.at\\/en\\/sites\\/cern\\/index.html\",\"country\":\"Rumänien\",\"reaktoren\":5,\"id\":164,\"inbau\":2,\"point\":{\"y\":44.32235,\"x\":28.05728},\"inplanung\":0,\"hasUVPs\":true,\"name\":\"Cernavoda\",\"stillgelegt\":1,\"wikiUrl\":\"http:\\/\\/de.wikipedia.org\\/wiki\\/Kernkraftwerk_Cernavod%C4%83\",\"aktiv\":2},{\"uvps\":[],\"flex\":\"http:\\/\\/flexrisk.boku.ac.at\\/en\\/sites\\/bala\\/index.html\",\"country\":\"Russland\",\"reaktoren\":6,\"id\":171,\"inbau\":2,\"point\":{\"y\":52.09444,\"x\":47.95833},\"inplanung\":0,\"hasUVPs\":false,\"name\":\"Balakovo\",\"stillgelegt\":0,\"wikiUrl\":\"http:\\/\\/de.wikipedia.org\\/wiki\\/Kernkraftwerk_Balakowo\",\"aktiv\":4},{\"uvps\":[],\"flex\":null,\"country\":\"Russland\",\"reaktoren\":2,\"id\":188,\"inbau\":2,\"point\":{\"y\":55.8836,\"x\":53.9943},\"inplanung\":0,\"hasUVPs\":false,\"name\":\"Bashkir\",\"stillgelegt\":0,\"wikiUrl\":\"http:\\/\\/de.wikipedia.org\\/wiki\\/Kernkraftwerk_Baschkirien\",\"aktiv\":0},{\"uvps\":[],\"flex\":null,\"country\":\"Russland\",\"reaktoren\":4,\"id\":165,\"inbau\":0,\"point\":{\"y\":56.85,\"x\":61.31667},\"inplanung\":1,\"hasUVPs\":false,\"name\":\"Beloyarsk\",\"stillgelegt\":2,\"wikiUrl\":\"http:\\/\\/de.wikipedia.org\\/wiki\\/Kernkraftwerk_Belojarsk\",\"aktiv\":1},{\"uvps\":[],\"flex\":null,\"country\":\"Russland\",\"reaktoren\":6,\"id\":184,\"inbau\":0,\"point\":{\"y\":54.06746,\"x\":61.57335},\"inplanung\":0,\"hasUVPs\":false,\"name\":\"Chelyabinsk\",\"stillgelegt\":6,\"wikiUrl\":\"http:\\/\\/de.wikipedia.org\\/wiki\\/Kerntechnische_Anlage_Majak\",\"aktiv\":0},{\"uvps\":[],\"flex\":null,\"country\":\"Russland\",\"reaktoren\":2,\"id\":187,\"inbau\":2,\"point\":{\"y\":56.2177,\"x\":44.06258},\"inplanung\":0,\"hasUVPs\":false,\"name\":\"Gorky\",\"stillgelegt\":0,\"wikiUrl\":\"http:\\/\\/de.wikipedia.org\\/wiki\\/Kernheizwerk_Gorki\",\"aktiv\":0},{\"uvps\":[],\"flex\":null,\"country\":\"Russland\",\"reaktoren\":3,\"id\":185,\"inbau\":0,\"point\":{\"y\":56.3545,\"x\":93.64386},\"inplanung\":0,\"hasUVPs\":false,\"name\":\"Gornochimicheski Combinat\",\"stillgelegt\":3,\"wikiUrl\":\"http:\\/\\/de.wikipedia.org\\/wiki\\/Liste_der_kerntechnischen_Anlagen_in_Russland\",\"aktiv\":0},{\"uvps\":[],\"flex\":\"http:\\/\\/flexrisk.boku.ac.at\\/en\\/sites\\/kali\\/index.html\",\"country\":\"Russland\",\"reaktoren\":4,\"id\":172,\"inbau\":0,\"point\":{\"y\":57.90683,\"x\":35.06417},\"inplanung\":0,\"hasUVPs\":false,\"name\":\"Kalinin\",\"stillgelegt\":0,\"wikiUrl\":\"http:\\/\\/de.wikipedia.org\\/wiki\\/Kernkraftwerk_Kalinin\",\"aktiv\":4},{\"uvps\":[],\"flex\":\"http:\\/\\/flexrisk.boku.ac.at\\/en\\/sites\\/kagr\\/index.html\",\"country\":\"Russland\",\"reaktoren\":2,\"id\":243,\"inbau\":1,\"point\":{\"y\":54.93932,\"x\":22.16236},\"inplanung\":1,\"hasUVPs\":false,\"name\":\"Kaliningrad\",\"stillgelegt\":0,\"wikiUrl\":\"http:\\/\\/de.wikipedia.org\\/wiki\\/Kernkraftwerk_Kaliningrad\",\"aktiv\":0},{\"uvps\":[],\"flex\":\"http:\\/\\/flexrisk.boku.ac.at\\/en\\/sites\\/kola\\/index.html\",\"country\":\"Russland\",\"reaktoren\":4,\"id\":173,\"inbau\":0,\"point\":{\"y\":67.46667,\"x\":32.46667},\"inplanung\":0,\"hasUVPs\":false,\"name\":\"Kola\",\"stillgelegt\":0,\"wikiUrl\":\"http:\\/\\/de.wikipedia.org\\/wiki\\/Kernkraftwerk_Kola\",\"aktiv\":4},{\"uvps\":[],\"flex\":null,\"country\":\"Russland\",\"reaktoren\":4,\"id\":182,\"inbau\":2,\"point\":{\"y\":58.3747,\"x\":41.5922},\"inplanung\":2,\"hasUVPs\":false,\"name\":\"Kostroma\",\"stillgelegt\":0,\"wikiUrl\":\"http:\\/\\/de.wikipedia.org\\/wiki\\/Kernkraftwerk_Kostroma\",\"aktiv\":0},{\"uvps\":[],\"flex\":\"http:\\/\\/flexrisk.boku.ac.at\\/en\\/sites\\/kurs\\/index.html\",\"country\":\"Russland\",\"reaktoren\":6,\"id\":168,\"inbau\":2,\"point\":{\"y\":51.675,\"x\":35.60556},\"inplanung\":0,\"hasUVPs\":false,\"name\":\"Kursk\",\"stillgelegt\":1,\"wikiUrl\":\"http:\\/\\/de.wikipedia.org\\/wiki\\/Kernkraftwerk_Kursk\",\"aktiv\":3},{\"uvps\":[],\"flex\":\"http:\\/\\/flexrisk.boku.ac.at\\/en\\/sites\\/leni\\/index.html\",\"country\":\"Russland\",\"reaktoren\":6,\"id\":169,\"inbau\":2,\"point\":{\"y\":59.8521,\"x\":29.0512},\"inplanung\":0,\"hasUVPs\":false,\"name\":\"Leningrad\",\"stillgelegt\":0,\"wikiUrl\":\"http:\\/\\/de.wikipedia.org\\/wiki\\/Kernkraftwerk_Leningrad\",\"aktiv\":4},{\"uvps\":[],\"flex\":\"http:\\/\\/flexrisk.boku.ac.at\\/en\\/sites\\/novo\\/index.html\",\"country\":\"Russland\",\"reaktoren\":7,\"id\":174,\"inbau\":2,\"point\":{\"y\":51.275,\"x\":39.2},\"inplanung\":0,\"hasUVPs\":false,\"name\":\"Novovoronezh\",\"stillgelegt\":2,\"wikiUrl\":\"http:\\/\\/de.wikipedia.org\\/wiki\\/Kernkraftwerk_Nowoworonesch\",\"aktiv\":3},{\"uvps\":[],\"flex\":null,\"country\":\"Russland\",\"reaktoren\":1,\"id\":183,\"inbau\":0,\"point\":{\"y\":55.08532,\"x\":36.57404},\"inplanung\":0,\"hasUVPs\":false,\"name\":\"Obninsk APS\",\"stillgelegt\":1,\"wikiUrl\":\"http:\\/\\/de.wikipedia.org\\/wiki\\/Kernkraftwerk_Obninsk\",\"aktiv\":0},{\"uvps\":[],\"flex\":\"http:\\/\\/flexrisk.boku.ac.at\\/en\\/sites\\/volg\\/index.html\",\"country\":\"Russland\",\"reaktoren\":4,\"id\":175,\"inbau\":2,\"point\":{\"y\":47.59944,\"x\":42.37033},\"inplanung\":0,\"hasUVPs\":false,\"name\":\"Rostov (Volgodonsk)\",\"stillgelegt\":0,\"wikiUrl\":\"http:\\/\\/de.wikipedia.org\\/wiki\\/Kernkraftwerk_Wolgodonsk\",\"aktiv\":2},{\"uvps\":[],\"flex\":null,\"country\":\"Russland\",\"reaktoren\":5,\"id\":186,\"inbau\":0,\"point\":{\"y\":56.59944,\"x\":84.89583},\"inplanung\":0,\"hasUVPs\":false,\"name\":\"Sibchim Combinat NPP\",\"stillgelegt\":5,\"wikiUrl\":\"http:\\/\\/en.wikipedia.org\\/wiki\\/Seversk\",\"aktiv\":0},{\"uvps\":[],\"flex\":\"http:\\/\\/flexrisk.boku.ac.at\\/en\\/sites\\/smol\\/index.html\",\"country\":\"Russland\",\"reaktoren\":3,\"id\":170,\"inbau\":0,\"point\":{\"y\":54.16667,\"x\":33.23333},\"inplanung\":0,\"hasUVPs\":false,\"name\":\"Smolensk\",\"stillgelegt\":0,\"wikiUrl\":\"http:\\/\\/de.wikipedia.org\\/wiki\\/Kernkraftwerk_Smolensk\",\"aktiv\":3},{\"uvps\":[],\"flex\":null,\"country\":\"Russland\",\"reaktoren\":3,\"id\":177,\"inbau\":0,\"point\":{\"y\":55.7461,\"x\":60.8938},\"inplanung\":3,\"hasUVPs\":false,\"name\":\"South Urals\",\"stillgelegt\":0,\"wikiUrl\":\"http:\\/\\/de.wikipedia.org\\/wiki\\/Kernkraftwerk_S%C3%BCd-Ural\",\"aktiv\":0},{\"uvps\":[],\"flex\":null,\"country\":\"Russland\",\"reaktoren\":2,\"id\":181,\"inbau\":0,\"point\":{\"y\":56.59944,\"x\":84.89583},\"inplanung\":2,\"hasUVPs\":false,\"name\":\"Tomsk\",\"stillgelegt\":0,\"wikiUrl\":\"http:\\/\\/de.wikipedia.org\\/wiki\\/Liste_der_kerntechnischen_Anlagen_in_Russland\",\"aktiv\":0},{\"uvps\":[],\"flex\":null,\"country\":\"Russland\",\"reaktoren\":2,\"id\":178,\"inbau\":0,\"point\":{\"y\":51.5617,\"x\":39.1487},\"inplanung\":0,\"hasUVPs\":false,\"name\":\"Voronezh\",\"stillgelegt\":0,\"wikiUrl\":\"http:\\/\\/de.wikipedia.org\\/wiki\\/Kernheizwerk_Woronesch\",\"aktiv\":2},{\"uvps\":[],\"flex\":null,\"country\":\"Schweden\",\"reaktoren\":1,\"id\":241,\"inbau\":0,\"point\":{\"y\":59.20611,\"x\":18.0825},\"inplanung\":0,\"hasUVPs\":false,\"name\":\"Agesta\",\"stillgelegt\":1,\"wikiUrl\":\"http:\\/\\/de.wikipedia.org\\/wiki\\/Kernkraftwerk_%C3%85gesta\",\"aktiv\":0},{\"uvps\":[],\"flex\":null,\"country\":\"Schweden\",\"reaktoren\":2,\"id\":203,\"inbau\":0,\"point\":{\"y\":55.74444,\"x\":12.92083},\"inplanung\":0,\"hasUVPs\":false,\"name\":\"Barsebäck\",\"stillgelegt\":2,\"wikiUrl\":\"http:\\/\\/de.wikipedia.org\\/wiki\\/Kernkraftwerk_Barseb%C3%A4ck\",\"aktiv\":0},{\"uvps\":[],\"flex\":\"http:\\/\\/flexrisk.boku.ac.at\\/en\\/sites\\/fors\\/index.html\",\"country\":\"Schweden\",\"reaktoren\":3,\"id\":200,\"inbau\":0,\"point\":{\"y\":60.40333,\"x\":18.16667},\"inplanung\":0,\"hasUVPs\":false,\"name\":\"Forsmark\",\"stillgelegt\":0,\"wikiUrl\":\"http:\\/\\/de.wikipedia.org\\/wiki\\/Kernkraftwerk_Forsmark\",\"aktiv\":3},{\"uvps\":[],\"flex\":\"http:\\/\\/flexrisk.boku.ac.at\\/en\\/sites\\/oska\\/index.html\",\"country\":\"Schweden\",\"reaktoren\":3,\"id\":201,\"inbau\":0,\"point\":{\"y\":57.41556,\"x\":16.67111},\"inplanung\":0,\"hasUVPs\":false,\"name\":\"Oskarshamn\",\"stillgelegt\":0,\"wikiUrl\":\"http:\\/\\/de.wikipedia.org\\/wiki\\/Kernkraftwerk_Oskarshamn\",\"aktiv\":3},{\"uvps\":[],\"flex\":\"http:\\/\\/flexrisk.boku.ac.at\\/en\\/sites\\/ring\\/index.html\",\"country\":\"Schweden\",\"reaktoren\":4,\"id\":202,\"inbau\":0,\"point\":{\"y\":57.26111,\"x\":12.10833},\"inplanung\":0,\"hasUVPs\":false,\"name\":\"Ringhals\",\"stillgelegt\":0,\"wikiUrl\":\"http:\\/\\/de.wikipedia.org\\/wiki\\/Kernkraftwerk_Ringhals\",\"aktiv\":4},{\"uvps\":[{\"fk\":\"96\",\"status\":\"abgeschlossen\",\"titel\":\"KKW Beznau II Betriebsbewilligung\",\"url\":\"http:\\/\\/www.umweltbundesamt.at\\/umweltschutz\\/kernenergie\\/akw\\/beznau\\/\"}],\"flex\":\"http:\\/\\/flexrisk.boku.ac.at\\/en\\/sites\\/bezn\\/index.html\",\"country\":\"Schweiz\",\"reaktoren\":2,\"id\":96,\"inbau\":0,\"point\":{\"y\":47.55191,\"x\":8.2279},\"inplanung\":0,\"hasUVPs\":true,\"name\":\"Beznau\",\"stillgelegt\":0,\"wikiUrl\":\"http:\\/\\/de.wikipedia.org\\/wiki\\/Kernkraftwerk_Beznau\",\"aktiv\":2},{\"uvps\":[],\"flex\":\"http:\\/\\/flexrisk.boku.ac.at\\/en\\/sites\\/goes\\/index.html\",\"country\":\"Schweiz\",\"reaktoren\":1,\"id\":97,\"inbau\":0,\"point\":{\"y\":47.36534,\"x\":7.96766},\"inplanung\":0,\"hasUVPs\":false,\"name\":\"Gösgen\",\"stillgelegt\":0,\"wikiUrl\":\"http:\\/\\/de.wikipedia.org\\/wiki\\/Kernkraftwerk_G%C3%B6sgen\",\"aktiv\":1},{\"uvps\":[],\"flex\":\"http:\\/\\/flexrisk.boku.ac.at\\/en\\/sites\\/leib\\/index.html\",\"country\":\"Schweiz\",\"reaktoren\":1,\"id\":98,\"inbau\":0,\"point\":{\"y\":47.60148,\"x\":8.18344},\"inplanung\":0,\"hasUVPs\":false,\"name\":\"Leibstadt\",\"stillgelegt\":0,\"wikiUrl\":\"http:\\/\\/de.wikipedia.org\\/wiki\\/Kernkraftwerk_Leibstadt\",\"aktiv\":1},{\"uvps\":[],\"flex\":null,\"country\":\"Schweiz\",\"reaktoren\":1,\"id\":122,\"inbau\":0,\"point\":{\"y\":46.69167,\"x\":6.82778},\"inplanung\":0,\"hasUVPs\":false,\"name\":\"Lucens\",\"stillgelegt\":1,\"wikiUrl\":\"http:\\/\\/de.wikipedia.org\\/wiki\\/Reaktor_Lucens\",\"aktiv\":0},{\"uvps\":[{\"fk\":\"99\",\"status\":\"abgeschlossen\",\"titel\":\"KKW Mühleberg Aufhebung der Befristung der Betriebsbewilligung\",\"url\":\"http:\\/\\/www.umweltbundesamt.at\\/umweltschutz\\/kernenergie\\/akw\\/kkwmuehleberg\\/\"},{\"fk\":\"99\",\"status\":\"laufend\",\"titel\":\"Ergänzung der Fachstellungnahme betreffend das KKW Mühleberg 2013\",\"url\":\"http:\\/\\/www.umweltbundesamt.at\\/umweltsituation\\/kernenergie\\/akw\\/kkwmuehleberg\\/\"}],\"flex\":\"http:\\/\\/flexrisk.boku.ac.at\\/en\\/sites\\/mueh\\/index.html\",\"country\":\"Schweiz\",\"reaktoren\":1,\"id\":99,\"inbau\":0,\"point\":{\"y\":46.96904,\"x\":7.26831},\"inplanung\":0,\"hasUVPs\":true,\"name\":\"Mühleberg\",\"stillgelegt\":0,\"wikiUrl\":\"http:\\/\\/de.wikipedia.org\\/wiki\\/Kernkraftwerk_M%C3%BChleberg\",\"aktiv\":1},{\"uvps\":[{\"fk\":\"81\",\"status\":\"abgeschlossen\",\"titel\":\"UVP Integrallager Bohunice\",\"url\":\"http:\\/\\/www.umweltbundesamt.at\\/umweltsituation\\/uvpsup\\/espooverfahren\\/espoo_slowakei\\/uvpinterimlager_ebo\\/\"}],\"flex\":\"http:\\/\\/flexrisk.boku.ac.at\\/en\\/sites\\/bohu\\/index.html\",\"country\":\"Slowakei\",\"reaktoren\":5,\"id\":81,\"inbau\":0,\"point\":{\"y\":48.4984,\"x\":17.6835},\"inplanung\":0,\"hasUVPs\":true,\"name\":\"Bohunice\",\"stillgelegt\":3,\"wikiUrl\":\"http:\\/\\/de.wikipedia.org\\/wiki\\/Kernkraftwerk_Bohunice\",\"aktiv\":2},{\"uvps\":[{\"fk\":\"82\",\"status\":\"abgeschlossen\",\"titel\":\"UVP KKW Mochovce 1 und 2 Leistungserhöhung\",\"url\":\"http:\\/\\/www.umweltbundesamt.at\\/umweltschutz\\/uvpsupemas\\/espooverfahren\\/espoo_slowakei\\/kkwmochovce12\\/\"},{\"fk\":\"82\",\"status\":\"abgeschlossen\",\"titel\":\"UVP KKW Mochovce 3\\/4\",\"url\":\"http:\\/\\/www.umweltbundesamt.at\\/umweltschutz\\/uvpsupemas\\/espooverfahren\\/espoo_slowakei\\/uvpmochovce34\\/\"},{\"fk\":\"82\",\"status\":\"abgeschlossen\",\"titel\":\"UVP Endlager Standort Mochovce\",\"url\":\"http:\\/\\/www.umweltbundesamt.at\\/umweltsituation\\/uvpsup\\/espooverfahren\\/espoo_slowakei\\/uvpendlager_emo\\/\"}],\"flex\":\"http:\\/\\/flexrisk.boku.ac.at\\/en\\/sites\\/moch\\/index.html\",\"country\":\"Slowakei\",\"reaktoren\":4,\"id\":82,\"inbau\":2,\"point\":{\"y\":48.25988,\"x\":18.45703},\"inplanung\":0,\"hasUVPs\":true,\"name\":\"Mochovce\",\"stillgelegt\":0,\"wikiUrl\":\"http:\\/\\/de.wikipedia.org\\/wiki\\/Kernkraftwerk_Mochovce\",\"aktiv\":2},{\"uvps\":[],\"flex\":\"http:\\/\\/flexrisk.boku.ac.at\\/en\\/sites\\/krsk\\/index.html\",\"country\":\"Slowenien\",\"reaktoren\":1,\"id\":83,\"inbau\":0,\"point\":{\"y\":45.9379,\"x\":15.51613},\"inplanung\":0,\"hasUVPs\":false,\"name\":\"Krsko\",\"stillgelegt\":0,\"wikiUrl\":\"http:\\/\\/de.wikipedia.org\\/wiki\\/Kernkraftwerk_Kr%C5%A1ko\",\"aktiv\":1},{\"uvps\":[],\"flex\":\"http:\\/\\/flexrisk.boku.ac.at\\/en\\/sites\\/alma\\/index.html\",\"country\":\"Spanien\",\"reaktoren\":2,\"id\":193,\"inbau\":0,\"point\":{\"y\":39.80806,\"x\":-5.69694},\"inplanung\":0,\"hasUVPs\":false,\"name\":\"Almaraz\",\"stillgelegt\":0,\"wikiUrl\":\"http:\\/\\/de.wikipedia.org\\/wiki\\/Kernkraftwerk_Almaraz\",\"aktiv\":2},{\"uvps\":[],\"flex\":\"http:\\/\\/flexrisk.boku.ac.at\\/en\\/sites\\/asco\\/index.html\",\"country\":\"Spanien\",\"reaktoren\":2,\"id\":194,\"inbau\":0,\"point\":{\"y\":41.2,\"x\":0.56944},\"inplanung\":0,\"hasUVPs\":false,\"name\":\"Ascó\",\"stillgelegt\":0,\"wikiUrl\":\"http:\\/\\/de.wikipedia.org\\/wiki\\/Kernkraftwerk_Asc%C3%B3\",\"aktiv\":2},{\"uvps\":[],\"flex\":\"http:\\/\\/flexrisk.boku.ac.at\\/en\\/sites\\/cofr\\/index.html\",\"country\":\"Spanien\",\"reaktoren\":1,\"id\":191,\"inbau\":0,\"point\":{\"y\":39.21667,\"x\":-1.05},\"inplanung\":0,\"hasUVPs\":false,\"name\":\"Cofrentes\",\"stillgelegt\":0,\"wikiUrl\":\"http:\\/\\/de.wikipedia.org\\/wiki\\/Kernkraftwerk_Cofrentes\",\"aktiv\":1},{\"uvps\":[],\"flex\":null,\"country\":\"Spanien\",\"reaktoren\":1,\"id\":195,\"inbau\":0,\"point\":{\"y\":40.36389,\"x\":-2.82917},\"inplanung\":0,\"hasUVPs\":false,\"name\":\"Jose Cabrera, Zorita\",\"stillgelegt\":1,\"wikiUrl\":\"http:\\/\\/de.wikipedia.org\\/wiki\\/Kernkraftwerk_Jos%C3%A9_Cabrera\",\"aktiv\":0},{\"uvps\":[],\"flex\":null,\"country\":\"Spanien\",\"reaktoren\":2,\"id\":199,\"inbau\":0,\"point\":{\"y\":43.4332,\"x\":-2.8725},\"inplanung\":0,\"hasUVPs\":false,\"name\":\"Lemoniz \",\"stillgelegt\":2,\"wikiUrl\":\"http:\\/\\/de.wikipedia.org\\/wiki\\/Kernkraftwerk_Lem%C3%B3niz\",\"aktiv\":0},{\"uvps\":[],\"flex\":\"http:\\/\\/flexrisk.boku.ac.at\\/en\\/sites\\/smar\\/index.html\",\"country\":\"Spanien\",\"reaktoren\":1,\"id\":192,\"inbau\":0,\"point\":{\"y\":42.775,\"x\":-3.20833},\"inplanung\":0,\"hasUVPs\":false,\"name\":\"Santa Maria de Garoña\",\"stillgelegt\":0,\"wikiUrl\":\"http:\\/\\/de.wikipedia.org\\/wiki\\/Kernkraftwerk_Santa_Mar%C3%ADa_de_Garo%C3%B1a\",\"aktiv\":1},{\"uvps\":[],\"flex\":\"http:\\/\\/flexrisk.boku.ac.at\\/en\\/sites\\/tril\\/index.html\",\"country\":\"Spanien\",\"reaktoren\":1,\"id\":196,\"inbau\":0,\"point\":{\"y\":40.70139,\"x\":-2.62222},\"inplanung\":0,\"hasUVPs\":false,\"name\":\"Trillo\",\"stillgelegt\":0,\"wikiUrl\":\"http:\\/\\/de.wikipedia.org\\/wiki\\/Kernkraftwerk_Trillo\",\"aktiv\":1},{\"uvps\":[],\"flex\":null,\"country\":\"Spanien\",\"reaktoren\":2,\"id\":198,\"inbau\":0,\"point\":{\"y\":39.2907,\"x\":-5.18055},\"inplanung\":0,\"hasUVPs\":false,\"name\":\"Valdecaballeros\",\"stillgelegt\":2,\"wikiUrl\":\"http:\\/\\/de.wikipedia.org\\/wiki\\/Kernkraftwerk_Valdecaballeros\",\"aktiv\":0},{\"uvps\":[],\"flex\":\"http:\\/\\/flexrisk.boku.ac.at\\/en\\/sites\\/vand\\/index.html\",\"country\":\"Spanien\",\"reaktoren\":2,\"id\":197,\"inbau\":0,\"point\":{\"y\":40.95139,\"x\":0.86667},\"inplanung\":0,\"hasUVPs\":false,\"name\":\"Vandellós\",\"stillgelegt\":1,\"wikiUrl\":\"http:\\/\\/de.wikipedia.org\\/wiki\\/Kernkraftwerk_Vandell%C3%B2s\",\"aktiv\":1},{\"uvps\":[],\"flex\":\"http:\\/\\/flexrisk.boku.ac.at\\/en\\/sites\\/duko\\/index.html\",\"country\":\"Tschechien\",\"reaktoren\":4,\"id\":5,\"inbau\":0,\"point\":{\"y\":49.08399,\"x\":16.15179},\"inplanung\":0,\"hasUVPs\":false,\"name\":\"Dukovany\",\"stillgelegt\":0,\"wikiUrl\":\"http:\\/\\/de.wikipedia.org\\/wiki\\/Kernkraftwerk_Dukovany\",\"aktiv\":4},{\"uvps\":[{\"fk\":\"6\",\"status\":\"abgeschlossen\",\"titel\":\"UVP KKW Temelin Blöcke 3 und 4\",\"url\":\"http:\\/\\/www.umweltbundesamt.at\\/umweltschutz\\/uvpsupemas\\/espooverfahren\\/espoo_cz\\/uvptemelin34\\/\"},{\"fk\":\"6\",\"status\":\"abgeschlossen\",\"titel\":\"UVP Brennelemente-Zwischenlager Temelin\",\"url\":\"http:\\/\\/www.umweltbundesamt.at\\/umweltschutz\\/uvpsupemas\\/espooverfahren\\/espoo_cz\\/zwilagtemelin1\\/\"},{\"fk\":\"6\",\"status\":\"abgeschlossen\",\"titel\":\"KKW Temelin 1 & 2\",\"url\":\"http:\\/\\/www.umweltbundesamt.at\\/umweltschutz\\/kernenergie\\/akw\\/temelin\\/\"}],\"flex\":\"http:\\/\\/flexrisk.boku.ac.at\\/en\\/sites\\/teme\\/index.html\",\"country\":\"Tschechien\",\"reaktoren\":4,\"id\":6,\"inbau\":2,\"point\":{\"y\":49.1789,\"x\":14.37784},\"inplanung\":0,\"hasUVPs\":true,\"name\":\"Temelin\",\"stillgelegt\":0,\"wikiUrl\":\"http:\\/\\/de.wikipedia.org\\/wiki\\/Kernkraftwerk_Temel%C3%ADn\",\"aktiv\":2},{\"uvps\":[],\"flex\":null,\"country\":\"UK\",\"reaktoren\":2,\"id\":216,\"inbau\":0,\"point\":{\"y\":51.6925,\"x\":-2.49361},\"inplanung\":0,\"hasUVPs\":false,\"name\":\"Berkeley\",\"stillgelegt\":2,\"wikiUrl\":\"http:\\/\\/de.wikipedia.org\\/wiki\\/Kernkraftwerk_Berkeley\",\"aktiv\":0},{\"uvps\":[],\"flex\":null,\"country\":\"UK\",\"reaktoren\":2,\"id\":217,\"inbau\":0,\"point\":{\"y\":51.74194,\"x\":0.8975},\"inplanung\":0,\"hasUVPs\":false,\"name\":\"Bradwell\",\"stillgelegt\":2,\"wikiUrl\":\"http:\\/\\/de.wikipedia.org\\/wiki\\/Kernkraftwerk_Bradwell\",\"aktiv\":0},{\"uvps\":[],\"flex\":null,\"country\":\"UK\",\"reaktoren\":4,\"id\":218,\"inbau\":0,\"point\":{\"y\":54.41982,\"x\":-3.49203},\"inplanung\":0,\"hasUVPs\":false,\"name\":\"Calder Hall\",\"stillgelegt\":4,\"wikiUrl\":\"http:\\/\\/de.wikipedia.org\\/wiki\\/Kernkraftwerk_Calder_Hall\",\"aktiv\":0},{\"uvps\":[],\"flex\":null,\"country\":\"UK\",\"reaktoren\":4,\"id\":219,\"inbau\":0,\"point\":{\"y\":55.01667,\"x\":-3.225},\"inplanung\":0,\"hasUVPs\":false,\"name\":\"Chapelcross\",\"stillgelegt\":4,\"wikiUrl\":\"http:\\/\\/de.wikipedia.org\\/wiki\\/Kernkraftwerk_Chapelcross\",\"aktiv\":0},{\"uvps\":[],\"flex\":null,\"country\":\"UK\",\"reaktoren\":2,\"id\":214,\"inbau\":0,\"point\":{\"y\":58.57899,\"x\":-3.75002},\"inplanung\":0,\"hasUVPs\":false,\"name\":\"Dounreay\",\"stillgelegt\":2,\"wikiUrl\":\"http:\\/\\/de.wikipedia.org\\/wiki\\/Kernkraftwerk_Dounreay\",\"aktiv\":0},{\"uvps\":[],\"flex\":\"http:\\/\\/flexrisk.boku.ac.at\\/en\\/sites\\/dung\\/index.html\",\"country\":\"UK\",\"reaktoren\":4,\"id\":204,\"inbau\":0,\"point\":{\"y\":50.91389,\"x\":0.96389},\"inplanung\":0,\"hasUVPs\":false,\"name\":\"Dungeness\",\"stillgelegt\":2,\"wikiUrl\":\"http:\\/\\/de.wikipedia.org\\/wiki\\/Kernkraftwerk_Dungeness\",\"aktiv\":2},{\"uvps\":[],\"flex\":\"http:\\/\\/flexrisk.boku.ac.at\\/en\\/sites\\/hart\\/index.html\",\"country\":\"UK\",\"reaktoren\":2,\"id\":205,\"inbau\":0,\"point\":{\"y\":54.63472,\"x\":-1.18056},\"inplanung\":0,\"hasUVPs\":false,\"name\":\"Hartlepool\",\"stillgelegt\":0,\"wikiUrl\":\"http:\\/\\/de.wikipedia.org\\/wiki\\/Kernkraftwerk_Hartlepool\",\"aktiv\":2},{\"uvps\":[],\"flex\":\"http:\\/\\/flexrisk.boku.ac.at\\/en\\/sites\\/heys\\/index.html\",\"country\":\"UK\",\"reaktoren\":4,\"id\":206,\"inbau\":0,\"point\":{\"y\":54.03333,\"x\":-2.9},\"inplanung\":0,\"hasUVPs\":false,\"name\":\"Heyshamm\",\"stillgelegt\":0,\"wikiUrl\":\"http:\\/\\/de.wikipedia.org\\/wiki\\/Kernkraftwerk_Heysham\",\"aktiv\":4},{\"uvps\":[{\"fk\":\"207\",\"status\":\"abgeschlossen\",\"titel\":\"UVP KKW Hinkley Point\",\"url\":\"http:\\/\\/www.umweltbundesamt.at\\/umweltsituation\\/uvpsup\\/espooverfahren\\/espoo_uk\\/uvpkkwhinkleypoint\\/\"}],\"flex\":\"http:\\/\\/flexrisk.boku.ac.at\\/en\\/sites\\/hink\\/index.html\",\"country\":\"UK\",\"reaktoren\":6,\"id\":207,\"inbau\":0,\"point\":{\"y\":51.20796,\"x\":-3.12999},\"inplanung\":2,\"hasUVPs\":true,\"name\":\"Hinkley Point\",\"stillgelegt\":2,\"wikiUrl\":\"http:\\/\\/de.wikipedia.org\\/wiki\\/Kernkraftwerk_Hinkley_Point\",\"aktiv\":2},{\"uvps\":[],\"flex\":\"http:\\/\\/flexrisk.boku.ac.at\\/en\\/sites\\/hunt\\/index.html\",\"country\":\"UK\",\"reaktoren\":4,\"id\":208,\"inbau\":0,\"point\":{\"y\":55.72222,\"x\":-4.89306},\"inplanung\":0,\"hasUVPs\":false,\"name\":\"Hunterston\",\"stillgelegt\":2,\"wikiUrl\":\"http:\\/\\/de.wikipedia.org\\/wiki\\/Kernkraftwerk_Hunterston\",\"aktiv\":2},{\"uvps\":[],\"flex\":null,\"country\":\"UK\",\"reaktoren\":2,\"id\":210,\"inbau\":0,\"point\":{\"y\":51.64861,\"x\":-2.57083},\"inplanung\":0,\"hasUVPs\":false,\"name\":\"Oldbury\",\"stillgelegt\":2,\"wikiUrl\":\"http:\\/\\/de.wikipedia.org\\/wiki\\/Kernkraftwerk_Oldbury\",\"aktiv\":0},{\"uvps\":[],\"flex\":\"http:\\/\\/flexrisk.boku.ac.at\\/en\\/sites\\/size\\/index.html\",\"country\":\"UK\",\"reaktoren\":3,\"id\":211,\"inbau\":0,\"point\":{\"y\":52.21667,\"x\":1.61944},\"inplanung\":0,\"hasUVPs\":false,\"name\":\"Sizewell\",\"stillgelegt\":2,\"wikiUrl\":\"http:\\/\\/de.wikipedia.org\\/wiki\\/Kernkraftwerk_Sizewell\",\"aktiv\":1},{\"uvps\":[],\"flex\":\"http:\\/\\/flexrisk.boku.ac.at\\/en\\/sites\\/torn\\/index.html\",\"country\":\"UK\",\"reaktoren\":2,\"id\":209,\"inbau\":0,\"point\":{\"y\":55.96667,\"x\":-2.4},\"inplanung\":0,\"hasUVPs\":false,\"name\":\"Torness\",\"stillgelegt\":0,\"wikiUrl\":\"http:\\/\\/de.wikipedia.org\\/wiki\\/Kernkraftwerk_Torness\",\"aktiv\":2},{\"uvps\":[],\"flex\":null,\"country\":\"UK\",\"reaktoren\":2,\"id\":220,\"inbau\":0,\"point\":{\"y\":52.925,\"x\":-3.95},\"inplanung\":0,\"hasUVPs\":false,\"name\":\"Trawsfynydd\",\"stillgelegt\":2,\"wikiUrl\":\"http:\\/\\/de.wikipedia.org\\/wiki\\/Kernkraftwerk_Trawsfynydd\",\"aktiv\":0},{\"uvps\":[],\"flex\":null,\"country\":\"UK\",\"reaktoren\":1,\"id\":213,\"inbau\":0,\"point\":{\"y\":54.41861,\"x\":-3.4975},\"inplanung\":0,\"hasUVPs\":false,\"name\":\"Windscale\",\"stillgelegt\":1,\"wikiUrl\":\"http:\\/\\/de.wikipedia.org\\/wiki\\/Sellafield\",\"aktiv\":0},{\"uvps\":[],\"flex\":null,\"country\":\"UK\",\"reaktoren\":2,\"id\":215,\"inbau\":0,\"point\":{\"y\":50.68406,\"x\":-2.26954},\"inplanung\":0,\"hasUVPs\":false,\"name\":\"Winfrith\",\"stillgelegt\":2,\"wikiUrl\":\"http:\\/\\/de.wikipedia.org\\/wiki\\/Kernkraftwerk_Winfrith\",\"aktiv\":0},{\"uvps\":[],\"flex\":\"http:\\/\\/flexrisk.boku.ac.at\\/en\\/sites\\/wylf\\/index.html\",\"country\":\"UK\",\"reaktoren\":2,\"id\":212,\"inbau\":0,\"point\":{\"y\":53.41667,\"x\":-4.48333},\"inplanung\":0,\"hasUVPs\":false,\"name\":\"Wylfa\",\"stillgelegt\":1,\"wikiUrl\":\"http:\\/\\/de.wikipedia.org\\/wiki\\/Kernkraftwerk_Wylfa\",\"aktiv\":1},{\"uvps\":[],\"flex\":null,\"country\":\"Ukraine\",\"reaktoren\":6,\"id\":225,\"inbau\":0,\"point\":{\"y\":51.38978,\"x\":30.09971},\"inplanung\":0,\"hasUVPs\":false,\"name\":\"Chernobyl\",\"stillgelegt\":6,\"wikiUrl\":\"http:\\/\\/de.wikipedia.org\\/wiki\\/Kernkraftwerk_Tschernobyl\",\"aktiv\":0},{\"uvps\":[{\"fk\":\"221\",\"status\":\"abgeschlossen\",\"titel\":\"AKW Khmelnitzky2 & AKW Rowno4\",\"url\":\"http:\\/\\/www.umweltbundesamt.at\\/umweltschutz\\/kernenergie\\/akw\\/k2r4\\/\"},{\"fk\":\"221\",\"status\":\"laufend\",\"titel\":\"UVP KKW Khmelnitsky 3&4\",\"url\":\"http:\\/\\/www.umweltbundesamt.at\\/umweltsituation\\/uvpsup\\/espooverfahren\\/espoo_ukraine\\/kkwkhmelnitsky34\"}],\"flex\":\"http:\\/\\/flexrisk.boku.ac.at\\/en\\/sites\\/khme\\/index.html\",\"country\":\"Ukraine\",\"reaktoren\":4,\"id\":221,\"inbau\":2,\"point\":{\"y\":50.305,\"x\":26.645},\"inplanung\":0,\"hasUVPs\":true,\"name\":\"Khmelnitski\",\"stillgelegt\":0,\"wikiUrl\":\"http:\\/\\/de.wikipedia.org\\/wiki\\/Kernkraftwerk_Chmelnyzkyj\",\"aktiv\":2},{\"uvps\":[{\"fk\":\"222\",\"status\":\"abgeschlossen\",\"titel\":\"AKW Khmelnitzky2 & AKW Rowno4\",\"url\":\"http:\\/\\/www.umweltbundesamt.at\\/umweltschutz\\/kernenergie\\/akw\\/k2r4\\/\"}],\"flex\":\"http:\\/\\/flexrisk.boku.ac.at\\/en\\/sites\\/rown\\/index.html\",\"country\":\"Ukraine\",\"reaktoren\":4,\"id\":222,\"inbau\":0,\"point\":{\"y\":51.32778,\"x\":25.89167},\"inplanung\":0,\"hasUVPs\":true,\"name\":\"Rovno\",\"stillgelegt\":0,\"wikiUrl\":\"http:\\/\\/de.wikipedia.org\\/wiki\\/Kernkraftwerk_Riwne\",\"aktiv\":4},{\"uvps\":[],\"flex\":\"http:\\/\\/flexrisk.boku.ac.at\\/en\\/sites\\/sout\\/index.html\",\"country\":\"Ukraine\",\"reaktoren\":4,\"id\":223,\"inbau\":1,\"point\":{\"y\":47.81667,\"x\":31.21667},\"inplanung\":0,\"hasUVPs\":false,\"name\":\"South Ukraine\",\"stillgelegt\":1,\"wikiUrl\":\"http:\\/\\/de.wikipedia.org\\/wiki\\/Kernkraftwerk_S%C3%BCd-Ukraine\",\"aktiv\":2},{\"uvps\":[],\"flex\":\"http:\\/\\/flexrisk.boku.ac.at\\/en\\/sites\\/zapo\\/index.html\",\"country\":\"Ukraine\",\"reaktoren\":6,\"id\":224,\"inbau\":0,\"point\":{\"y\":47.51222,\"x\":34.58583},\"inplanung\":0,\"hasUVPs\":false,\"name\":\"Zaporozhe\",\"stillgelegt\":0,\"wikiUrl\":\"http:\\/\\/de.wikipedia.org\\/wiki\\/Kernkraftwerk_Saporischschja\",\"aktiv\":6},{\"uvps\":[{\"fk\":\"59\",\"status\":\"abgeschlossen\",\"titel\":\"UVP KKW Paks Betriebsverlängerung\",\"url\":\"http:\\/\\/www.umweltbundesamt.at\\/umweltschutz\\/uvpsupemas\\/espooverfahren\\/espoo_ungarn\\/uvpkkwpaks\\/\"},{\"fk\":\"59\",\"status\":\"laufend\",\"titel\":\"UVP KKW Paks II\",\"url\":\"http:\\/\\/www.umweltbundesamt.at\\/umweltsituation\\/uvpsup\\/espooverfahren\\/espoo_ungarn\\/uvpkkwpaksii\\/\"}],\"flex\":\"http:\\/\\/flexrisk.boku.ac.at\\/en\\/sites\\/paks\\/index.html\",\"country\":\"Ungarn\",\"reaktoren\":6,\"id\":59,\"inbau\":0,\"point\":{\"y\":46.57391,\"x\":18.85314},\"inplanung\":2,\"hasUVPs\":true,\"name\":\"Paks\",\"stillgelegt\":0,\"wikiUrl\":\"http:\\/\\/de.wikipedia.org\\/wiki\\/Kernkraftwerk_Paks\",\"aktiv\":4},{\"uvps\":[{\"fk\":\"242\",\"status\":\"abgeschlossen\",\"titel\":\"UVP KKW Belarus\",\"url\":\"http:\\/\\/www.umweltbundesamt.at\\/umweltsituation\\/uvpsup\\/espooverfahren\\/espoo_belarus\\/uvpkkwbelarus\\/\"}],\"flex\":\"http:\\/\\/flexrisk.boku.ac.at\\/en\\/sites\\/ostr\\/index.html\",\"country\":\"Weißrussland\",\"reaktoren\":1,\"id\":242,\"inbau\":0,\"point\":{\"y\":54.76189,\"x\":26.11986},\"inplanung\":1,\"hasUVPs\":true,\"name\":\"Ostrovets\",\"stillgelegt\":0,\"wikiUrl\":\"http:\\/\\/en.wikipedia.org\\/wiki\\/Belarusian_nuclear_power_plant_project\",\"aktiv\":0}];"
   ]
  },
  {
   "cell_type": "code",
   "execution_count": 4,
   "metadata": {
    "collapsed": true,
    "deletable": true,
    "editable": true
   },
   "outputs": [],
   "source": [
    "df = pd.DataFrame(akws)"
   ]
  },
  {
   "cell_type": "code",
   "execution_count": 5,
   "metadata": {
    "collapsed": true,
    "deletable": true,
    "editable": true
   },
   "outputs": [],
   "source": [
    "df = df[df.aktiv > 0]"
   ]
  },
  {
   "cell_type": "code",
   "execution_count": 6,
   "metadata": {
    "collapsed": false,
    "deletable": true,
    "editable": true
   },
   "outputs": [
    {
     "data": {
      "text/html": [
       "<div>\n",
       "<table border=\"1\" class=\"dataframe\">\n",
       "  <thead>\n",
       "    <tr style=\"text-align: right;\">\n",
       "      <th></th>\n",
       "      <th>aktiv</th>\n",
       "      <th>country</th>\n",
       "      <th>flex</th>\n",
       "      <th>hasUVPs</th>\n",
       "      <th>id</th>\n",
       "      <th>inbau</th>\n",
       "      <th>inplanung</th>\n",
       "      <th>name</th>\n",
       "      <th>point</th>\n",
       "      <th>reaktoren</th>\n",
       "      <th>stillgelegt</th>\n",
       "      <th>uvps</th>\n",
       "      <th>wikiUrl</th>\n",
       "    </tr>\n",
       "  </thead>\n",
       "  <tbody>\n",
       "    <tr>\n",
       "      <th>0</th>\n",
       "      <td>1</td>\n",
       "      <td>Armenien</td>\n",
       "      <td>None</td>\n",
       "      <td>False</td>\n",
       "      <td>125</td>\n",
       "      <td>0</td>\n",
       "      <td>0</td>\n",
       "      <td>Metzamor</td>\n",
       "      <td>{'x': 44.1425, 'y': 40.18247}</td>\n",
       "      <td>2</td>\n",
       "      <td>1</td>\n",
       "      <td>[]</td>\n",
       "      <td>http:\\/\\/de.wikipedia.org\\/wiki\\/Kernkraftwerk_Mezamor</td>\n",
       "    </tr>\n",
       "    <tr>\n",
       "      <th>2</th>\n",
       "      <td>4</td>\n",
       "      <td>Belgien</td>\n",
       "      <td>http:\\/\\/flexrisk.boku.ac.at\\/en\\/sites\\/doel\\/index.html</td>\n",
       "      <td>False</td>\n",
       "      <td>126</td>\n",
       "      <td>0</td>\n",
       "      <td>0</td>\n",
       "      <td>Doel</td>\n",
       "      <td>{'x': 4.25875, 'y': 51.32472}</td>\n",
       "      <td>4</td>\n",
       "      <td>0</td>\n",
       "      <td>[]</td>\n",
       "      <td>http:\\/\\/de.wikipedia.org\\/wiki\\/Kernkraftwerk_Doel</td>\n",
       "    </tr>\n",
       "    <tr>\n",
       "      <th>3</th>\n",
       "      <td>3</td>\n",
       "      <td>Belgien</td>\n",
       "      <td>http:\\/\\/flexrisk.boku.ac.at\\/en\\/sites\\/tiha\\/index.html</td>\n",
       "      <td>False</td>\n",
       "      <td>127</td>\n",
       "      <td>0</td>\n",
       "      <td>0</td>\n",
       "      <td>Tihange</td>\n",
       "      <td>{'x': 5.27253, 'y': 50.53463}</td>\n",
       "      <td>3</td>\n",
       "      <td>0</td>\n",
       "      <td>[]</td>\n",
       "      <td>http:\\/\\/de.wikipedia.org\\/wiki\\/Kernkraftwerk_Tihange</td>\n",
       "    </tr>\n",
       "    <tr>\n",
       "      <th>5</th>\n",
       "      <td>2</td>\n",
       "      <td>Bulgarien</td>\n",
       "      <td>http:\\/\\/flexrisk.boku.ac.at\\/en\\/sites\\/kozl\\/index.html</td>\n",
       "      <td>True</td>\n",
       "      <td>129</td>\n",
       "      <td>0</td>\n",
       "      <td>0</td>\n",
       "      <td>Kozloduy</td>\n",
       "      <td>{'x': 23.77051, 'y': 43.74614}</td>\n",
       "      <td>6</td>\n",
       "      <td>4</td>\n",
       "      <td>[{'fk': '129', 'titel': 'UVP-Verfahren KKW Kozloduy 7', 'status': 'laufend', 'url': 'http:\\/\\/www.umweltbundesamt.at\\/umweltsituation\\/uvpsup\\/espooverfahren\\/espoo_bulgarien\\/uvp_kkw_kozloduy_7\\/'}]</td>\n",
       "      <td>http:\\/\\/de.wikipedia.org\\/wiki\\/Kernkraftwerk_Kosloduj</td>\n",
       "    </tr>\n",
       "    <tr>\n",
       "      <th>7</th>\n",
       "      <td>1</td>\n",
       "      <td>Deutschland</td>\n",
       "      <td>http:\\/\\/flexrisk.boku.ac.at\\/en\\/sites\\/brok\\/index.html</td>\n",
       "      <td>False</td>\n",
       "      <td>35</td>\n",
       "      <td>0</td>\n",
       "      <td>0</td>\n",
       "      <td>Brokdorf</td>\n",
       "      <td>{'x': 9.34472, 'y': 53.85083}</td>\n",
       "      <td>1</td>\n",
       "      <td>0</td>\n",
       "      <td>[]</td>\n",
       "      <td>http:\\/\\/de.wikipedia.org\\/wiki\\/Kernkraftwerk_Brokdorf</td>\n",
       "    </tr>\n",
       "  </tbody>\n",
       "</table>\n",
       "</div>"
      ],
      "text/plain": [
       "   aktiv      country  \\\n",
       "0      1     Armenien   \n",
       "2      4      Belgien   \n",
       "3      3      Belgien   \n",
       "5      2    Bulgarien   \n",
       "7      1  Deutschland   \n",
       "\n",
       "                                                        flex hasUVPs   id  \\\n",
       "0                                                       None   False  125   \n",
       "2  http:\\/\\/flexrisk.boku.ac.at\\/en\\/sites\\/doel\\/index.html   False  126   \n",
       "3  http:\\/\\/flexrisk.boku.ac.at\\/en\\/sites\\/tiha\\/index.html   False  127   \n",
       "5  http:\\/\\/flexrisk.boku.ac.at\\/en\\/sites\\/kozl\\/index.html    True  129   \n",
       "7  http:\\/\\/flexrisk.boku.ac.at\\/en\\/sites\\/brok\\/index.html   False   35   \n",
       "\n",
       "   inbau  inplanung      name                           point  reaktoren  \\\n",
       "0      0          0  Metzamor   {'x': 44.1425, 'y': 40.18247}          2   \n",
       "2      0          0      Doel   {'x': 4.25875, 'y': 51.32472}          4   \n",
       "3      0          0  Tihange    {'x': 5.27253, 'y': 50.53463}          3   \n",
       "5      0          0  Kozloduy  {'x': 23.77051, 'y': 43.74614}          6   \n",
       "7      0          0  Brokdorf   {'x': 9.34472, 'y': 53.85083}          1   \n",
       "\n",
       "   stillgelegt  \\\n",
       "0            1   \n",
       "2            0   \n",
       "3            0   \n",
       "5            4   \n",
       "7            0   \n",
       "\n",
       "                                                                                                                                                                                                      uvps  \\\n",
       "0                                                                                                                                                                                                       []   \n",
       "2                                                                                                                                                                                                       []   \n",
       "3                                                                                                                                                                                                       []   \n",
       "5  [{'fk': '129', 'titel': 'UVP-Verfahren KKW Kozloduy 7', 'status': 'laufend', 'url': 'http:\\/\\/www.umweltbundesamt.at\\/umweltsituation\\/uvpsup\\/espooverfahren\\/espoo_bulgarien\\/uvp_kkw_kozloduy_7\\/'}]   \n",
       "7                                                                                                                                                                                                       []   \n",
       "\n",
       "                                                   wikiUrl  \n",
       "0   http:\\/\\/de.wikipedia.org\\/wiki\\/Kernkraftwerk_Mezamor  \n",
       "2      http:\\/\\/de.wikipedia.org\\/wiki\\/Kernkraftwerk_Doel  \n",
       "3   http:\\/\\/de.wikipedia.org\\/wiki\\/Kernkraftwerk_Tihange  \n",
       "5  http:\\/\\/de.wikipedia.org\\/wiki\\/Kernkraftwerk_Kosloduj  \n",
       "7  http:\\/\\/de.wikipedia.org\\/wiki\\/Kernkraftwerk_Brokdorf  "
      ]
     },
     "execution_count": 6,
     "metadata": {},
     "output_type": "execute_result"
    }
   ],
   "source": [
    "df.head()"
   ]
  },
  {
   "cell_type": "code",
   "execution_count": 7,
   "metadata": {
    "collapsed": true,
    "deletable": true,
    "editable": true
   },
   "outputs": [],
   "source": [
    "df = df[['aktiv', 'name', 'point', 'wikiUrl']]"
   ]
  },
  {
   "cell_type": "code",
   "execution_count": 8,
   "metadata": {
    "collapsed": false,
    "deletable": true,
    "editable": true
   },
   "outputs": [
    {
     "data": {
      "text/html": [
       "<div>\n",
       "<table border=\"1\" class=\"dataframe\">\n",
       "  <thead>\n",
       "    <tr style=\"text-align: right;\">\n",
       "      <th></th>\n",
       "      <th>aktiv</th>\n",
       "      <th>name</th>\n",
       "      <th>point</th>\n",
       "      <th>wikiUrl</th>\n",
       "    </tr>\n",
       "  </thead>\n",
       "  <tbody>\n",
       "    <tr>\n",
       "      <th>0</th>\n",
       "      <td>1</td>\n",
       "      <td>Metzamor</td>\n",
       "      <td>{'x': 44.1425, 'y': 40.18247}</td>\n",
       "      <td>http:\\/\\/de.wikipedia.org\\/wiki\\/Kernkraftwerk_Mezamor</td>\n",
       "    </tr>\n",
       "    <tr>\n",
       "      <th>2</th>\n",
       "      <td>4</td>\n",
       "      <td>Doel</td>\n",
       "      <td>{'x': 4.25875, 'y': 51.32472}</td>\n",
       "      <td>http:\\/\\/de.wikipedia.org\\/wiki\\/Kernkraftwerk_Doel</td>\n",
       "    </tr>\n",
       "    <tr>\n",
       "      <th>3</th>\n",
       "      <td>3</td>\n",
       "      <td>Tihange</td>\n",
       "      <td>{'x': 5.27253, 'y': 50.53463}</td>\n",
       "      <td>http:\\/\\/de.wikipedia.org\\/wiki\\/Kernkraftwerk_Tihange</td>\n",
       "    </tr>\n",
       "    <tr>\n",
       "      <th>5</th>\n",
       "      <td>2</td>\n",
       "      <td>Kozloduy</td>\n",
       "      <td>{'x': 23.77051, 'y': 43.74614}</td>\n",
       "      <td>http:\\/\\/de.wikipedia.org\\/wiki\\/Kernkraftwerk_Kosloduj</td>\n",
       "    </tr>\n",
       "    <tr>\n",
       "      <th>7</th>\n",
       "      <td>1</td>\n",
       "      <td>Brokdorf</td>\n",
       "      <td>{'x': 9.34472, 'y': 53.85083}</td>\n",
       "      <td>http:\\/\\/de.wikipedia.org\\/wiki\\/Kernkraftwerk_Brokdorf</td>\n",
       "    </tr>\n",
       "  </tbody>\n",
       "</table>\n",
       "</div>"
      ],
      "text/plain": [
       "   aktiv      name                           point  \\\n",
       "0      1  Metzamor   {'x': 44.1425, 'y': 40.18247}   \n",
       "2      4      Doel   {'x': 4.25875, 'y': 51.32472}   \n",
       "3      3  Tihange    {'x': 5.27253, 'y': 50.53463}   \n",
       "5      2  Kozloduy  {'x': 23.77051, 'y': 43.74614}   \n",
       "7      1  Brokdorf   {'x': 9.34472, 'y': 53.85083}   \n",
       "\n",
       "                                                   wikiUrl  \n",
       "0   http:\\/\\/de.wikipedia.org\\/wiki\\/Kernkraftwerk_Mezamor  \n",
       "2      http:\\/\\/de.wikipedia.org\\/wiki\\/Kernkraftwerk_Doel  \n",
       "3   http:\\/\\/de.wikipedia.org\\/wiki\\/Kernkraftwerk_Tihange  \n",
       "5  http:\\/\\/de.wikipedia.org\\/wiki\\/Kernkraftwerk_Kosloduj  \n",
       "7  http:\\/\\/de.wikipedia.org\\/wiki\\/Kernkraftwerk_Brokdorf  "
      ]
     },
     "execution_count": 8,
     "metadata": {},
     "output_type": "execute_result"
    }
   ],
   "source": [
    "df.head()"
   ]
  },
  {
   "cell_type": "code",
   "execution_count": 9,
   "metadata": {
    "collapsed": true,
    "deletable": true,
    "editable": true
   },
   "outputs": [],
   "source": [
    "df.point = df.point.astype(str)"
   ]
  },
  {
   "cell_type": "code",
   "execution_count": 10,
   "metadata": {
    "collapsed": true,
    "deletable": true,
    "editable": true
   },
   "outputs": [],
   "source": [
    "df['x'] = df.point.str.split(',').str.get(0)\n",
    "df['y'] = df.point.str.split(',').str.get(1)"
   ]
  },
  {
   "cell_type": "code",
   "execution_count": 11,
   "metadata": {
    "collapsed": false,
    "deletable": true,
    "editable": true
   },
   "outputs": [
    {
     "data": {
      "text/plain": [
       "0     {'x': 44.1425\n",
       "2     {'x': 4.25875\n",
       "3     {'x': 5.27253\n",
       "5    {'x': 23.77051\n",
       "7     {'x': 9.34472\n",
       "Name: x, dtype: object"
      ]
     },
     "execution_count": 11,
     "metadata": {},
     "output_type": "execute_result"
    }
   ],
   "source": [
    "df.x.head()"
   ]
  },
  {
   "cell_type": "code",
   "execution_count": 12,
   "metadata": {
    "collapsed": true,
    "deletable": true,
    "editable": true
   },
   "outputs": [],
   "source": [
    "df.x = df.x.str.replace('{', '')"
   ]
  },
  {
   "cell_type": "code",
   "execution_count": 13,
   "metadata": {
    "collapsed": true,
    "deletable": true,
    "editable": true
   },
   "outputs": [],
   "source": [
    "df.x = df.x.str.replace('\\'x\\': ', '')"
   ]
  },
  {
   "cell_type": "code",
   "execution_count": 14,
   "metadata": {
    "collapsed": false,
    "deletable": true,
    "editable": true
   },
   "outputs": [
    {
     "data": {
      "text/html": [
       "<div>\n",
       "<table border=\"1\" class=\"dataframe\">\n",
       "  <thead>\n",
       "    <tr style=\"text-align: right;\">\n",
       "      <th></th>\n",
       "      <th>aktiv</th>\n",
       "      <th>name</th>\n",
       "      <th>point</th>\n",
       "      <th>wikiUrl</th>\n",
       "      <th>x</th>\n",
       "      <th>y</th>\n",
       "    </tr>\n",
       "  </thead>\n",
       "  <tbody>\n",
       "    <tr>\n",
       "      <th>0</th>\n",
       "      <td>1</td>\n",
       "      <td>Metzamor</td>\n",
       "      <td>{'x': 44.1425, 'y': 40.18247}</td>\n",
       "      <td>http:\\/\\/de.wikipedia.org\\/wiki\\/Kernkraftwerk_Mezamor</td>\n",
       "      <td>44.1425</td>\n",
       "      <td>'y': 40.18247}</td>\n",
       "    </tr>\n",
       "    <tr>\n",
       "      <th>2</th>\n",
       "      <td>4</td>\n",
       "      <td>Doel</td>\n",
       "      <td>{'x': 4.25875, 'y': 51.32472}</td>\n",
       "      <td>http:\\/\\/de.wikipedia.org\\/wiki\\/Kernkraftwerk_Doel</td>\n",
       "      <td>4.25875</td>\n",
       "      <td>'y': 51.32472}</td>\n",
       "    </tr>\n",
       "    <tr>\n",
       "      <th>3</th>\n",
       "      <td>3</td>\n",
       "      <td>Tihange</td>\n",
       "      <td>{'x': 5.27253, 'y': 50.53463}</td>\n",
       "      <td>http:\\/\\/de.wikipedia.org\\/wiki\\/Kernkraftwerk_Tihange</td>\n",
       "      <td>5.27253</td>\n",
       "      <td>'y': 50.53463}</td>\n",
       "    </tr>\n",
       "    <tr>\n",
       "      <th>5</th>\n",
       "      <td>2</td>\n",
       "      <td>Kozloduy</td>\n",
       "      <td>{'x': 23.77051, 'y': 43.74614}</td>\n",
       "      <td>http:\\/\\/de.wikipedia.org\\/wiki\\/Kernkraftwerk_Kosloduj</td>\n",
       "      <td>23.77051</td>\n",
       "      <td>'y': 43.74614}</td>\n",
       "    </tr>\n",
       "    <tr>\n",
       "      <th>7</th>\n",
       "      <td>1</td>\n",
       "      <td>Brokdorf</td>\n",
       "      <td>{'x': 9.34472, 'y': 53.85083}</td>\n",
       "      <td>http:\\/\\/de.wikipedia.org\\/wiki\\/Kernkraftwerk_Brokdorf</td>\n",
       "      <td>9.34472</td>\n",
       "      <td>'y': 53.85083}</td>\n",
       "    </tr>\n",
       "  </tbody>\n",
       "</table>\n",
       "</div>"
      ],
      "text/plain": [
       "   aktiv      name                           point  \\\n",
       "0      1  Metzamor   {'x': 44.1425, 'y': 40.18247}   \n",
       "2      4      Doel   {'x': 4.25875, 'y': 51.32472}   \n",
       "3      3  Tihange    {'x': 5.27253, 'y': 50.53463}   \n",
       "5      2  Kozloduy  {'x': 23.77051, 'y': 43.74614}   \n",
       "7      1  Brokdorf   {'x': 9.34472, 'y': 53.85083}   \n",
       "\n",
       "                                                   wikiUrl         x  \\\n",
       "0   http:\\/\\/de.wikipedia.org\\/wiki\\/Kernkraftwerk_Mezamor   44.1425   \n",
       "2      http:\\/\\/de.wikipedia.org\\/wiki\\/Kernkraftwerk_Doel   4.25875   \n",
       "3   http:\\/\\/de.wikipedia.org\\/wiki\\/Kernkraftwerk_Tihange   5.27253   \n",
       "5  http:\\/\\/de.wikipedia.org\\/wiki\\/Kernkraftwerk_Kosloduj  23.77051   \n",
       "7  http:\\/\\/de.wikipedia.org\\/wiki\\/Kernkraftwerk_Brokdorf   9.34472   \n",
       "\n",
       "                 y  \n",
       "0   'y': 40.18247}  \n",
       "2   'y': 51.32472}  \n",
       "3   'y': 50.53463}  \n",
       "5   'y': 43.74614}  \n",
       "7   'y': 53.85083}  "
      ]
     },
     "execution_count": 14,
     "metadata": {},
     "output_type": "execute_result"
    }
   ],
   "source": [
    "df.head()"
   ]
  },
  {
   "cell_type": "code",
   "execution_count": 15,
   "metadata": {
    "collapsed": false
   },
   "outputs": [],
   "source": [
    "df.y = df.y.str.replace('\\'y\\': ', '')"
   ]
  },
  {
   "cell_type": "code",
   "execution_count": 16,
   "metadata": {
    "collapsed": true,
    "deletable": true,
    "editable": true
   },
   "outputs": [],
   "source": [
    "df.y = df.y.str.replace('}', '')"
   ]
  },
  {
   "cell_type": "code",
   "execution_count": 17,
   "metadata": {
    "collapsed": false,
    "deletable": true,
    "editable": true
   },
   "outputs": [
    {
     "data": {
      "text/html": [
       "<div>\n",
       "<table border=\"1\" class=\"dataframe\">\n",
       "  <thead>\n",
       "    <tr style=\"text-align: right;\">\n",
       "      <th></th>\n",
       "      <th>aktiv</th>\n",
       "      <th>name</th>\n",
       "      <th>point</th>\n",
       "      <th>wikiUrl</th>\n",
       "      <th>x</th>\n",
       "      <th>y</th>\n",
       "    </tr>\n",
       "  </thead>\n",
       "  <tbody>\n",
       "    <tr>\n",
       "      <th>0</th>\n",
       "      <td>1</td>\n",
       "      <td>Metzamor</td>\n",
       "      <td>{'x': 44.1425, 'y': 40.18247}</td>\n",
       "      <td>http:\\/\\/de.wikipedia.org\\/wiki\\/Kernkraftwerk_Mezamor</td>\n",
       "      <td>44.1425</td>\n",
       "      <td>40.18247</td>\n",
       "    </tr>\n",
       "    <tr>\n",
       "      <th>2</th>\n",
       "      <td>4</td>\n",
       "      <td>Doel</td>\n",
       "      <td>{'x': 4.25875, 'y': 51.32472}</td>\n",
       "      <td>http:\\/\\/de.wikipedia.org\\/wiki\\/Kernkraftwerk_Doel</td>\n",
       "      <td>4.25875</td>\n",
       "      <td>51.32472</td>\n",
       "    </tr>\n",
       "    <tr>\n",
       "      <th>3</th>\n",
       "      <td>3</td>\n",
       "      <td>Tihange</td>\n",
       "      <td>{'x': 5.27253, 'y': 50.53463}</td>\n",
       "      <td>http:\\/\\/de.wikipedia.org\\/wiki\\/Kernkraftwerk_Tihange</td>\n",
       "      <td>5.27253</td>\n",
       "      <td>50.53463</td>\n",
       "    </tr>\n",
       "    <tr>\n",
       "      <th>5</th>\n",
       "      <td>2</td>\n",
       "      <td>Kozloduy</td>\n",
       "      <td>{'x': 23.77051, 'y': 43.74614}</td>\n",
       "      <td>http:\\/\\/de.wikipedia.org\\/wiki\\/Kernkraftwerk_Kosloduj</td>\n",
       "      <td>23.77051</td>\n",
       "      <td>43.74614</td>\n",
       "    </tr>\n",
       "    <tr>\n",
       "      <th>7</th>\n",
       "      <td>1</td>\n",
       "      <td>Brokdorf</td>\n",
       "      <td>{'x': 9.34472, 'y': 53.85083}</td>\n",
       "      <td>http:\\/\\/de.wikipedia.org\\/wiki\\/Kernkraftwerk_Brokdorf</td>\n",
       "      <td>9.34472</td>\n",
       "      <td>53.85083</td>\n",
       "    </tr>\n",
       "  </tbody>\n",
       "</table>\n",
       "</div>"
      ],
      "text/plain": [
       "   aktiv      name                           point  \\\n",
       "0      1  Metzamor   {'x': 44.1425, 'y': 40.18247}   \n",
       "2      4      Doel   {'x': 4.25875, 'y': 51.32472}   \n",
       "3      3  Tihange    {'x': 5.27253, 'y': 50.53463}   \n",
       "5      2  Kozloduy  {'x': 23.77051, 'y': 43.74614}   \n",
       "7      1  Brokdorf   {'x': 9.34472, 'y': 53.85083}   \n",
       "\n",
       "                                                   wikiUrl         x  \\\n",
       "0   http:\\/\\/de.wikipedia.org\\/wiki\\/Kernkraftwerk_Mezamor   44.1425   \n",
       "2      http:\\/\\/de.wikipedia.org\\/wiki\\/Kernkraftwerk_Doel   4.25875   \n",
       "3   http:\\/\\/de.wikipedia.org\\/wiki\\/Kernkraftwerk_Tihange   5.27253   \n",
       "5  http:\\/\\/de.wikipedia.org\\/wiki\\/Kernkraftwerk_Kosloduj  23.77051   \n",
       "7  http:\\/\\/de.wikipedia.org\\/wiki\\/Kernkraftwerk_Brokdorf   9.34472   \n",
       "\n",
       "           y  \n",
       "0   40.18247  \n",
       "2   51.32472  \n",
       "3   50.53463  \n",
       "5   43.74614  \n",
       "7   53.85083  "
      ]
     },
     "execution_count": 17,
     "metadata": {},
     "output_type": "execute_result"
    }
   ],
   "source": [
    "df.head()"
   ]
  },
  {
   "cell_type": "code",
   "execution_count": 18,
   "metadata": {
    "collapsed": false,
    "deletable": true,
    "editable": true
   },
   "outputs": [],
   "source": [
    "df.x = df.x.astype(float)\n",
    "df.y = df.y.astype(float)"
   ]
  },
  {
   "cell_type": "code",
   "execution_count": 19,
   "metadata": {
    "collapsed": false,
    "deletable": true,
    "editable": true
   },
   "outputs": [
    {
     "data": {
      "text/plain": [
       "aktiv        int64\n",
       "name        object\n",
       "point       object\n",
       "wikiUrl     object\n",
       "x          float64\n",
       "y          float64\n",
       "dtype: object"
      ]
     },
     "execution_count": 19,
     "metadata": {},
     "output_type": "execute_result"
    }
   ],
   "source": [
    "df.dtypes"
   ]
  },
  {
   "cell_type": "code",
   "execution_count": 27,
   "metadata": {
    "collapsed": true,
    "deletable": true,
    "editable": true
   },
   "outputs": [],
   "source": [
    "df['ort'] = df.apply(lambda x: [x.y, x.x], axis=1)"
   ]
  },
  {
   "cell_type": "code",
   "execution_count": 28,
   "metadata": {
    "collapsed": false,
    "deletable": true,
    "editable": true
   },
   "outputs": [
    {
     "data": {
      "text/plain": [
       "[40.18247, 44.1425]"
      ]
     },
     "execution_count": 28,
     "metadata": {},
     "output_type": "execute_result"
    }
   ],
   "source": [
    "df.ort[0]"
   ]
  },
  {
   "cell_type": "code",
   "execution_count": 29,
   "metadata": {
    "collapsed": true,
    "deletable": true,
    "editable": true
   },
   "outputs": [],
   "source": [
    "import folium "
   ]
  },
  {
   "cell_type": "code",
   "execution_count": 30,
   "metadata": {
    "collapsed": false,
    "deletable": true,
    "editable": true
   },
   "outputs": [
    {
     "data": {
      "text/plain": [
       "76"
      ]
     },
     "execution_count": 30,
     "metadata": {},
     "output_type": "execute_result"
    }
   ],
   "source": [
    "locations = df.ort\n",
    "len(locations)"
   ]
  },
  {
   "cell_type": "code",
   "execution_count": 31,
   "metadata": {
    "collapsed": true,
    "deletable": true,
    "editable": true
   },
   "outputs": [],
   "source": [
    "names = list(df.name)"
   ]
  },
  {
   "cell_type": "code",
   "execution_count": 32,
   "metadata": {
    "collapsed": false,
    "deletable": true,
    "editable": true
   },
   "outputs": [],
   "source": [
    "locations = locations.values.tolist()"
   ]
  },
  {
   "cell_type": "code",
   "execution_count": 33,
   "metadata": {
    "collapsed": false,
    "deletable": true,
    "editable": true
   },
   "outputs": [
    {
     "data": {
      "text/html": [
       "<div style=\"width:100%;\"><div style=\"position:relative;width:100%;height:0;padding-bottom:60%;\"><iframe src=\"data:text/html;charset=utf-8;base64,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\" style=\"position:absolute;width:100%;height:100%;left:0;top:0;border:none !important;\" allowfullscreen webkitallowfullscreen mozallowfullscreen></iframe></div></div>"
      ],
      "text/plain": [
       "<folium.folium.Map at 0x7f192ce13780>"
      ]
     },
     "execution_count": 33,
     "metadata": {},
     "output_type": "execute_result"
    }
   ],
   "source": [
    "cm = folium.Map([50.962857, 7.0], zoom_start=4)\n",
    "for location, popup, in zip(locations, names):\n",
    "    folium.Marker(location=location, popup=popup).add_to(cm)\n",
    "cm"
   ]
  },
  {
   "cell_type": "code",
   "execution_count": null,
   "metadata": {
    "collapsed": true,
    "deletable": true,
    "editable": true
   },
   "outputs": [],
   "source": []
  }
 ],
 "metadata": {
  "kernelspec": {
   "display_name": "Python 3",
   "language": "python",
   "name": "python3"
  },
  "language_info": {
   "codemirror_mode": {
    "name": "ipython",
    "version": 3
   },
   "file_extension": ".py",
   "mimetype": "text/x-python",
   "name": "python",
   "nbconvert_exporter": "python",
   "pygments_lexer": "ipython3",
   "version": "3.5.2"
  }
 },
 "nbformat": 4,
 "nbformat_minor": 2
}
