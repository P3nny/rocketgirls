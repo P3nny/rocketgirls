{
 "cells": [
  {
   "cell_type": "code",
   "execution_count": 1,
   "metadata": {
    "collapsed": true
   },
   "outputs": [],
   "source": [
    "from IPython.display import Image"
   ]
  },
  {
   "cell_type": "markdown",
   "metadata": {},
   "source": [
    "# Python und Jupyter "
   ]
  },
  {
   "cell_type": "markdown",
   "metadata": {},
   "source": [
    "![](static/python.gif)"
   ]
  },
  {
   "cell_type": "markdown",
   "metadata": {},
   "source": [
    "## Introduction to Python\n",
    "\n",
    "> https://tutorial.djangogirls.org/en/python_introduction/\n",
    "\n",
    "> Part of this chapter is based on tutorials by Geek Girls Carrots (https://github.com/ggcarrots/django-carrots).\n",
    "\n",
    "> This part is covered in the video [Python Basics: Integers, Strings, Lists, Variables and Errors](https://www.youtube.com/watch?v=MO63L4s-20U)."
   ]
  },
  {
   "cell_type": "markdown",
   "metadata": {},
   "source": [
    "## Start your virtualenv\n",
    "\n",
    "Make sure you're in /rocketgirls/yourfiles. If you do 'ls' you should see the folder 'myvenv'\n",
    "\n",
    "\n",
    "#### Windows \n",
    "``` myvenv\\scripts\\activate ```\n",
    "\n",
    "\n",
    "#### OSX and Linux\n",
    "``` source myvenv/bin/activate ```"
   ]
  },
  {
   "cell_type": "markdown",
   "metadata": {},
   "source": [
    "** Let's write some code!**\n",
    "\n",
    "## Python prompt \n",
    "\n",
    "To start playing with Python, we need to open up a command line on your computer. You should already know how to do that – you learned it in the Intro to Command Line chapter.\n",
    "\n",
    "Once you're ready, follow the instructions below.\n",
    "\n",
    "We want to open up a Python console, so type in **python** on Windows or **python3** on Mac OS/Linux and hit enter.\n",
    "\n",
    "**command-line**\n",
    "```\n",
    "$ python3\n",
    "Python 3.5.1 (...)\n",
    "Type \"help\", \"copyright\", \"credits\" or \"license\" for more information.\n",
    ">>>\n",
    "```"
   ]
  },
  {
   "cell_type": "markdown",
   "metadata": {},
   "source": [
    "## Your first Python command!\n",
    "\n",
    "After running the Python command, the prompt changed to >>>. For us this means that for now we may only use commands in the Python language. You don't have to type in >>> – Python will do that for you.\n",
    "\n",
    "If you want to exit the Python console at any point, just type exit() or use the shortcut Ctrl + Z for Windows and Ctrl + D for Mac/Linux. Then you won't see >>> any longer.\n",
    "\n",
    "For now, we don't want to exit the Python console. We want to learn more about it. Let's start with something really simple. For example, try typing some math, like 2 + 3 and hit enter.\n",
    "\n",
    "**command-line**\n",
    "```\n",
    ">>> 2 + 3\n",
    "5\n",
    "```\n",
    "\n",
    "As you can see, Python is a great calculator. If you're wondering what else you can do…"
   ]
  },
  {
   "cell_type": "markdown",
   "metadata": {},
   "source": [
    "## Strings\n",
    "\n",
    "How about your name? Type your first name in quotes like this:\n",
    "\n",
    "**command-line**\n",
    "```\n",
    ">>> \"Ola\"\n",
    "'Ola'\n",
    "```\n",
    "\n",
    "You've now created your first string! It's a sequence of characters that can be processed by a computer. The string must always begin and end with the same character. This may be single (') or double (\") quotes (there is no difference!) The quotes tell Python that what's inside of them is a string.\n",
    "\n",
    "Strings can be strung together. Try this:\n",
    "\n",
    "**command-line**\n",
    "```\n",
    ">>> \"Hi there \" + \"Ola\"\n",
    "'Hi there Ola'\n",
    "```\n",
    "\n",
    "You can also multiply strings with a number:\n",
    "\n",
    "**command-line**\n",
    "```\n",
    ">>> \"Ola\" * 3\n",
    "'OlaOlaOla'\n",
    "```\n",
    "\n",
    "Nice, huh? To see your name in uppercase letters, simply type:\n",
    "\n",
    "**command-line**\n",
    "```\n",
    ">>> \"Ola\".upper()\n",
    "'OLA'\n",
    "```\n",
    "\n",
    "You just used the upper method on your string! A method (like upper()) is a sequence of instructions that Python has to perform on a given object (\"Ola\") once you call it.\n",
    "\n",
    "If you want to know the number of letters contained in your name, there is a function for that too!\n",
    "\n",
    "** command-line **\n",
    "```\n",
    ">>> len(\"Ola\")\n",
    "3\n",
    "```\n",
    "\n",
    "Wonder why sometimes you call functions with a . at the end of a string (like \"Ola\".upper()) and sometimes you first call a function and place the string in parentheses? Well, in some cases, functions belong to objects, like upper(), which can only be performed on strings. In this case, we call the function a method. Other times, functions don't belong to anything specific and can be used on different types of objects, just like len(). That's why we're giving \"Ola\" as a parameter to the len function."
   ]
  },
  {
   "cell_type": "markdown",
   "metadata": {},
   "source": [
    "## Summary\n",
    "\n",
    "OK, enough of strings. So far you've learned about:\n",
    "\n",
    "- the prompt – typing commands (code) into the Python prompt results in answers in Python\n",
    "- numbers and strings – in Python numbers are used for math and strings for text objects\n",
    "- operators – like + and *, combine values to produce a new one\n",
    "- functions – like upper() and len(), perform actions on objects.\n",
    "\n",
    "These are the basics of every programming language you learn. Ready for something harder? We bet you are!"
   ]
  },
  {
   "cell_type": "markdown",
   "metadata": {},
   "source": [
    "## Errors"
   ]
  },
  {
   "cell_type": "markdown",
   "metadata": {},
   "source": [
    "![](static/minions.jpg)"
   ]
  },
  {
   "cell_type": "markdown",
   "metadata": {},
   "source": [
    "Let's try something new. Can we get the length of a number the same way we could find out the length of our name? Type in len(304023) and hit enter:\n",
    "\n",
    "** command-line**\n",
    "```\n",
    ">>> len(304023)\n",
    "Traceback (most recent call last):\n",
    "  File \"<stdin>\", line 1, in <module>\n",
    "TypeError: object of type 'int' has no len()```\n",
    "\n",
    "We got our first error! It says that objects of type \"int\" (integers, whole numbers) have no length. So what can we do now? Maybe we can write our number as a string? Strings have a length, right?\n",
    "\n",
    "**command-line**\n",
    "```\n",
    ">>> len(str(304023))\n",
    "6\n",
    "```\n",
    "\n",
    "It worked! We used the str function inside of the len function. str() converts everything to strings.\n",
    "\n",
    "- The str function converts things into strings\n",
    "- The int function converts things into integers\n",
    "\n",
    "Important: we can convert numbers into text, but we can't necessarily convert text into numbers – what would int('hello') be anyway?"
   ]
  },
  {
   "cell_type": "markdown",
   "metadata": {},
   "source": [
    "## Variables\n",
    "\n",
    "An important concept in programming is variables. A variable is nothing more than a name for something so you can use it later. Programmers use these variables to store data, make their code more readable and so they don't have to keep remembering what things are.\n",
    "\n",
    "Let's say we want to create a new variable called name:\n",
    "\n",
    "**command-line**\n",
    "```\n",
    ">>> name = \"Ola\"\n",
    "```\n",
    "\n",
    "You see? It's easy! It's simply: name equals Ola.\n",
    "\n",
    "As you've noticed, your program didn't return anything like it did before. So how do we know that the variable actually exists? Simply enter name and hit enter:\n",
    "\n",
    "**command-line**\n",
    "```\n",
    ">>> name\n",
    "'Ola'\n",
    "``` \n",
    "\n",
    "Yippee! Your first variable! :) You can always change what it refers to:\n",
    "\n",
    "**command-line**\n",
    "```\n",
    ">>> name = \"Sonja\"\n",
    ">>> name\n",
    "'Sonja'\n",
    "```\n",
    "\n",
    "You can use it in functions too:\n",
    "\n",
    "**command-line**\n",
    "```\n",
    ">>> len(name)\n",
    "5\n",
    "``` \n",
    "\n",
    "Awesome, right? Of course, variables can be anything – numbers too! Try this:\n",
    "\n",
    "**command-line**\n",
    "```\n",
    ">>> a = 4\n",
    ">>> b = 6\n",
    ">>> a * b\n",
    "24\n",
    "``` \n",
    "\n",
    "But what if we used the wrong name? Can you guess what would happen? Let's try!\n",
    "\n",
    "**command-line**\n",
    "```\n",
    ">>> city = \"Tokyo\"\n",
    ">>> ctiy\n",
    "Traceback (most recent call last):\n",
    "  File \"<stdin>\", line 1, in <module>\n",
    "NameError: name 'ctiy' is not defined\n",
    "``` \n",
    "\n",
    "An error! As you can see, Python has different types of errors and this one is called a NameError. Python will give you this error if you try to use a variable that hasn't been defined yet. If you encounter this error later, check your code to see if you've mistyped any names.\n",
    "\n",
    "Play with this for a while and see what you can do!"
   ]
  },
  {
   "cell_type": "markdown",
   "metadata": {},
   "source": [
    "## The print function\n",
    "\n",
    "Try this:\n",
    "\n",
    "**command-line**\n",
    "```\n",
    ">>> name = 'Maria'\n",
    ">>> name\n",
    "'Maria'\n",
    ">>> print(name)\n",
    "Maria\n",
    "```\n",
    "\n",
    "When you just type name, the Python interpreter responds with the string representation of the variable 'name', which is the letters M-a-r-i-a, surrounded by single quotes, ''. When you say print(name), Python will \"print\" the contents of the variable to the screen, without the quotes, which is neater.\n",
    "\n",
    "As we'll see later, print() is also useful when we want to print things from inside functions, or when we want to print things on multiple lines."
   ]
  },
  {
   "cell_type": "markdown",
   "metadata": {},
   "source": [
    "## Save it! - Python in the Text Editor \n",
    "\n",
    "> This part is covered in the Python Basics: Saving files and \"If\" statement video.\n",
    "\n",
    "So far we've been writing all our python code in the interpreter, which limits us to entering one line of code at a time. Normal programs are saved in files and executed by our programming language interpreter or compiler. So far we've been running our programs one line at a time in the Python interpreter. We're going to need more than one line of code for the next few tasks, so we'll quickly need to:\n",
    "\n",
    "- Exit the Python interpreter\n",
    "- Open up our code editor of choice\n",
    "- Save some code into a new python file\n",
    "- Run it!\n",
    "\n",
    "To exit from the Python interpreter that we've been using, simply type the exit() function\n",
    "\n",
    "**command-line**\n",
    "```\n",
    ">>> exit()\n",
    "$\n",
    "``` \n",
    "\n",
    "This will put you back into the command prompt.\n",
    "\n",
    "Earlier, we picked out a code editor from the code editor section. We'll need to open the editor now and write some code into a new file:\n",
    "\n",
    "**editor**\n",
    "```\n",
    "print('Hello, Django girls!')\n",
    "```\n",
    "\n",
    "Now we need to save the file and give it a descriptive name. Let's call the file python_intro.py and save it to your desktop. We can name the file anything we want, but the important part here is to make sure the file ends in .py. The .py extension tells our operating system that this is a Python executable file and Python can run it.\n",
    "\n",
    "> Note You should notice one of the coolest thing about code editors: colors! In the Python console, everything was the same color; now you should see that the print function is a different color from the string. This is called \"syntax highlighting\", and it's a really useful feature when coding. The color of things will give you hints, such as unclosed strings or a typo in a keyword name (like the def in a function, which we'll see below). This is one of the reasons we use a code editor. :)\n",
    "\n",
    "With the file saved, it's time to run it! Using the skills you've learned in the command line section, use the terminal to change directories to the desktop."
   ]
  },
  {
   "cell_type": "markdown",
   "metadata": {},
   "source": [
    "### OS X\n",
    "\n",
    "On a Mac, the command will look something like this:\n",
    "\n",
    "**command-line**\n",
    "```\n",
    "$ cd ~/Desktop\n",
    "``` \n",
    "\n",
    "## Linux\n",
    "\n",
    "On Linux, it will be like this (the word \"Desktop\" might be translated to your local language):\n",
    "\n",
    "**command-line**\n",
    "```\n",
    "$ cd ~/Desktop\n",
    "``` \n",
    "\n",
    "## Windows\n",
    "\n",
    "And on Windows, it will be like this:\n",
    "\n",
    "**command-line**\n",
    "```\n",
    "> cd %HomePath%\\Desktop\n",
    "```"
   ]
  },
  {
   "cell_type": "markdown",
   "metadata": {},
   "source": [
    "## Run it! \n",
    "\n",
    "If you get stuck, just ask for help.\n",
    "\n",
    "Now use Python to execute the code in the file like this:\n",
    "\n",
    "**command-line**\n",
    "```\n",
    "$ python3 python_intro.py\n",
    "Hello, Django girls!\n",
    "\n",
    "> Note: on Windows 'python3' is not recognized as a command. Instead, use 'python' to execute the file:\n",
    "\n",
    "**command-line**\n",
    "```\n",
    "> python python_intro.py\n",
    "``` \n",
    "\n",
    "Alright! You just ran your first Python program that was saved to a file. Feel awesome?"
   ]
  },
  {
   "cell_type": "markdown",
   "metadata": {},
   "source": [
    "## Python in the Jupyter Notebook \n",
    "\n",
    "If you write your code in a text editor, there's the disadvantage that you can't write and test your code at the same time. That's why programmers have so called 'IDE's, integrated development environments. \n",
    "We will use a very cool tool named 'Jupyter Notebook'. \n",
    "\n",
    "It should be installed on your computers by now. You can start it by typing in your command-line:\n",
    "\n",
    "**command-line**\n",
    "```\n",
    "$ jupyter notebook \n",
    "```\n",
    "\n",
    "You will see a program starting in your command-line and your browser will open. There you can see the content of the folder that you were in when you started the notebook. "
   ]
  },
  {
   "cell_type": "markdown",
   "metadata": {},
   "source": [
    "![](static/content_jupyternotebook1.gif)"
   ]
  },
  {
   "cell_type": "markdown",
   "metadata": {},
   "source": [
    "**Klick on the 'new' button in the top right corner and choose python3 from the dropdown.**\n",
    "\n",
    "A new window is opened:  "
   ]
  },
  {
   "cell_type": "code",
   "execution_count": 2,
   "metadata": {},
   "outputs": [
    {
     "data": {
      "image/png": "[encoded data removed]",
      "text/plain": [
       "<IPython.core.display.Image object>"
      ]
     },
     "execution_count": 2,
     "metadata": {},
     "output_type": "execute_result"
    }
   ],
   "source": [
    "# If you see code like 'Image(\"static/something.png\"), that's the code to display the image below.\n",
    "# YOU DO NOT HAVE TO TYPE IT \n",
    "Image(\"static/notebook.png\")"
   ]
  },
  {
   "cell_type": "markdown",
   "metadata": {},
   "source": [
    "## What Is A Jupyter Notebook?\n",
    "\n",
    "> https://www.datacamp.com/community/tutorials/tutorial-jupyter-notebook#gs.8NqrzMk\n",
    "\n",
    "In this case, \"notebook\" or \"notebook documents\" denote documents that contain both code and rich text elements, such as figures, links, equations, ... Because of the mix of code and text elements, these documents are the ideal place to bring together an analysis description and its results as well as they can be executed perform the data analysis in real time.\n",
    "\n",
    "Jupyter notebooks are:\n",
    "- easy to share for example on GitHub\n",
    "- can make your analysis reproducible "
   ]
  },
  {
   "cell_type": "markdown",
   "metadata": {},
   "source": [
    "## Code \n",
    "In your Jupyter notebook you will see your first cell to put code in. \n",
    "\n",
    "```\n",
    "In []: \n",
    "``` \n",
    "\n",
    "Put some code in there for example: \n",
    "    \n",
    "``` \n",
    "print('Hello World!')\n",
    "``` \n",
    "\n",
    "and then 'run' it by pressing 'SHIFT' and 'ENTER' at the same time. \n"
   ]
  },
  {
   "cell_type": "code",
   "execution_count": 3,
   "metadata": {},
   "outputs": [
    {
     "name": "stdout",
     "output_type": "stream",
     "text": [
      "Hello World!\n"
     ]
    }
   ],
   "source": [
    "print('Hello World!')"
   ]
  },
  {
   "cell_type": "markdown",
   "metadata": {},
   "source": [
    "## Markdown "
   ]
  },
  {
   "cell_type": "code",
   "execution_count": 4,
   "metadata": {},
   "outputs": [
    {
     "data": {
      "image/png": "[encoded data removed]",
      "text/plain": [
       "<IPython.core.display.Image object>"
      ]
     },
     "execution_count": 4,
     "metadata": {},
     "output_type": "execute_result"
    }
   ],
   "source": [
    "Image('static/code.png')"
   ]
  },
  {
   "cell_type": "markdown",
   "metadata": {},
   "source": [
    "> If you run a cell the Jupyter Notebook creates a new cell under the first one. If you want to add new cells on \n",
    "> top of this press 'ESC' and then 'a'  to add a new cell in front of the cell you're currently working at. "
   ]
  },
  {
   "cell_type": "markdown",
   "metadata": {},
   "source": [
    "In the top bar there's a dropdown menu, where you can switch between **Code**, **Markdown** and some other options. \n",
    "> The Keyboard Shortcut for this is 'ESC' and 'M' for Markdown and 'ESC' and 'Y' for Code."
   ]
  },
  {
   "cell_type": "markdown",
   "metadata": {},
   "source": [
    "## What is Markdown?\n",
    "\n",
    "> http://t3n.de/news/eigentlich-markdown-478610/\n",
    "\n",
    "In the notebook you can choose to write text, that you can mark up with [Markdown](), a more simple way to markup text than good old HTML.\n",
    "\n",
    "If you need a big, fat headline, just write # in front of it: \n",
    "\n",
    "This line:  \n",
    "```\n",
    "# This is a headline\n",
    "``` \n",
    "gets displayed like this if you 'run' the cell with 'SHIFT'+'ENTER': \n",
    "\n",
    "# This is a headline\n",
    "\n",
    "Very helpful. "
   ]
  },
  {
   "cell_type": "markdown",
   "metadata": {},
   "source": [
    "## Saving a Notebook \n",
    "You can change the name of your notebook: On the top you should see 'Untitled'. Just click on that and you get a popup to rename it. \n",
    "    \n",
    "[Strg]+[S] (oder File: Save and Checkpoint ) saves your work. \n",
    "\n",
    "Then go to 'File - Close and Halt' to close it. \n",
    "\n",
    "> Use [alt]+[tab] to switch between open windows. In the **command-line** there is still a program running from jupyter notebook. \n",
    "> To stop this press 'CTR' + 'C' and confirm with 'y' for 'yes'. This will stop the notebook server and you can close the command-line with 'exit'.  "
   ]
  },
  {
   "cell_type": "markdown",
   "metadata": {},
   "source": [
    "## Start another jupyter notebook \n",
    "To continue please start another jupyter notebook and come back to your .ipynb file you just renamed. "
   ]
  },
  {
   "cell_type": "markdown",
   "metadata": {},
   "source": [
    "![](static/glitter.gif)"
   ]
  },
  {
   "cell_type": "markdown",
   "metadata": {},
   "source": [
    "## Yay! \n",
    "\n",
    "We are getting somewhere. We got our notebook running, got our hands wet with the first python data types. Now we head to the data structures most needed when it comes to data handling: **Lists and dictionarys**"
   ]
  }
 ],
 "metadata": {
  "kernelspec": {
   "display_name": "Python 3",
   "language": "python",
   "name": "python3"
  },
  "language_info": {
   "codemirror_mode": {
    "name": "ipython",
    "version": 3
   },
   "file_extension": ".py",
   "mimetype": "text/x-python",
   "name": "python",
   "nbconvert_exporter": "python",
   "pygments_lexer": "ipython3",
   "version": "3.5.2"
  }
 },
 "nbformat": 4,
 "nbformat_minor": 1
}
