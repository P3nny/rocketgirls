{
 "cells": [
  {
   "cell_type": "code",
   "execution_count": 7,
   "metadata": {
    "collapsed": true,
    "deletable": true,
    "editable": true
   },
   "outputs": [],
   "source": [
    "import requests \n",
    "from bs4 import BeautifulSoup\n",
    "import pandas as pd\n",
    "import re"
   ]
  },
  {
   "cell_type": "markdown",
   "metadata": {
    "deletable": true,
    "editable": true
   },
   "source": [
    "https://chrisalbon.com/python/beautiful_soup_scrape_table.html"
   ]
  },
  {
   "cell_type": "markdown",
   "metadata": {
    "collapsed": true,
    "deletable": true,
    "editable": true
   },
   "source": [
    "In this notebook I'll show you how to scrape this table: \n",
    "    \"http://www1.wdr.de/nachrichten/landespolitik/landtagswahl/wss-kriminalitaet-barrierefrei-104.html\""
   ]
  },
  {
   "cell_type": "markdown",
   "metadata": {
    "deletable": true,
    "editable": true
   },
   "source": [
    "Requests is a python package, to get data from a url into python  "
   ]
  },
  {
   "cell_type": "code",
   "execution_count": 21,
   "metadata": {
    "collapsed": false,
    "deletable": true,
    "editable": true
   },
   "outputs": [],
   "source": [
    "r = requests.get(\"http://www.freiburg.de/pb/,Lde,(anker304899)/207903.html#anker304899\")"
   ]
  },
  {
   "cell_type": "code",
   "execution_count": 22,
   "metadata": {
    "collapsed": false,
    "deletable": true,
    "editable": true
   },
   "outputs": [
    {
     "data": {
      "text/plain": [
       "<Response [200]>"
      ]
     },
     "execution_count": 22,
     "metadata": {},
     "output_type": "execute_result"
    }
   ],
   "source": [
    "r"
   ]
  },
  {
   "cell_type": "markdown",
   "metadata": {
    "deletable": true,
    "editable": true
   },
   "source": [
    "[BeautifulSoup](https://www.crummy.com/software/BeautifulSoup/) "
   ]
  },
  {
   "cell_type": "code",
   "execution_count": 23,
   "metadata": {
    "collapsed": false,
    "deletable": true,
    "editable": true
   },
   "outputs": [],
   "source": [
    "soup = BeautifulSoup(r.text, 'lxml')"
   ]
  },
  {
   "cell_type": "code",
   "execution_count": 24,
   "metadata": {
    "collapsed": false,
    "deletable": true,
    "editable": true
   },
   "outputs": [
    {
     "data": {
      "text/plain": [
       "<table class=\"hide-grid\" id=\"grid_304900\" style=\"width:80%\">\n",
       "<tbody>\n",
       "<tr>\n",
       "<td>1120</td>\n",
       "<td>Marktgründung durch Konrad v. Zähringen</td>\n",
       "</tr>\n",
       "<tr>\n",
       "<td> um 1200<br/> </td>\n",
       "<td> Baubeginn am Münster (Schlussweihe 1513) <br/> </td>\n",
       "</tr>\n",
       "<tr>\n",
       "<td> 1238<br/> </td>\n",
       "<td> Erste Erwähnung der Bächle<br/> </td>\n",
       "</tr>\n",
       "<tr>\n",
       "<td> 1258<br/> </td>\n",
       "<td> Die Hosanna, die älteste Glocke wird gegossen (noch heute im Münstergeläute)</td>\n",
       "</tr>\n",
       "<tr>\n",
       "<td> 1368<br/> </td>\n",
       "<td> Freiburg wird habsburgisch<br/> </td>\n",
       "</tr>\n",
       "<tr>\n",
       "<td> 1457<br/> </td>\n",
       "<td> Gründung der Universität<br/> </td>\n",
       "</tr>\n",
       "<tr>\n",
       "<td> 1498<br/> </td>\n",
       "<td> Reichstag unter Kaiser Maximilian<br/> </td>\n",
       "</tr>\n",
       "<tr>\n",
       "<td> 1677-1697<br/> </td>\n",
       "<td> Freiburg ist französische Festung<br/> </td>\n",
       "</tr>\n",
       "<tr>\n",
       "<td> 1770<br/> </td>\n",
       "<td> Brautfahrt Marie-Antoinettes durch Freiburg<br/> </td>\n",
       "</tr>\n",
       "<tr>\n",
       "<td> 1806 <br/> </td>\n",
       "<td> Freiburg wird Teil des Großherzogstums Baden<br/>   (bis 1918) (Preßburger Frieden) <br/> </td>\n",
       "</tr>\n",
       "<tr>\n",
       "<td> 1845<br/> </td>\n",
       "<td> Die Bahnlinie Freiburg-Offenburg wird in Betrieb genommen<br/> </td>\n",
       "</tr>\n",
       "<tr>\n",
       "<td> 1946-1952<br/> </td>\n",
       "<td> Regierungssitz des Landes Baden    <br/> </td>\n",
       "</tr>\n",
       "<tr>\n",
       "<td> seit 1952<br/> </td>\n",
       "<td> Sitz des Regierungspräsidiums Freiburg<br/> </td>\n",
       "</tr>\n",
       "</tbody>\n",
       "</table>"
      ]
     },
     "execution_count": 24,
     "metadata": {},
     "output_type": "execute_result"
    }
   ],
   "source": [
    "soup.table"
   ]
  },
  {
   "cell_type": "markdown",
   "metadata": {
    "collapsed": true,
    "deletable": true,
    "editable": true
   },
   "source": [
    "If you sort this output nicely, you get: "
   ]
  },
  {
   "cell_type": "raw",
   "metadata": {
    "collapsed": true,
    "deletable": true,
    "editable": true
   },
   "source": [
    "<div class=\"table\">\n",
    "    <table class=\"thleft\"><caption>Bekannt gewordene Fälle in NRW</caption>\n",
    "        <thead>\n",
    "            <tr class=\"headlines\">\n",
    "                <th class=\"entry\">Jahr</th>\n",
    "                <th class=\"entry\">Bekannt gewordene Fälle</th>\n",
    "            </tr>\n",
    "        </thead>\n",
    "        \n",
    "        <tbody>\n",
    "                    <tr class=\"data\"><td class=\"entry\">2005</td><td class=\"entry\">1.503.451</td></tr>\n",
    "                    <tr class=\"data\"><td class=\"entry\">2006</td><td class=\"entry\">1.491.897</td></tr>\n",
    "                    <tr class=\"data\"><td class=\"entry\">2007</td><td class=\"entry\">1.495.333</td></tr>\n",
    "                    <tr class=\"data\"><td class=\"entry\">2008</td><td class=\"entry\">1.453.203</td></tr>\n",
    "                    <tr class=\"data\"><td class=\"entry\">2009</td><td class=\"entry\">1.458.438</td></tr>\n",
    "                    <tr class=\"data\"><td class=\"entry\">2010</td><td class=\"entry\">1.442.801</td></tr>\n",
    "                    <tr class=\"data\"><td class=\"entry\">2011</td><td class=\"entry\">1.511.469</td></tr>\n",
    "                    <tr class=\"data\"><td class=\"entry\">2012</td><td class=\"entry\">1.518.363</td></tr>\n",
    "                    <tr class=\"data\"><td class=\"entry\">2013</td><td class=\"entry\">1.484.943</td></tr>\n",
    "                    <tr class=\"data\"><td class=\"entry\">2014</td><td class=\"entry\">1.501.125</td></tr>\n",
    "                    <tr class=\"data\"><td class=\"entry\">2015</td><td class=\"entry\">1.517.448</td></tr>\n",
    "                    <tr class=\"data\"><td class=\"entry\">2016</td><td class=\"entry\">1.469.426</td></tr>\n",
    "        </tbody>\n",
    "    </table>\n",
    "</div>"
   ]
  },
  {
   "cell_type": "markdown",
   "metadata": {
    "deletable": true,
    "editable": true
   },
   "source": [
    "https://tutorial.djangogirls.org/en/html/\n",
    "\n",
    "## What is HTML?\n",
    "\n",
    "HTML is a simple code that is interpreted by your web browser – such as Chrome, Firefox or Safari – to display a web page for the user.\n",
    "\n",
    "HTML stands for \"HyperText Markup Language\". HyperText means it's a type of text that supports hyperlinks between pages. Markup means we have taken a document and marked it up with code to tell something (in this case, a browser) how to interpret the page. HTML code is built with tags, each one starting with < and ending with >. These tags represent markup elements."
   ]
  },
  {
   "cell_type": "markdown",
   "metadata": {
    "deletable": true,
    "editable": true
   },
   "source": [
    "HTML ist not our topic today. If you want to get into it, this is a good start:  \n",
    "https://www.w3schools.com/"
   ]
  },
  {
   "cell_type": "markdown",
   "metadata": {
    "deletable": true,
    "editable": true
   },
   "source": [
    "https://www.w3schools.com/html/html_tables.asp\n",
    "\n",
    "```\n",
    "An HTML table is defined with the <table> tag.\n",
    "Each table row is defined with the <tr> tag. \n",
    "A table header is defined with the <th> tag. \n",
    "By default, table headings are bold and centered. A table data/cell is defined with the <td> tag.\n",
    "```"
   ]
  },
  {
   "cell_type": "markdown",
   "metadata": {
    "deletable": true,
    "editable": true
   },
   "source": [
    "## You do it \n",
    "https://www.w3schools.com/html/tryit.asp?filename=tryhtml_table_intro\n",
    "\n",
    "Please open the link and change one data cell and a table header  "
   ]
  },
  {
   "cell_type": "markdown",
   "metadata": {
    "deletable": true,
    "editable": true
   },
   "source": [
    "## Scrape it "
   ]
  },
  {
   "cell_type": "code",
   "execution_count": 30,
   "metadata": {
    "collapsed": true,
    "deletable": true,
    "editable": true
   },
   "outputs": [],
   "source": [
    "# Create empty lists to store the scraped data in\n",
    "jahr = []\n",
    "fälle = []"
   ]
  },
  {
   "cell_type": "code",
   "execution_count": 35,
   "metadata": {
    "collapsed": false,
    "deletable": true,
    "editable": true
   },
   "outputs": [],
   "source": [
    "# Create an object of the first object that is class=tabele\n",
    "table = soup.find(class_='hide-grid')"
   ]
  },
  {
   "cell_type": "code",
   "execution_count": 36,
   "metadata": {
    "collapsed": false
   },
   "outputs": [
    {
     "data": {
      "text/plain": [
       "<table class=\"hide-grid\" id=\"grid_304900\" style=\"width:80%\">\n",
       "<tbody>\n",
       "<tr>\n",
       "<td>1120</td>\n",
       "<td>Marktgründung durch Konrad v. Zähringen</td>\n",
       "</tr>\n",
       "<tr>\n",
       "<td> um 1200<br/> </td>\n",
       "<td> Baubeginn am Münster (Schlussweihe 1513) <br/> </td>\n",
       "</tr>\n",
       "<tr>\n",
       "<td> 1238<br/> </td>\n",
       "<td> Erste Erwähnung der Bächle<br/> </td>\n",
       "</tr>\n",
       "<tr>\n",
       "<td> 1258<br/> </td>\n",
       "<td> Die Hosanna, die älteste Glocke wird gegossen (noch heute im Münstergeläute)</td>\n",
       "</tr>\n",
       "<tr>\n",
       "<td> 1368<br/> </td>\n",
       "<td> Freiburg wird habsburgisch<br/> </td>\n",
       "</tr>\n",
       "<tr>\n",
       "<td> 1457<br/> </td>\n",
       "<td> Gründung der Universität<br/> </td>\n",
       "</tr>\n",
       "<tr>\n",
       "<td> 1498<br/> </td>\n",
       "<td> Reichstag unter Kaiser Maximilian<br/> </td>\n",
       "</tr>\n",
       "<tr>\n",
       "<td> 1677-1697<br/> </td>\n",
       "<td> Freiburg ist französische Festung<br/> </td>\n",
       "</tr>\n",
       "<tr>\n",
       "<td> 1770<br/> </td>\n",
       "<td> Brautfahrt Marie-Antoinettes durch Freiburg<br/> </td>\n",
       "</tr>\n",
       "<tr>\n",
       "<td> 1806 <br/> </td>\n",
       "<td> Freiburg wird Teil des Großherzogstums Baden<br/>   (bis 1918) (Preßburger Frieden) <br/> </td>\n",
       "</tr>\n",
       "<tr>\n",
       "<td> 1845<br/> </td>\n",
       "<td> Die Bahnlinie Freiburg-Offenburg wird in Betrieb genommen<br/> </td>\n",
       "</tr>\n",
       "<tr>\n",
       "<td> 1946-1952<br/> </td>\n",
       "<td> Regierungssitz des Landes Baden    <br/> </td>\n",
       "</tr>\n",
       "<tr>\n",
       "<td> seit 1952<br/> </td>\n",
       "<td> Sitz des Regierungspräsidiums Freiburg<br/> </td>\n",
       "</tr>\n",
       "</tbody>\n",
       "</table>"
      ]
     },
     "execution_count": 36,
     "metadata": {},
     "output_type": "execute_result"
    }
   ],
   "source": [
    "table"
   ]
  },
  {
   "cell_type": "code",
   "execution_count": 37,
   "metadata": {
    "collapsed": false,
    "deletable": true,
    "editable": true
   },
   "outputs": [
    {
     "name": "stdout",
     "output_type": "stream",
     "text": [
      "<tr>\n",
      "<td> um 1200<br/> </td>\n",
      "<td> Baubeginn am Münster (Schlussweihe 1513) <br/> </td>\n",
      "</tr>\n",
      "<tr>\n",
      "<td> 1238<br/> </td>\n",
      "<td> Erste Erwähnung der Bächle<br/> </td>\n",
      "</tr>\n",
      "<tr>\n",
      "<td> 1258<br/> </td>\n",
      "<td> Die Hosanna, die älteste Glocke wird gegossen (noch heute im Münstergeläute)</td>\n",
      "</tr>\n",
      "<tr>\n",
      "<td> 1368<br/> </td>\n",
      "<td> Freiburg wird habsburgisch<br/> </td>\n",
      "</tr>\n",
      "<tr>\n",
      "<td> 1457<br/> </td>\n",
      "<td> Gründung der Universität<br/> </td>\n",
      "</tr>\n",
      "<tr>\n",
      "<td> 1498<br/> </td>\n",
      "<td> Reichstag unter Kaiser Maximilian<br/> </td>\n",
      "</tr>\n",
      "<tr>\n",
      "<td> 1677-1697<br/> </td>\n",
      "<td> Freiburg ist französische Festung<br/> </td>\n",
      "</tr>\n",
      "<tr>\n",
      "<td> 1770<br/> </td>\n",
      "<td> Brautfahrt Marie-Antoinettes durch Freiburg<br/> </td>\n",
      "</tr>\n",
      "<tr>\n",
      "<td> 1806 <br/> </td>\n",
      "<td> Freiburg wird Teil des Großherzogstums Baden<br/>   (bis 1918) (Preßburger Frieden) <br/> </td>\n",
      "</tr>\n",
      "<tr>\n",
      "<td> 1845<br/> </td>\n",
      "<td> Die Bahnlinie Freiburg-Offenburg wird in Betrieb genommen<br/> </td>\n",
      "</tr>\n",
      "<tr>\n",
      "<td> 1946-1952<br/> </td>\n",
      "<td> Regierungssitz des Landes Baden    <br/> </td>\n",
      "</tr>\n",
      "<tr>\n",
      "<td> seit 1952<br/> </td>\n",
      "<td> Sitz des Regierungspräsidiums Freiburg<br/> </td>\n",
      "</tr>\n"
     ]
    }
   ],
   "source": [
    "for row in table.find_all('tr')[1:]:\n",
    "    print(row)"
   ]
  },
  {
   "cell_type": "code",
   "execution_count": 38,
   "metadata": {
    "collapsed": false,
    "deletable": true,
    "editable": true
   },
   "outputs": [
    {
     "name": "stdout",
     "output_type": "stream",
     "text": [
      "[<td> um 1200<br/> </td>, <td> Baubeginn am Münster (Schlussweihe 1513) <br/> </td>]\n",
      "[<td> 1238<br/> </td>, <td> Erste Erwähnung der Bächle<br/> </td>]\n",
      "[<td> 1258<br/> </td>, <td> Die Hosanna, die älteste Glocke wird gegossen (noch heute im Münstergeläute)</td>]\n",
      "[<td> 1368<br/> </td>, <td> Freiburg wird habsburgisch<br/> </td>]\n",
      "[<td> 1457<br/> </td>, <td> Gründung der Universität<br/> </td>]\n",
      "[<td> 1498<br/> </td>, <td> Reichstag unter Kaiser Maximilian<br/> </td>]\n",
      "[<td> 1677-1697<br/> </td>, <td> Freiburg ist französische Festung<br/> </td>]\n",
      "[<td> 1770<br/> </td>, <td> Brautfahrt Marie-Antoinettes durch Freiburg<br/> </td>]\n",
      "[<td> 1806 <br/> </td>, <td> Freiburg wird Teil des Großherzogstums Baden<br/>   (bis 1918) (Preßburger Frieden) <br/> </td>]\n",
      "[<td> 1845<br/> </td>, <td> Die Bahnlinie Freiburg-Offenburg wird in Betrieb genommen<br/> </td>]\n",
      "[<td> 1946-1952<br/> </td>, <td> Regierungssitz des Landes Baden    <br/> </td>]\n",
      "[<td> seit 1952<br/> </td>, <td> Sitz des Regierungspräsidiums Freiburg<br/> </td>]\n"
     ]
    }
   ],
   "source": [
    "for row in table.find_all('tr')[1:]:\n",
    "    col = row.find_all('td')\n",
    "    print(col)"
   ]
  },
  {
   "cell_type": "code",
   "execution_count": 39,
   "metadata": {
    "collapsed": false,
    "deletable": true,
    "editable": true
   },
   "outputs": [
    {
     "ename": "AttributeError",
     "evalue": "'NoneType' object has no attribute 'strip'",
     "output_type": "error",
     "traceback": [
      "\u001b[0;31m---------------------------------------------------------------------------\u001b[0m",
      "\u001b[0;31mAttributeError\u001b[0m                            Traceback (most recent call last)",
      "\u001b[0;32m<ipython-input-39-5833a8d92162>\u001b[0m in \u001b[0;36m<module>\u001b[0;34m()\u001b[0m\n\u001b[1;32m      1\u001b[0m \u001b[0;32mfor\u001b[0m \u001b[0mrow\u001b[0m \u001b[0;32min\u001b[0m \u001b[0mtable\u001b[0m\u001b[0;34m.\u001b[0m\u001b[0mfind_all\u001b[0m\u001b[0;34m(\u001b[0m\u001b[0;34m'tr'\u001b[0m\u001b[0;34m)\u001b[0m\u001b[0;34m[\u001b[0m\u001b[0;36m1\u001b[0m\u001b[0;34m:\u001b[0m\u001b[0;34m]\u001b[0m\u001b[0;34m:\u001b[0m\u001b[0;34m\u001b[0m\u001b[0m\n\u001b[1;32m      2\u001b[0m     \u001b[0mcol\u001b[0m \u001b[0;34m=\u001b[0m \u001b[0mrow\u001b[0m\u001b[0;34m.\u001b[0m\u001b[0mfind_all\u001b[0m\u001b[0;34m(\u001b[0m\u001b[0;34m'td'\u001b[0m\u001b[0;34m)\u001b[0m\u001b[0;34m\u001b[0m\u001b[0m\n\u001b[0;32m----> 3\u001b[0;31m     \u001b[0mcolumn_1\u001b[0m \u001b[0;34m=\u001b[0m \u001b[0mcol\u001b[0m\u001b[0;34m[\u001b[0m\u001b[0;36m0\u001b[0m\u001b[0;34m]\u001b[0m\u001b[0;34m.\u001b[0m\u001b[0mstring\u001b[0m\u001b[0;34m.\u001b[0m\u001b[0mstrip\u001b[0m\u001b[0;34m(\u001b[0m\u001b[0;34m)\u001b[0m\u001b[0;34m\u001b[0m\u001b[0m\n\u001b[0m\u001b[1;32m      4\u001b[0m     \u001b[0mprint\u001b[0m\u001b[0;34m(\u001b[0m\u001b[0mcolumn_1\u001b[0m\u001b[0;34m)\u001b[0m\u001b[0;34m\u001b[0m\u001b[0m\n",
      "\u001b[0;31mAttributeError\u001b[0m: 'NoneType' object has no attribute 'strip'"
     ]
    }
   ],
   "source": [
    "for row in table.find_all('tr')[1:]:\n",
    "    col = row.find_all('td')\n",
    "    column_1 = col[0].string.strip()\n",
    "    print(column_1)"
   ]
  },
  {
   "cell_type": "code",
   "execution_count": 40,
   "metadata": {
    "collapsed": false,
    "deletable": true,
    "editable": true
   },
   "outputs": [
    {
     "ename": "AttributeError",
     "evalue": "'NoneType' object has no attribute 'strip'",
     "output_type": "error",
     "traceback": [
      "\u001b[0;31m---------------------------------------------------------------------------\u001b[0m",
      "\u001b[0;31mAttributeError\u001b[0m                            Traceback (most recent call last)",
      "\u001b[0;32m<ipython-input-40-2419cca3104a>\u001b[0m in \u001b[0;36m<module>\u001b[0;34m()\u001b[0m\n\u001b[1;32m      5\u001b[0m \u001b[0;34m\u001b[0m\u001b[0m\n\u001b[1;32m      6\u001b[0m     \u001b[0;31m# Create a variable of the string inside 1st <td> tag pair,\u001b[0m\u001b[0;34m\u001b[0m\u001b[0;34m\u001b[0m\u001b[0m\n\u001b[0;32m----> 7\u001b[0;31m     \u001b[0mcolumn_1\u001b[0m \u001b[0;34m=\u001b[0m \u001b[0mcol\u001b[0m\u001b[0;34m[\u001b[0m\u001b[0;36m0\u001b[0m\u001b[0;34m]\u001b[0m\u001b[0;34m.\u001b[0m\u001b[0mstring\u001b[0m\u001b[0;34m.\u001b[0m\u001b[0mstrip\u001b[0m\u001b[0;34m(\u001b[0m\u001b[0;34m)\u001b[0m\u001b[0;34m\u001b[0m\u001b[0m\n\u001b[0m\u001b[1;32m      8\u001b[0m     \u001b[0;31m# and append it to first_name variable\u001b[0m\u001b[0;34m\u001b[0m\u001b[0;34m\u001b[0m\u001b[0m\n\u001b[1;32m      9\u001b[0m     \u001b[0mjahr\u001b[0m\u001b[0;34m.\u001b[0m\u001b[0mappend\u001b[0m\u001b[0;34m(\u001b[0m\u001b[0mcolumn_1\u001b[0m\u001b[0;34m)\u001b[0m\u001b[0;34m\u001b[0m\u001b[0m\n",
      "\u001b[0;31mAttributeError\u001b[0m: 'NoneType' object has no attribute 'strip'"
     ]
    }
   ],
   "source": [
    "# Find all the <tr> tag pairs, skip the first one, then for each.\n",
    "for row in table.find_all('tr')[1:]:\n",
    "    # Create a variable of all the <td> tag pairs in each <tr> tag pair,\n",
    "    col = row.find_all('td')\n",
    "\n",
    "    # Create a variable of the string inside 1st <td> tag pair,\n",
    "    column_1 = col[0].string.strip()\n",
    "    # and append it to first_name variable\n",
    "    jahr.append(column_1)\n",
    "    \n",
    "    # Create a variable of the string inside 2nd <td> tag pair,\n",
    "    column_2 = col[1].string.strip()\n",
    "    # and append it to last_name variable\n",
    "    fälle.append(column_2)"
   ]
  },
  {
   "cell_type": "code",
   "execution_count": 19,
   "metadata": {
    "collapsed": false,
    "deletable": true,
    "editable": true
   },
   "outputs": [],
   "source": [
    "# Create a variable of the value of the columns\n",
    "columns = {'jahr': jahr, 'fälle': fälle}\n",
    "\n",
    "# Create a dataframe from the columns variable\n",
    "df = pd.DataFrame(columns, columns=['jahr', 'fälle'])"
   ]
  },
  {
   "cell_type": "code",
   "execution_count": 41,
   "metadata": {
    "collapsed": false,
    "deletable": true,
    "editable": true
   },
   "outputs": [
    {
     "data": {
      "text/html": [
       "<div>\n",
       "<table border=\"1\" class=\"dataframe\">\n",
       "  <thead>\n",
       "    <tr style=\"text-align: right;\">\n",
       "      <th></th>\n",
       "      <th>jahr</th>\n",
       "      <th>fälle</th>\n",
       "    </tr>\n",
       "  </thead>\n",
       "  <tbody>\n",
       "    <tr>\n",
       "      <th>0</th>\n",
       "      <td>2005</td>\n",
       "      <td>1.503.451</td>\n",
       "    </tr>\n",
       "    <tr>\n",
       "      <th>1</th>\n",
       "      <td>2006</td>\n",
       "      <td>1.491.897</td>\n",
       "    </tr>\n",
       "    <tr>\n",
       "      <th>2</th>\n",
       "      <td>2007</td>\n",
       "      <td>1.495.333</td>\n",
       "    </tr>\n",
       "    <tr>\n",
       "      <th>3</th>\n",
       "      <td>2008</td>\n",
       "      <td>1.453.203</td>\n",
       "    </tr>\n",
       "    <tr>\n",
       "      <th>4</th>\n",
       "      <td>2009</td>\n",
       "      <td>1.458.438</td>\n",
       "    </tr>\n",
       "    <tr>\n",
       "      <th>5</th>\n",
       "      <td>2010</td>\n",
       "      <td>1.442.801</td>\n",
       "    </tr>\n",
       "    <tr>\n",
       "      <th>6</th>\n",
       "      <td>2011</td>\n",
       "      <td>1.511.469</td>\n",
       "    </tr>\n",
       "    <tr>\n",
       "      <th>7</th>\n",
       "      <td>2012</td>\n",
       "      <td>1.518.363</td>\n",
       "    </tr>\n",
       "    <tr>\n",
       "      <th>8</th>\n",
       "      <td>2013</td>\n",
       "      <td>1.484.943</td>\n",
       "    </tr>\n",
       "    <tr>\n",
       "      <th>9</th>\n",
       "      <td>2014</td>\n",
       "      <td>1.501.125</td>\n",
       "    </tr>\n",
       "    <tr>\n",
       "      <th>10</th>\n",
       "      <td>2015</td>\n",
       "      <td>1.517.448</td>\n",
       "    </tr>\n",
       "    <tr>\n",
       "      <th>11</th>\n",
       "      <td>2016</td>\n",
       "      <td>1.469.426</td>\n",
       "    </tr>\n",
       "  </tbody>\n",
       "</table>\n",
       "</div>"
      ],
      "text/plain": [
       "    jahr      fälle\n",
       "0   2005  1.503.451\n",
       "1   2006  1.491.897\n",
       "2   2007  1.495.333\n",
       "3   2008  1.453.203\n",
       "4   2009  1.458.438\n",
       "5   2010  1.442.801\n",
       "6   2011  1.511.469\n",
       "7   2012  1.518.363\n",
       "8   2013  1.484.943\n",
       "9   2014  1.501.125\n",
       "10  2015  1.517.448\n",
       "11  2016  1.469.426"
      ]
     },
     "execution_count": 41,
     "metadata": {},
     "output_type": "execute_result"
    }
   ],
   "source": [
    "df"
   ]
  },
  {
   "cell_type": "markdown",
   "metadata": {
    "collapsed": true,
    "deletable": true,
    "editable": true
   },
   "source": [
    "## You do it \n",
    "\n",
    "Please scrape this table:  \n",
    "\n",
    "http://www1.wdr.de/nachrichten/landespolitik/landtagswahl/wss-kinderarmut-barrierefrei-100.html"
   ]
  },
  {
   "cell_type": "code",
   "execution_count": null,
   "metadata": {
    "collapsed": true,
    "deletable": true,
    "editable": true
   },
   "outputs": [],
   "source": []
  },
  {
   "cell_type": "code",
   "execution_count": null,
   "metadata": {
    "collapsed": true,
    "deletable": true,
    "editable": true
   },
   "outputs": [],
   "source": []
  }
 ],
 "metadata": {
  "kernelspec": {
   "display_name": "Python 3",
   "language": "python",
   "name": "python3"
  },
  "language_info": {
   "codemirror_mode": {
    "name": "ipython",
    "version": 3
   },
   "file_extension": ".py",
   "mimetype": "text/x-python",
   "name": "python",
   "nbconvert_exporter": "python",
   "pygments_lexer": "ipython3",
   "version": "3.5.2"
  }
 },
 "nbformat": 4,
 "nbformat_minor": 2
}
