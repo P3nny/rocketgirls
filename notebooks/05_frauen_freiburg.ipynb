{
 "cells": [
  {
   "cell_type": "code",
   "execution_count": 1,
   "metadata": {
    "collapsed": true
   },
   "outputs": [],
   "source": [
    "import pandas as pd\n",
    "import numpy as np\n",
    "import matplotlib.pyplot as plt\n",
    "% matplotlib inline"
   ]
  },
  {
   "cell_type": "markdown",
   "metadata": {},
   "source": [
    "# Frauen in Freiburg"
   ]
  },
  {
   "cell_type": "markdown",
   "metadata": {},
   "source": [
    "[Open Data Portal Freiburg](https://fritz.freiburg.de:8443/Informationsportal/configurator?scenario=OpenData) \n",
    "\n",
    "- Search for 'Frauen' \n",
    "- I downloaded the file and saved it to /data"
   ]
  },
  {
   "cell_type": "code",
   "execution_count": 2,
   "metadata": {},
   "outputs": [],
   "source": [
    "# Hint: You can find a ducumentation of python and pandas functions if you put a '?' at the end of it and then run \n",
    "# the cell. You can close this via the 'x' in the upper right corner. \n",
    "pd.read_csv?"
   ]
  },
  {
   "cell_type": "code",
   "execution_count": 3,
   "metadata": {},
   "outputs": [],
   "source": [
    "df = pd.read_csv('data/de-bw-freiburg-jahrbuch_bevoelkerung_frauen_im_gebaerfaehigen_alter_und_geburten_in_freiburg_seit_1975.csv', encoding='iso-8859-1', sep=';')"
   ]
  },
  {
   "cell_type": "code",
   "execution_count": 4,
   "metadata": {},
   "outputs": [
    {
     "data": {
      "text/html": [
       "<div>\n",
       "<style>\n",
       "    .dataframe thead tr:only-child th {\n",
       "        text-align: right;\n",
       "    }\n",
       "\n",
       "    .dataframe thead th {\n",
       "        text-align: left;\n",
       "    }\n",
       "\n",
       "    .dataframe tbody tr th {\n",
       "        vertical-align: top;\n",
       "    }\n",
       "</style>\n",
       "<table border=\"1\" class=\"dataframe\">\n",
       "  <thead>\n",
       "    <tr style=\"text-align: right;\">\n",
       "      <th></th>\n",
       "      <th>Jahr</th>\n",
       "      <th>Zahl der deutschen Frauen</th>\n",
       "      <th>Geburten von deutschen Frauen</th>\n",
       "      <th>Geburten auf 1000 deutsche Frauen</th>\n",
       "      <th>Zahl der ausländischen Frauen</th>\n",
       "      <th>Geburten von ausländischen Frauen</th>\n",
       "      <th>Geburten auf 1000 ausländische Frauen</th>\n",
       "      <th>Geburten auf 1000 Freiburgerinnen</th>\n",
       "    </tr>\n",
       "  </thead>\n",
       "  <tbody>\n",
       "    <tr>\n",
       "      <th>0</th>\n",
       "      <td>1975</td>\n",
       "      <td>41224</td>\n",
       "      <td>1255</td>\n",
       "      <td>30</td>\n",
       "      <td>3497</td>\n",
       "      <td>162</td>\n",
       "      <td>46</td>\n",
       "      <td>32</td>\n",
       "    </tr>\n",
       "    <tr>\n",
       "      <th>1</th>\n",
       "      <td>1976</td>\n",
       "      <td>41250</td>\n",
       "      <td>1292</td>\n",
       "      <td>31</td>\n",
       "      <td>3501</td>\n",
       "      <td>162</td>\n",
       "      <td>46</td>\n",
       "      <td>32</td>\n",
       "    </tr>\n",
       "    <tr>\n",
       "      <th>2</th>\n",
       "      <td>1977</td>\n",
       "      <td>41325</td>\n",
       "      <td>1319</td>\n",
       "      <td>32</td>\n",
       "      <td>3509</td>\n",
       "      <td>170</td>\n",
       "      <td>48</td>\n",
       "      <td>33</td>\n",
       "    </tr>\n",
       "    <tr>\n",
       "      <th>3</th>\n",
       "      <td>1978</td>\n",
       "      <td>41353</td>\n",
       "      <td>1301</td>\n",
       "      <td>31</td>\n",
       "      <td>3506</td>\n",
       "      <td>156</td>\n",
       "      <td>45</td>\n",
       "      <td>32</td>\n",
       "    </tr>\n",
       "    <tr>\n",
       "      <th>4</th>\n",
       "      <td>1979</td>\n",
       "      <td>41397</td>\n",
       "      <td>1299</td>\n",
       "      <td>31</td>\n",
       "      <td>3496</td>\n",
       "      <td>148</td>\n",
       "      <td>42</td>\n",
       "      <td>32</td>\n",
       "    </tr>\n",
       "  </tbody>\n",
       "</table>\n",
       "</div>"
      ],
      "text/plain": [
       "   Jahr  Zahl der deutschen Frauen  Geburten von deutschen Frauen  \\\n",
       "0  1975                      41224                           1255   \n",
       "1  1976                      41250                           1292   \n",
       "2  1977                      41325                           1319   \n",
       "3  1978                      41353                           1301   \n",
       "4  1979                      41397                           1299   \n",
       "\n",
       "   Geburten auf 1000 deutsche Frauen  Zahl der ausländischen Frauen  \\\n",
       "0                                 30                           3497   \n",
       "1                                 31                           3501   \n",
       "2                                 32                           3509   \n",
       "3                                 31                           3506   \n",
       "4                                 31                           3496   \n",
       "\n",
       "   Geburten von ausländischen Frauen  Geburten auf 1000 ausländische Frauen  \\\n",
       "0                                162                                     46   \n",
       "1                                162                                     46   \n",
       "2                                170                                     48   \n",
       "3                                156                                     45   \n",
       "4                                148                                     42   \n",
       "\n",
       "   Geburten auf 1000 Freiburgerinnen  \n",
       "0                                 32  \n",
       "1                                 32  \n",
       "2                                 33  \n",
       "3                                 32  \n",
       "4                                 32  "
      ]
     },
     "execution_count": 4,
     "metadata": {},
     "output_type": "execute_result"
    }
   ],
   "source": [
    "df.head()"
   ]
  },
  {
   "cell_type": "markdown",
   "metadata": {},
   "source": [
    "## YOU DO IT"
   ]
  },
  {
   "cell_type": "markdown",
   "metadata": {},
   "source": [
    "## Compare births of german to foreign woman - absolute values "
   ]
  },
  {
   "cell_type": "code",
   "execution_count": 5,
   "metadata": {
    "collapsed": true
   },
   "outputs": [],
   "source": [
    "# Use only the columns you need for this "
   ]
  },
  {
   "cell_type": "code",
   "execution_count": 6,
   "metadata": {
    "collapsed": true
   },
   "outputs": [],
   "source": [
    "# set year as index "
   ]
  },
  {
   "cell_type": "code",
   "execution_count": 7,
   "metadata": {
    "collapsed": true
   },
   "outputs": [],
   "source": [
    "# In pandas df.plot() displays a line chart, this is good for chronological data \n",
    "# To make it more readable and prettier you can use this arguments like this  \n",
    "# df.plot(figsize=(17,10), title='Zahl der Frauen im Vergleich', fontsize=15)11"
   ]
  },
  {
   "cell_type": "code",
   "execution_count": 8,
   "metadata": {
    "collapsed": true
   },
   "outputs": [],
   "source": [
    "# If you want to learn more about df.plot() use df.plot? "
   ]
  },
  {
   "cell_type": "code",
   "execution_count": null,
   "metadata": {},
   "outputs": [],
   "source": []
  },
  {
   "cell_type": "markdown",
   "metadata": {},
   "source": [
    "### Compare births - ratio "
   ]
  },
  {
   "cell_type": "code",
   "execution_count": 9,
   "metadata": {
    "collapsed": true
   },
   "outputs": [],
   "source": [
    "# Instead of the absolute value you can cmpare the ratio like 'briths per 1000'\n",
    "# Make a new dataframe to compare this and then plot it  "
   ]
  },
  {
   "cell_type": "code",
   "execution_count": 10,
   "metadata": {
    "collapsed": true
   },
   "outputs": [],
   "source": [
    "# Make a dataframe with the columns you need"
   ]
  },
  {
   "cell_type": "code",
   "execution_count": 11,
   "metadata": {},
   "outputs": [],
   "source": [
    "# Use year as index "
   ]
  },
  {
   "cell_type": "code",
   "execution_count": 12,
   "metadata": {},
   "outputs": [],
   "source": [
    "# Plot it \n"
   ]
  },
  {
   "cell_type": "markdown",
   "metadata": {},
   "source": [
    "### Make a plot for births of all 'Freiburgerinnen'"
   ]
  },
  {
   "cell_type": "code",
   "execution_count": 13,
   "metadata": {
    "collapsed": true
   },
   "outputs": [],
   "source": [
    "# Make a dataframe with the columns you need\n"
   ]
  },
  {
   "cell_type": "code",
   "execution_count": 14,
   "metadata": {},
   "outputs": [],
   "source": [
    "# Look at it \n"
   ]
  },
  {
   "cell_type": "code",
   "execution_count": 15,
   "metadata": {
    "collapsed": true
   },
   "outputs": [],
   "source": [
    "# Use year as index \n"
   ]
  },
  {
   "cell_type": "code",
   "execution_count": 16,
   "metadata": {},
   "outputs": [],
   "source": [
    "# Look at it \n"
   ]
  },
  {
   "cell_type": "code",
   "execution_count": 17,
   "metadata": {},
   "outputs": [],
   "source": [
    "# Plot it \n"
   ]
  }
 ],
 "metadata": {
  "kernelspec": {
   "display_name": "Python 3",
   "language": "python",
   "name": "python3"
  },
  "language_info": {
   "codemirror_mode": {
    "name": "ipython",
    "version": 3
   },
   "file_extension": ".py",
   "mimetype": "text/x-python",
   "name": "python",
   "nbconvert_exporter": "python",
   "pygments_lexer": "ipython3",
   "version": "3.5.2"
  }
 },
 "nbformat": 4,
 "nbformat_minor": 2
}
