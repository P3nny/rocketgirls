{
 "cells": [
  {
   "cell_type": "markdown",
   "metadata": {},
   "source": [
    "# Scraping tables \n",
    "\n",
    "Extracting data manually is sometimes neccessary for a single website but it would be very time consuming if you would have to do it for thousands of websites. You can write scripts that extract data automatically: This process is called scraping. "
   ]
  },
  {
   "cell_type": "code",
   "execution_count": null,
   "metadata": {
    "collapsed": true
   },
   "outputs": [],
   "source": [
    "import requests \n",
    "from bs4 import BeautifulSoup\n",
    "import pandas as pd\n",
    "import re"
   ]
  },
  {
   "cell_type": "markdown",
   "metadata": {},
   "source": [
    "> Taken from the very good Chris Albon tutorials: https://chrisalbon.com/python/beautiful_soup_scrape_table.html"
   ]
  },
  {
   "cell_type": "markdown",
   "metadata": {
    "collapsed": true
   },
   "source": [
    "In this notebook I'll show you how to scrape this simple table, so you get the idea how scraping works: \n",
    "    \"http://www1.wdr.de/nachrichten/landespolitik/landtagswahl/wss-kriminalitaet-barrierefrei-104.html\""
   ]
  },
  {
   "cell_type": "markdown",
   "metadata": {},
   "source": [
    "Requests is a python package, to get data from a url into python  "
   ]
  },
  {
   "cell_type": "code",
   "execution_count": null,
   "metadata": {},
   "outputs": [],
   "source": [
    "r = requests.get(\"http://www1.wdr.de/nachrichten/landespolitik/landtagswahl/wss-kriminalitaet-barrierefrei-104.html\")"
   ]
  },
  {
   "cell_type": "code",
   "execution_count": null,
   "metadata": {
    "collapsed": true
   },
   "outputs": [],
   "source": [
    "r"
   ]
  },
  {
   "cell_type": "markdown",
   "metadata": {},
   "source": [
    "> We will now use a very helpfull python scraping package, it's called 'BeautifulSoup':\n",
    "[BeautifulSoup](https://www.crummy.com/software/BeautifulSoup/) "
   ]
  },
  {
   "cell_type": "code",
   "execution_count": null,
   "metadata": {
    "collapsed": true
   },
   "outputs": [],
   "source": [
    "soup = BeautifulSoup(r.text, 'lxml')"
   ]
  },
  {
   "cell_type": "code",
   "execution_count": null,
   "metadata": {
    "collapsed": true
   },
   "outputs": [],
   "source": [
    "soup.table"
   ]
  },
  {
   "cell_type": "markdown",
   "metadata": {},
   "source": [
    "https://tutorial.djangogirls.org/en/html/\n",
    "\n",
    "## What is HTML?\n",
    "\n",
    "HTML is a simple code that is interpreted by your web browser – such as Chrome, Firefox or Safari – to display a web page for the user.\n",
    "\n",
    "HTML stands for \"HyperText Markup Language\". HyperText means it's a type of text that supports hyperlinks between pages. Markup means we have taken a document and marked it up with code to tell something (in this case, a browser) how to interpret the page. HTML code is built with tags, each one starting with < and ending with >. These tags represent markup elements."
   ]
  },
  {
   "cell_type": "markdown",
   "metadata": {},
   "source": [
    "HTML ist not our topic today. If you want to get into it, this is a good start:  \n",
    "https://www.w3schools.com/"
   ]
  },
  {
   "cell_type": "markdown",
   "metadata": {},
   "source": [
    "https://www.w3schools.com/html/html_tables.asp\n",
    "\n",
    "```\n",
    "An HTML table is defined with the <table> tag.\n",
    "Each table row is defined with the <tr> tag. \n",
    "A table header is defined with the <th> tag. \n",
    "By default, table headings are bold and centered. A table data/cell is defined with the <td> tag.\n",
    "```"
   ]
  },
  {
   "cell_type": "markdown",
   "metadata": {},
   "source": [
    "## You do it \n",
    "https://www.w3schools.com/html/tryit.asp?filename=tryhtml_table_intro\n",
    "\n",
    "Please open the link and change one data cell and a table header  "
   ]
  },
  {
   "cell_type": "markdown",
   "metadata": {},
   "source": [
    "If you sort the sort.table output nicely, you get:"
   ]
  },
  {
   "cell_type": "code",
   "execution_count": null,
   "metadata": {
    "collapsed": true
   },
   "outputs": [],
   "source": [
    "<div class=\"table\">\n",
    "    <table class=\"thleft\"><caption>Bekannt gewordene Fälle in NRW</caption>\n",
    "        <thead>\n",
    "            <tr class=\"headlines\">\n",
    "                <th class=\"entry\">Jahr</th>\n",
    "                <th class=\"entry\">Bekannt gewordene Fälle</th>\n",
    "            </tr>\n",
    "        </thead>\n",
    "        \n",
    "        <tbody>\n",
    "                    <tr class=\"data\"><td class=\"entry\">2005</td><td class=\"entry\">1.503.451</td></tr>\n",
    "                    <tr class=\"data\"><td class=\"entry\">2006</td><td class=\"entry\">1.491.897</td></tr>\n",
    "                    [...]\n",
    "                    <tr class=\"data\"><td class=\"entry\">2015</td><td class=\"entry\">1.517.448</td></tr>\n",
    "                    <tr class=\"data\"><td class=\"entry\">2016</td><td class=\"entry\">1.469.426</td></tr>\n",
    "        </tbody>\n",
    "    </table>\n",
    "</div>"
   ]
  },
  {
   "cell_type": "markdown",
   "metadata": {},
   "source": [
    "## Scrape it "
   ]
  },
  {
   "cell_type": "code",
   "execution_count": null,
   "metadata": {
    "collapsed": true
   },
   "outputs": [],
   "source": [
    "# Create empty lists to store the scraped data in\n",
    "jahr = []\n",
    "fälle = []"
   ]
  },
  {
   "cell_type": "code",
   "execution_count": null,
   "metadata": {
    "collapsed": true
   },
   "outputs": [],
   "source": [
    "# Create an object of the first object that is class_=tabele\n",
    "table = soup.find(class_='table')"
   ]
  },
  {
   "cell_type": "code",
   "execution_count": null,
   "metadata": {
    "collapsed": true
   },
   "outputs": [],
   "source": [
    "for row in table.find_all('tr')[1:]:\n",
    "    print(row)"
   ]
  },
  {
   "cell_type": "code",
   "execution_count": null,
   "metadata": {
    "collapsed": true
   },
   "outputs": [],
   "source": [
    "for row in table.find_all('tr')[1:]:\n",
    "    col = row.find_all('td')\n",
    "    print(col)"
   ]
  },
  {
   "cell_type": "code",
   "execution_count": null,
   "metadata": {
    "collapsed": true
   },
   "outputs": [],
   "source": [
    "for row in table.find_all('tr')[1:]:\n",
    "    col = row.find_all('td')\n",
    "    column_1 = col[0].string.strip()\n",
    "    print(column_1)"
   ]
  },
  {
   "cell_type": "code",
   "execution_count": null,
   "metadata": {
    "collapsed": true
   },
   "outputs": [],
   "source": [
    "# Find all the <tr> tag pairs, skip the first one, then for each.\n",
    "for row in table.find_all('tr')[1:]:\n",
    "    # Create a variable of all the <td> tag pairs in each <tr> tag pair,\n",
    "    col = row.find_all('td')\n",
    "\n",
    "    # Create a variable of the string inside 1st <td> tag pair,\n",
    "    column_1 = col[0].string.strip()\n",
    "    # and append it to first_name variable\n",
    "    jahr.append(column_1)\n",
    "    \n",
    "    # Create a variable of the string inside 2nd <td> tag pair,\n",
    "    column_2 = col[1].string.strip()\n",
    "    # and append it to last_name variable\n",
    "    fälle.append(column_2)"
   ]
  },
  {
   "cell_type": "code",
   "execution_count": null,
   "metadata": {
    "collapsed": true
   },
   "outputs": [],
   "source": [
    "# Create a variable of the value of the columns\n",
    "columns = {'jahr': jahr, 'fälle': fälle}\n",
    "\n",
    "# Create a dataframe from the columns variable\n",
    "df = pd.DataFrame(columns, columns=['jahr', 'fälle'])"
   ]
  },
  {
   "cell_type": "code",
   "execution_count": null,
   "metadata": {
    "collapsed": true
   },
   "outputs": [],
   "source": [
    "df"
   ]
  },
  {
   "cell_type": "markdown",
   "metadata": {
    "collapsed": true
   },
   "source": [
    "## You do it \n",
    "\n",
    "Please scrape this table:  \n",
    "\n",
    "http://www1.wdr.de/nachrichten/landespolitik/landtagswahl/wss-kinderarmut-barrierefrei-100.html"
   ]
  },
  {
   "cell_type": "code",
   "execution_count": null,
   "metadata": {
    "collapsed": true
   },
   "outputs": [],
   "source": []
  },
  {
   "cell_type": "code",
   "execution_count": null,
   "metadata": {
    "collapsed": true
   },
   "outputs": [],
   "source": []
  }
 ],
 "metadata": {
  "kernelspec": {
   "display_name": "Python 3",
   "language": "python",
   "name": "python3"
  },
  "language_info": {
   "codemirror_mode": {
    "name": "ipython",
    "version": 3
   },
   "file_extension": ".py",
   "mimetype": "text/x-python",
   "name": "python",
   "nbconvert_exporter": "python",
   "pygments_lexer": "ipython3",
   "version": "3.5.2"
  }
 },
 "nbformat": 4,
 "nbformat_minor": 2
}
