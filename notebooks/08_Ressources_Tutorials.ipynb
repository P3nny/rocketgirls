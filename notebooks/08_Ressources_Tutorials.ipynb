{
 "cells": [
  {
   "cell_type": "markdown",
   "metadata": {
    "deletable": true,
    "editable": true
   },
   "source": [
    "# Want to learn more? \n",
    "\n",
    "![](static/cat.gif)"
   ]
  },
  {
   "cell_type": "markdown",
   "metadata": {
    "deletable": true,
    "editable": true
   },
   "source": [
    "## Pandas \n",
    "- [Sarah Guido - Hands on analysis python](https://github.com/sarguido/hands-on-analysis-python)\n",
    "- [Brandon Rhodes - Pycon pandas tutorial](https://github.com/brandon-rhodes/pycon-pandas-tutorial)\n",
    "- [Pandas at Datacamp](https://campus.datacamp.com/courses/pandas-foundations/)"
   ]
  },
  {
   "cell_type": "markdown",
   "metadata": {
    "deletable": true,
    "editable": true
   },
   "source": [
    "## Introduction to webapps \n",
    "- [First news app](http://first-news-app.readthedocs.io/en/latest/)\n",
    "- [Danjo Girls - good for boys, too](https://tutorial.djangogirls.org/en/)"
   ]
  },
  {
   "cell_type": "markdown",
   "metadata": {
    "collapsed": true,
    "deletable": true,
    "editable": true
   },
   "source": [
    " ## Code snippets for data analysis\n",
    " - https://chrisalbon.com/\n",
    " - http://www.worthandlung.de/pandas/Folium_Map_with_Circle_Markers_from_Pandas_DataFrame.html"
   ]
  },
  {
   "cell_type": "markdown",
   "metadata": {
    "deletable": true,
    "editable": true
   },
   "source": [
    "## Online-Codeschools\n",
    "\n",
    "- https://de.udacity.com/\n",
    "- https://www.coursera.org/\n",
    "- https://www.codeschool.com/\n",
    "- https://teamtreehouse.com/"
   ]
  },
  {
   "cell_type": "markdown",
   "metadata": {
    "deletable": true,
    "editable": true
   },
   "source": [
    "## Books\n",
    "- Great kids intro to python: https://www.amazon.de/Hello-World-Programmieren-andere-Anf%C3%A4nger/dp/3446438068/ref=pd_lpo_sbs_14_t_2?_encoding=UTF8&psc=1&refRID=P8PSJBERYAQDV68AJFBB\n",
    "- Automate the boring stuff - very practical intro to python and programming : https://automatetheboringstuff.com/\n",
    "- Web Scraping with Python: http://shop.oreilly.com/product/0636920034391.do?sortby=bestSellers\n",
    "- Data science at the command line: http://datascienceatthecommandline.com/\n",
    "- Pandas bible: https://www.amazon.de/Datenanalyse-mit-Python-Auswertung-IPython/dp/3960090005 "
   ]
  },
  {
   "cell_type": "markdown",
   "metadata": {
    "deletable": true,
    "editable": true
   },
   "source": [
    "## Always useful and fun \n",
    "\n",
    "- [Regex](https://regexone.com/)"
   ]
  },
  {
   "cell_type": "markdown",
   "metadata": {
    "deletable": true,
    "editable": true
   },
   "source": [
    "## Python without admin rights: WinPython \n",
    "WinPython is a portable distribution of the Python programming language for Windows (http://winpython.github.io).\n",
    "\n",
    "https://sourceforge.net/projects/winpython/files/WinPython_3.5/3.5.3.1/"
   ]
  }
 ],
 "metadata": {
  "kernelspec": {
   "display_name": "Python 3",
   "language": "python",
   "name": "python3"
  },
  "language_info": {
   "codemirror_mode": {
    "name": "ipython",
    "version": 3
   },
   "file_extension": ".py",
   "mimetype": "text/x-python",
   "name": "python",
   "nbconvert_exporter": "python",
   "pygments_lexer": "ipython3",
   "version": "3.5.2"
  }
 },
 "nbformat": 4,
 "nbformat_minor": 2
}
