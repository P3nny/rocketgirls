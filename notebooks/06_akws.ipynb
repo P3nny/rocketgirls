{
 "cells": [
  {
   "cell_type": "markdown",
   "metadata": {
    "deletable": true,
    "editable": true
   },
   "source": [
    "# Atomkraftwerke in Europa \n",
    "- Inspect Element \n",
    "- Debugger \n",
    "- mapFull.jsp\n",
    "- var akws > strg-c, strg-v\n",
    "\n",
    "[http://www5.umweltbundesamt.at/akwmap/mapFull.jsp]\n",
    "\n",
    "0 = stillgelegt\n",
    "\n",
    "4 = in Betrieb "
   ]
  },
  {
   "cell_type": "code",
   "execution_count": 1,
   "metadata": {
    "collapsed": true,
    "deletable": true,
    "editable": true
   },
   "outputs": [],
   "source": [
    "import pandas as pd\n",
    "import numpy as np\n",
    "import matplotlib.pyplot as plt\n",
    "% matplotlib inline\n",
    "\n",
    "pd.options.display.max_rows = 999\n",
    "pd.options.display.max_colwidth = 1000"
   ]
  },
  {
   "cell_type": "code",
   "execution_count": 2,
   "metadata": {
    "collapsed": true,
    "deletable": true,
    "editable": true
   },
   "outputs": [],
   "source": [
    "null = None\n",
    "false = False\n",
    "true = True"
   ]
  },
  {
   "cell_type": "code",
   "execution_count": 3,
   "metadata": {
    "collapsed": true,
    "deletable": true,
    "editable": true
   },
   "outputs": [],
   "source": [
    "akws = [{\"uvps\":[],\"flex\":null,\"country\":\"Armenien\",\"reaktoren\":2,\"id\":125,\"inbau\":0,\"point\":{\"y\":40.18247,\"x\":44.1425},\"inplanung\":0,\"hasUVPs\":false,\"name\":\"Metzamor\",\"stillgelegt\":1,\"wikiUrl\":\"http:\\/\\/de.wikipedia.org\\/wiki\\/Kernkraftwerk_Mezamor\",\"aktiv\":1},{\"uvps\":[],\"flex\":null,\"country\":\"Belgien\",\"reaktoren\":1,\"id\":128,\"inbau\":0,\"point\":{\"y\":51.21528,\"x\":5.09583},\"inplanung\":0,\"hasUVPs\":false,\"name\":\"BR3-PWR\",\"stillgelegt\":1,\"wikiUrl\":\"http:\\/\\/de.wikipedia.org\\/wiki\\/Studienzentrum_f%C3%BCr_Kernenergie\",\"aktiv\":0},{\"uvps\":[],\"flex\":\"http:\\/\\/flexrisk.boku.ac.at\\/en\\/sites\\/doel\\/index.html\",\"country\":\"Belgien\",\"reaktoren\":4,\"id\":126,\"inbau\":0,\"point\":{\"y\":51.32472,\"x\":4.25875},\"inplanung\":0,\"hasUVPs\":false,\"name\":\"Doel\",\"stillgelegt\":0,\"wikiUrl\":\"http:\\/\\/de.wikipedia.org\\/wiki\\/Kernkraftwerk_Doel\",\"aktiv\":4},{\"uvps\":[],\"flex\":\"http:\\/\\/flexrisk.boku.ac.at\\/en\\/sites\\/tiha\\/index.html\",\"country\":\"Belgien\",\"reaktoren\":3,\"id\":127,\"inbau\":0,\"point\":{\"y\":50.53463,\"x\":5.27253},\"inplanung\":0,\"hasUVPs\":false,\"name\":\"Tihange \",\"stillgelegt\":0,\"wikiUrl\":\"http:\\/\\/de.wikipedia.org\\/wiki\\/Kernkraftwerk_Tihange\",\"aktiv\":3},{\"uvps\":[],\"flex\":\"http:\\/\\/flexrisk.boku.ac.at\\/en\\/sites\\/bele\\/index.html\",\"country\":\"Bulgarien\",\"reaktoren\":2,\"id\":130,\"inbau\":0,\"point\":{\"y\":43.63,\"x\":25.19},\"inplanung\":0,\"hasUVPs\":false,\"name\":\"Belene\",\"stillgelegt\":2,\"wikiUrl\":\"http:\\/\\/de.wikipedia.org\\/wiki\\/Kernkraftwerk_Belene\",\"aktiv\":0},{\"uvps\":[{\"fk\":\"129\",\"status\":\"laufend\",\"titel\":\"UVP-Verfahren KKW Kozloduy 7\",\"url\":\"http:\\/\\/www.umweltbundesamt.at\\/umweltsituation\\/uvpsup\\/espooverfahren\\/espoo_bulgarien\\/uvp_kkw_kozloduy_7\\/\"}],\"flex\":\"http:\\/\\/flexrisk.boku.ac.at\\/en\\/sites\\/kozl\\/index.html\",\"country\":\"Bulgarien\",\"reaktoren\":6,\"id\":129,\"inbau\":0,\"point\":{\"y\":43.74614,\"x\":23.77051},\"inplanung\":0,\"hasUVPs\":true,\"name\":\"Kozloduy\",\"stillgelegt\":4,\"wikiUrl\":\"http:\\/\\/de.wikipedia.org\\/wiki\\/Kernkraftwerk_Kosloduj\",\"aktiv\":2},{\"uvps\":[{\"fk\":\"34\",\"status\":\"abgeschlossen\",\"titel\":\"UVP Brennelemente-Zwischenlager Biblis\",\"url\":\"http:\\/\\/www.umweltbundesamt.at\\/umweltschutz\\/uvpsupemas\\/espooverfahren\\/espoo_de\\/zwilag_de\\/\"}],\"flex\":null,\"country\":\"Deutschland\",\"reaktoren\":2,\"id\":34,\"inbau\":0,\"point\":{\"y\":49.71016,\"x\":8.41441},\"inplanung\":0,\"hasUVPs\":true,\"name\":\"Biblis\",\"stillgelegt\":2,\"wikiUrl\":\"http:\\/\\/de.wikipedia.org\\/wiki\\/Kernkraftwerk_Biblis\",\"aktiv\":0},{\"uvps\":[],\"flex\":\"http:\\/\\/flexrisk.boku.ac.at\\/en\\/sites\\/brok\\/index.html\",\"country\":\"Deutschland\",\"reaktoren\":1,\"id\":35,\"inbau\":0,\"point\":{\"y\":53.85083,\"x\":9.34472},\"inplanung\":0,\"hasUVPs\":false,\"name\":\"Brokdorf\",\"stillgelegt\":0,\"wikiUrl\":\"http:\\/\\/de.wikipedia.org\\/wiki\\/Kernkraftwerk_Brokdorf\",\"aktiv\":1},{\"uvps\":[],\"flex\":null,\"country\":\"Deutschland\",\"reaktoren\":1,\"id\":36,\"inbau\":0,\"point\":{\"y\":53.89167,\"x\":9.20167},\"inplanung\":0,\"hasUVPs\":false,\"name\":\"Brunsbüttel\",\"stillgelegt\":1,\"wikiUrl\":\"http:\\/\\/de.wikipedia.org\\/wiki\\/Kernkraftwerk_Brunsb%C3%BCttel\",\"aktiv\":0},{\"uvps\":[],\"flex\":\"http:\\/\\/flexrisk.boku.ac.at\\/en\\/sites\\/emsl\\/index.html\",\"country\":\"Deutschland\",\"reaktoren\":1,\"id\":37,\"inbau\":0,\"point\":{\"y\":52.47174,\"x\":7.3205},\"inplanung\":0,\"hasUVPs\":false,\"name\":\"Emsland KKE\",\"stillgelegt\":0,\"wikiUrl\":\"http:\\/\\/de.wikipedia.org\\/wiki\\/Kernkraftwerk_Emsland\",\"aktiv\":1},{\"uvps\":[{\"fk\":\"38\",\"status\":\"abgeschlossen\",\"titel\":\"UVP Brennelemente-Zwischenlager Grafenrheinfeld\",\"url\":\"http:\\/\\/www.umweltbundesamt.at\\/umweltschutz\\/uvpsupemas\\/espooverfahren\\/espoo_de\\/zwilag_de\\/\"}],\"flex\":\"http:\\/\\/flexrisk.boku.ac.at\\/en\\/sites\\/graf\\/index.html\",\"country\":\"Deutschland\",\"reaktoren\":1,\"id\":38,\"inbau\":0,\"point\":{\"y\":49.98368,\"x\":10.18295},\"inplanung\":0,\"hasUVPs\":true,\"name\":\"Grafenrheinfeld\",\"stillgelegt\":0,\"wikiUrl\":\"http:\\/\\/de.wikipedia.org\\/wiki\\/Kernkraftwerk_Grafenrheinfeld\",\"aktiv\":1},{\"uvps\":[],\"flex\":null,\"country\":\"Deutschland\",\"reaktoren\":8,\"id\":230,\"inbau\":0,\"point\":{\"y\":54.14059,\"x\":13.66442},\"inplanung\":0,\"hasUVPs\":false,\"name\":\"Greifswald\",\"stillgelegt\":8,\"wikiUrl\":\"http:\\/\\/de.wikipedia.org\\/wiki\\/Kernkraftwerk_Greifswald\",\"aktiv\":0},{\"uvps\":[],\"flex\":\"http:\\/\\/flexrisk.boku.ac.at\\/en\\/sites\\/groh\\/index.html\",\"country\":\"Deutschland\",\"reaktoren\":1,\"id\":40,\"inbau\":0,\"point\":{\"y\":52.03539,\"x\":9.41202},\"inplanung\":0,\"hasUVPs\":false,\"name\":\"Grohnde\",\"stillgelegt\":0,\"wikiUrl\":\"http:\\/\\/de.wikipedia.org\\/wiki\\/Kernkraftwerk_Grohnde\",\"aktiv\":1},{\"uvps\":[],\"flex\":null,\"country\":\"Deutschland\",\"reaktoren\":1,\"id\":235,\"inbau\":0,\"point\":{\"y\":50.05912,\"x\":8.98728},\"inplanung\":0,\"hasUVPs\":false,\"name\":\"Großwelzheim\",\"stillgelegt\":1,\"wikiUrl\":\"http:\\/\\/de.wikipedia.org\\/wiki\\/Kernkraftwerk_Gro%C3%9Fwelzheim\",\"aktiv\":0},{\"uvps\":[{\"fk\":\"41\",\"status\":\"abgeschlossen\",\"titel\":\"UVP Brennelemente-Zwischenlager Gundremmingen\",\"url\":\"http:\\/\\/www.umweltbundesamt.at\\/umweltschutz\\/uvpsupemas\\/espooverfahren\\/espoo_de\\/zwilag_gundrem\\/\"}],\"flex\":\"http:\\/\\/flexrisk.boku.ac.at\\/en\\/sites\\/gund\\/index.html\",\"country\":\"Deutschland\",\"reaktoren\":3,\"id\":41,\"inbau\":0,\"point\":{\"y\":48.51467,\"x\":10.40285},\"inplanung\":0,\"hasUVPs\":true,\"name\":\"Gundremmingen\",\"stillgelegt\":1,\"wikiUrl\":\"http:\\/\\/de.wikipedia.org\\/wiki\\/Kernkraftwerk_Gundremmingen\",\"aktiv\":2},{\"uvps\":[],\"flex\":null,\"country\":\"Deutschland\",\"reaktoren\":1,\"id\":229,\"inbau\":0,\"point\":{\"y\":51.6793,\"x\":7.97156},\"inplanung\":0,\"hasUVPs\":false,\"name\":\"Hamm-Uentrop\",\"stillgelegt\":1,\"wikiUrl\":\"http:\\/\\/de.wikipedia.org\\/wiki\\/Kernkraftwerk_THTR-300\",\"aktiv\":0},{\"uvps\":[{\"fk\":\"43\",\"status\":\"abgeschlossen\",\"titel\":\"UVP Brennelement-Behälterlager Isar\\/Niederaichbach\",\"url\":\"http:\\/\\/www.umweltbundesamt.at\\/umweltschutz\\/uvpsupemas\\/espooverfahren\\/espoo_de\\/isar\\/\"}],\"flex\":\"http:\\/\\/flexrisk.boku.ac.at\\/en\\/sites\\/isar\\/index.html\",\"country\":\"Deutschland\",\"reaktoren\":3,\"id\":43,\"inbau\":0,\"point\":{\"y\":48.60471,\"x\":12.29233},\"inplanung\":0,\"hasUVPs\":true,\"name\":\"Isar\",\"stillgelegt\":2,\"wikiUrl\":\"http:\\/\\/de.wikipedia.org\\/wiki\\/Kernkraftwerk_Isar\",\"aktiv\":1},{\"uvps\":[],\"flex\":null,\"country\":\"Deutschland\",\"reaktoren\":1,\"id\":234,\"inbau\":0,\"point\":{\"y\":50.90294,\"x\":6.42121},\"inplanung\":0,\"hasUVPs\":false,\"name\":\"Jülich\",\"stillgelegt\":1,\"wikiUrl\":\"http:\\/\\/de.wikipedia.org\\/wiki\\/AVR_(J%C3%BClich)\",\"aktiv\":0},{\"uvps\":[],\"flex\":null,\"country\":\"Deutschland\",\"reaktoren\":1,\"id\":240,\"inbau\":0,\"point\":{\"y\":50.05912,\"x\":8.98728},\"inplanung\":0,\"hasUVPs\":false,\"name\":\"Kahl \",\"stillgelegt\":1,\"wikiUrl\":\"http:\\/\\/de.wikipedia.org\\/wiki\\/Kernkraftwerk_Kahl\",\"aktiv\":0},{\"uvps\":[],\"flex\":null,\"country\":\"Deutschland\",\"reaktoren\":1,\"id\":236,\"inbau\":0,\"point\":{\"y\":49.09934,\"x\":8.43289},\"inplanung\":0,\"hasUVPs\":false,\"name\":\"Karlsruhe (KNK II)\",\"stillgelegt\":1,\"wikiUrl\":\"http:\\/\\/de.wikipedia.org\\/wiki\\/Kompakte_Natriumgek%C3%BChlte_Kernreaktoranlage_Karlsruhe\",\"aktiv\":0},{\"uvps\":[],\"flex\":null,\"country\":\"Deutschland\",\"reaktoren\":1,\"id\":237,\"inbau\":0,\"point\":{\"y\":49.10425,\"x\":8.43234},\"inplanung\":0,\"hasUVPs\":false,\"name\":\"Karlsruhe (MZFR)\",\"stillgelegt\":1,\"wikiUrl\":\"http:\\/\\/de.wikipedia.org\\/wiki\\/Mehrzweckforschungsreaktor_Karlsruhe\",\"aktiv\":0},{\"uvps\":[],\"flex\":null,\"country\":\"Deutschland\",\"reaktoren\":1,\"id\":45,\"inbau\":0,\"point\":{\"y\":53.41063,\"x\":10.40917},\"inplanung\":0,\"hasUVPs\":false,\"name\":\"Krümmel KKK\",\"stillgelegt\":1,\"wikiUrl\":\"http:\\/\\/de.wikipedia.org\\/wiki\\/Kernkraftwerk_Kr%C3%BCmmel\",\"aktiv\":0},{\"uvps\":[],\"flex\":null,\"country\":\"Deutschland\",\"reaktoren\":1,\"id\":228,\"inbau\":0,\"point\":{\"y\":52.48281,\"x\":7.3069},\"inplanung\":0,\"hasUVPs\":false,\"name\":\"Lingen\",\"stillgelegt\":1,\"wikiUrl\":\"http:\\/\\/de.wikipedia.org\\/wiki\\/Kernkraftwerk_Lingen\",\"aktiv\":0},{\"uvps\":[],\"flex\":null,\"country\":\"Deutschland\",\"reaktoren\":1,\"id\":233,\"inbau\":0,\"point\":{\"y\":50.40778,\"x\":7.48972},\"inplanung\":0,\"hasUVPs\":false,\"name\":\"Mülheim-Kärlich\",\"stillgelegt\":1,\"wikiUrl\":\"http:\\/\\/de.wikipedia.org\\/wiki\\/Kernkraftwerk_M%C3%BClheim-K%C3%A4rlich\",\"aktiv\":0},{\"uvps\":[{\"fk\":\"49\",\"status\":\"abgeschlossen\",\"titel\":\"UVP Brennelemente-Zwischenlager Neckarwestheim\",\"url\":\"http:\\/\\/www.umweltbundesamt.at\\/umweltschutz\\/uvpsupemas\\/espooverfahren\\/espoo_de\\/zwilag_de\\/\"}],\"flex\":\"http:\\/\\/flexrisk.boku.ac.at\\/en\\/sites\\/neck\\/index.html\",\"country\":\"Deutschland\",\"reaktoren\":2,\"id\":49,\"inbau\":0,\"point\":{\"y\":49.04068,\"x\":9.17569},\"inplanung\":0,\"hasUVPs\":true,\"name\":\"Neckarwestheim\",\"stillgelegt\":1,\"wikiUrl\":\"http:\\/\\/de.wikipedia.org\\/wiki\\/Kernkraftwerk_Neckarwestheim\",\"aktiv\":1},{\"uvps\":[],\"flex\":null,\"country\":\"Deutschland\",\"reaktoren\":1,\"id\":51,\"inbau\":0,\"point\":{\"y\":49.3645,\"x\":9.07618},\"inplanung\":0,\"hasUVPs\":false,\"name\":\"Obrigheim\",\"stillgelegt\":1,\"wikiUrl\":\"http:\\/\\/de.wikipedia.org\\/wiki\\/Kernkraftwerk_Obrigheim\",\"aktiv\":0},{\"uvps\":[{\"fk\":\"52\",\"status\":\"abgeschlossen\",\"titel\":\"UVP Brennelemente-Zwischenlager Philippsburg\",\"url\":\"http:\\/\\/www.umweltbundesamt.at\\/umweltschutz\\/uvpsupemas\\/espooverfahren\\/espoo_de\\/zwilag_de\\/\"}],\"flex\":\"http:\\/\\/flexrisk.boku.ac.at\\/en\\/sites\\/phil\\/index.html\",\"country\":\"Deutschland\",\"reaktoren\":2,\"id\":52,\"inbau\":0,\"point\":{\"y\":49.25291,\"x\":8.4369},\"inplanung\":0,\"hasUVPs\":true,\"name\":\"Philippsburg\",\"stillgelegt\":1,\"wikiUrl\":\"http:\\/\\/de.wikipedia.org\\/wiki\\/Kernkraftwerk_Philippsburg\",\"aktiv\":1},{\"uvps\":[],\"flex\":null,\"country\":\"Deutschland\",\"reaktoren\":1,\"id\":238,\"inbau\":0,\"point\":{\"y\":53.14699,\"x\":12.99015},\"inplanung\":0,\"hasUVPs\":false,\"name\":\"Rheinsberg\",\"stillgelegt\":1,\"wikiUrl\":\"http:\\/\\/de.wikipedia.org\\/wiki\\/Kernkraftwerk_Rheinsberg\",\"aktiv\":0},{\"uvps\":[],\"flex\":null,\"country\":\"Deutschland\",\"reaktoren\":1,\"id\":54,\"inbau\":0,\"point\":{\"y\":53.62,\"x\":9.53083},\"inplanung\":0,\"hasUVPs\":false,\"name\":\"Stade\",\"stillgelegt\":1,\"wikiUrl\":\"http:\\/\\/de.wikipedia.org\\/wiki\\/KKW_Stade\",\"aktiv\":0},{\"uvps\":[],\"flex\":null,\"country\":\"Deutschland\",\"reaktoren\":4,\"id\":232,\"inbau\":0,\"point\":{\"y\":52.72413,\"x\":12.01933},\"inplanung\":0,\"hasUVPs\":false,\"name\":\"Stendal\",\"stillgelegt\":4,\"wikiUrl\":\"http:\\/\\/de.wikipedia.org\\/wiki\\/Kernkraftwerk_Stendal\",\"aktiv\":0},{\"uvps\":[],\"flex\":null,\"country\":\"Deutschland\",\"reaktoren\":1,\"id\":239,\"inbau\":0,\"point\":{\"y\":51.6793,\"x\":7.97156},\"inplanung\":0,\"hasUVPs\":false,\"name\":\"THTR-300\",\"stillgelegt\":1,\"wikiUrl\":\"http:\\/\\/de.wikipedia.org\\/wiki\\/Kernkraftwerk_THTR-300\",\"aktiv\":0},{\"uvps\":[],\"flex\":null,\"country\":\"Deutschland\",\"reaktoren\":1,\"id\":56,\"inbau\":0,\"point\":{\"y\":53.42744,\"x\":8.47921},\"inplanung\":0,\"hasUVPs\":false,\"name\":\"Unterweser KKU\",\"stillgelegt\":1,\"wikiUrl\":\"http:\\/\\/de.wikipedia.org\\/wiki\\/Kernkraftwerk_Unterweser\",\"aktiv\":0},{\"uvps\":[],\"flex\":null,\"country\":\"Deutschland\",\"reaktoren\":1,\"id\":58,\"inbau\":0,\"point\":{\"y\":51.63976,\"x\":9.39159},\"inplanung\":0,\"hasUVPs\":false,\"name\":\"Wuergassen\",\"stillgelegt\":1,\"wikiUrl\":\"http:\\/\\/de.wikipedia.org\\/wiki\\/Kernkraftwerk_W%C3%BCrgassen\",\"aktiv\":0},{\"uvps\":[{\"fk\":\"132\",\"status\":\"abgeschlossen\",\"titel\":\"UVP KKW Loviisa 3\",\"url\":\"http:\\/\\/www.umweltbundesamt.at\\/umweltschutz\\/uvpsupemas\\/espooverfahren\\/finnland\\/loviisa\\/\"}],\"flex\":\"http:\\/\\/flexrisk.boku.ac.at\\/en\\/sites\\/lovi\\/index.html\",\"country\":\"Finnland\",\"reaktoren\":2,\"id\":132,\"inbau\":0,\"point\":{\"y\":60.37222,\"x\":26.34722},\"inplanung\":0,\"hasUVPs\":true,\"name\":\"Loviisa\",\"stillgelegt\":0,\"wikiUrl\":\"http:\\/\\/de.wikipedia.org\\/wiki\\/Kernkraftwerk_Loviisa\",\"aktiv\":2},{\"uvps\":[{\"fk\":\"131\",\"status\":\"abgeschlossen\",\"titel\":\"UVP KKW Olkiluoto 4\",\"url\":\"http:\\/\\/www.umweltbundesamt.at\\/umweltschutz\\/uvpsupemas\\/espooverfahren\\/finnland\\/olkiluoto\\/\"}],\"flex\":\"http:\\/\\/flexrisk.boku.ac.at\\/en\\/sites\\/olki\\/index.html\",\"country\":\"Finnland\",\"reaktoren\":4,\"id\":131,\"inbau\":1,\"point\":{\"y\":61.23667,\"x\":21.44222},\"inplanung\":1,\"hasUVPs\":true,\"name\":\"Olkiluoto\",\"stillgelegt\":0,\"wikiUrl\":\"http:\\/\\/de.wikipedia.org\\/wiki\\/Kernkraftwerk_Olkiluoto\",\"aktiv\":2},{\"uvps\":[],\"flex\":\"http:\\/\\/flexrisk.boku.ac.at\\/en\\/sites\\/bell\\/index.html\",\"country\":\"Frankreich\",\"reaktoren\":2,\"id\":134,\"inbau\":0,\"point\":{\"y\":47.51028,\"x\":2.875},\"inplanung\":0,\"hasUVPs\":false,\"name\":\"Belleville\",\"stillgelegt\":0,\"wikiUrl\":\"http:\\/\\/de.wikipedia.org\\/wiki\\/Kernkraftwerk_Belleville\",\"aktiv\":2},{\"uvps\":[],\"flex\":\"http:\\/\\/flexrisk.boku.ac.at\\/en\\/sites\\/buge\\/index.html\",\"country\":\"Frankreich\",\"reaktoren\":5,\"id\":135,\"inbau\":0,\"point\":{\"y\":45.79722,\"x\":5.27},\"inplanung\":0,\"hasUVPs\":false,\"name\":\"Bugey\",\"stillgelegt\":1,\"wikiUrl\":\"http:\\/\\/de.wikipedia.org\\/wiki\\/Kernkraftwerk_Bugey\",\"aktiv\":4},{\"uvps\":[],\"flex\":\"http:\\/\\/flexrisk.boku.ac.at\\/en\\/sites\\/catt\\/index.html\",\"country\":\"Frankreich\",\"reaktoren\":4,\"id\":136,\"inbau\":0,\"point\":{\"y\":49.41556,\"x\":6.21667},\"inplanung\":0,\"hasUVPs\":false,\"name\":\"Cattenom\",\"stillgelegt\":0,\"wikiUrl\":\"http:\\/\\/de.wikipedia.org\\/wiki\\/Kernkraftwerk_Cattenom\",\"aktiv\":4},{\"uvps\":[],\"flex\":\"http:\\/\\/flexrisk.boku.ac.at\\/en\\/sites\\/chin\\/index.html\",\"country\":\"Frankreich\",\"reaktoren\":7,\"id\":137,\"inbau\":0,\"point\":{\"y\":47.23056,\"x\":0.17056},\"inplanung\":0,\"hasUVPs\":false,\"name\":\"Chinon\",\"stillgelegt\":3,\"wikiUrl\":\"http:\\/\\/de.wikipedia.org\\/wiki\\/Kernkraftwerk_Chinon\",\"aktiv\":4},{\"uvps\":[],\"flex\":\"http:\\/\\/flexrisk.boku.ac.at\\/en\\/sites\\/choo\\/index.html\",\"country\":\"Frankreich\",\"reaktoren\":3,\"id\":138,\"inbau\":0,\"point\":{\"y\":50.09,\"x\":4.78944},\"inplanung\":0,\"hasUVPs\":false,\"name\":\"Chooz\",\"stillgelegt\":1,\"wikiUrl\":\"http:\\/\\/de.wikipedia.org\\/wiki\\/Kernkraftwerk_Chooz\",\"aktiv\":2},{\"uvps\":[],\"flex\":\"http:\\/\\/flexrisk.boku.ac.at\\/en\\/sites\\/civa\\/index.html\",\"country\":\"Frankreich\",\"reaktoren\":2,\"id\":139,\"inbau\":0,\"point\":{\"y\":46.45611,\"x\":0.65417},\"inplanung\":0,\"hasUVPs\":false,\"name\":\"Civaux\",\"stillgelegt\":0,\"wikiUrl\":\"http:\\/\\/de.wikipedia.org\\/wiki\\/Kernkraftwerk_Civaux\",\"aktiv\":2},{\"uvps\":[],\"flex\":\"http:\\/\\/flexrisk.boku.ac.at\\/en\\/sites\\/crua\\/index.html\",\"country\":\"Frankreich\",\"reaktoren\":4,\"id\":140,\"inbau\":0,\"point\":{\"y\":44.63389,\"x\":4.75389},\"inplanung\":0,\"hasUVPs\":false,\"name\":\"Cruas Meysse\",\"stillgelegt\":0,\"wikiUrl\":\"http:\\/\\/de.wikipedia.org\\/wiki\\/Kernkraftwerk_Cruas\",\"aktiv\":4},{\"uvps\":[],\"flex\":\"http:\\/\\/flexrisk.boku.ac.at\\/en\\/sites\\/damp\\/index.html\",\"country\":\"Frankreich\",\"reaktoren\":4,\"id\":141,\"inbau\":0,\"point\":{\"y\":47.73361,\"x\":2.5175},\"inplanung\":0,\"hasUVPs\":false,\"name\":\"Dampierre\",\"stillgelegt\":0,\"wikiUrl\":\"http:\\/\\/de.wikipedia.org\\/wiki\\/Kernkraftwerk_Dampierre\",\"aktiv\":4},{\"uvps\":[],\"flex\":\"http:\\/\\/flexrisk.boku.ac.at\\/en\\/sites\\/fess\\/index.html\",\"country\":\"Frankreich\",\"reaktoren\":2,\"id\":142,\"inbau\":0,\"point\":{\"y\":47.90361,\"x\":7.5625},\"inplanung\":0,\"hasUVPs\":false,\"name\":\"Fessenheim\",\"stillgelegt\":0,\"wikiUrl\":\"http:\\/\\/de.wikipedia.org\\/wiki\\/Kernkraftwerk_Fessenheim\",\"aktiv\":2},{\"uvps\":[],\"flex\":\"http:\\/\\/flexrisk.boku.ac.at\\/en\\/sites\\/flam\\/index.html\",\"country\":\"Frankreich\",\"reaktoren\":3,\"id\":143,\"inbau\":0,\"point\":{\"y\":49.53722,\"x\":-1.8825},\"inplanung\":1,\"hasUVPs\":false,\"name\":\"Flamanville\",\"stillgelegt\":0,\"wikiUrl\":\"http:\\/\\/de.wikipedia.org\\/wiki\\/Kernkraftwerk_Flamanville\",\"aktiv\":2},{\"uvps\":[],\"flex\":\"http:\\/\\/flexrisk.boku.ac.at\\/en\\/sites\\/golf\\/index.html\",\"country\":\"Frankreich\",\"reaktoren\":2,\"id\":144,\"inbau\":0,\"point\":{\"y\":44.11111,\"x\":0.84028},\"inplanung\":0,\"hasUVPs\":false,\"name\":\"Golfech\",\"stillgelegt\":0,\"wikiUrl\":\"http:\\/\\/de.wikipedia.org\\/wiki\\/Kernkraftwerk_Golfech\",\"aktiv\":2},{\"uvps\":[],\"flex\":\"http:\\/\\/flexrisk.boku.ac.at\\/en\\/sites\\/grav\\/index.html\",\"country\":\"Frankreich\",\"reaktoren\":6,\"id\":145,\"inbau\":0,\"point\":{\"y\":51.01361,\"x\":2.13611},\"inplanung\":0,\"hasUVPs\":false,\"name\":\"Gravelines\",\"stillgelegt\":0,\"wikiUrl\":\"http:\\/\\/de.wikipedia.org\\/wiki\\/Kernkraftwerk_Gravelines\",\"aktiv\":6},{\"uvps\":[],\"flex\":\"http:\\/\\/flexrisk.boku.ac.at\\/en\\/sites\\/blay\\/index.html\",\"country\":\"Frankreich\",\"reaktoren\":4,\"id\":146,\"inbau\":0,\"point\":{\"y\":45.25611,\"x\":-0.69167},\"inplanung\":0,\"hasUVPs\":false,\"name\":\"Le Blayais\",\"stillgelegt\":0,\"wikiUrl\":\"http:\\/\\/de.wikipedia.org\\/wiki\\/Kernkraftwerk_Blayais\",\"aktiv\":4},{\"uvps\":[],\"flex\":null,\"country\":\"Frankreich\",\"reaktoren\":3,\"id\":154,\"inbau\":0,\"point\":{\"y\":44.15,\"x\":4.71581},\"inplanung\":0,\"hasUVPs\":false,\"name\":\"Marcoule\",\"stillgelegt\":3,\"wikiUrl\":\"http:\\/\\/de.wikipedia.org\\/wiki\\/Kernkraftwerk_Marcoule\",\"aktiv\":0},{\"uvps\":[],\"flex\":null,\"country\":\"Frankreich\",\"reaktoren\":2,\"id\":155,\"inbau\":0,\"point\":{\"y\":48.35333,\"x\":-3.87222},\"inplanung\":0,\"hasUVPs\":false,\"name\":\"Monts d'Arree (Brennilis)\",\"stillgelegt\":2,\"wikiUrl\":\"http:\\/\\/de.wikipedia.org\\/wiki\\/Kernkraftwerk_Brennilis\",\"aktiv\":0},{\"uvps\":[],\"flex\":\"http:\\/\\/flexrisk.boku.ac.at\\/en\\/sites\\/noge\\/index.html\",\"country\":\"Frankreich\",\"reaktoren\":2,\"id\":147,\"inbau\":0,\"point\":{\"y\":48.51611,\"x\":3.51778},\"inplanung\":0,\"hasUVPs\":false,\"name\":\"Nogent\",\"stillgelegt\":0,\"wikiUrl\":\"http:\\/\\/de.wikipedia.org\\/wiki\\/Kernkraftwerk_Nogent\",\"aktiv\":2},{\"uvps\":[],\"flex\":\"http:\\/\\/flexrisk.boku.ac.at\\/en\\/sites\\/palu\\/index.html\",\"country\":\"Frankreich\",\"reaktoren\":4,\"id\":148,\"inbau\":0,\"point\":{\"y\":49.85806,\"x\":0.63556},\"inplanung\":0,\"hasUVPs\":false,\"name\":\"Paluel\",\"stillgelegt\":0,\"wikiUrl\":\"http:\\/\\/de.wikipedia.org\\/wiki\\/Kernkraftwerk_Paluel\",\"aktiv\":4},{\"uvps\":[],\"flex\":\"http:\\/\\/flexrisk.boku.ac.at\\/en\\/sites\\/penl\\/index.html\",\"country\":\"Frankreich\",\"reaktoren\":3,\"id\":149,\"inbau\":0,\"point\":{\"y\":49.97667,\"x\":1.21194},\"inplanung\":1,\"hasUVPs\":false,\"name\":\"Penly\",\"stillgelegt\":0,\"wikiUrl\":\"http:\\/\\/de.wikipedia.org\\/wiki\\/Kernkraftwerk_Penly\",\"aktiv\":2},{\"uvps\":[],\"flex\":null,\"country\":\"Frankreich\",\"reaktoren\":1,\"id\":133,\"inbau\":0,\"point\":{\"y\":44.14333,\"x\":4.71167},\"inplanung\":0,\"hasUVPs\":false,\"name\":\"Phenix\",\"stillgelegt\":1,\"wikiUrl\":\"http:\\/\\/de.wikipedia.org\\/wiki\\/Kernkraftwerk_Ph%C3%A9nix\",\"aktiv\":0},{\"uvps\":[],\"flex\":\"http:\\/\\/flexrisk.boku.ac.at\\/en\\/sites\\/stal\\/index.html\",\"country\":\"Frankreich\",\"reaktoren\":2,\"id\":150,\"inbau\":0,\"point\":{\"y\":45.40472,\"x\":4.75583},\"inplanung\":0,\"hasUVPs\":false,\"name\":\"Saint Alban\",\"stillgelegt\":0,\"wikiUrl\":\"http:\\/\\/de.wikipedia.org\\/wiki\\/Kernkraftwerk_Saint-Alban\",\"aktiv\":2},{\"uvps\":[],\"flex\":\"http:\\/\\/flexrisk.boku.ac.at\\/en\\/sites\\/stla\\/index.html\",\"country\":\"Frankreich\",\"reaktoren\":4,\"id\":151,\"inbau\":0,\"point\":{\"y\":47.72056,\"x\":1.57861},\"inplanung\":0,\"hasUVPs\":false,\"name\":\"St Laurent\",\"stillgelegt\":2,\"wikiUrl\":\"http:\\/\\/de.wikipedia.org\\/wiki\\/Kernkraftwerk_Saint-Laurent\",\"aktiv\":2},{\"uvps\":[],\"flex\":null,\"country\":\"Frankreich\",\"reaktoren\":1,\"id\":153,\"inbau\":0,\"point\":{\"y\":45.75833,\"x\":5.47222},\"inplanung\":0,\"hasUVPs\":false,\"name\":\"Super-Phenix 1\",\"stillgelegt\":1,\"wikiUrl\":\"http:\\/\\/de.wikipedia.org\\/wiki\\/Kernkraftwerk_Ph%C3%A9nix\",\"aktiv\":0},{\"uvps\":[],\"flex\":\"http:\\/\\/flexrisk.boku.ac.at\\/en\\/sites\\/tric\\/index.html\",\"country\":\"Frankreich\",\"reaktoren\":4,\"id\":152,\"inbau\":0,\"point\":{\"y\":44.32972,\"x\":4.73222},\"inplanung\":0,\"hasUVPs\":false,\"name\":\"Tricastin\",\"stillgelegt\":0,\"wikiUrl\":\"http:\\/\\/de.wikipedia.org\\/wiki\\/Kernkraftwerk_Tricastin\",\"aktiv\":4},{\"uvps\":[],\"flex\":null,\"country\":\"Italien\",\"reaktoren\":2,\"id\":160,\"inbau\":0,\"point\":{\"y\":42.3588,\"x\":11.5314},\"inplanung\":0,\"hasUVPs\":false,\"name\":\"Alto Lazio\",\"stillgelegt\":2,\"wikiUrl\":\"http:\\/\\/de.wikipedia.org\\/wiki\\/Kernkraftwerk_Garigliano\",\"aktiv\":0},{\"uvps\":[],\"flex\":null,\"country\":\"Italien\",\"reaktoren\":1,\"id\":156,\"inbau\":0,\"point\":{\"y\":45.07222,\"x\":9.87222},\"inplanung\":0,\"hasUVPs\":false,\"name\":\"Caorso\",\"stillgelegt\":1,\"wikiUrl\":\"http:\\/\\/de.wikipedia.org\\/wiki\\/Kernkraftwerk_Caorso\",\"aktiv\":0},{\"uvps\":[],\"flex\":null,\"country\":\"Italien\",\"reaktoren\":1,\"id\":157,\"inbau\":0,\"point\":{\"y\":41.25833,\"x\":13.83472},\"inplanung\":0,\"hasUVPs\":false,\"name\":\"Garigliano\",\"stillgelegt\":1,\"wikiUrl\":\"http:\\/\\/de.wikipedia.org\\/wiki\\/Kernkraftwerk_Garigliano\",\"aktiv\":0},{\"uvps\":[],\"flex\":null,\"country\":\"Italien\",\"reaktoren\":1,\"id\":158,\"inbau\":0,\"point\":{\"y\":41.42722,\"x\":12.80806},\"inplanung\":0,\"hasUVPs\":false,\"name\":\"Latina\",\"stillgelegt\":1,\"wikiUrl\":\"http:\\/\\/de.wikipedia.org\\/wiki\\/Kernkraftwerk_Latina\",\"aktiv\":0},{\"uvps\":[],\"flex\":null,\"country\":\"Italien\",\"reaktoren\":1,\"id\":159,\"inbau\":0,\"point\":{\"y\":45.18409,\"x\":8.27756},\"inplanung\":0,\"hasUVPs\":false,\"name\":\"Trino Vercellese\",\"stillgelegt\":1,\"wikiUrl\":\"http:\\/\\/de.wikipedia.org\\/wiki\\/Kernkraftwerk_Enrico_Fermi_(Trino)\",\"aktiv\":0},{\"uvps\":[{\"fk\":\"161\",\"status\":\"abgeschlossen\",\"titel\":\"UVP KKW Litauen\",\"url\":\"http:\\/\\/www.umweltbundesamt.at\\/umweltschutz\\/uvpsupemas\\/espooverfahren\\/uvpkkwlitauen\\/\"}],\"flex\":null,\"country\":\"Litauen\",\"reaktoren\":3,\"id\":161,\"inbau\":0,\"point\":{\"y\":55.60472,\"x\":26.56},\"inplanung\":1,\"hasUVPs\":true,\"name\":\"Ignalina\",\"stillgelegt\":2,\"wikiUrl\":\"http:\\/\\/de.wikipedia.org\\/wiki\\/Kernkraftwerk_Ignalina\",\"aktiv\":0},{\"uvps\":[],\"flex\":\"http:\\/\\/flexrisk.boku.ac.at\\/en\\/sites\\/bors\\/index.html\",\"country\":\"Niederlande\",\"reaktoren\":1,\"id\":162,\"inbau\":0,\"point\":{\"y\":51.43083,\"x\":3.71833},\"inplanung\":0,\"hasUVPs\":false,\"name\":\"Borssele\",\"stillgelegt\":0,\"wikiUrl\":\"http:\\/\\/de.wikipedia.org\\/wiki\\/Kernkraftwerk_Borssele\",\"aktiv\":1},{\"uvps\":[],\"flex\":null,\"country\":\"Niederlande\",\"reaktoren\":1,\"id\":163,\"inbau\":0,\"point\":{\"y\":51.89957,\"x\":5.68633},\"inplanung\":0,\"hasUVPs\":false,\"name\":\"Dodewaard\",\"stillgelegt\":1,\"wikiUrl\":\"http:\\/\\/de.wikipedia.org\\/wiki\\/Kernkraftwerk_Dodewaard\",\"aktiv\":0},{\"uvps\":[],\"flex\":null,\"country\":\"Österreich\",\"reaktoren\":1,\"id\":226,\"inbau\":0,\"point\":{\"y\":48.34951,\"x\":15.89971},\"inplanung\":0,\"hasUVPs\":false,\"name\":\"Zwentendorf\",\"stillgelegt\":1,\"wikiUrl\":\"http:\\/\\/de.wikipedia.org\\/wiki\\/Kernkraftwerk_Zwentendorf\",\"aktiv\":0},{\"uvps\":[],\"flex\":null,\"country\":\"Polen\",\"reaktoren\":4,\"id\":231,\"inbau\":0,\"point\":{\"y\":54.73333,\"x\":18.1},\"inplanung\":0,\"hasUVPs\":false,\"name\":\"Zarnowiec\",\"stillgelegt\":4,\"wikiUrl\":\"http:\\/\\/de.wikipedia.org\\/wiki\\/Kernkraftwerk_%C5%BBarnowiec\",\"aktiv\":0},{\"uvps\":[{\"fk\":\"164\",\"status\":\"abgeschlossen\",\"titel\":\"UVP KKW Cernavoda 3 & 4\",\"url\":\"http:\\/\\/www.umweltbundesamt.at\\/umweltschutz\\/uvpsupemas\\/espooverfahren\\/rumaenien\\/uvpcernavoda\\/\"}],\"flex\":\"http:\\/\\/flexrisk.boku.ac.at\\/en\\/sites\\/cern\\/index.html\",\"country\":\"Rumänien\",\"reaktoren\":5,\"id\":164,\"inbau\":2,\"point\":{\"y\":44.32235,\"x\":28.05728},\"inplanung\":0,\"hasUVPs\":true,\"name\":\"Cernavoda\",\"stillgelegt\":1,\"wikiUrl\":\"http:\\/\\/de.wikipedia.org\\/wiki\\/Kernkraftwerk_Cernavod%C4%83\",\"aktiv\":2},{\"uvps\":[],\"flex\":\"http:\\/\\/flexrisk.boku.ac.at\\/en\\/sites\\/bala\\/index.html\",\"country\":\"Russland\",\"reaktoren\":6,\"id\":171,\"inbau\":2,\"point\":{\"y\":52.09444,\"x\":47.95833},\"inplanung\":0,\"hasUVPs\":false,\"name\":\"Balakovo\",\"stillgelegt\":0,\"wikiUrl\":\"http:\\/\\/de.wikipedia.org\\/wiki\\/Kernkraftwerk_Balakowo\",\"aktiv\":4},{\"uvps\":[],\"flex\":null,\"country\":\"Russland\",\"reaktoren\":2,\"id\":188,\"inbau\":2,\"point\":{\"y\":55.8836,\"x\":53.9943},\"inplanung\":0,\"hasUVPs\":false,\"name\":\"Bashkir\",\"stillgelegt\":0,\"wikiUrl\":\"http:\\/\\/de.wikipedia.org\\/wiki\\/Kernkraftwerk_Baschkirien\",\"aktiv\":0},{\"uvps\":[],\"flex\":null,\"country\":\"Russland\",\"reaktoren\":4,\"id\":165,\"inbau\":0,\"point\":{\"y\":56.85,\"x\":61.31667},\"inplanung\":1,\"hasUVPs\":false,\"name\":\"Beloyarsk\",\"stillgelegt\":2,\"wikiUrl\":\"http:\\/\\/de.wikipedia.org\\/wiki\\/Kernkraftwerk_Belojarsk\",\"aktiv\":1},{\"uvps\":[],\"flex\":null,\"country\":\"Russland\",\"reaktoren\":6,\"id\":184,\"inbau\":0,\"point\":{\"y\":54.06746,\"x\":61.57335},\"inplanung\":0,\"hasUVPs\":false,\"name\":\"Chelyabinsk\",\"stillgelegt\":6,\"wikiUrl\":\"http:\\/\\/de.wikipedia.org\\/wiki\\/Kerntechnische_Anlage_Majak\",\"aktiv\":0},{\"uvps\":[],\"flex\":null,\"country\":\"Russland\",\"reaktoren\":2,\"id\":187,\"inbau\":2,\"point\":{\"y\":56.2177,\"x\":44.06258},\"inplanung\":0,\"hasUVPs\":false,\"name\":\"Gorky\",\"stillgelegt\":0,\"wikiUrl\":\"http:\\/\\/de.wikipedia.org\\/wiki\\/Kernheizwerk_Gorki\",\"aktiv\":0},{\"uvps\":[],\"flex\":null,\"country\":\"Russland\",\"reaktoren\":3,\"id\":185,\"inbau\":0,\"point\":{\"y\":56.3545,\"x\":93.64386},\"inplanung\":0,\"hasUVPs\":false,\"name\":\"Gornochimicheski Combinat\",\"stillgelegt\":3,\"wikiUrl\":\"http:\\/\\/de.wikipedia.org\\/wiki\\/Liste_der_kerntechnischen_Anlagen_in_Russland\",\"aktiv\":0},{\"uvps\":[],\"flex\":\"http:\\/\\/flexrisk.boku.ac.at\\/en\\/sites\\/kali\\/index.html\",\"country\":\"Russland\",\"reaktoren\":4,\"id\":172,\"inbau\":0,\"point\":{\"y\":57.90683,\"x\":35.06417},\"inplanung\":0,\"hasUVPs\":false,\"name\":\"Kalinin\",\"stillgelegt\":0,\"wikiUrl\":\"http:\\/\\/de.wikipedia.org\\/wiki\\/Kernkraftwerk_Kalinin\",\"aktiv\":4},{\"uvps\":[],\"flex\":\"http:\\/\\/flexrisk.boku.ac.at\\/en\\/sites\\/kagr\\/index.html\",\"country\":\"Russland\",\"reaktoren\":2,\"id\":243,\"inbau\":1,\"point\":{\"y\":54.93932,\"x\":22.16236},\"inplanung\":1,\"hasUVPs\":false,\"name\":\"Kaliningrad\",\"stillgelegt\":0,\"wikiUrl\":\"http:\\/\\/de.wikipedia.org\\/wiki\\/Kernkraftwerk_Kaliningrad\",\"aktiv\":0},{\"uvps\":[],\"flex\":\"http:\\/\\/flexrisk.boku.ac.at\\/en\\/sites\\/kola\\/index.html\",\"country\":\"Russland\",\"reaktoren\":4,\"id\":173,\"inbau\":0,\"point\":{\"y\":67.46667,\"x\":32.46667},\"inplanung\":0,\"hasUVPs\":false,\"name\":\"Kola\",\"stillgelegt\":0,\"wikiUrl\":\"http:\\/\\/de.wikipedia.org\\/wiki\\/Kernkraftwerk_Kola\",\"aktiv\":4},{\"uvps\":[],\"flex\":null,\"country\":\"Russland\",\"reaktoren\":4,\"id\":182,\"inbau\":2,\"point\":{\"y\":58.3747,\"x\":41.5922},\"inplanung\":2,\"hasUVPs\":false,\"name\":\"Kostroma\",\"stillgelegt\":0,\"wikiUrl\":\"http:\\/\\/de.wikipedia.org\\/wiki\\/Kernkraftwerk_Kostroma\",\"aktiv\":0},{\"uvps\":[],\"flex\":\"http:\\/\\/flexrisk.boku.ac.at\\/en\\/sites\\/kurs\\/index.html\",\"country\":\"Russland\",\"reaktoren\":6,\"id\":168,\"inbau\":2,\"point\":{\"y\":51.675,\"x\":35.60556},\"inplanung\":0,\"hasUVPs\":false,\"name\":\"Kursk\",\"stillgelegt\":1,\"wikiUrl\":\"http:\\/\\/de.wikipedia.org\\/wiki\\/Kernkraftwerk_Kursk\",\"aktiv\":3},{\"uvps\":[],\"flex\":\"http:\\/\\/flexrisk.boku.ac.at\\/en\\/sites\\/leni\\/index.html\",\"country\":\"Russland\",\"reaktoren\":6,\"id\":169,\"inbau\":2,\"point\":{\"y\":59.8521,\"x\":29.0512},\"inplanung\":0,\"hasUVPs\":false,\"name\":\"Leningrad\",\"stillgelegt\":0,\"wikiUrl\":\"http:\\/\\/de.wikipedia.org\\/wiki\\/Kernkraftwerk_Leningrad\",\"aktiv\":4},{\"uvps\":[],\"flex\":\"http:\\/\\/flexrisk.boku.ac.at\\/en\\/sites\\/novo\\/index.html\",\"country\":\"Russland\",\"reaktoren\":7,\"id\":174,\"inbau\":2,\"point\":{\"y\":51.275,\"x\":39.2},\"inplanung\":0,\"hasUVPs\":false,\"name\":\"Novovoronezh\",\"stillgelegt\":2,\"wikiUrl\":\"http:\\/\\/de.wikipedia.org\\/wiki\\/Kernkraftwerk_Nowoworonesch\",\"aktiv\":3},{\"uvps\":[],\"flex\":null,\"country\":\"Russland\",\"reaktoren\":1,\"id\":183,\"inbau\":0,\"point\":{\"y\":55.08532,\"x\":36.57404},\"inplanung\":0,\"hasUVPs\":false,\"name\":\"Obninsk APS\",\"stillgelegt\":1,\"wikiUrl\":\"http:\\/\\/de.wikipedia.org\\/wiki\\/Kernkraftwerk_Obninsk\",\"aktiv\":0},{\"uvps\":[],\"flex\":\"http:\\/\\/flexrisk.boku.ac.at\\/en\\/sites\\/volg\\/index.html\",\"country\":\"Russland\",\"reaktoren\":4,\"id\":175,\"inbau\":2,\"point\":{\"y\":47.59944,\"x\":42.37033},\"inplanung\":0,\"hasUVPs\":false,\"name\":\"Rostov (Volgodonsk)\",\"stillgelegt\":0,\"wikiUrl\":\"http:\\/\\/de.wikipedia.org\\/wiki\\/Kernkraftwerk_Wolgodonsk\",\"aktiv\":2},{\"uvps\":[],\"flex\":null,\"country\":\"Russland\",\"reaktoren\":5,\"id\":186,\"inbau\":0,\"point\":{\"y\":56.59944,\"x\":84.89583},\"inplanung\":0,\"hasUVPs\":false,\"name\":\"Sibchim Combinat NPP\",\"stillgelegt\":5,\"wikiUrl\":\"http:\\/\\/en.wikipedia.org\\/wiki\\/Seversk\",\"aktiv\":0},{\"uvps\":[],\"flex\":\"http:\\/\\/flexrisk.boku.ac.at\\/en\\/sites\\/smol\\/index.html\",\"country\":\"Russland\",\"reaktoren\":3,\"id\":170,\"inbau\":0,\"point\":{\"y\":54.16667,\"x\":33.23333},\"inplanung\":0,\"hasUVPs\":false,\"name\":\"Smolensk\",\"stillgelegt\":0,\"wikiUrl\":\"http:\\/\\/de.wikipedia.org\\/wiki\\/Kernkraftwerk_Smolensk\",\"aktiv\":3},{\"uvps\":[],\"flex\":null,\"country\":\"Russland\",\"reaktoren\":3,\"id\":177,\"inbau\":0,\"point\":{\"y\":55.7461,\"x\":60.8938},\"inplanung\":3,\"hasUVPs\":false,\"name\":\"South Urals\",\"stillgelegt\":0,\"wikiUrl\":\"http:\\/\\/de.wikipedia.org\\/wiki\\/Kernkraftwerk_S%C3%BCd-Ural\",\"aktiv\":0},{\"uvps\":[],\"flex\":null,\"country\":\"Russland\",\"reaktoren\":2,\"id\":181,\"inbau\":0,\"point\":{\"y\":56.59944,\"x\":84.89583},\"inplanung\":2,\"hasUVPs\":false,\"name\":\"Tomsk\",\"stillgelegt\":0,\"wikiUrl\":\"http:\\/\\/de.wikipedia.org\\/wiki\\/Liste_der_kerntechnischen_Anlagen_in_Russland\",\"aktiv\":0},{\"uvps\":[],\"flex\":null,\"country\":\"Russland\",\"reaktoren\":2,\"id\":178,\"inbau\":0,\"point\":{\"y\":51.5617,\"x\":39.1487},\"inplanung\":0,\"hasUVPs\":false,\"name\":\"Voronezh\",\"stillgelegt\":0,\"wikiUrl\":\"http:\\/\\/de.wikipedia.org\\/wiki\\/Kernheizwerk_Woronesch\",\"aktiv\":2},{\"uvps\":[],\"flex\":null,\"country\":\"Schweden\",\"reaktoren\":1,\"id\":241,\"inbau\":0,\"point\":{\"y\":59.20611,\"x\":18.0825},\"inplanung\":0,\"hasUVPs\":false,\"name\":\"Agesta\",\"stillgelegt\":1,\"wikiUrl\":\"http:\\/\\/de.wikipedia.org\\/wiki\\/Kernkraftwerk_%C3%85gesta\",\"aktiv\":0},{\"uvps\":[],\"flex\":null,\"country\":\"Schweden\",\"reaktoren\":2,\"id\":203,\"inbau\":0,\"point\":{\"y\":55.74444,\"x\":12.92083},\"inplanung\":0,\"hasUVPs\":false,\"name\":\"Barsebäck\",\"stillgelegt\":2,\"wikiUrl\":\"http:\\/\\/de.wikipedia.org\\/wiki\\/Kernkraftwerk_Barseb%C3%A4ck\",\"aktiv\":0},{\"uvps\":[],\"flex\":\"http:\\/\\/flexrisk.boku.ac.at\\/en\\/sites\\/fors\\/index.html\",\"country\":\"Schweden\",\"reaktoren\":3,\"id\":200,\"inbau\":0,\"point\":{\"y\":60.40333,\"x\":18.16667},\"inplanung\":0,\"hasUVPs\":false,\"name\":\"Forsmark\",\"stillgelegt\":0,\"wikiUrl\":\"http:\\/\\/de.wikipedia.org\\/wiki\\/Kernkraftwerk_Forsmark\",\"aktiv\":3},{\"uvps\":[],\"flex\":\"http:\\/\\/flexrisk.boku.ac.at\\/en\\/sites\\/oska\\/index.html\",\"country\":\"Schweden\",\"reaktoren\":3,\"id\":201,\"inbau\":0,\"point\":{\"y\":57.41556,\"x\":16.67111},\"inplanung\":0,\"hasUVPs\":false,\"name\":\"Oskarshamn\",\"stillgelegt\":0,\"wikiUrl\":\"http:\\/\\/de.wikipedia.org\\/wiki\\/Kernkraftwerk_Oskarshamn\",\"aktiv\":3},{\"uvps\":[],\"flex\":\"http:\\/\\/flexrisk.boku.ac.at\\/en\\/sites\\/ring\\/index.html\",\"country\":\"Schweden\",\"reaktoren\":4,\"id\":202,\"inbau\":0,\"point\":{\"y\":57.26111,\"x\":12.10833},\"inplanung\":0,\"hasUVPs\":false,\"name\":\"Ringhals\",\"stillgelegt\":0,\"wikiUrl\":\"http:\\/\\/de.wikipedia.org\\/wiki\\/Kernkraftwerk_Ringhals\",\"aktiv\":4},{\"uvps\":[{\"fk\":\"96\",\"status\":\"abgeschlossen\",\"titel\":\"KKW Beznau II Betriebsbewilligung\",\"url\":\"http:\\/\\/www.umweltbundesamt.at\\/umweltschutz\\/kernenergie\\/akw\\/beznau\\/\"}],\"flex\":\"http:\\/\\/flexrisk.boku.ac.at\\/en\\/sites\\/bezn\\/index.html\",\"country\":\"Schweiz\",\"reaktoren\":2,\"id\":96,\"inbau\":0,\"point\":{\"y\":47.55191,\"x\":8.2279},\"inplanung\":0,\"hasUVPs\":true,\"name\":\"Beznau\",\"stillgelegt\":0,\"wikiUrl\":\"http:\\/\\/de.wikipedia.org\\/wiki\\/Kernkraftwerk_Beznau\",\"aktiv\":2},{\"uvps\":[],\"flex\":\"http:\\/\\/flexrisk.boku.ac.at\\/en\\/sites\\/goes\\/index.html\",\"country\":\"Schweiz\",\"reaktoren\":1,\"id\":97,\"inbau\":0,\"point\":{\"y\":47.36534,\"x\":7.96766},\"inplanung\":0,\"hasUVPs\":false,\"name\":\"Gösgen\",\"stillgelegt\":0,\"wikiUrl\":\"http:\\/\\/de.wikipedia.org\\/wiki\\/Kernkraftwerk_G%C3%B6sgen\",\"aktiv\":1},{\"uvps\":[],\"flex\":\"http:\\/\\/flexrisk.boku.ac.at\\/en\\/sites\\/leib\\/index.html\",\"country\":\"Schweiz\",\"reaktoren\":1,\"id\":98,\"inbau\":0,\"point\":{\"y\":47.60148,\"x\":8.18344},\"inplanung\":0,\"hasUVPs\":false,\"name\":\"Leibstadt\",\"stillgelegt\":0,\"wikiUrl\":\"http:\\/\\/de.wikipedia.org\\/wiki\\/Kernkraftwerk_Leibstadt\",\"aktiv\":1},{\"uvps\":[],\"flex\":null,\"country\":\"Schweiz\",\"reaktoren\":1,\"id\":122,\"inbau\":0,\"point\":{\"y\":46.69167,\"x\":6.82778},\"inplanung\":0,\"hasUVPs\":false,\"name\":\"Lucens\",\"stillgelegt\":1,\"wikiUrl\":\"http:\\/\\/de.wikipedia.org\\/wiki\\/Reaktor_Lucens\",\"aktiv\":0},{\"uvps\":[{\"fk\":\"99\",\"status\":\"abgeschlossen\",\"titel\":\"KKW Mühleberg Aufhebung der Befristung der Betriebsbewilligung\",\"url\":\"http:\\/\\/www.umweltbundesamt.at\\/umweltschutz\\/kernenergie\\/akw\\/kkwmuehleberg\\/\"},{\"fk\":\"99\",\"status\":\"laufend\",\"titel\":\"Ergänzung der Fachstellungnahme betreffend das KKW Mühleberg 2013\",\"url\":\"http:\\/\\/www.umweltbundesamt.at\\/umweltsituation\\/kernenergie\\/akw\\/kkwmuehleberg\\/\"}],\"flex\":\"http:\\/\\/flexrisk.boku.ac.at\\/en\\/sites\\/mueh\\/index.html\",\"country\":\"Schweiz\",\"reaktoren\":1,\"id\":99,\"inbau\":0,\"point\":{\"y\":46.96904,\"x\":7.26831},\"inplanung\":0,\"hasUVPs\":true,\"name\":\"Mühleberg\",\"stillgelegt\":0,\"wikiUrl\":\"http:\\/\\/de.wikipedia.org\\/wiki\\/Kernkraftwerk_M%C3%BChleberg\",\"aktiv\":1},{\"uvps\":[{\"fk\":\"81\",\"status\":\"abgeschlossen\",\"titel\":\"UVP Integrallager Bohunice\",\"url\":\"http:\\/\\/www.umweltbundesamt.at\\/umweltsituation\\/uvpsup\\/espooverfahren\\/espoo_slowakei\\/uvpinterimlager_ebo\\/\"}],\"flex\":\"http:\\/\\/flexrisk.boku.ac.at\\/en\\/sites\\/bohu\\/index.html\",\"country\":\"Slowakei\",\"reaktoren\":5,\"id\":81,\"inbau\":0,\"point\":{\"y\":48.4984,\"x\":17.6835},\"inplanung\":0,\"hasUVPs\":true,\"name\":\"Bohunice\",\"stillgelegt\":3,\"wikiUrl\":\"http:\\/\\/de.wikipedia.org\\/wiki\\/Kernkraftwerk_Bohunice\",\"aktiv\":2},{\"uvps\":[{\"fk\":\"82\",\"status\":\"abgeschlossen\",\"titel\":\"UVP KKW Mochovce 1 und 2 Leistungserhöhung\",\"url\":\"http:\\/\\/www.umweltbundesamt.at\\/umweltschutz\\/uvpsupemas\\/espooverfahren\\/espoo_slowakei\\/kkwmochovce12\\/\"},{\"fk\":\"82\",\"status\":\"abgeschlossen\",\"titel\":\"UVP KKW Mochovce 3\\/4\",\"url\":\"http:\\/\\/www.umweltbundesamt.at\\/umweltschutz\\/uvpsupemas\\/espooverfahren\\/espoo_slowakei\\/uvpmochovce34\\/\"},{\"fk\":\"82\",\"status\":\"abgeschlossen\",\"titel\":\"UVP Endlager Standort Mochovce\",\"url\":\"http:\\/\\/www.umweltbundesamt.at\\/umweltsituation\\/uvpsup\\/espooverfahren\\/espoo_slowakei\\/uvpendlager_emo\\/\"}],\"flex\":\"http:\\/\\/flexrisk.boku.ac.at\\/en\\/sites\\/moch\\/index.html\",\"country\":\"Slowakei\",\"reaktoren\":4,\"id\":82,\"inbau\":2,\"point\":{\"y\":48.25988,\"x\":18.45703},\"inplanung\":0,\"hasUVPs\":true,\"name\":\"Mochovce\",\"stillgelegt\":0,\"wikiUrl\":\"http:\\/\\/de.wikipedia.org\\/wiki\\/Kernkraftwerk_Mochovce\",\"aktiv\":2},{\"uvps\":[],\"flex\":\"http:\\/\\/flexrisk.boku.ac.at\\/en\\/sites\\/krsk\\/index.html\",\"country\":\"Slowenien\",\"reaktoren\":1,\"id\":83,\"inbau\":0,\"point\":{\"y\":45.9379,\"x\":15.51613},\"inplanung\":0,\"hasUVPs\":false,\"name\":\"Krsko\",\"stillgelegt\":0,\"wikiUrl\":\"http:\\/\\/de.wikipedia.org\\/wiki\\/Kernkraftwerk_Kr%C5%A1ko\",\"aktiv\":1},{\"uvps\":[],\"flex\":\"http:\\/\\/flexrisk.boku.ac.at\\/en\\/sites\\/alma\\/index.html\",\"country\":\"Spanien\",\"reaktoren\":2,\"id\":193,\"inbau\":0,\"point\":{\"y\":39.80806,\"x\":-5.69694},\"inplanung\":0,\"hasUVPs\":false,\"name\":\"Almaraz\",\"stillgelegt\":0,\"wikiUrl\":\"http:\\/\\/de.wikipedia.org\\/wiki\\/Kernkraftwerk_Almaraz\",\"aktiv\":2},{\"uvps\":[],\"flex\":\"http:\\/\\/flexrisk.boku.ac.at\\/en\\/sites\\/asco\\/index.html\",\"country\":\"Spanien\",\"reaktoren\":2,\"id\":194,\"inbau\":0,\"point\":{\"y\":41.2,\"x\":0.56944},\"inplanung\":0,\"hasUVPs\":false,\"name\":\"Ascó\",\"stillgelegt\":0,\"wikiUrl\":\"http:\\/\\/de.wikipedia.org\\/wiki\\/Kernkraftwerk_Asc%C3%B3\",\"aktiv\":2},{\"uvps\":[],\"flex\":\"http:\\/\\/flexrisk.boku.ac.at\\/en\\/sites\\/cofr\\/index.html\",\"country\":\"Spanien\",\"reaktoren\":1,\"id\":191,\"inbau\":0,\"point\":{\"y\":39.21667,\"x\":-1.05},\"inplanung\":0,\"hasUVPs\":false,\"name\":\"Cofrentes\",\"stillgelegt\":0,\"wikiUrl\":\"http:\\/\\/de.wikipedia.org\\/wiki\\/Kernkraftwerk_Cofrentes\",\"aktiv\":1},{\"uvps\":[],\"flex\":null,\"country\":\"Spanien\",\"reaktoren\":1,\"id\":195,\"inbau\":0,\"point\":{\"y\":40.36389,\"x\":-2.82917},\"inplanung\":0,\"hasUVPs\":false,\"name\":\"Jose Cabrera, Zorita\",\"stillgelegt\":1,\"wikiUrl\":\"http:\\/\\/de.wikipedia.org\\/wiki\\/Kernkraftwerk_Jos%C3%A9_Cabrera\",\"aktiv\":0},{\"uvps\":[],\"flex\":null,\"country\":\"Spanien\",\"reaktoren\":2,\"id\":199,\"inbau\":0,\"point\":{\"y\":43.4332,\"x\":-2.8725},\"inplanung\":0,\"hasUVPs\":false,\"name\":\"Lemoniz \",\"stillgelegt\":2,\"wikiUrl\":\"http:\\/\\/de.wikipedia.org\\/wiki\\/Kernkraftwerk_Lem%C3%B3niz\",\"aktiv\":0},{\"uvps\":[],\"flex\":\"http:\\/\\/flexrisk.boku.ac.at\\/en\\/sites\\/smar\\/index.html\",\"country\":\"Spanien\",\"reaktoren\":1,\"id\":192,\"inbau\":0,\"point\":{\"y\":42.775,\"x\":-3.20833},\"inplanung\":0,\"hasUVPs\":false,\"name\":\"Santa Maria de Garoña\",\"stillgelegt\":0,\"wikiUrl\":\"http:\\/\\/de.wikipedia.org\\/wiki\\/Kernkraftwerk_Santa_Mar%C3%ADa_de_Garo%C3%B1a\",\"aktiv\":1},{\"uvps\":[],\"flex\":\"http:\\/\\/flexrisk.boku.ac.at\\/en\\/sites\\/tril\\/index.html\",\"country\":\"Spanien\",\"reaktoren\":1,\"id\":196,\"inbau\":0,\"point\":{\"y\":40.70139,\"x\":-2.62222},\"inplanung\":0,\"hasUVPs\":false,\"name\":\"Trillo\",\"stillgelegt\":0,\"wikiUrl\":\"http:\\/\\/de.wikipedia.org\\/wiki\\/Kernkraftwerk_Trillo\",\"aktiv\":1},{\"uvps\":[],\"flex\":null,\"country\":\"Spanien\",\"reaktoren\":2,\"id\":198,\"inbau\":0,\"point\":{\"y\":39.2907,\"x\":-5.18055},\"inplanung\":0,\"hasUVPs\":false,\"name\":\"Valdecaballeros\",\"stillgelegt\":2,\"wikiUrl\":\"http:\\/\\/de.wikipedia.org\\/wiki\\/Kernkraftwerk_Valdecaballeros\",\"aktiv\":0},{\"uvps\":[],\"flex\":\"http:\\/\\/flexrisk.boku.ac.at\\/en\\/sites\\/vand\\/index.html\",\"country\":\"Spanien\",\"reaktoren\":2,\"id\":197,\"inbau\":0,\"point\":{\"y\":40.95139,\"x\":0.86667},\"inplanung\":0,\"hasUVPs\":false,\"name\":\"Vandellós\",\"stillgelegt\":1,\"wikiUrl\":\"http:\\/\\/de.wikipedia.org\\/wiki\\/Kernkraftwerk_Vandell%C3%B2s\",\"aktiv\":1},{\"uvps\":[],\"flex\":\"http:\\/\\/flexrisk.boku.ac.at\\/en\\/sites\\/duko\\/index.html\",\"country\":\"Tschechien\",\"reaktoren\":4,\"id\":5,\"inbau\":0,\"point\":{\"y\":49.08399,\"x\":16.15179},\"inplanung\":0,\"hasUVPs\":false,\"name\":\"Dukovany\",\"stillgelegt\":0,\"wikiUrl\":\"http:\\/\\/de.wikipedia.org\\/wiki\\/Kernkraftwerk_Dukovany\",\"aktiv\":4},{\"uvps\":[{\"fk\":\"6\",\"status\":\"abgeschlossen\",\"titel\":\"UVP KKW Temelin Blöcke 3 und 4\",\"url\":\"http:\\/\\/www.umweltbundesamt.at\\/umweltschutz\\/uvpsupemas\\/espooverfahren\\/espoo_cz\\/uvptemelin34\\/\"},{\"fk\":\"6\",\"status\":\"abgeschlossen\",\"titel\":\"UVP Brennelemente-Zwischenlager Temelin\",\"url\":\"http:\\/\\/www.umweltbundesamt.at\\/umweltschutz\\/uvpsupemas\\/espooverfahren\\/espoo_cz\\/zwilagtemelin1\\/\"},{\"fk\":\"6\",\"status\":\"abgeschlossen\",\"titel\":\"KKW Temelin 1 & 2\",\"url\":\"http:\\/\\/www.umweltbundesamt.at\\/umweltschutz\\/kernenergie\\/akw\\/temelin\\/\"}],\"flex\":\"http:\\/\\/flexrisk.boku.ac.at\\/en\\/sites\\/teme\\/index.html\",\"country\":\"Tschechien\",\"reaktoren\":4,\"id\":6,\"inbau\":2,\"point\":{\"y\":49.1789,\"x\":14.37784},\"inplanung\":0,\"hasUVPs\":true,\"name\":\"Temelin\",\"stillgelegt\":0,\"wikiUrl\":\"http:\\/\\/de.wikipedia.org\\/wiki\\/Kernkraftwerk_Temel%C3%ADn\",\"aktiv\":2},{\"uvps\":[],\"flex\":null,\"country\":\"UK\",\"reaktoren\":2,\"id\":216,\"inbau\":0,\"point\":{\"y\":51.6925,\"x\":-2.49361},\"inplanung\":0,\"hasUVPs\":false,\"name\":\"Berkeley\",\"stillgelegt\":2,\"wikiUrl\":\"http:\\/\\/de.wikipedia.org\\/wiki\\/Kernkraftwerk_Berkeley\",\"aktiv\":0},{\"uvps\":[],\"flex\":null,\"country\":\"UK\",\"reaktoren\":2,\"id\":217,\"inbau\":0,\"point\":{\"y\":51.74194,\"x\":0.8975},\"inplanung\":0,\"hasUVPs\":false,\"name\":\"Bradwell\",\"stillgelegt\":2,\"wikiUrl\":\"http:\\/\\/de.wikipedia.org\\/wiki\\/Kernkraftwerk_Bradwell\",\"aktiv\":0},{\"uvps\":[],\"flex\":null,\"country\":\"UK\",\"reaktoren\":4,\"id\":218,\"inbau\":0,\"point\":{\"y\":54.41982,\"x\":-3.49203},\"inplanung\":0,\"hasUVPs\":false,\"name\":\"Calder Hall\",\"stillgelegt\":4,\"wikiUrl\":\"http:\\/\\/de.wikipedia.org\\/wiki\\/Kernkraftwerk_Calder_Hall\",\"aktiv\":0},{\"uvps\":[],\"flex\":null,\"country\":\"UK\",\"reaktoren\":4,\"id\":219,\"inbau\":0,\"point\":{\"y\":55.01667,\"x\":-3.225},\"inplanung\":0,\"hasUVPs\":false,\"name\":\"Chapelcross\",\"stillgelegt\":4,\"wikiUrl\":\"http:\\/\\/de.wikipedia.org\\/wiki\\/Kernkraftwerk_Chapelcross\",\"aktiv\":0},{\"uvps\":[],\"flex\":null,\"country\":\"UK\",\"reaktoren\":2,\"id\":214,\"inbau\":0,\"point\":{\"y\":58.57899,\"x\":-3.75002},\"inplanung\":0,\"hasUVPs\":false,\"name\":\"Dounreay\",\"stillgelegt\":2,\"wikiUrl\":\"http:\\/\\/de.wikipedia.org\\/wiki\\/Kernkraftwerk_Dounreay\",\"aktiv\":0},{\"uvps\":[],\"flex\":\"http:\\/\\/flexrisk.boku.ac.at\\/en\\/sites\\/dung\\/index.html\",\"country\":\"UK\",\"reaktoren\":4,\"id\":204,\"inbau\":0,\"point\":{\"y\":50.91389,\"x\":0.96389},\"inplanung\":0,\"hasUVPs\":false,\"name\":\"Dungeness\",\"stillgelegt\":2,\"wikiUrl\":\"http:\\/\\/de.wikipedia.org\\/wiki\\/Kernkraftwerk_Dungeness\",\"aktiv\":2},{\"uvps\":[],\"flex\":\"http:\\/\\/flexrisk.boku.ac.at\\/en\\/sites\\/hart\\/index.html\",\"country\":\"UK\",\"reaktoren\":2,\"id\":205,\"inbau\":0,\"point\":{\"y\":54.63472,\"x\":-1.18056},\"inplanung\":0,\"hasUVPs\":false,\"name\":\"Hartlepool\",\"stillgelegt\":0,\"wikiUrl\":\"http:\\/\\/de.wikipedia.org\\/wiki\\/Kernkraftwerk_Hartlepool\",\"aktiv\":2},{\"uvps\":[],\"flex\":\"http:\\/\\/flexrisk.boku.ac.at\\/en\\/sites\\/heys\\/index.html\",\"country\":\"UK\",\"reaktoren\":4,\"id\":206,\"inbau\":0,\"point\":{\"y\":54.03333,\"x\":-2.9},\"inplanung\":0,\"hasUVPs\":false,\"name\":\"Heyshamm\",\"stillgelegt\":0,\"wikiUrl\":\"http:\\/\\/de.wikipedia.org\\/wiki\\/Kernkraftwerk_Heysham\",\"aktiv\":4},{\"uvps\":[{\"fk\":\"207\",\"status\":\"abgeschlossen\",\"titel\":\"UVP KKW Hinkley Point\",\"url\":\"http:\\/\\/www.umweltbundesamt.at\\/umweltsituation\\/uvpsup\\/espooverfahren\\/espoo_uk\\/uvpkkwhinkleypoint\\/\"}],\"flex\":\"http:\\/\\/flexrisk.boku.ac.at\\/en\\/sites\\/hink\\/index.html\",\"country\":\"UK\",\"reaktoren\":6,\"id\":207,\"inbau\":0,\"point\":{\"y\":51.20796,\"x\":-3.12999},\"inplanung\":2,\"hasUVPs\":true,\"name\":\"Hinkley Point\",\"stillgelegt\":2,\"wikiUrl\":\"http:\\/\\/de.wikipedia.org\\/wiki\\/Kernkraftwerk_Hinkley_Point\",\"aktiv\":2},{\"uvps\":[],\"flex\":\"http:\\/\\/flexrisk.boku.ac.at\\/en\\/sites\\/hunt\\/index.html\",\"country\":\"UK\",\"reaktoren\":4,\"id\":208,\"inbau\":0,\"point\":{\"y\":55.72222,\"x\":-4.89306},\"inplanung\":0,\"hasUVPs\":false,\"name\":\"Hunterston\",\"stillgelegt\":2,\"wikiUrl\":\"http:\\/\\/de.wikipedia.org\\/wiki\\/Kernkraftwerk_Hunterston\",\"aktiv\":2},{\"uvps\":[],\"flex\":null,\"country\":\"UK\",\"reaktoren\":2,\"id\":210,\"inbau\":0,\"point\":{\"y\":51.64861,\"x\":-2.57083},\"inplanung\":0,\"hasUVPs\":false,\"name\":\"Oldbury\",\"stillgelegt\":2,\"wikiUrl\":\"http:\\/\\/de.wikipedia.org\\/wiki\\/Kernkraftwerk_Oldbury\",\"aktiv\":0},{\"uvps\":[],\"flex\":\"http:\\/\\/flexrisk.boku.ac.at\\/en\\/sites\\/size\\/index.html\",\"country\":\"UK\",\"reaktoren\":3,\"id\":211,\"inbau\":0,\"point\":{\"y\":52.21667,\"x\":1.61944},\"inplanung\":0,\"hasUVPs\":false,\"name\":\"Sizewell\",\"stillgelegt\":2,\"wikiUrl\":\"http:\\/\\/de.wikipedia.org\\/wiki\\/Kernkraftwerk_Sizewell\",\"aktiv\":1},{\"uvps\":[],\"flex\":\"http:\\/\\/flexrisk.boku.ac.at\\/en\\/sites\\/torn\\/index.html\",\"country\":\"UK\",\"reaktoren\":2,\"id\":209,\"inbau\":0,\"point\":{\"y\":55.96667,\"x\":-2.4},\"inplanung\":0,\"hasUVPs\":false,\"name\":\"Torness\",\"stillgelegt\":0,\"wikiUrl\":\"http:\\/\\/de.wikipedia.org\\/wiki\\/Kernkraftwerk_Torness\",\"aktiv\":2},{\"uvps\":[],\"flex\":null,\"country\":\"UK\",\"reaktoren\":2,\"id\":220,\"inbau\":0,\"point\":{\"y\":52.925,\"x\":-3.95},\"inplanung\":0,\"hasUVPs\":false,\"name\":\"Trawsfynydd\",\"stillgelegt\":2,\"wikiUrl\":\"http:\\/\\/de.wikipedia.org\\/wiki\\/Kernkraftwerk_Trawsfynydd\",\"aktiv\":0},{\"uvps\":[],\"flex\":null,\"country\":\"UK\",\"reaktoren\":1,\"id\":213,\"inbau\":0,\"point\":{\"y\":54.41861,\"x\":-3.4975},\"inplanung\":0,\"hasUVPs\":false,\"name\":\"Windscale\",\"stillgelegt\":1,\"wikiUrl\":\"http:\\/\\/de.wikipedia.org\\/wiki\\/Sellafield\",\"aktiv\":0},{\"uvps\":[],\"flex\":null,\"country\":\"UK\",\"reaktoren\":2,\"id\":215,\"inbau\":0,\"point\":{\"y\":50.68406,\"x\":-2.26954},\"inplanung\":0,\"hasUVPs\":false,\"name\":\"Winfrith\",\"stillgelegt\":2,\"wikiUrl\":\"http:\\/\\/de.wikipedia.org\\/wiki\\/Kernkraftwerk_Winfrith\",\"aktiv\":0},{\"uvps\":[],\"flex\":\"http:\\/\\/flexrisk.boku.ac.at\\/en\\/sites\\/wylf\\/index.html\",\"country\":\"UK\",\"reaktoren\":2,\"id\":212,\"inbau\":0,\"point\":{\"y\":53.41667,\"x\":-4.48333},\"inplanung\":0,\"hasUVPs\":false,\"name\":\"Wylfa\",\"stillgelegt\":1,\"wikiUrl\":\"http:\\/\\/de.wikipedia.org\\/wiki\\/Kernkraftwerk_Wylfa\",\"aktiv\":1},{\"uvps\":[],\"flex\":null,\"country\":\"Ukraine\",\"reaktoren\":6,\"id\":225,\"inbau\":0,\"point\":{\"y\":51.38978,\"x\":30.09971},\"inplanung\":0,\"hasUVPs\":false,\"name\":\"Chernobyl\",\"stillgelegt\":6,\"wikiUrl\":\"http:\\/\\/de.wikipedia.org\\/wiki\\/Kernkraftwerk_Tschernobyl\",\"aktiv\":0},{\"uvps\":[{\"fk\":\"221\",\"status\":\"abgeschlossen\",\"titel\":\"AKW Khmelnitzky2 & AKW Rowno4\",\"url\":\"http:\\/\\/www.umweltbundesamt.at\\/umweltschutz\\/kernenergie\\/akw\\/k2r4\\/\"},{\"fk\":\"221\",\"status\":\"laufend\",\"titel\":\"UVP KKW Khmelnitsky 3&4\",\"url\":\"http:\\/\\/www.umweltbundesamt.at\\/umweltsituation\\/uvpsup\\/espooverfahren\\/espoo_ukraine\\/kkwkhmelnitsky34\"}],\"flex\":\"http:\\/\\/flexrisk.boku.ac.at\\/en\\/sites\\/khme\\/index.html\",\"country\":\"Ukraine\",\"reaktoren\":4,\"id\":221,\"inbau\":2,\"point\":{\"y\":50.305,\"x\":26.645},\"inplanung\":0,\"hasUVPs\":true,\"name\":\"Khmelnitski\",\"stillgelegt\":0,\"wikiUrl\":\"http:\\/\\/de.wikipedia.org\\/wiki\\/Kernkraftwerk_Chmelnyzkyj\",\"aktiv\":2},{\"uvps\":[{\"fk\":\"222\",\"status\":\"abgeschlossen\",\"titel\":\"AKW Khmelnitzky2 & AKW Rowno4\",\"url\":\"http:\\/\\/www.umweltbundesamt.at\\/umweltschutz\\/kernenergie\\/akw\\/k2r4\\/\"}],\"flex\":\"http:\\/\\/flexrisk.boku.ac.at\\/en\\/sites\\/rown\\/index.html\",\"country\":\"Ukraine\",\"reaktoren\":4,\"id\":222,\"inbau\":0,\"point\":{\"y\":51.32778,\"x\":25.89167},\"inplanung\":0,\"hasUVPs\":true,\"name\":\"Rovno\",\"stillgelegt\":0,\"wikiUrl\":\"http:\\/\\/de.wikipedia.org\\/wiki\\/Kernkraftwerk_Riwne\",\"aktiv\":4},{\"uvps\":[],\"flex\":\"http:\\/\\/flexrisk.boku.ac.at\\/en\\/sites\\/sout\\/index.html\",\"country\":\"Ukraine\",\"reaktoren\":4,\"id\":223,\"inbau\":1,\"point\":{\"y\":47.81667,\"x\":31.21667},\"inplanung\":0,\"hasUVPs\":false,\"name\":\"South Ukraine\",\"stillgelegt\":1,\"wikiUrl\":\"http:\\/\\/de.wikipedia.org\\/wiki\\/Kernkraftwerk_S%C3%BCd-Ukraine\",\"aktiv\":2},{\"uvps\":[],\"flex\":\"http:\\/\\/flexrisk.boku.ac.at\\/en\\/sites\\/zapo\\/index.html\",\"country\":\"Ukraine\",\"reaktoren\":6,\"id\":224,\"inbau\":0,\"point\":{\"y\":47.51222,\"x\":34.58583},\"inplanung\":0,\"hasUVPs\":false,\"name\":\"Zaporozhe\",\"stillgelegt\":0,\"wikiUrl\":\"http:\\/\\/de.wikipedia.org\\/wiki\\/Kernkraftwerk_Saporischschja\",\"aktiv\":6},{\"uvps\":[{\"fk\":\"59\",\"status\":\"abgeschlossen\",\"titel\":\"UVP KKW Paks Betriebsverlängerung\",\"url\":\"http:\\/\\/www.umweltbundesamt.at\\/umweltschutz\\/uvpsupemas\\/espooverfahren\\/espoo_ungarn\\/uvpkkwpaks\\/\"},{\"fk\":\"59\",\"status\":\"laufend\",\"titel\":\"UVP KKW Paks II\",\"url\":\"http:\\/\\/www.umweltbundesamt.at\\/umweltsituation\\/uvpsup\\/espooverfahren\\/espoo_ungarn\\/uvpkkwpaksii\\/\"}],\"flex\":\"http:\\/\\/flexrisk.boku.ac.at\\/en\\/sites\\/paks\\/index.html\",\"country\":\"Ungarn\",\"reaktoren\":6,\"id\":59,\"inbau\":0,\"point\":{\"y\":46.57391,\"x\":18.85314},\"inplanung\":2,\"hasUVPs\":true,\"name\":\"Paks\",\"stillgelegt\":0,\"wikiUrl\":\"http:\\/\\/de.wikipedia.org\\/wiki\\/Kernkraftwerk_Paks\",\"aktiv\":4},{\"uvps\":[{\"fk\":\"242\",\"status\":\"abgeschlossen\",\"titel\":\"UVP KKW Belarus\",\"url\":\"http:\\/\\/www.umweltbundesamt.at\\/umweltsituation\\/uvpsup\\/espooverfahren\\/espoo_belarus\\/uvpkkwbelarus\\/\"}],\"flex\":\"http:\\/\\/flexrisk.boku.ac.at\\/en\\/sites\\/ostr\\/index.html\",\"country\":\"Weißrussland\",\"reaktoren\":1,\"id\":242,\"inbau\":0,\"point\":{\"y\":54.76189,\"x\":26.11986},\"inplanung\":1,\"hasUVPs\":true,\"name\":\"Ostrovets\",\"stillgelegt\":0,\"wikiUrl\":\"http:\\/\\/en.wikipedia.org\\/wiki\\/Belarusian_nuclear_power_plant_project\",\"aktiv\":0}];"
   ]
  },
  {
   "cell_type": "code",
   "execution_count": 4,
   "metadata": {
    "collapsed": true,
    "deletable": true,
    "editable": true
   },
   "outputs": [],
   "source": [
    "df = pd.DataFrame(akws)"
   ]
  },
  {
   "cell_type": "code",
   "execution_count": 5,
   "metadata": {
    "collapsed": true,
    "deletable": true,
    "editable": true
   },
   "outputs": [],
   "source": [
    "df = df[df.aktiv > 0]"
   ]
  },
  {
   "cell_type": "code",
   "execution_count": 6,
   "metadata": {
    "collapsed": false,
    "deletable": true,
    "editable": true
   },
   "outputs": [
    {
     "data": {
      "text/html": [
       "<div>\n",
       "<table border=\"1\" class=\"dataframe\">\n",
       "  <thead>\n",
       "    <tr style=\"text-align: right;\">\n",
       "      <th></th>\n",
       "      <th>aktiv</th>\n",
       "      <th>country</th>\n",
       "      <th>flex</th>\n",
       "      <th>hasUVPs</th>\n",
       "      <th>id</th>\n",
       "      <th>inbau</th>\n",
       "      <th>inplanung</th>\n",
       "      <th>name</th>\n",
       "      <th>point</th>\n",
       "      <th>reaktoren</th>\n",
       "      <th>stillgelegt</th>\n",
       "      <th>uvps</th>\n",
       "      <th>wikiUrl</th>\n",
       "    </tr>\n",
       "  </thead>\n",
       "  <tbody>\n",
       "    <tr>\n",
       "      <th>0</th>\n",
       "      <td>1</td>\n",
       "      <td>Armenien</td>\n",
       "      <td>None</td>\n",
       "      <td>False</td>\n",
       "      <td>125</td>\n",
       "      <td>0</td>\n",
       "      <td>0</td>\n",
       "      <td>Metzamor</td>\n",
       "      <td>{'x': 44.1425, 'y': 40.18247}</td>\n",
       "      <td>2</td>\n",
       "      <td>1</td>\n",
       "      <td>[]</td>\n",
       "      <td>http:\\/\\/de.wikipedia.org\\/wiki\\/Kernkraftwerk_Mezamor</td>\n",
       "    </tr>\n",
       "    <tr>\n",
       "      <th>2</th>\n",
       "      <td>4</td>\n",
       "      <td>Belgien</td>\n",
       "      <td>http:\\/\\/flexrisk.boku.ac.at\\/en\\/sites\\/doel\\/index.html</td>\n",
       "      <td>False</td>\n",
       "      <td>126</td>\n",
       "      <td>0</td>\n",
       "      <td>0</td>\n",
       "      <td>Doel</td>\n",
       "      <td>{'x': 4.25875, 'y': 51.32472}</td>\n",
       "      <td>4</td>\n",
       "      <td>0</td>\n",
       "      <td>[]</td>\n",
       "      <td>http:\\/\\/de.wikipedia.org\\/wiki\\/Kernkraftwerk_Doel</td>\n",
       "    </tr>\n",
       "    <tr>\n",
       "      <th>3</th>\n",
       "      <td>3</td>\n",
       "      <td>Belgien</td>\n",
       "      <td>http:\\/\\/flexrisk.boku.ac.at\\/en\\/sites\\/tiha\\/index.html</td>\n",
       "      <td>False</td>\n",
       "      <td>127</td>\n",
       "      <td>0</td>\n",
       "      <td>0</td>\n",
       "      <td>Tihange</td>\n",
       "      <td>{'x': 5.27253, 'y': 50.53463}</td>\n",
       "      <td>3</td>\n",
       "      <td>0</td>\n",
       "      <td>[]</td>\n",
       "      <td>http:\\/\\/de.wikipedia.org\\/wiki\\/Kernkraftwerk_Tihange</td>\n",
       "    </tr>\n",
       "    <tr>\n",
       "      <th>5</th>\n",
       "      <td>2</td>\n",
       "      <td>Bulgarien</td>\n",
       "      <td>http:\\/\\/flexrisk.boku.ac.at\\/en\\/sites\\/kozl\\/index.html</td>\n",
       "      <td>True</td>\n",
       "      <td>129</td>\n",
       "      <td>0</td>\n",
       "      <td>0</td>\n",
       "      <td>Kozloduy</td>\n",
       "      <td>{'x': 23.77051, 'y': 43.74614}</td>\n",
       "      <td>6</td>\n",
       "      <td>4</td>\n",
       "      <td>[{'status': 'laufend', 'titel': 'UVP-Verfahren KKW Kozloduy 7', 'fk': '129', 'url': 'http:\\/\\/www.umweltbundesamt.at\\/umweltsituation\\/uvpsup\\/espooverfahren\\/espoo_bulgarien\\/uvp_kkw_kozloduy_7\\/'}]</td>\n",
       "      <td>http:\\/\\/de.wikipedia.org\\/wiki\\/Kernkraftwerk_Kosloduj</td>\n",
       "    </tr>\n",
       "    <tr>\n",
       "      <th>7</th>\n",
       "      <td>1</td>\n",
       "      <td>Deutschland</td>\n",
       "      <td>http:\\/\\/flexrisk.boku.ac.at\\/en\\/sites\\/brok\\/index.html</td>\n",
       "      <td>False</td>\n",
       "      <td>35</td>\n",
       "      <td>0</td>\n",
       "      <td>0</td>\n",
       "      <td>Brokdorf</td>\n",
       "      <td>{'x': 9.34472, 'y': 53.85083}</td>\n",
       "      <td>1</td>\n",
       "      <td>0</td>\n",
       "      <td>[]</td>\n",
       "      <td>http:\\/\\/de.wikipedia.org\\/wiki\\/Kernkraftwerk_Brokdorf</td>\n",
       "    </tr>\n",
       "  </tbody>\n",
       "</table>\n",
       "</div>"
      ],
      "text/plain": [
       "   aktiv      country  \\\n",
       "0      1     Armenien   \n",
       "2      4      Belgien   \n",
       "3      3      Belgien   \n",
       "5      2    Bulgarien   \n",
       "7      1  Deutschland   \n",
       "\n",
       "                                                        flex hasUVPs   id  \\\n",
       "0                                                       None   False  125   \n",
       "2  http:\\/\\/flexrisk.boku.ac.at\\/en\\/sites\\/doel\\/index.html   False  126   \n",
       "3  http:\\/\\/flexrisk.boku.ac.at\\/en\\/sites\\/tiha\\/index.html   False  127   \n",
       "5  http:\\/\\/flexrisk.boku.ac.at\\/en\\/sites\\/kozl\\/index.html    True  129   \n",
       "7  http:\\/\\/flexrisk.boku.ac.at\\/en\\/sites\\/brok\\/index.html   False   35   \n",
       "\n",
       "   inbau  inplanung      name                           point  reaktoren  \\\n",
       "0      0          0  Metzamor   {'x': 44.1425, 'y': 40.18247}          2   \n",
       "2      0          0      Doel   {'x': 4.25875, 'y': 51.32472}          4   \n",
       "3      0          0  Tihange    {'x': 5.27253, 'y': 50.53463}          3   \n",
       "5      0          0  Kozloduy  {'x': 23.77051, 'y': 43.74614}          6   \n",
       "7      0          0  Brokdorf   {'x': 9.34472, 'y': 53.85083}          1   \n",
       "\n",
       "   stillgelegt  \\\n",
       "0            1   \n",
       "2            0   \n",
       "3            0   \n",
       "5            4   \n",
       "7            0   \n",
       "\n",
       "                                                                                                                                                                                                      uvps  \\\n",
       "0                                                                                                                                                                                                       []   \n",
       "2                                                                                                                                                                                                       []   \n",
       "3                                                                                                                                                                                                       []   \n",
       "5  [{'status': 'laufend', 'titel': 'UVP-Verfahren KKW Kozloduy 7', 'fk': '129', 'url': 'http:\\/\\/www.umweltbundesamt.at\\/umweltsituation\\/uvpsup\\/espooverfahren\\/espoo_bulgarien\\/uvp_kkw_kozloduy_7\\/'}]   \n",
       "7                                                                                                                                                                                                       []   \n",
       "\n",
       "                                                   wikiUrl  \n",
       "0   http:\\/\\/de.wikipedia.org\\/wiki\\/Kernkraftwerk_Mezamor  \n",
       "2      http:\\/\\/de.wikipedia.org\\/wiki\\/Kernkraftwerk_Doel  \n",
       "3   http:\\/\\/de.wikipedia.org\\/wiki\\/Kernkraftwerk_Tihange  \n",
       "5  http:\\/\\/de.wikipedia.org\\/wiki\\/Kernkraftwerk_Kosloduj  \n",
       "7  http:\\/\\/de.wikipedia.org\\/wiki\\/Kernkraftwerk_Brokdorf  "
      ]
     },
     "execution_count": 6,
     "metadata": {},
     "output_type": "execute_result"
    }
   ],
   "source": [
    "df.head()"
   ]
  },
  {
   "cell_type": "code",
   "execution_count": 7,
   "metadata": {
    "collapsed": true,
    "deletable": true,
    "editable": true
   },
   "outputs": [],
   "source": [
    "df = df[['aktiv', 'name', 'point', 'wikiUrl']]"
   ]
  },
  {
   "cell_type": "code",
   "execution_count": 8,
   "metadata": {
    "collapsed": false,
    "deletable": true,
    "editable": true
   },
   "outputs": [
    {
     "data": {
      "text/html": [
       "<div>\n",
       "<table border=\"1\" class=\"dataframe\">\n",
       "  <thead>\n",
       "    <tr style=\"text-align: right;\">\n",
       "      <th></th>\n",
       "      <th>aktiv</th>\n",
       "      <th>name</th>\n",
       "      <th>point</th>\n",
       "      <th>wikiUrl</th>\n",
       "    </tr>\n",
       "  </thead>\n",
       "  <tbody>\n",
       "    <tr>\n",
       "      <th>0</th>\n",
       "      <td>1</td>\n",
       "      <td>Metzamor</td>\n",
       "      <td>{'x': 44.1425, 'y': 40.18247}</td>\n",
       "      <td>http:\\/\\/de.wikipedia.org\\/wiki\\/Kernkraftwerk_Mezamor</td>\n",
       "    </tr>\n",
       "    <tr>\n",
       "      <th>2</th>\n",
       "      <td>4</td>\n",
       "      <td>Doel</td>\n",
       "      <td>{'x': 4.25875, 'y': 51.32472}</td>\n",
       "      <td>http:\\/\\/de.wikipedia.org\\/wiki\\/Kernkraftwerk_Doel</td>\n",
       "    </tr>\n",
       "    <tr>\n",
       "      <th>3</th>\n",
       "      <td>3</td>\n",
       "      <td>Tihange</td>\n",
       "      <td>{'x': 5.27253, 'y': 50.53463}</td>\n",
       "      <td>http:\\/\\/de.wikipedia.org\\/wiki\\/Kernkraftwerk_Tihange</td>\n",
       "    </tr>\n",
       "    <tr>\n",
       "      <th>5</th>\n",
       "      <td>2</td>\n",
       "      <td>Kozloduy</td>\n",
       "      <td>{'x': 23.77051, 'y': 43.74614}</td>\n",
       "      <td>http:\\/\\/de.wikipedia.org\\/wiki\\/Kernkraftwerk_Kosloduj</td>\n",
       "    </tr>\n",
       "    <tr>\n",
       "      <th>7</th>\n",
       "      <td>1</td>\n",
       "      <td>Brokdorf</td>\n",
       "      <td>{'x': 9.34472, 'y': 53.85083}</td>\n",
       "      <td>http:\\/\\/de.wikipedia.org\\/wiki\\/Kernkraftwerk_Brokdorf</td>\n",
       "    </tr>\n",
       "  </tbody>\n",
       "</table>\n",
       "</div>"
      ],
      "text/plain": [
       "   aktiv      name                           point  \\\n",
       "0      1  Metzamor   {'x': 44.1425, 'y': 40.18247}   \n",
       "2      4      Doel   {'x': 4.25875, 'y': 51.32472}   \n",
       "3      3  Tihange    {'x': 5.27253, 'y': 50.53463}   \n",
       "5      2  Kozloduy  {'x': 23.77051, 'y': 43.74614}   \n",
       "7      1  Brokdorf   {'x': 9.34472, 'y': 53.85083}   \n",
       "\n",
       "                                                   wikiUrl  \n",
       "0   http:\\/\\/de.wikipedia.org\\/wiki\\/Kernkraftwerk_Mezamor  \n",
       "2      http:\\/\\/de.wikipedia.org\\/wiki\\/Kernkraftwerk_Doel  \n",
       "3   http:\\/\\/de.wikipedia.org\\/wiki\\/Kernkraftwerk_Tihange  \n",
       "5  http:\\/\\/de.wikipedia.org\\/wiki\\/Kernkraftwerk_Kosloduj  \n",
       "7  http:\\/\\/de.wikipedia.org\\/wiki\\/Kernkraftwerk_Brokdorf  "
      ]
     },
     "execution_count": 8,
     "metadata": {},
     "output_type": "execute_result"
    }
   ],
   "source": [
    "df.head()"
   ]
  },
  {
   "cell_type": "code",
   "execution_count": 9,
   "metadata": {
    "collapsed": true,
    "deletable": true,
    "editable": true
   },
   "outputs": [],
   "source": [
    "df.point = df.point.astype(str)"
   ]
  },
  {
   "cell_type": "code",
   "execution_count": 10,
   "metadata": {
    "collapsed": true,
    "deletable": true,
    "editable": true
   },
   "outputs": [],
   "source": [
    "df['x'] = df.point.str.split(',').str.get(0)\n",
    "df['y'] = df.point.str.split(',').str.get(1)"
   ]
  },
  {
   "cell_type": "code",
   "execution_count": 11,
   "metadata": {
    "collapsed": false,
    "deletable": true,
    "editable": true
   },
   "outputs": [
    {
     "data": {
      "text/plain": [
       "0     {'x': 44.1425\n",
       "2     {'x': 4.25875\n",
       "3     {'x': 5.27253\n",
       "5    {'x': 23.77051\n",
       "7     {'x': 9.34472\n",
       "Name: x, dtype: object"
      ]
     },
     "execution_count": 11,
     "metadata": {},
     "output_type": "execute_result"
    }
   ],
   "source": [
    "df.x.head()"
   ]
  },
  {
   "cell_type": "code",
   "execution_count": 12,
   "metadata": {
    "collapsed": true,
    "deletable": true,
    "editable": true
   },
   "outputs": [],
   "source": [
    "df.x = df.x.str.replace('{', '')"
   ]
  },
  {
   "cell_type": "code",
   "execution_count": 13,
   "metadata": {
    "collapsed": true,
    "deletable": true,
    "editable": true
   },
   "outputs": [],
   "source": [
    "df.x = df.x.str.replace('\\'x\\': ', '')"
   ]
  },
  {
   "cell_type": "code",
   "execution_count": 14,
   "metadata": {
    "collapsed": false,
    "deletable": true,
    "editable": true
   },
   "outputs": [
    {
     "data": {
      "text/html": [
       "<div>\n",
       "<table border=\"1\" class=\"dataframe\">\n",
       "  <thead>\n",
       "    <tr style=\"text-align: right;\">\n",
       "      <th></th>\n",
       "      <th>aktiv</th>\n",
       "      <th>name</th>\n",
       "      <th>point</th>\n",
       "      <th>wikiUrl</th>\n",
       "      <th>x</th>\n",
       "      <th>y</th>\n",
       "    </tr>\n",
       "  </thead>\n",
       "  <tbody>\n",
       "    <tr>\n",
       "      <th>0</th>\n",
       "      <td>1</td>\n",
       "      <td>Metzamor</td>\n",
       "      <td>{'x': 44.1425, 'y': 40.18247}</td>\n",
       "      <td>http:\\/\\/de.wikipedia.org\\/wiki\\/Kernkraftwerk_Mezamor</td>\n",
       "      <td>44.1425</td>\n",
       "      <td>'y': 40.18247}</td>\n",
       "    </tr>\n",
       "    <tr>\n",
       "      <th>2</th>\n",
       "      <td>4</td>\n",
       "      <td>Doel</td>\n",
       "      <td>{'x': 4.25875, 'y': 51.32472}</td>\n",
       "      <td>http:\\/\\/de.wikipedia.org\\/wiki\\/Kernkraftwerk_Doel</td>\n",
       "      <td>4.25875</td>\n",
       "      <td>'y': 51.32472}</td>\n",
       "    </tr>\n",
       "    <tr>\n",
       "      <th>3</th>\n",
       "      <td>3</td>\n",
       "      <td>Tihange</td>\n",
       "      <td>{'x': 5.27253, 'y': 50.53463}</td>\n",
       "      <td>http:\\/\\/de.wikipedia.org\\/wiki\\/Kernkraftwerk_Tihange</td>\n",
       "      <td>5.27253</td>\n",
       "      <td>'y': 50.53463}</td>\n",
       "    </tr>\n",
       "    <tr>\n",
       "      <th>5</th>\n",
       "      <td>2</td>\n",
       "      <td>Kozloduy</td>\n",
       "      <td>{'x': 23.77051, 'y': 43.74614}</td>\n",
       "      <td>http:\\/\\/de.wikipedia.org\\/wiki\\/Kernkraftwerk_Kosloduj</td>\n",
       "      <td>23.77051</td>\n",
       "      <td>'y': 43.74614}</td>\n",
       "    </tr>\n",
       "    <tr>\n",
       "      <th>7</th>\n",
       "      <td>1</td>\n",
       "      <td>Brokdorf</td>\n",
       "      <td>{'x': 9.34472, 'y': 53.85083}</td>\n",
       "      <td>http:\\/\\/de.wikipedia.org\\/wiki\\/Kernkraftwerk_Brokdorf</td>\n",
       "      <td>9.34472</td>\n",
       "      <td>'y': 53.85083}</td>\n",
       "    </tr>\n",
       "  </tbody>\n",
       "</table>\n",
       "</div>"
      ],
      "text/plain": [
       "   aktiv      name                           point  \\\n",
       "0      1  Metzamor   {'x': 44.1425, 'y': 40.18247}   \n",
       "2      4      Doel   {'x': 4.25875, 'y': 51.32472}   \n",
       "3      3  Tihange    {'x': 5.27253, 'y': 50.53463}   \n",
       "5      2  Kozloduy  {'x': 23.77051, 'y': 43.74614}   \n",
       "7      1  Brokdorf   {'x': 9.34472, 'y': 53.85083}   \n",
       "\n",
       "                                                   wikiUrl         x  \\\n",
       "0   http:\\/\\/de.wikipedia.org\\/wiki\\/Kernkraftwerk_Mezamor   44.1425   \n",
       "2      http:\\/\\/de.wikipedia.org\\/wiki\\/Kernkraftwerk_Doel   4.25875   \n",
       "3   http:\\/\\/de.wikipedia.org\\/wiki\\/Kernkraftwerk_Tihange   5.27253   \n",
       "5  http:\\/\\/de.wikipedia.org\\/wiki\\/Kernkraftwerk_Kosloduj  23.77051   \n",
       "7  http:\\/\\/de.wikipedia.org\\/wiki\\/Kernkraftwerk_Brokdorf   9.34472   \n",
       "\n",
       "                 y  \n",
       "0   'y': 40.18247}  \n",
       "2   'y': 51.32472}  \n",
       "3   'y': 50.53463}  \n",
       "5   'y': 43.74614}  \n",
       "7   'y': 53.85083}  "
      ]
     },
     "execution_count": 14,
     "metadata": {},
     "output_type": "execute_result"
    }
   ],
   "source": [
    "df.head()"
   ]
  },
  {
   "cell_type": "code",
   "execution_count": 15,
   "metadata": {
    "collapsed": false,
    "deletable": true,
    "editable": true
   },
   "outputs": [],
   "source": [
    "df.y = df.y.str.replace('\\'y\\': ', '')"
   ]
  },
  {
   "cell_type": "code",
   "execution_count": 16,
   "metadata": {
    "collapsed": true,
    "deletable": true,
    "editable": true
   },
   "outputs": [],
   "source": [
    "df.y = df.y.str.replace('}', '')"
   ]
  },
  {
   "cell_type": "code",
   "execution_count": 17,
   "metadata": {
    "collapsed": false,
    "deletable": true,
    "editable": true
   },
   "outputs": [
    {
     "data": {
      "text/html": [
       "<div>\n",
       "<table border=\"1\" class=\"dataframe\">\n",
       "  <thead>\n",
       "    <tr style=\"text-align: right;\">\n",
       "      <th></th>\n",
       "      <th>aktiv</th>\n",
       "      <th>name</th>\n",
       "      <th>point</th>\n",
       "      <th>wikiUrl</th>\n",
       "      <th>x</th>\n",
       "      <th>y</th>\n",
       "    </tr>\n",
       "  </thead>\n",
       "  <tbody>\n",
       "    <tr>\n",
       "      <th>0</th>\n",
       "      <td>1</td>\n",
       "      <td>Metzamor</td>\n",
       "      <td>{'x': 44.1425, 'y': 40.18247}</td>\n",
       "      <td>http:\\/\\/de.wikipedia.org\\/wiki\\/Kernkraftwerk_Mezamor</td>\n",
       "      <td>44.1425</td>\n",
       "      <td>40.18247</td>\n",
       "    </tr>\n",
       "    <tr>\n",
       "      <th>2</th>\n",
       "      <td>4</td>\n",
       "      <td>Doel</td>\n",
       "      <td>{'x': 4.25875, 'y': 51.32472}</td>\n",
       "      <td>http:\\/\\/de.wikipedia.org\\/wiki\\/Kernkraftwerk_Doel</td>\n",
       "      <td>4.25875</td>\n",
       "      <td>51.32472</td>\n",
       "    </tr>\n",
       "    <tr>\n",
       "      <th>3</th>\n",
       "      <td>3</td>\n",
       "      <td>Tihange</td>\n",
       "      <td>{'x': 5.27253, 'y': 50.53463}</td>\n",
       "      <td>http:\\/\\/de.wikipedia.org\\/wiki\\/Kernkraftwerk_Tihange</td>\n",
       "      <td>5.27253</td>\n",
       "      <td>50.53463</td>\n",
       "    </tr>\n",
       "    <tr>\n",
       "      <th>5</th>\n",
       "      <td>2</td>\n",
       "      <td>Kozloduy</td>\n",
       "      <td>{'x': 23.77051, 'y': 43.74614}</td>\n",
       "      <td>http:\\/\\/de.wikipedia.org\\/wiki\\/Kernkraftwerk_Kosloduj</td>\n",
       "      <td>23.77051</td>\n",
       "      <td>43.74614</td>\n",
       "    </tr>\n",
       "    <tr>\n",
       "      <th>7</th>\n",
       "      <td>1</td>\n",
       "      <td>Brokdorf</td>\n",
       "      <td>{'x': 9.34472, 'y': 53.85083}</td>\n",
       "      <td>http:\\/\\/de.wikipedia.org\\/wiki\\/Kernkraftwerk_Brokdorf</td>\n",
       "      <td>9.34472</td>\n",
       "      <td>53.85083</td>\n",
       "    </tr>\n",
       "  </tbody>\n",
       "</table>\n",
       "</div>"
      ],
      "text/plain": [
       "   aktiv      name                           point  \\\n",
       "0      1  Metzamor   {'x': 44.1425, 'y': 40.18247}   \n",
       "2      4      Doel   {'x': 4.25875, 'y': 51.32472}   \n",
       "3      3  Tihange    {'x': 5.27253, 'y': 50.53463}   \n",
       "5      2  Kozloduy  {'x': 23.77051, 'y': 43.74614}   \n",
       "7      1  Brokdorf   {'x': 9.34472, 'y': 53.85083}   \n",
       "\n",
       "                                                   wikiUrl         x  \\\n",
       "0   http:\\/\\/de.wikipedia.org\\/wiki\\/Kernkraftwerk_Mezamor   44.1425   \n",
       "2      http:\\/\\/de.wikipedia.org\\/wiki\\/Kernkraftwerk_Doel   4.25875   \n",
       "3   http:\\/\\/de.wikipedia.org\\/wiki\\/Kernkraftwerk_Tihange   5.27253   \n",
       "5  http:\\/\\/de.wikipedia.org\\/wiki\\/Kernkraftwerk_Kosloduj  23.77051   \n",
       "7  http:\\/\\/de.wikipedia.org\\/wiki\\/Kernkraftwerk_Brokdorf   9.34472   \n",
       "\n",
       "           y  \n",
       "0   40.18247  \n",
       "2   51.32472  \n",
       "3   50.53463  \n",
       "5   43.74614  \n",
       "7   53.85083  "
      ]
     },
     "execution_count": 17,
     "metadata": {},
     "output_type": "execute_result"
    }
   ],
   "source": [
    "df.head()"
   ]
  },
  {
   "cell_type": "code",
   "execution_count": 18,
   "metadata": {
    "collapsed": false,
    "deletable": true,
    "editable": true
   },
   "outputs": [],
   "source": [
    "df.x = df.x.astype(float)\n",
    "df.y = df.y.astype(float)"
   ]
  },
  {
   "cell_type": "code",
   "execution_count": 19,
   "metadata": {
    "collapsed": false,
    "deletable": true,
    "editable": true
   },
   "outputs": [
    {
     "data": {
      "text/plain": [
       "aktiv        int64\n",
       "name        object\n",
       "point       object\n",
       "wikiUrl     object\n",
       "x          float64\n",
       "y          float64\n",
       "dtype: object"
      ]
     },
     "execution_count": 19,
     "metadata": {},
     "output_type": "execute_result"
    }
   ],
   "source": [
    "df.dtypes"
   ]
  },
  {
   "cell_type": "code",
   "execution_count": 20,
   "metadata": {
    "collapsed": true,
    "deletable": true,
    "editable": true
   },
   "outputs": [],
   "source": [
    "df['ort'] = df.apply(lambda x: [x.y, x.x], axis=1)"
   ]
  },
  {
   "cell_type": "code",
   "execution_count": 21,
   "metadata": {
    "collapsed": false,
    "deletable": true,
    "editable": true
   },
   "outputs": [
    {
     "data": {
      "text/plain": [
       "[40.18247, 44.1425]"
      ]
     },
     "execution_count": 21,
     "metadata": {},
     "output_type": "execute_result"
    }
   ],
   "source": [
    "df.ort[0]"
   ]
  },
  {
   "cell_type": "code",
   "execution_count": 22,
   "metadata": {
    "collapsed": true,
    "deletable": true,
    "editable": true
   },
   "outputs": [],
   "source": [
    "import folium "
   ]
  },
  {
   "cell_type": "code",
   "execution_count": 23,
   "metadata": {
    "collapsed": false,
    "deletable": true,
    "editable": true
   },
   "outputs": [
    {
     "data": {
      "text/plain": [
       "76"
      ]
     },
     "execution_count": 23,
     "metadata": {},
     "output_type": "execute_result"
    }
   ],
   "source": [
    "locations = df.ort\n",
    "len(locations)"
   ]
  },
  {
   "cell_type": "code",
   "execution_count": 24,
   "metadata": {
    "collapsed": true,
    "deletable": true,
    "editable": true
   },
   "outputs": [],
   "source": [
    "names = list(df.name)"
   ]
  },
  {
   "cell_type": "code",
   "execution_count": 25,
   "metadata": {
    "collapsed": false,
    "deletable": true,
    "editable": true
   },
   "outputs": [],
   "source": [
    "locations = locations.values.tolist()"
   ]
  },
  {
   "cell_type": "code",
   "execution_count": 26,
   "metadata": {
    "collapsed": false,
    "deletable": true,
    "editable": true
   },
   "outputs": [
    {
     "data": {
      "text/html": [
       "<div style=\"width:100%;\"><div style=\"position:relative;width:100%;height:0;padding-bottom:60%;\"><iframe src=\"data:text/html;charset=utf-8;base64,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\" style=\"position:absolute;width:100%;height:100%;left:0;top:0;border:none !important;\" allowfullscreen webkitallowfullscreen mozallowfullscreen></iframe></div></div>"
      ],
      "text/plain": [
       "<folium.folium.Map at 0x7f9b19467f28>"
      ]
     },
     "execution_count": 26,
     "metadata": {},
     "output_type": "execute_result"
    }
   ],
   "source": [
    "cm = folium.Map([50.962857, 7.0], zoom_start=4)\n",
    "for location, popup, in zip(locations, names):\n",
    "    folium.Marker(location=location, popup=popup).add_to(cm)\n",
    "cm"
   ]
  },
  {
   "cell_type": "code",
   "execution_count": null,
   "metadata": {
    "collapsed": true,
    "deletable": true,
    "editable": true
   },
   "outputs": [],
   "source": []
  }
 ],
 "metadata": {
  "kernelspec": {
   "display_name": "Python 3",
   "language": "python",
   "name": "python3"
  },
  "language_info": {
   "codemirror_mode": {
    "name": "ipython",
    "version": 3
   },
   "file_extension": ".py",
   "mimetype": "text/x-python",
   "name": "python",
   "nbconvert_exporter": "python",
   "pygments_lexer": "ipython3",
   "version": "3.5.2"
  }
 },
 "nbformat": 4,
 "nbformat_minor": 2
}
